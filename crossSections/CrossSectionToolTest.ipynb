{
 "cells": [
  {
   "cell_type": "code",
   "execution_count": null,
   "id": "64cbe7e5",
   "metadata": {},
   "outputs": [],
   "source": []
  },
  {
   "cell_type": "code",
   "execution_count": 1,
   "id": "e8dd1f40",
   "metadata": {},
   "outputs": [
    {
     "name": "stderr",
     "output_type": "stream",
     "text": [
      "/home/sarah/anaconda3/envs/py39/lib/python3.9/site-packages/geopandas/_compat.py:111: UserWarning: The Shapely GEOS version (3.9.1-CAPI-1.14.2) is incompatible with the GEOS version PyGEOS was compiled with (3.10.1-CAPI-1.16.0). Conversions between both will be slow.\n",
      "  warnings.warn(\n"
     ]
    }
   ],
   "source": [
    "import nldi_xstool\n",
    "import geopandas\n",
    "\n",
    "%matplotlib inline\n",
    "from nldi_xstool.XSGen import XSGen\n",
    "from nldi_xstool.ancillary import query_dems_bbox\n",
    "import py3dep\n",
    "from pynhd import NLDI, NHDPlusHR, WaterData\n",
    "import xarray as xr\n",
    "from matplotlib import pyplot as plt\n",
    "import numpy as np\n",
    "import pandas as pd\n",
    "import dataretrieval.nwis as nwis\n",
    "#try:\n",
    "#    from nldi_xstool.__openChannel import flowEst\n",
    "#except ImportError:\n",
    "#    from .__openChannel import flowEst\n",
    "\n"
   ]
  },
  {
   "cell_type": "code",
   "execution_count": 2,
   "id": "c2e53d1f",
   "metadata": {},
   "outputs": [],
   "source": [
    "# https://waterdata.usgs.gov/nwis/inventory?agency_code=USGS&site_no=11114495\n",
    "\n",
    "gagebasin = NLDI().get_basins(\"11114495\").to_crs('epsg:3857')"
   ]
  },
  {
   "cell_type": "code",
   "execution_count": 3,
   "id": "85acf605",
   "metadata": {},
   "outputs": [
    {
     "data": {
      "text/html": [
       "<div>\n",
       "<style scoped>\n",
       "    .dataframe tbody tr th:only-of-type {\n",
       "        vertical-align: middle;\n",
       "    }\n",
       "\n",
       "    .dataframe tbody tr th {\n",
       "        vertical-align: top;\n",
       "    }\n",
       "\n",
       "    .dataframe thead th {\n",
       "        text-align: right;\n",
       "    }\n",
       "</style>\n",
       "<table border=\"1\" class=\"dataframe\">\n",
       "  <thead>\n",
       "    <tr style=\"text-align: right;\">\n",
       "      <th></th>\n",
       "      <th></th>\n",
       "      <th>geometry</th>\n",
       "      <th>type</th>\n",
       "      <th>source</th>\n",
       "      <th>sourceName</th>\n",
       "      <th>identifier</th>\n",
       "      <th>name</th>\n",
       "      <th>uri</th>\n",
       "      <th>comid</th>\n",
       "      <th>reachcode</th>\n",
       "      <th>measure</th>\n",
       "      <th>navigation</th>\n",
       "    </tr>\n",
       "  </thead>\n",
       "  <tbody>\n",
       "    <tr>\n",
       "      <th>USGS-11114495</th>\n",
       "      <th>0</th>\n",
       "      <td>POINT (-13286798.233 4096513.112)</td>\n",
       "      <td>hydrolocation</td>\n",
       "      <td>nwissite</td>\n",
       "      <td>NWIS Surface Water Sites</td>\n",
       "      <td>USGS-11114495</td>\n",
       "      <td>MATILIJA C NR RES NR MATILIJA HOT SPRINGS CA</td>\n",
       "      <td>https://waterdata.usgs.gov/monitoring-location...</td>\n",
       "      <td>17585808</td>\n",
       "      <td>18070101000072</td>\n",
       "      <td>58.2233700000</td>\n",
       "      <td>https://labs.waterdata.usgs.gov/api/nldi/linke...</td>\n",
       "    </tr>\n",
       "  </tbody>\n",
       "</table>\n",
       "</div>"
      ],
      "text/plain": [
       "                                          geometry           type    source  \\\n",
       "USGS-11114495 0  POINT (-13286798.233 4096513.112)  hydrolocation  nwissite   \n",
       "\n",
       "                               sourceName     identifier  \\\n",
       "USGS-11114495 0  NWIS Surface Water Sites  USGS-11114495   \n",
       "\n",
       "                                                         name  \\\n",
       "USGS-11114495 0  MATILIJA C NR RES NR MATILIJA HOT SPRINGS CA   \n",
       "\n",
       "                                                               uri     comid  \\\n",
       "USGS-11114495 0  https://waterdata.usgs.gov/monitoring-location...  17585808   \n",
       "\n",
       "                      reachcode        measure  \\\n",
       "USGS-11114495 0  18070101000072  58.2233700000   \n",
       "\n",
       "                                                        navigation  \n",
       "USGS-11114495 0  https://labs.waterdata.usgs.gov/api/nldi/linke...  "
      ]
     },
     "execution_count": 3,
     "metadata": {},
     "output_type": "execute_result"
    }
   ],
   "source": [
    "gageloc = NLDI().getfeature_byid(\"nwissite\", \"USGS-11114495\").to_crs('epsg:3857')\n",
    "gageloc"
   ]
  },
  {
   "cell_type": "code",
   "execution_count": 4,
   "id": "ab6bfe65",
   "metadata": {},
   "outputs": [
    {
     "data": {
      "text/plain": [
       "<AxesSubplot:>"
      ]
     },
     "execution_count": 4,
     "metadata": {},
     "output_type": "execute_result"
    },
    {
     "data": {
      "image/png": "[encoded data removed]",
      "text/plain": [
       "<Figure size 432x288 with 1 Axes>"
      ]
     },
     "metadata": {
      "needs_background": "light"
     },
     "output_type": "display_data"
    }
   ],
   "source": [
    "ax = plt.subplot(111)\n",
    "gagebasin.plot(ax=ax)\n",
    "gageloc.plot(ax=ax, color='black')"
   ]
  },
  {
   "cell_type": "code",
   "execution_count": 5,
   "id": "68f2489f",
   "metadata": {},
   "outputs": [
    {
     "name": "stdout",
     "output_type": "stream",
     "text": [
      "['17585808'] 17585808 17585808\n"
     ]
    }
   ],
   "source": [
    "gagebasin = NLDI().get_basins(\"11114495\").to_crs('epsg:3857')\n",
    "gageloc = NLDI().getfeature_byid(\"nwissite\", \"USGS-11114495\").to_crs('epsg:3857')\n",
    "cid = gageloc.comid.values.astype(str)\n",
    "print(cid,gageloc.comid.values.astype(int)[0], cid[0]) \n",
    "# strmseg_basin = NLDI().getfeature_byid(\"comid\", cid[0], basin=True).to_crs('epsg:3857')\n",
    "strmseg_loc = NLDI().getfeature_byid(\"comid\", cid[0]).to_crs('epsg:3857')"
   ]
  },
  {
   "cell_type": "code",
   "execution_count": 6,
   "id": "44cb09b9",
   "metadata": {},
   "outputs": [
    {
     "data": {
      "text/html": [
       "<div>\n",
       "<style scoped>\n",
       "    .dataframe tbody tr th:only-of-type {\n",
       "        vertical-align: middle;\n",
       "    }\n",
       "\n",
       "    .dataframe tbody tr th {\n",
       "        vertical-align: top;\n",
       "    }\n",
       "\n",
       "    .dataframe thead th {\n",
       "        text-align: right;\n",
       "    }\n",
       "</style>\n",
       "<table border=\"1\" class=\"dataframe\">\n",
       "  <thead>\n",
       "    <tr style=\"text-align: right;\">\n",
       "      <th></th>\n",
       "      <th></th>\n",
       "      <th>geometry</th>\n",
       "      <th>type</th>\n",
       "      <th>source</th>\n",
       "      <th>sourceName</th>\n",
       "      <th>identifier</th>\n",
       "      <th>name</th>\n",
       "      <th>uri</th>\n",
       "      <th>comid</th>\n",
       "      <th>reachcode</th>\n",
       "      <th>measure</th>\n",
       "      <th>navigation</th>\n",
       "    </tr>\n",
       "  </thead>\n",
       "  <tbody>\n",
       "    <tr>\n",
       "      <th>USGS-11114495</th>\n",
       "      <th>0</th>\n",
       "      <td>POINT (-13286798.233 4096513.112)</td>\n",
       "      <td>hydrolocation</td>\n",
       "      <td>nwissite</td>\n",
       "      <td>NWIS Surface Water Sites</td>\n",
       "      <td>USGS-11114495</td>\n",
       "      <td>MATILIJA C NR RES NR MATILIJA HOT SPRINGS CA</td>\n",
       "      <td>https://waterdata.usgs.gov/monitoring-location...</td>\n",
       "      <td>17585808</td>\n",
       "      <td>18070101000072</td>\n",
       "      <td>58.2233700000</td>\n",
       "      <td>https://labs.waterdata.usgs.gov/api/nldi/linke...</td>\n",
       "    </tr>\n",
       "  </tbody>\n",
       "</table>\n",
       "</div>"
      ],
      "text/plain": [
       "                                          geometry           type    source  \\\n",
       "USGS-11114495 0  POINT (-13286798.233 4096513.112)  hydrolocation  nwissite   \n",
       "\n",
       "                               sourceName     identifier  \\\n",
       "USGS-11114495 0  NWIS Surface Water Sites  USGS-11114495   \n",
       "\n",
       "                                                         name  \\\n",
       "USGS-11114495 0  MATILIJA C NR RES NR MATILIJA HOT SPRINGS CA   \n",
       "\n",
       "                                                               uri     comid  \\\n",
       "USGS-11114495 0  https://waterdata.usgs.gov/monitoring-location...  17585808   \n",
       "\n",
       "                      reachcode        measure  \\\n",
       "USGS-11114495 0  18070101000072  58.2233700000   \n",
       "\n",
       "                                                        navigation  \n",
       "USGS-11114495 0  https://labs.waterdata.usgs.gov/api/nldi/linke...  "
      ]
     },
     "execution_count": 6,
     "metadata": {},
     "output_type": "execute_result"
    }
   ],
   "source": [
    "\n",
    "gageloc\n"
   ]
  },
  {
   "cell_type": "code",
   "execution_count": 7,
   "id": "b491046e",
   "metadata": {},
   "outputs": [
    {
     "data": {
      "text/html": [
       "<div>\n",
       "<style scoped>\n",
       "    .dataframe tbody tr th:only-of-type {\n",
       "        vertical-align: middle;\n",
       "    }\n",
       "\n",
       "    .dataframe tbody tr th {\n",
       "        vertical-align: top;\n",
       "    }\n",
       "\n",
       "    .dataframe thead th {\n",
       "        text-align: right;\n",
       "    }\n",
       "</style>\n",
       "<table border=\"1\" class=\"dataframe\">\n",
       "  <thead>\n",
       "    <tr style=\"text-align: right;\">\n",
       "      <th></th>\n",
       "      <th></th>\n",
       "      <th>geometry</th>\n",
       "      <th>type</th>\n",
       "      <th>source</th>\n",
       "      <th>sourceName</th>\n",
       "      <th>identifier</th>\n",
       "      <th>name</th>\n",
       "      <th>uri</th>\n",
       "      <th>comid</th>\n",
       "      <th>navigation</th>\n",
       "    </tr>\n",
       "  </thead>\n",
       "  <tbody>\n",
       "    <tr>\n",
       "      <th>17585808</th>\n",
       "      <th>0</th>\n",
       "      <td>LINESTRING (-13287323.918 4096638.669, -132872...</td>\n",
       "      <td></td>\n",
       "      <td>comid</td>\n",
       "      <td>NHDPlus comid</td>\n",
       "      <td>17585808</td>\n",
       "      <td></td>\n",
       "      <td></td>\n",
       "      <td>17585808</td>\n",
       "      <td>https://labs.waterdata.usgs.gov/api/nldi/linke...</td>\n",
       "    </tr>\n",
       "  </tbody>\n",
       "</table>\n",
       "</div>"
      ],
      "text/plain": [
       "                                                     geometry type source  \\\n",
       "17585808 0  LINESTRING (-13287323.918 4096638.669, -132872...       comid   \n",
       "\n",
       "               sourceName identifier name uri     comid  \\\n",
       "17585808 0  NHDPlus comid   17585808           17585808   \n",
       "\n",
       "                                                   navigation  \n",
       "17585808 0  https://labs.waterdata.usgs.gov/api/nldi/linke...  "
      ]
     },
     "execution_count": 7,
     "metadata": {},
     "output_type": "execute_result"
    }
   ],
   "source": [
    "strmseg_loc"
   ]
  },
  {
   "cell_type": "code",
   "execution_count": 8,
   "id": "db75e928",
   "metadata": {},
   "outputs": [
    {
     "data": {
      "text/plain": [
       "14"
      ]
     },
     "execution_count": 8,
     "metadata": {},
     "output_type": "execute_result"
    }
   ],
   "source": [
    "\n",
    "\n",
    "len(strmseg_loc.geometry[0].coords)\n",
    "\n"
   ]
  },
  {
   "cell_type": "code",
   "execution_count": 9,
   "id": "71935c89",
   "metadata": {},
   "outputs": [
    {
     "data": {
      "text/plain": [
       "<shapely.coords.CoordinateSequence at 0x7f56e85f6dc0>"
      ]
     },
     "execution_count": 9,
     "metadata": {},
     "output_type": "execute_result"
    }
   ],
   "source": [
    "strmseg_loc.geometry[0].coords"
   ]
  },
  {
   "cell_type": "code",
   "execution_count": 10,
   "id": "ba774975",
   "metadata": {},
   "outputs": [
    {
     "name": "stdout",
     "output_type": "stream",
     "text": [
      "14\n"
     ]
    },
    {
     "data": {
      "image/png": "[encoded data removed]",
      "text/plain": [
       "<Figure size 432x288 with 1 Axes>"
      ]
     },
     "metadata": {
      "needs_background": "light"
     },
     "output_type": "display_data"
    }
   ],
   "source": [
    "\n",
    "\n",
    "\n",
    "# print(geomfeat.head(), geom2afeat.head())\n",
    "xs = XSGen(point=gageloc, cl_geom=strmseg_loc, ny=101, width=1000, tension=0.5)\n",
    "xs_line = xs.get_xs()\n",
    "ax = plt.subplot(111)\n",
    "gageloc.plot(ax=ax)\n",
    "strmseg_loc.plot(ax=ax)\n",
    "xs_line.plot(ax=ax)\n",
    "xs.get_strm_seg_spline().plot(ax=ax, colors='r')\n",
    "xs_line.envelope.plot(ax=ax, facecolor=\"none\", edgecolor='black')\n",
    "plt.show()\n",
    "\n"
   ]
  },
  {
   "cell_type": "code",
   "execution_count": 35,
   "id": "10265561",
   "metadata": {},
   "outputs": [
    {
     "data": {
      "text/html": [
       "<div>\n",
       "<style scoped>\n",
       "    .dataframe tbody tr th:only-of-type {\n",
       "        vertical-align: middle;\n",
       "    }\n",
       "\n",
       "    .dataframe tbody tr th {\n",
       "        vertical-align: top;\n",
       "    }\n",
       "\n",
       "    .dataframe thead th {\n",
       "        text-align: right;\n",
       "    }\n",
       "</style>\n",
       "<table border=\"1\" class=\"dataframe\">\n",
       "  <thead>\n",
       "    <tr style=\"text-align: right;\">\n",
       "      <th></th>\n",
       "      <th>name</th>\n",
       "      <th>geometry</th>\n",
       "    </tr>\n",
       "  </thead>\n",
       "  <tbody>\n",
       "    <tr>\n",
       "      <th>0</th>\n",
       "      <td>strm_seg_spline</td>\n",
       "      <td>LINESTRING (-13287323.918 4096638.669, -132873...</td>\n",
       "    </tr>\n",
       "  </tbody>\n",
       "</table>\n",
       "</div>"
      ],
      "text/plain": [
       "              name                                           geometry\n",
       "0  strm_seg_spline  LINESTRING (-13287323.918 4096638.669, -132873..."
      ]
     },
     "execution_count": 35,
     "metadata": {},
     "output_type": "execute_result"
    }
   ],
   "source": [
    "xs.get_strm_seg_spline()"
   ]
  },
  {
   "cell_type": "code",
   "execution_count": 11,
   "id": "b8a57226",
   "metadata": {},
   "outputs": [
    {
     "name": "stdout",
     "output_type": "stream",
     "text": [
      "<class 'pandas.core.frame.DataFrame'>\n",
      "           minx          miny          maxx          maxy\n",
      "0 -1.328681e+07  4.095962e+06 -1.328679e+07  4.096962e+06\n",
      "                                                     geometry type source  \\\n",
      "17585808 0  LINESTRING (-119.36206 34.50370, -119.36170 34...       comid   \n",
      "\n",
      "               sourceName identifier name uri     comid  \\\n",
      "17585808 0  NHDPlus comid   17585808           17585808   \n",
      "\n",
      "                                                   navigation  \n",
      "17585808 0  https://labs.waterdata.usgs.gov/api/nldi/linke...  \n"
     ]
    }
   ],
   "source": [
    "\n",
    "\n",
    "print(type(xs_line.envelope.bounds))\n",
    "print(xs_line.envelope.bounds)\n",
    "print(strmseg_loc.to_crs('epsg:4326'))\n",
    "\n"
   ]
  },
  {
   "cell_type": "code",
   "execution_count": 12,
   "id": "ff8c2159",
   "metadata": {},
   "outputs": [
    {
     "name": "stdout",
     "output_type": "stream",
     "text": [
      "            name                                           geometry\n",
      "0  cross-section  LINESTRING (-119.35746 34.49869, -119.35746 34...\n",
      "(-119.3574606710691, 34.49868767885272, -119.3572555355385, 34.50608878780323)\n",
      "{'res_1m': True, 'res_3m': False, 'res_5m': False, 'res_10m': True, 'res_30m': True, 'res_60m': False}\n"
     ]
    }
   ],
   "source": [
    "\n",
    "\n",
    "xs_line_geom = xs_line.to_crs('epsg:4326')\n",
    "print(xs_line_geom)\n",
    "bbox = xs_line_geom.geometry[0].envelope.bounds\n",
    "print(bbox)\n",
    "query = query_dems_bbox(bbox)\n",
    "print(query)\n",
    "\n"
   ]
  },
  {
   "cell_type": "code",
   "execution_count": 13,
   "id": "9b7fdf21",
   "metadata": {},
   "outputs": [],
   "source": [
    "\n",
    "\n",
    "bbox = xs_line.geometry[0].bounds\n",
    "\n"
   ]
  },
  {
   "cell_type": "code",
   "execution_count": 14,
   "id": "4698cc3e",
   "metadata": {},
   "outputs": [
    {
     "name": "stdout",
     "output_type": "stream",
     "text": [
      "22.835582811385393 999.7392340796068\n"
     ]
    }
   ],
   "source": [
    "\n",
    "\n",
    "width = abs(bbox[0]-bbox[2])\n",
    "height = abs(bbox[1]-bbox[3])\n",
    "print(width, height)\n",
    "\n"
   ]
  },
  {
   "cell_type": "code",
   "execution_count": 15,
   "id": "f1b7aa3e",
   "metadata": {},
   "outputs": [
    {
     "data": {
      "text/plain": [
       "(-13286911.718205, 4095861.8051115745, -13286688.934775373, 4097061.49219247)"
      ]
     },
     "execution_count": 15,
     "metadata": {},
     "output_type": "execute_result"
    }
   ],
   "source": [
    "\n",
    "\n",
    "bb = xs_line.buffer(100)\n",
    "bb.geometry[0].bounds\n",
    "\n"
   ]
  },
  {
   "cell_type": "code",
   "execution_count": 16,
   "id": "23dae33c",
   "metadata": {},
   "outputs": [
    {
     "data": {
      "text/plain": [
       "(-13286911.744281592,\n",
       " 4095861.7790349824,\n",
       " -13286688.90869878,\n",
       " 4097061.518269062)"
      ]
     },
     "execution_count": 16,
     "metadata": {},
     "output_type": "execute_result"
    }
   ],
   "source": [
    "\n",
    "\n",
    "bb1 = (xs_line.total_bounds) - ((100., 100., -100., -100.))\n",
    "tuple(bb1)\n",
    "\n"
   ]
  },
  {
   "cell_type": "code",
   "execution_count": 17,
   "id": "009aebef",
   "metadata": {},
   "outputs": [
    {
     "name": "stdout",
     "output_type": "stream",
     "text": [
      "            name                                           geometry\n",
      "0  cross-section  LINESTRING (-13286811.744 4095961.779, -132868...\n"
     ]
    },
    {
     "data": {
      "text/plain": [
       "(-13287385.329533, -13286034.273693863, 4095861.779034982, 4097061.518269062)"
      ]
     },
     "execution_count": 17,
     "metadata": {},
     "output_type": "execute_result"
    },
    {
     "data": {
      "image/png": "[encoded data removed]",
      "text/plain": [
       "<Figure size 432x288 with 2 Axes>"
      ]
     },
     "metadata": {
      "needs_background": "light"
     },
     "output_type": "display_data"
    }
   ],
   "source": [
    "\n",
    "\n",
    "#Buffer bounding box of cross-section otherwise interpolation with elevation below returns nans near end points\n",
    "xs_line_geom = xs_line.to_crs('epsg:3857')\n",
    "print(xs_line_geom)\n",
    "t1 = (xs_line_geom.total_bounds) + ((-100.,-100.,100., 100.))\n",
    "dem = py3dep.get_map(\"DEM\", tuple(t1), resolution=10, geo_crs=\"EPSG:3857\", crs=\"epsg:3857\")\n",
    "\n",
    "ax = plt.subplot(111)\n",
    "strmseg_loc.plot(ax=ax)\n",
    "xs_line_geom.plot(ax=ax, colors='black')\n",
    "xs.get_strm_seg_spline().plot(ax=ax, colors='r')\n",
    "xs_line.envelope.plot(ax=ax, facecolor=\"none\", edgecolor='black')\n",
    "dem.plot(ax=ax)\n",
    "gageloc.plot(ax=ax)\n",
    "ax.axis('equal')\n",
    "# plt.tight_layout()\n",
    "\n"
   ]
  },
  {
   "cell_type": "code",
   "execution_count": 18,
   "id": "346012e2",
   "metadata": {},
   "outputs": [
    {
     "name": "stderr",
     "output_type": "stream",
     "text": [
      "/home/sarah/anaconda3/envs/py39/lib/python3.9/site-packages/xarray/core/missing.py:566: FutureWarning: Passing method to Float64Index.get_loc is deprecated and will raise in a future version. Use index.get_indexer([item], method=...) instead.\n",
      "  imin = index.get_loc(minval, method=\"nearest\")\n",
      "/home/sarah/anaconda3/envs/py39/lib/python3.9/site-packages/xarray/core/missing.py:567: FutureWarning: Passing method to Float64Index.get_loc is deprecated and will raise in a future version. Use index.get_indexer([item], method=...) instead.\n",
      "  imax = index.get_loc(maxval, method=\"nearest\")\n",
      "/home/sarah/anaconda3/envs/py39/lib/python3.9/site-packages/xarray/core/missing.py:566: FutureWarning: Passing method to Float64Index.get_loc is deprecated and will raise in a future version. Use index.get_indexer([item], method=...) instead.\n",
      "  imin = index.get_loc(minval, method=\"nearest\")\n",
      "/home/sarah/anaconda3/envs/py39/lib/python3.9/site-packages/xarray/core/missing.py:567: FutureWarning: Passing method to Float64Index.get_loc is deprecated and will raise in a future version. Use index.get_indexer([item], method=...) instead.\n",
      "  imax = index.get_loc(maxval, method=\"nearest\")\n",
      "/home/sarah/anaconda3/envs/py39/lib/python3.9/site-packages/xarray/core/missing.py:566: FutureWarning: Passing method to Float64Index.get_loc is deprecated and will raise in a future version. Use index.get_indexer([item], method=...) instead.\n",
      "  imin = index.get_loc(minval, method=\"nearest\")\n",
      "/home/sarah/anaconda3/envs/py39/lib/python3.9/site-packages/xarray/core/missing.py:567: FutureWarning: Passing method to Float64Index.get_loc is deprecated and will raise in a future version. Use index.get_indexer([item], method=...) instead.\n",
      "  imax = index.get_loc(maxval, method=\"nearest\")\n",
      "/home/sarah/anaconda3/envs/py39/lib/python3.9/site-packages/xarray/core/missing.py:566: FutureWarning: Passing method to Float64Index.get_loc is deprecated and will raise in a future version. Use index.get_indexer([item], method=...) instead.\n",
      "  imin = index.get_loc(minval, method=\"nearest\")\n",
      "/home/sarah/anaconda3/envs/py39/lib/python3.9/site-packages/xarray/core/missing.py:567: FutureWarning: Passing method to Float64Index.get_loc is deprecated and will raise in a future version. Use index.get_indexer([item], method=...) instead.\n",
      "  imax = index.get_loc(maxval, method=\"nearest\")\n"
     ]
    },
    {
     "name": "stdout",
     "output_type": "stream",
     "text": [
      "<class 'xarray.core.dataarray.DataArray'>\n"
     ]
    },
    {
     "data": {
      "image/png": "[encoded data removed]",
      "text/plain": [
       "<Figure size 432x288 with 1 Axes>"
      ]
     },
     "metadata": {
      "needs_background": "light"
     },
     "output_type": "display_data"
    }
   ],
   "source": [
    "\n",
    "\n",
    "x,y = xs.get_xs_points()\n",
    "dsx = xr.DataArray(x, dims='z')\n",
    "dsy = xr.DataArray(y, dims='z')\n",
    "dsi = dem.interp(x=('z',x), y=('z',y))\n",
    "dsi.plot()\n",
    "print(type(dsi))\n",
    "\n"
   ]
  },
  {
   "cell_type": "code",
   "execution_count": 19,
   "id": "b0a95399",
   "metadata": {},
   "outputs": [
    {
     "name": "stdout",
     "output_type": "stream",
     "text": [
      "[   0.   10.   20.   30.   40.   50.   60.   70.   80.   90.  100.  110.\n",
      "  120.  130.  140.  150.  160.  170.  180.  190.  200.  210.  220.  230.\n",
      "  240.  250.  260.  270.  280.  290.  300.  310.  320.  330.  340.  350.\n",
      "  360.  370.  380.  390.  400.  410.  420.  430.  440.  450.  460.  470.\n",
      "  480.  490.  500.  510.  520.  530.  540.  550.  560.  570.  580.  590.\n",
      "  600.  610.  620.  630.  640.  650.  660.  670.  680.  690.  700.  710.\n",
      "  720.  730.  740.  750.  760.  770.  780.  790.  800.  810.  820.  830.\n",
      "  840.  850.  860.  870.  880.  890.  900.  910.  920.  930.  940.  950.\n",
      "  960.  970.  980.  990. 1000.]\n"
     ]
    },
    {
     "name": "stderr",
     "output_type": "stream",
     "text": [
      "/home/sarah/anaconda3/envs/py39/lib/python3.9/site-packages/xarray/core/missing.py:566: FutureWarning: Passing method to Float64Index.get_loc is deprecated and will raise in a future version. Use index.get_indexer([item], method=...) instead.\n",
      "  imin = index.get_loc(minval, method=\"nearest\")\n",
      "/home/sarah/anaconda3/envs/py39/lib/python3.9/site-packages/xarray/core/missing.py:567: FutureWarning: Passing method to Float64Index.get_loc is deprecated and will raise in a future version. Use index.get_indexer([item], method=...) instead.\n",
      "  imax = index.get_loc(maxval, method=\"nearest\")\n",
      "/home/sarah/anaconda3/envs/py39/lib/python3.9/site-packages/xarray/core/missing.py:566: FutureWarning: Passing method to Float64Index.get_loc is deprecated and will raise in a future version. Use index.get_indexer([item], method=...) instead.\n",
      "  imin = index.get_loc(minval, method=\"nearest\")\n",
      "/home/sarah/anaconda3/envs/py39/lib/python3.9/site-packages/xarray/core/missing.py:567: FutureWarning: Passing method to Float64Index.get_loc is deprecated and will raise in a future version. Use index.get_indexer([item], method=...) instead.\n",
      "  imax = index.get_loc(maxval, method=\"nearest\")\n"
     ]
    },
    {
     "data": {
      "text/html": [
       "<div>\n",
       "<style scoped>\n",
       "    .dataframe tbody tr th:only-of-type {\n",
       "        vertical-align: middle;\n",
       "    }\n",
       "\n",
       "    .dataframe tbody tr th {\n",
       "        vertical-align: top;\n",
       "    }\n",
       "\n",
       "    .dataframe thead th {\n",
       "        text-align: right;\n",
       "    }\n",
       "</style>\n",
       "<table border=\"1\" class=\"dataframe\">\n",
       "  <thead>\n",
       "    <tr style=\"text-align: right;\">\n",
       "      <th></th>\n",
       "      <th>spatial_ref</th>\n",
       "      <th>x</th>\n",
       "      <th>y</th>\n",
       "      <th>elevation</th>\n",
       "      <th>distance</th>\n",
       "    </tr>\n",
       "    <tr>\n",
       "      <th>z</th>\n",
       "      <th></th>\n",
       "      <th></th>\n",
       "      <th></th>\n",
       "      <th></th>\n",
       "      <th></th>\n",
       "    </tr>\n",
       "  </thead>\n",
       "  <tbody>\n",
       "    <tr>\n",
       "      <th>0</th>\n",
       "      <td>0</td>\n",
       "      <td>-1.328681e+07</td>\n",
       "      <td>4.095962e+06</td>\n",
       "      <td>633.339990</td>\n",
       "      <td>0.0</td>\n",
       "    </tr>\n",
       "    <tr>\n",
       "      <th>1</th>\n",
       "      <td>0</td>\n",
       "      <td>-1.328681e+07</td>\n",
       "      <td>4.095972e+06</td>\n",
       "      <td>626.948502</td>\n",
       "      <td>10.0</td>\n",
       "    </tr>\n",
       "    <tr>\n",
       "      <th>2</th>\n",
       "      <td>0</td>\n",
       "      <td>-1.328681e+07</td>\n",
       "      <td>4.095982e+06</td>\n",
       "      <td>620.598415</td>\n",
       "      <td>20.0</td>\n",
       "    </tr>\n",
       "    <tr>\n",
       "      <th>3</th>\n",
       "      <td>0</td>\n",
       "      <td>-1.328681e+07</td>\n",
       "      <td>4.095992e+06</td>\n",
       "      <td>614.297748</td>\n",
       "      <td>30.0</td>\n",
       "    </tr>\n",
       "    <tr>\n",
       "      <th>4</th>\n",
       "      <td>0</td>\n",
       "      <td>-1.328681e+07</td>\n",
       "      <td>4.096002e+06</td>\n",
       "      <td>608.149387</td>\n",
       "      <td>40.0</td>\n",
       "    </tr>\n",
       "    <tr>\n",
       "      <th>...</th>\n",
       "      <td>...</td>\n",
       "      <td>...</td>\n",
       "      <td>...</td>\n",
       "      <td>...</td>\n",
       "      <td>...</td>\n",
       "    </tr>\n",
       "    <tr>\n",
       "      <th>96</th>\n",
       "      <td>0</td>\n",
       "      <td>-1.328679e+07</td>\n",
       "      <td>4.096922e+06</td>\n",
       "      <td>507.429310</td>\n",
       "      <td>960.0</td>\n",
       "    </tr>\n",
       "    <tr>\n",
       "      <th>97</th>\n",
       "      <td>0</td>\n",
       "      <td>-1.328679e+07</td>\n",
       "      <td>4.096932e+06</td>\n",
       "      <td>513.050287</td>\n",
       "      <td>970.0</td>\n",
       "    </tr>\n",
       "    <tr>\n",
       "      <th>98</th>\n",
       "      <td>0</td>\n",
       "      <td>-1.328679e+07</td>\n",
       "      <td>4.096942e+06</td>\n",
       "      <td>516.957682</td>\n",
       "      <td>980.0</td>\n",
       "    </tr>\n",
       "    <tr>\n",
       "      <th>99</th>\n",
       "      <td>0</td>\n",
       "      <td>-1.328679e+07</td>\n",
       "      <td>4.096952e+06</td>\n",
       "      <td>520.902098</td>\n",
       "      <td>990.0</td>\n",
       "    </tr>\n",
       "    <tr>\n",
       "      <th>100</th>\n",
       "      <td>0</td>\n",
       "      <td>-1.328679e+07</td>\n",
       "      <td>4.096962e+06</td>\n",
       "      <td>526.433962</td>\n",
       "      <td>1000.0</td>\n",
       "    </tr>\n",
       "  </tbody>\n",
       "</table>\n",
       "<p>101 rows × 5 columns</p>\n",
       "</div>"
      ],
      "text/plain": [
       "     spatial_ref             x             y   elevation  distance\n",
       "z                                                                 \n",
       "0              0 -1.328681e+07  4.095962e+06  633.339990       0.0\n",
       "1              0 -1.328681e+07  4.095972e+06  626.948502      10.0\n",
       "2              0 -1.328681e+07  4.095982e+06  620.598415      20.0\n",
       "3              0 -1.328681e+07  4.095992e+06  614.297748      30.0\n",
       "4              0 -1.328681e+07  4.096002e+06  608.149387      40.0\n",
       "..           ...           ...           ...         ...       ...\n",
       "96             0 -1.328679e+07  4.096922e+06  507.429310     960.0\n",
       "97             0 -1.328679e+07  4.096932e+06  513.050287     970.0\n",
       "98             0 -1.328679e+07  4.096942e+06  516.957682     980.0\n",
       "99             0 -1.328679e+07  4.096952e+06  520.902098     990.0\n",
       "100            0 -1.328679e+07  4.096962e+06  526.433962    1000.0\n",
       "\n",
       "[101 rows x 5 columns]"
      ]
     },
     "execution_count": 19,
     "metadata": {},
     "output_type": "execute_result"
    }
   ],
   "source": [
    "\n",
    "\n",
    "pdsi = dsi.to_dataframe()\n",
    "x = dsi.coords['x'].values -dsi.coords['x'].values[0]\n",
    "y = dsi.coords['y'].values -dsi.coords['y'].values[0]\n",
    "dist = np.hypot(x,y)\n",
    "print(dist)\n",
    "pdsi['distance'] = dist\n",
    "pdsi\n",
    "\n"
   ]
  },
  {
   "cell_type": "code",
   "execution_count": 20,
   "id": "39b2534b",
   "metadata": {},
   "outputs": [
    {
     "name": "stdout",
     "output_type": "stream",
     "text": [
      "0 100 633.339989603076 526.4339624869898\n"
     ]
    },
    {
     "name": "stderr",
     "output_type": "stream",
     "text": [
      "/home/sarah/anaconda3/envs/py39/lib/python3.9/site-packages/xarray/core/missing.py:566: FutureWarning: Passing method to Float64Index.get_loc is deprecated and will raise in a future version. Use index.get_indexer([item], method=...) instead.\n",
      "  imin = index.get_loc(minval, method=\"nearest\")\n",
      "/home/sarah/anaconda3/envs/py39/lib/python3.9/site-packages/xarray/core/missing.py:567: FutureWarning: Passing method to Float64Index.get_loc is deprecated and will raise in a future version. Use index.get_indexer([item], method=...) instead.\n",
      "  imax = index.get_loc(maxval, method=\"nearest\")\n",
      "/home/sarah/anaconda3/envs/py39/lib/python3.9/site-packages/xarray/core/missing.py:566: FutureWarning: Passing method to Float64Index.get_loc is deprecated and will raise in a future version. Use index.get_indexer([item], method=...) instead.\n",
      "  imin = index.get_loc(minval, method=\"nearest\")\n",
      "/home/sarah/anaconda3/envs/py39/lib/python3.9/site-packages/xarray/core/missing.py:567: FutureWarning: Passing method to Float64Index.get_loc is deprecated and will raise in a future version. Use index.get_indexer([item], method=...) instead.\n",
      "  imax = index.get_loc(maxval, method=\"nearest\")\n"
     ]
    }
   ],
   "source": [
    "values = dsi.values\n",
    "lmi = np.where(values == max(values[:49]))[0][0]\n",
    "rmi = np.where(values == max(values[50:]))[0][0]\n",
    "print(lmi,rmi, values[lmi], values[rmi])"
   ]
  },
  {
   "cell_type": "code",
   "execution_count": 21,
   "id": "b26f822e",
   "metadata": {},
   "outputs": [
    {
     "name": "stderr",
     "output_type": "stream",
     "text": [
      "/home/sarah/anaconda3/envs/py39/lib/python3.9/site-packages/xarray/core/missing.py:566: FutureWarning: Passing method to Float64Index.get_loc is deprecated and will raise in a future version. Use index.get_indexer([item], method=...) instead.\n",
      "  imin = index.get_loc(minval, method=\"nearest\")\n",
      "/home/sarah/anaconda3/envs/py39/lib/python3.9/site-packages/xarray/core/missing.py:567: FutureWarning: Passing method to Float64Index.get_loc is deprecated and will raise in a future version. Use index.get_indexer([item], method=...) instead.\n",
      "  imax = index.get_loc(maxval, method=\"nearest\")\n",
      "/home/sarah/anaconda3/envs/py39/lib/python3.9/site-packages/xarray/core/missing.py:566: FutureWarning: Passing method to Float64Index.get_loc is deprecated and will raise in a future version. Use index.get_indexer([item], method=...) instead.\n",
      "  imin = index.get_loc(minval, method=\"nearest\")\n",
      "/home/sarah/anaconda3/envs/py39/lib/python3.9/site-packages/xarray/core/missing.py:567: FutureWarning: Passing method to Float64Index.get_loc is deprecated and will raise in a future version. Use index.get_indexer([item], method=...) instead.\n",
      "  imax = index.get_loc(maxval, method=\"nearest\")\n"
     ]
    },
    {
     "data": {
      "text/plain": [
       "[<matplotlib.lines.Line2D at 0x7f56e06b5be0>]"
      ]
     },
     "execution_count": 21,
     "metadata": {},
     "output_type": "execute_result"
    },
    {
     "data": {
      "image/png": "[encoded data removed]",
      "text/plain": [
       "<Figure size 432x288 with 1 Axes>"
      ]
     },
     "metadata": {
      "needs_background": "light"
     },
     "output_type": "display_data"
    }
   ],
   "source": [
    "dsi[lmi:rmi].plot()"
   ]
  },
  {
   "cell_type": "code",
   "execution_count": 22,
   "id": "79dd9ad3",
   "metadata": {},
   "outputs": [
    {
     "name": "stderr",
     "output_type": "stream",
     "text": [
      "/home/sarah/anaconda3/envs/py39/lib/python3.9/site-packages/xarray/core/missing.py:566: FutureWarning: Passing method to Float64Index.get_loc is deprecated and will raise in a future version. Use index.get_indexer([item], method=...) instead.\n",
      "  imin = index.get_loc(minval, method=\"nearest\")\n",
      "/home/sarah/anaconda3/envs/py39/lib/python3.9/site-packages/xarray/core/missing.py:567: FutureWarning: Passing method to Float64Index.get_loc is deprecated and will raise in a future version. Use index.get_indexer([item], method=...) instead.\n",
      "  imax = index.get_loc(maxval, method=\"nearest\")\n",
      "/home/sarah/anaconda3/envs/py39/lib/python3.9/site-packages/xarray/core/missing.py:566: FutureWarning: Passing method to Float64Index.get_loc is deprecated and will raise in a future version. Use index.get_indexer([item], method=...) instead.\n",
      "  imin = index.get_loc(minval, method=\"nearest\")\n",
      "/home/sarah/anaconda3/envs/py39/lib/python3.9/site-packages/xarray/core/missing.py:567: FutureWarning: Passing method to Float64Index.get_loc is deprecated and will raise in a future version. Use index.get_indexer([item], method=...) instead.\n",
      "  imax = index.get_loc(maxval, method=\"nearest\")\n"
     ]
    }
   ],
   "source": [
    "x = dsi.coords['x'].values[lmi:rmi] -dsi.coords['x'].values[lmi]\n",
    "y = dsi.coords['y'].values[lmi:rmi] -dsi.coords['y'].values[lmi]\n",
    "dist = np.hypot(x,y)\n",
    "elev = dsi.values[lmi:rmi]\n",
    "tlen = len(dist)\n",
    "# print(tlen)\n",
    "sta2 = np.zeros((tlen,2))\n",
    "t = []\n",
    "for index,(tx,ty) in enumerate(zip(dist,elev)):\n",
    "    if not np.isnan(ty):\n",
    "        a = np.array((tx,ty))\n",
    "        sta2[index] = a\n",
    "#         print(a)\n",
    "    else:\n",
    "        t.append(index)"
   ]
  },
  {
   "cell_type": "code",
   "execution_count": 23,
   "id": "d50d5402",
   "metadata": {},
   "outputs": [],
   "source": [
    "site='11114495'\n",
    "meas = nwis.get_record(sites=site, service='measurements')\n",
    "si = nwis.get_record(sites=site, service='site')\n"
   ]
  },
  {
   "cell_type": "code",
   "execution_count": 24,
   "id": "731b9bb3",
   "metadata": {},
   "outputs": [
    {
     "data": {
      "text/html": [
       "<div>\n",
       "<style scoped>\n",
       "    .dataframe tbody tr th:only-of-type {\n",
       "        vertical-align: middle;\n",
       "    }\n",
       "\n",
       "    .dataframe tbody tr th {\n",
       "        vertical-align: top;\n",
       "    }\n",
       "\n",
       "    .dataframe thead th {\n",
       "        text-align: right;\n",
       "    }\n",
       "</style>\n",
       "<table border=\"1\" class=\"dataframe\">\n",
       "  <thead>\n",
       "    <tr style=\"text-align: right;\">\n",
       "      <th></th>\n",
       "      <th>agency_cd</th>\n",
       "      <th>site_no</th>\n",
       "      <th>measurement_nu</th>\n",
       "      <th>measurement_dt</th>\n",
       "      <th>tz_cd</th>\n",
       "      <th>q_meas_used_fg</th>\n",
       "      <th>party_nm</th>\n",
       "      <th>site_visit_coll_agency_cd</th>\n",
       "      <th>gage_height_va</th>\n",
       "      <th>discharge_va</th>\n",
       "      <th>measured_rating_diff</th>\n",
       "      <th>gage_va_change</th>\n",
       "      <th>gage_va_time</th>\n",
       "      <th>control_type_cd</th>\n",
       "      <th>discharge_cd</th>\n",
       "    </tr>\n",
       "  </thead>\n",
       "  <tbody>\n",
       "    <tr>\n",
       "      <th>0</th>\n",
       "      <td>USGS</td>\n",
       "      <td>11114495</td>\n",
       "      <td>1</td>\n",
       "      <td>2001-12-19 10:50:00</td>\n",
       "      <td>PST</td>\n",
       "      <td>Yes</td>\n",
       "      <td>MCS/EWS</td>\n",
       "      <td>USGS</td>\n",
       "      <td>NaN</td>\n",
       "      <td>6.65</td>\n",
       "      <td>Good</td>\n",
       "      <td>NaN</td>\n",
       "      <td>NaN</td>\n",
       "      <td>Clear</td>\n",
       "      <td>NONE</td>\n",
       "    </tr>\n",
       "    <tr>\n",
       "      <th>1</th>\n",
       "      <td>USGS</td>\n",
       "      <td>11114495</td>\n",
       "      <td>2</td>\n",
       "      <td>2002-02-27 12:25:00</td>\n",
       "      <td>PST</td>\n",
       "      <td>Yes</td>\n",
       "      <td>EWS</td>\n",
       "      <td>USGS</td>\n",
       "      <td>4.97</td>\n",
       "      <td>5.52</td>\n",
       "      <td>Poor</td>\n",
       "      <td>0.01</td>\n",
       "      <td>1.00</td>\n",
       "      <td>Clear</td>\n",
       "      <td>NONE</td>\n",
       "    </tr>\n",
       "    <tr>\n",
       "      <th>2</th>\n",
       "      <td>USGS</td>\n",
       "      <td>11114495</td>\n",
       "      <td>3</td>\n",
       "      <td>2002-03-21 12:00:00</td>\n",
       "      <td>PST</td>\n",
       "      <td>Yes</td>\n",
       "      <td>EWS</td>\n",
       "      <td>USGS</td>\n",
       "      <td>4.94</td>\n",
       "      <td>5.19</td>\n",
       "      <td>Poor</td>\n",
       "      <td>0.00</td>\n",
       "      <td>1.20</td>\n",
       "      <td>Clear</td>\n",
       "      <td>NONE</td>\n",
       "    </tr>\n",
       "    <tr>\n",
       "      <th>3</th>\n",
       "      <td>USGS</td>\n",
       "      <td>11114495</td>\n",
       "      <td>4</td>\n",
       "      <td>2002-04-03 13:00:00</td>\n",
       "      <td>PST</td>\n",
       "      <td>Yes</td>\n",
       "      <td>EWS</td>\n",
       "      <td>USGS</td>\n",
       "      <td>4.92</td>\n",
       "      <td>4.63</td>\n",
       "      <td>Poor</td>\n",
       "      <td>0.00</td>\n",
       "      <td>1.00</td>\n",
       "      <td>Clear</td>\n",
       "      <td>NONE</td>\n",
       "    </tr>\n",
       "    <tr>\n",
       "      <th>4</th>\n",
       "      <td>USGS</td>\n",
       "      <td>11114495</td>\n",
       "      <td>5</td>\n",
       "      <td>2002-04-25 11:15:00</td>\n",
       "      <td>PDT</td>\n",
       "      <td>Yes</td>\n",
       "      <td>EWS</td>\n",
       "      <td>USGS</td>\n",
       "      <td>4.85</td>\n",
       "      <td>4.15</td>\n",
       "      <td>Poor</td>\n",
       "      <td>0.00</td>\n",
       "      <td>0.70</td>\n",
       "      <td>VegetationLight</td>\n",
       "      <td>NONE</td>\n",
       "    </tr>\n",
       "    <tr>\n",
       "      <th>...</th>\n",
       "      <td>...</td>\n",
       "      <td>...</td>\n",
       "      <td>...</td>\n",
       "      <td>...</td>\n",
       "      <td>...</td>\n",
       "      <td>...</td>\n",
       "      <td>...</td>\n",
       "      <td>...</td>\n",
       "      <td>...</td>\n",
       "      <td>...</td>\n",
       "      <td>...</td>\n",
       "      <td>...</td>\n",
       "      <td>...</td>\n",
       "      <td>...</td>\n",
       "      <td>...</td>\n",
       "    </tr>\n",
       "    <tr>\n",
       "      <th>233</th>\n",
       "      <td>USGS</td>\n",
       "      <td>11114495</td>\n",
       "      <td>233</td>\n",
       "      <td>2021-12-29 13:17:05</td>\n",
       "      <td>PST</td>\n",
       "      <td>Yes</td>\n",
       "      <td>NHIGGINSON</td>\n",
       "      <td>USGS</td>\n",
       "      <td>3.15</td>\n",
       "      <td>32.60</td>\n",
       "      <td>Poor</td>\n",
       "      <td>0.04</td>\n",
       "      <td>0.66</td>\n",
       "      <td>Clear</td>\n",
       "      <td>NONE</td>\n",
       "    </tr>\n",
       "    <tr>\n",
       "      <th>234</th>\n",
       "      <td>USGS</td>\n",
       "      <td>11114495</td>\n",
       "      <td>234</td>\n",
       "      <td>2021-12-29 14:07:20</td>\n",
       "      <td>PST</td>\n",
       "      <td>Yes</td>\n",
       "      <td>NHIGGINSON</td>\n",
       "      <td>USGS</td>\n",
       "      <td>3.18</td>\n",
       "      <td>34.30</td>\n",
       "      <td>Poor</td>\n",
       "      <td>0.04</td>\n",
       "      <td>0.49</td>\n",
       "      <td>Clear</td>\n",
       "      <td>NONE</td>\n",
       "    </tr>\n",
       "    <tr>\n",
       "      <th>235</th>\n",
       "      <td>USGS</td>\n",
       "      <td>11114495</td>\n",
       "      <td>235</td>\n",
       "      <td>2022-01-07 12:17:21</td>\n",
       "      <td>PST</td>\n",
       "      <td>Yes</td>\n",
       "      <td>JSOLUM</td>\n",
       "      <td>USGS</td>\n",
       "      <td>3.05</td>\n",
       "      <td>22.30</td>\n",
       "      <td>Poor</td>\n",
       "      <td>-0.02</td>\n",
       "      <td>0.80</td>\n",
       "      <td>Clear</td>\n",
       "      <td>NONE</td>\n",
       "    </tr>\n",
       "    <tr>\n",
       "      <th>236</th>\n",
       "      <td>USGS</td>\n",
       "      <td>11114495</td>\n",
       "      <td>236</td>\n",
       "      <td>2022-01-25 12:36:42</td>\n",
       "      <td>PST</td>\n",
       "      <td>Yes</td>\n",
       "      <td>JSOLUM</td>\n",
       "      <td>USGS</td>\n",
       "      <td>2.83</td>\n",
       "      <td>10.50</td>\n",
       "      <td>Poor</td>\n",
       "      <td>-0.04</td>\n",
       "      <td>0.80</td>\n",
       "      <td>VegetationLight</td>\n",
       "      <td>NONE</td>\n",
       "    </tr>\n",
       "    <tr>\n",
       "      <th>237</th>\n",
       "      <td>USGS</td>\n",
       "      <td>11114495</td>\n",
       "      <td>237</td>\n",
       "      <td>2022-02-16 11:44:48</td>\n",
       "      <td>PST</td>\n",
       "      <td>Yes</td>\n",
       "      <td>JSOLUM</td>\n",
       "      <td>USGS</td>\n",
       "      <td>2.70</td>\n",
       "      <td>7.36</td>\n",
       "      <td>Poor</td>\n",
       "      <td>0.02</td>\n",
       "      <td>0.80</td>\n",
       "      <td>VegetationLight</td>\n",
       "      <td>NONE</td>\n",
       "    </tr>\n",
       "  </tbody>\n",
       "</table>\n",
       "<p>238 rows × 15 columns</p>\n",
       "</div>"
      ],
      "text/plain": [
       "    agency_cd   site_no measurement_nu       measurement_dt tz_cd  \\\n",
       "0        USGS  11114495              1  2001-12-19 10:50:00   PST   \n",
       "1        USGS  11114495              2  2002-02-27 12:25:00   PST   \n",
       "2        USGS  11114495              3  2002-03-21 12:00:00   PST   \n",
       "3        USGS  11114495              4  2002-04-03 13:00:00   PST   \n",
       "4        USGS  11114495              5  2002-04-25 11:15:00   PDT   \n",
       "..        ...       ...            ...                  ...   ...   \n",
       "233      USGS  11114495            233  2021-12-29 13:17:05   PST   \n",
       "234      USGS  11114495            234  2021-12-29 14:07:20   PST   \n",
       "235      USGS  11114495            235  2022-01-07 12:17:21   PST   \n",
       "236      USGS  11114495            236  2022-01-25 12:36:42   PST   \n",
       "237      USGS  11114495            237  2022-02-16 11:44:48   PST   \n",
       "\n",
       "    q_meas_used_fg    party_nm site_visit_coll_agency_cd  gage_height_va  \\\n",
       "0              Yes     MCS/EWS                      USGS             NaN   \n",
       "1              Yes         EWS                      USGS            4.97   \n",
       "2              Yes         EWS                      USGS            4.94   \n",
       "3              Yes         EWS                      USGS            4.92   \n",
       "4              Yes         EWS                      USGS            4.85   \n",
       "..             ...         ...                       ...             ...   \n",
       "233            Yes  NHIGGINSON                      USGS            3.15   \n",
       "234            Yes  NHIGGINSON                      USGS            3.18   \n",
       "235            Yes      JSOLUM                      USGS            3.05   \n",
       "236            Yes      JSOLUM                      USGS            2.83   \n",
       "237            Yes      JSOLUM                      USGS            2.70   \n",
       "\n",
       "     discharge_va measured_rating_diff  gage_va_change  gage_va_time  \\\n",
       "0            6.65                 Good             NaN           NaN   \n",
       "1            5.52                 Poor            0.01          1.00   \n",
       "2            5.19                 Poor            0.00          1.20   \n",
       "3            4.63                 Poor            0.00          1.00   \n",
       "4            4.15                 Poor            0.00          0.70   \n",
       "..            ...                  ...             ...           ...   \n",
       "233         32.60                 Poor            0.04          0.66   \n",
       "234         34.30                 Poor            0.04          0.49   \n",
       "235         22.30                 Poor           -0.02          0.80   \n",
       "236         10.50                 Poor           -0.04          0.80   \n",
       "237          7.36                 Poor            0.02          0.80   \n",
       "\n",
       "     control_type_cd discharge_cd  \n",
       "0              Clear         NONE  \n",
       "1              Clear         NONE  \n",
       "2              Clear         NONE  \n",
       "3              Clear         NONE  \n",
       "4    VegetationLight         NONE  \n",
       "..               ...          ...  \n",
       "233            Clear         NONE  \n",
       "234            Clear         NONE  \n",
       "235            Clear         NONE  \n",
       "236  VegetationLight         NONE  \n",
       "237  VegetationLight         NONE  \n",
       "\n",
       "[238 rows x 15 columns]"
      ]
     },
     "execution_count": 24,
     "metadata": {},
     "output_type": "execute_result"
    }
   ],
   "source": [
    "meas"
   ]
  },
  {
   "cell_type": "code",
   "execution_count": 25,
   "id": "f88f5d6c",
   "metadata": {},
   "outputs": [
    {
     "data": {
      "text/html": [
       "<div>\n",
       "<style scoped>\n",
       "    .dataframe tbody tr th:only-of-type {\n",
       "        vertical-align: middle;\n",
       "    }\n",
       "\n",
       "    .dataframe tbody tr th {\n",
       "        vertical-align: top;\n",
       "    }\n",
       "\n",
       "    .dataframe thead th {\n",
       "        text-align: right;\n",
       "    }\n",
       "</style>\n",
       "<table border=\"1\" class=\"dataframe\">\n",
       "  <thead>\n",
       "    <tr style=\"text-align: right;\">\n",
       "      <th></th>\n",
       "      <th>agency_cd</th>\n",
       "      <th>site_no</th>\n",
       "      <th>station_nm</th>\n",
       "      <th>site_tp_cd</th>\n",
       "      <th>lat_va</th>\n",
       "      <th>long_va</th>\n",
       "      <th>dec_lat_va</th>\n",
       "      <th>dec_long_va</th>\n",
       "      <th>coord_meth_cd</th>\n",
       "      <th>coord_acy_cd</th>\n",
       "      <th>...</th>\n",
       "      <th>local_time_fg</th>\n",
       "      <th>reliability_cd</th>\n",
       "      <th>gw_file_cd</th>\n",
       "      <th>nat_aqfr_cd</th>\n",
       "      <th>aqfr_cd</th>\n",
       "      <th>aqfr_type_cd</th>\n",
       "      <th>well_depth_va</th>\n",
       "      <th>hole_depth_va</th>\n",
       "      <th>depth_src_cd</th>\n",
       "      <th>project_no</th>\n",
       "    </tr>\n",
       "  </thead>\n",
       "  <tbody>\n",
       "    <tr>\n",
       "      <th>0</th>\n",
       "      <td>USGS</td>\n",
       "      <td>11114495</td>\n",
       "      <td>MATILIJA C NR RES NR MATILIJA HOT SPRINGS CA</td>\n",
       "      <td>ST</td>\n",
       "      <td>343010</td>\n",
       "      <td>1192123</td>\n",
       "      <td>34.502769</td>\n",
       "      <td>-119.357339</td>\n",
       "      <td>M</td>\n",
       "      <td>S</td>\n",
       "      <td>...</td>\n",
       "      <td>Y</td>\n",
       "      <td>NaN</td>\n",
       "      <td>NaN</td>\n",
       "      <td>NaN</td>\n",
       "      <td>NaN</td>\n",
       "      <td>NaN</td>\n",
       "      <td>NaN</td>\n",
       "      <td>NaN</td>\n",
       "      <td>NaN</td>\n",
       "      <td>470600111</td>\n",
       "    </tr>\n",
       "  </tbody>\n",
       "</table>\n",
       "<p>1 rows × 42 columns</p>\n",
       "</div>"
      ],
      "text/plain": [
       "  agency_cd   site_no                                    station_nm  \\\n",
       "0      USGS  11114495  MATILIJA C NR RES NR MATILIJA HOT SPRINGS CA   \n",
       "\n",
       "  site_tp_cd  lat_va  long_va  dec_lat_va  dec_long_va coord_meth_cd  \\\n",
       "0         ST  343010  1192123   34.502769  -119.357339             M   \n",
       "\n",
       "  coord_acy_cd  ... local_time_fg reliability_cd  gw_file_cd  nat_aqfr_cd  \\\n",
       "0            S  ...             Y            NaN         NaN          NaN   \n",
       "\n",
       "   aqfr_cd aqfr_type_cd well_depth_va hole_depth_va  depth_src_cd  project_no  \n",
       "0      NaN          NaN           NaN           NaN           NaN   470600111  \n",
       "\n",
       "[1 rows x 42 columns]"
      ]
     },
     "execution_count": 25,
     "metadata": {},
     "output_type": "execute_result"
    }
   ],
   "source": [
    "si"
   ]
  },
  {
   "cell_type": "code",
   "execution_count": 26,
   "id": "2725e30e",
   "metadata": {},
   "outputs": [],
   "source": [
    "\n",
    "\n",
    "meas1 = meas.loc[(meas['measured_rating_diff'].isin(['Good','Fair','Poor']))]\n",
    "meas1.head()\n",
    "meas1.reset_index(inplace = True)\n",
    "\n"
   ]
  },
  {
   "cell_type": "code",
   "execution_count": 27,
   "id": "7710fb18",
   "metadata": {},
   "outputs": [
    {
     "name": "stderr",
     "output_type": "stream",
     "text": [
      "/tmp/ipykernel_3883/3713185488.py:1: SettingWithCopyWarning: \n",
      "A value is trying to be set on a copy of a slice from a DataFrame.\n",
      "Try using .loc[row_indexer,col_indexer] = value instead\n",
      "\n",
      "See the caveats in the documentation: https://pandas.pydata.org/pandas-docs/stable/user_guide/indexing.html#returning-a-view-versus-a-copy\n",
      "  meas1.loc[:,'stage_elev'] = meas1.loc[:,'gage_height_va'].values\n",
      "/tmp/ipykernel_3883/3713185488.py:3: SettingWithCopyWarning: \n",
      "A value is trying to be set on a copy of a slice from a DataFrame.\n",
      "Try using .loc[row_indexer,col_indexer] = value instead\n",
      "\n",
      "See the caveats in the documentation: https://pandas.pydata.org/pandas-docs/stable/user_guide/indexing.html#returning-a-view-versus-a-copy\n",
      "  meas1.loc[:,'stage_elev'] += si.loc[:,'alt_va'].values\n",
      "/tmp/ipykernel_3883/3713185488.py:4: SettingWithCopyWarning: \n",
      "A value is trying to be set on a copy of a slice from a DataFrame.\n",
      "Try using .loc[row_indexer,col_indexer] = value instead\n",
      "\n",
      "See the caveats in the documentation: https://pandas.pydata.org/pandas-docs/stable/user_guide/indexing.html#returning-a-view-versus-a-copy\n",
      "  meas1.loc[:,'stage_elev'] *= 0.3048\n",
      "/tmp/ipykernel_3883/3713185488.py:5: SettingWithCopyWarning: \n",
      "A value is trying to be set on a copy of a slice from a DataFrame.\n",
      "Try using .loc[row_indexer,col_indexer] = value instead\n",
      "\n",
      "See the caveats in the documentation: https://pandas.pydata.org/pandas-docs/stable/user_guide/indexing.html#returning-a-view-versus-a-copy\n",
      "  meas1.loc[:,'discharge_va'] *= 0.02831\n"
     ]
    },
    {
     "data": {
      "text/plain": [
       "<AxesSubplot:xlabel='discharge_va', ylabel='stage_elev'>"
      ]
     },
     "execution_count": 27,
     "metadata": {},
     "output_type": "execute_result"
    },
    {
     "data": {
      "image/png": "[encoded data removed]",
      "text/plain": [
       "<Figure size 432x288 with 1 Axes>"
      ]
     },
     "metadata": {
      "needs_background": "light"
     },
     "output_type": "display_data"
    }
   ],
   "source": [
    "\n",
    "\n",
    "meas1.loc[:,'stage_elev'] = meas1.loc[:,'gage_height_va'].values\n",
    "# add gage datum to gage measurements\n",
    "meas1.loc[:,'stage_elev'] += si.loc[:,'alt_va'].values\n",
    "meas1.loc[:,'stage_elev'] *= 0.3048\n",
    "meas1.loc[:,'discharge_va'] *= 0.02831\n",
    "# meas = pd.read_csv('usgs06759500.csv', header=None, names=['stage','discharge'])\n",
    "ax = plt.subplot(111)\n",
    "meas1.plot.scatter(x='discharge_va', y='stage_elev', ax = ax)\n",
    "#plt.scatter(q_values, stage_values, color='black')\n",
    "\n"
   ]
  },
  {
   "cell_type": "markdown",
   "id": "ba841a19",
   "metadata": {},
   "source": [
    "NWIS USGS data for ‘measurements’, ‘site info’, ‘annual maximum discharge’ (and return interval), ‘instantaneous’ discharge, and ‘daily’ discharge"
   ]
  },
  {
   "cell_type": "code",
   "execution_count": 28,
   "id": "fe4e59a4",
   "metadata": {},
   "outputs": [],
   "source": [
    "site='11114495'\n",
    "measurements = nwis.get_record(sites=site, service='measurements')\n",
    "site_info = nwis.get_record(sites=site, service='site')\n",
    "#annual_maximum_discharge =  nwis.get_record(sites=site, service='site')\n",
    "instantaneous_discharge = nwis.get_record(sites=site, service='iv', start='2014-12-31', end='2020-01-01')\n",
    "daily_discharge = nwis.get_record(sites=site, service='dv', start='2014-12-31', end='2020-01-01')\n",
    "peak_discharge = nwis.get_record(sites=site, service='peaks', start='2014-12-31', end='2020-01-01')"
   ]
  },
  {
   "cell_type": "code",
   "execution_count": 29,
   "id": "4bb5cc11",
   "metadata": {},
   "outputs": [
    {
     "data": {
      "text/html": [
       "<div>\n",
       "<style scoped>\n",
       "    .dataframe tbody tr th:only-of-type {\n",
       "        vertical-align: middle;\n",
       "    }\n",
       "\n",
       "    .dataframe tbody tr th {\n",
       "        vertical-align: top;\n",
       "    }\n",
       "\n",
       "    .dataframe thead th {\n",
       "        text-align: right;\n",
       "    }\n",
       "</style>\n",
       "<table border=\"1\" class=\"dataframe\">\n",
       "  <thead>\n",
       "    <tr style=\"text-align: right;\">\n",
       "      <th></th>\n",
       "      <th>00060_Mean</th>\n",
       "      <th>00060_Mean_cd</th>\n",
       "      <th>site_no</th>\n",
       "    </tr>\n",
       "    <tr>\n",
       "      <th>datetime</th>\n",
       "      <th></th>\n",
       "      <th></th>\n",
       "      <th></th>\n",
       "    </tr>\n",
       "  </thead>\n",
       "  <tbody>\n",
       "    <tr>\n",
       "      <th>2014-12-31 00:00:00+00:00</th>\n",
       "      <td>5.54</td>\n",
       "      <td>A</td>\n",
       "      <td>11114495</td>\n",
       "    </tr>\n",
       "    <tr>\n",
       "      <th>2015-01-01 00:00:00+00:00</th>\n",
       "      <td>5.49</td>\n",
       "      <td>A</td>\n",
       "      <td>11114495</td>\n",
       "    </tr>\n",
       "    <tr>\n",
       "      <th>2015-01-02 00:00:00+00:00</th>\n",
       "      <td>5.26</td>\n",
       "      <td>A</td>\n",
       "      <td>11114495</td>\n",
       "    </tr>\n",
       "    <tr>\n",
       "      <th>2015-01-03 00:00:00+00:00</th>\n",
       "      <td>5.04</td>\n",
       "      <td>A</td>\n",
       "      <td>11114495</td>\n",
       "    </tr>\n",
       "    <tr>\n",
       "      <th>2015-01-04 00:00:00+00:00</th>\n",
       "      <td>4.83</td>\n",
       "      <td>A</td>\n",
       "      <td>11114495</td>\n",
       "    </tr>\n",
       "    <tr>\n",
       "      <th>...</th>\n",
       "      <td>...</td>\n",
       "      <td>...</td>\n",
       "      <td>...</td>\n",
       "    </tr>\n",
       "    <tr>\n",
       "      <th>2019-12-28 00:00:00+00:00</th>\n",
       "      <td>23.20</td>\n",
       "      <td>A</td>\n",
       "      <td>11114495</td>\n",
       "    </tr>\n",
       "    <tr>\n",
       "      <th>2019-12-29 00:00:00+00:00</th>\n",
       "      <td>21.30</td>\n",
       "      <td>A</td>\n",
       "      <td>11114495</td>\n",
       "    </tr>\n",
       "    <tr>\n",
       "      <th>2019-12-30 00:00:00+00:00</th>\n",
       "      <td>19.90</td>\n",
       "      <td>A</td>\n",
       "      <td>11114495</td>\n",
       "    </tr>\n",
       "    <tr>\n",
       "      <th>2019-12-31 00:00:00+00:00</th>\n",
       "      <td>18.70</td>\n",
       "      <td>A</td>\n",
       "      <td>11114495</td>\n",
       "    </tr>\n",
       "    <tr>\n",
       "      <th>2020-01-01 00:00:00+00:00</th>\n",
       "      <td>17.50</td>\n",
       "      <td>A</td>\n",
       "      <td>11114495</td>\n",
       "    </tr>\n",
       "  </tbody>\n",
       "</table>\n",
       "<p>1828 rows × 3 columns</p>\n",
       "</div>"
      ],
      "text/plain": [
       "                           00060_Mean 00060_Mean_cd   site_no\n",
       "datetime                                                     \n",
       "2014-12-31 00:00:00+00:00        5.54             A  11114495\n",
       "2015-01-01 00:00:00+00:00        5.49             A  11114495\n",
       "2015-01-02 00:00:00+00:00        5.26             A  11114495\n",
       "2015-01-03 00:00:00+00:00        5.04             A  11114495\n",
       "2015-01-04 00:00:00+00:00        4.83             A  11114495\n",
       "...                               ...           ...       ...\n",
       "2019-12-28 00:00:00+00:00       23.20             A  11114495\n",
       "2019-12-29 00:00:00+00:00       21.30             A  11114495\n",
       "2019-12-30 00:00:00+00:00       19.90             A  11114495\n",
       "2019-12-31 00:00:00+00:00       18.70             A  11114495\n",
       "2020-01-01 00:00:00+00:00       17.50             A  11114495\n",
       "\n",
       "[1828 rows x 3 columns]"
      ]
     },
     "execution_count": 29,
     "metadata": {},
     "output_type": "execute_result"
    }
   ],
   "source": [
    "daily_discharge"
   ]
  },
  {
   "cell_type": "code",
   "execution_count": 30,
   "id": "a949388b",
   "metadata": {},
   "outputs": [
    {
     "data": {
      "text/html": [
       "<div>\n",
       "<style scoped>\n",
       "    .dataframe tbody tr th:only-of-type {\n",
       "        vertical-align: middle;\n",
       "    }\n",
       "\n",
       "    .dataframe tbody tr th {\n",
       "        vertical-align: top;\n",
       "    }\n",
       "\n",
       "    .dataframe thead th {\n",
       "        text-align: right;\n",
       "    }\n",
       "</style>\n",
       "<table border=\"1\" class=\"dataframe\">\n",
       "  <thead>\n",
       "    <tr style=\"text-align: right;\">\n",
       "      <th></th>\n",
       "      <th>00060</th>\n",
       "      <th>00060_cd</th>\n",
       "      <th>site_no</th>\n",
       "      <th>00065</th>\n",
       "      <th>00065_cd</th>\n",
       "    </tr>\n",
       "    <tr>\n",
       "      <th>datetime</th>\n",
       "      <th></th>\n",
       "      <th></th>\n",
       "      <th></th>\n",
       "      <th></th>\n",
       "      <th></th>\n",
       "    </tr>\n",
       "  </thead>\n",
       "  <tbody>\n",
       "    <tr>\n",
       "      <th>2014-12-31T00:00:00.000-08:00</th>\n",
       "      <td>5.61</td>\n",
       "      <td>A</td>\n",
       "      <td>11114495</td>\n",
       "      <td>3.09</td>\n",
       "      <td>A</td>\n",
       "    </tr>\n",
       "    <tr>\n",
       "      <th>2014-12-31T00:15:00.000-08:00</th>\n",
       "      <td>5.61</td>\n",
       "      <td>A</td>\n",
       "      <td>11114495</td>\n",
       "      <td>3.09</td>\n",
       "      <td>A</td>\n",
       "    </tr>\n",
       "    <tr>\n",
       "      <th>2014-12-31T00:30:00.000-08:00</th>\n",
       "      <td>5.61</td>\n",
       "      <td>A</td>\n",
       "      <td>11114495</td>\n",
       "      <td>3.09</td>\n",
       "      <td>A</td>\n",
       "    </tr>\n",
       "    <tr>\n",
       "      <th>2014-12-31T00:45:00.000-08:00</th>\n",
       "      <td>5.61</td>\n",
       "      <td>A</td>\n",
       "      <td>11114495</td>\n",
       "      <td>3.09</td>\n",
       "      <td>A</td>\n",
       "    </tr>\n",
       "    <tr>\n",
       "      <th>2014-12-31T01:00:00.000-08:00</th>\n",
       "      <td>5.61</td>\n",
       "      <td>A</td>\n",
       "      <td>11114495</td>\n",
       "      <td>3.09</td>\n",
       "      <td>A</td>\n",
       "    </tr>\n",
       "    <tr>\n",
       "      <th>...</th>\n",
       "      <td>...</td>\n",
       "      <td>...</td>\n",
       "      <td>...</td>\n",
       "      <td>...</td>\n",
       "      <td>...</td>\n",
       "    </tr>\n",
       "    <tr>\n",
       "      <th>2020-01-01T22:45:00.000-08:00</th>\n",
       "      <td>16.60</td>\n",
       "      <td>A</td>\n",
       "      <td>11114495</td>\n",
       "      <td>2.68</td>\n",
       "      <td>A</td>\n",
       "    </tr>\n",
       "    <tr>\n",
       "      <th>2020-01-01T23:00:00.000-08:00</th>\n",
       "      <td>17.10</td>\n",
       "      <td>A</td>\n",
       "      <td>11114495</td>\n",
       "      <td>2.69</td>\n",
       "      <td>A</td>\n",
       "    </tr>\n",
       "    <tr>\n",
       "      <th>2020-01-01T23:15:00.000-08:00</th>\n",
       "      <td>17.10</td>\n",
       "      <td>A</td>\n",
       "      <td>11114495</td>\n",
       "      <td>2.69</td>\n",
       "      <td>A</td>\n",
       "    </tr>\n",
       "    <tr>\n",
       "      <th>2020-01-01T23:30:00.000-08:00</th>\n",
       "      <td>17.10</td>\n",
       "      <td>A</td>\n",
       "      <td>11114495</td>\n",
       "      <td>2.69</td>\n",
       "      <td>A</td>\n",
       "    </tr>\n",
       "    <tr>\n",
       "      <th>2020-01-01T23:45:00.000-08:00</th>\n",
       "      <td>17.10</td>\n",
       "      <td>A</td>\n",
       "      <td>11114495</td>\n",
       "      <td>2.69</td>\n",
       "      <td>A</td>\n",
       "    </tr>\n",
       "  </tbody>\n",
       "</table>\n",
       "<p>168342 rows × 5 columns</p>\n",
       "</div>"
      ],
      "text/plain": [
       "                               00060 00060_cd   site_no  00065 00065_cd\n",
       "datetime                                                               \n",
       "2014-12-31T00:00:00.000-08:00   5.61        A  11114495   3.09        A\n",
       "2014-12-31T00:15:00.000-08:00   5.61        A  11114495   3.09        A\n",
       "2014-12-31T00:30:00.000-08:00   5.61        A  11114495   3.09        A\n",
       "2014-12-31T00:45:00.000-08:00   5.61        A  11114495   3.09        A\n",
       "2014-12-31T01:00:00.000-08:00   5.61        A  11114495   3.09        A\n",
       "...                              ...      ...       ...    ...      ...\n",
       "2020-01-01T22:45:00.000-08:00  16.60        A  11114495   2.68        A\n",
       "2020-01-01T23:00:00.000-08:00  17.10        A  11114495   2.69        A\n",
       "2020-01-01T23:15:00.000-08:00  17.10        A  11114495   2.69        A\n",
       "2020-01-01T23:30:00.000-08:00  17.10        A  11114495   2.69        A\n",
       "2020-01-01T23:45:00.000-08:00  17.10        A  11114495   2.69        A\n",
       "\n",
       "[168342 rows x 5 columns]"
      ]
     },
     "execution_count": 30,
     "metadata": {},
     "output_type": "execute_result"
    }
   ],
   "source": [
    "instantaneous_discharge"
   ]
  },
  {
   "cell_type": "code",
   "execution_count": 31,
   "id": "2568dc9f",
   "metadata": {},
   "outputs": [
    {
     "data": {
      "text/html": [
       "<div>\n",
       "<style scoped>\n",
       "    .dataframe tbody tr th:only-of-type {\n",
       "        vertical-align: middle;\n",
       "    }\n",
       "\n",
       "    .dataframe tbody tr th {\n",
       "        vertical-align: top;\n",
       "    }\n",
       "\n",
       "    .dataframe thead th {\n",
       "        text-align: right;\n",
       "    }\n",
       "</style>\n",
       "<table border=\"1\" class=\"dataframe\">\n",
       "  <thead>\n",
       "    <tr style=\"text-align: right;\">\n",
       "      <th></th>\n",
       "      <th>agency_cd</th>\n",
       "      <th>site_no</th>\n",
       "      <th>station_nm</th>\n",
       "      <th>site_tp_cd</th>\n",
       "      <th>lat_va</th>\n",
       "      <th>long_va</th>\n",
       "      <th>dec_lat_va</th>\n",
       "      <th>dec_long_va</th>\n",
       "      <th>coord_meth_cd</th>\n",
       "      <th>coord_acy_cd</th>\n",
       "      <th>...</th>\n",
       "      <th>local_time_fg</th>\n",
       "      <th>reliability_cd</th>\n",
       "      <th>gw_file_cd</th>\n",
       "      <th>nat_aqfr_cd</th>\n",
       "      <th>aqfr_cd</th>\n",
       "      <th>aqfr_type_cd</th>\n",
       "      <th>well_depth_va</th>\n",
       "      <th>hole_depth_va</th>\n",
       "      <th>depth_src_cd</th>\n",
       "      <th>project_no</th>\n",
       "    </tr>\n",
       "  </thead>\n",
       "  <tbody>\n",
       "    <tr>\n",
       "      <th>0</th>\n",
       "      <td>USGS</td>\n",
       "      <td>11114495</td>\n",
       "      <td>MATILIJA C NR RES NR MATILIJA HOT SPRINGS CA</td>\n",
       "      <td>ST</td>\n",
       "      <td>343010</td>\n",
       "      <td>1192123</td>\n",
       "      <td>34.502769</td>\n",
       "      <td>-119.357339</td>\n",
       "      <td>M</td>\n",
       "      <td>S</td>\n",
       "      <td>...</td>\n",
       "      <td>Y</td>\n",
       "      <td>NaN</td>\n",
       "      <td>NaN</td>\n",
       "      <td>NaN</td>\n",
       "      <td>NaN</td>\n",
       "      <td>NaN</td>\n",
       "      <td>NaN</td>\n",
       "      <td>NaN</td>\n",
       "      <td>NaN</td>\n",
       "      <td>470600111</td>\n",
       "    </tr>\n",
       "  </tbody>\n",
       "</table>\n",
       "<p>1 rows × 42 columns</p>\n",
       "</div>"
      ],
      "text/plain": [
       "  agency_cd   site_no                                    station_nm  \\\n",
       "0      USGS  11114495  MATILIJA C NR RES NR MATILIJA HOT SPRINGS CA   \n",
       "\n",
       "  site_tp_cd  lat_va  long_va  dec_lat_va  dec_long_va coord_meth_cd  \\\n",
       "0         ST  343010  1192123   34.502769  -119.357339             M   \n",
       "\n",
       "  coord_acy_cd  ... local_time_fg reliability_cd  gw_file_cd  nat_aqfr_cd  \\\n",
       "0            S  ...             Y            NaN         NaN          NaN   \n",
       "\n",
       "   aqfr_cd aqfr_type_cd well_depth_va hole_depth_va  depth_src_cd  project_no  \n",
       "0      NaN          NaN           NaN           NaN           NaN   470600111  \n",
       "\n",
       "[1 rows x 42 columns]"
      ]
     },
     "execution_count": 31,
     "metadata": {},
     "output_type": "execute_result"
    }
   ],
   "source": [
    "site_info"
   ]
  },
  {
   "cell_type": "markdown",
   "id": "b7e3496a",
   "metadata": {},
   "source": [
    "peak_discharge is the peak discharge value for a year"
   ]
  },
  {
   "cell_type": "code",
   "execution_count": 32,
   "id": "a3819214",
   "metadata": {},
   "outputs": [
    {
     "data": {
      "text/html": [
       "<div>\n",
       "<style scoped>\n",
       "    .dataframe tbody tr th:only-of-type {\n",
       "        vertical-align: middle;\n",
       "    }\n",
       "\n",
       "    .dataframe tbody tr th {\n",
       "        vertical-align: top;\n",
       "    }\n",
       "\n",
       "    .dataframe thead th {\n",
       "        text-align: right;\n",
       "    }\n",
       "</style>\n",
       "<table border=\"1\" class=\"dataframe\">\n",
       "  <thead>\n",
       "    <tr style=\"text-align: right;\">\n",
       "      <th></th>\n",
       "      <th>agency_cd</th>\n",
       "      <th>site_no</th>\n",
       "      <th>peak_tm</th>\n",
       "      <th>peak_va</th>\n",
       "      <th>peak_cd</th>\n",
       "      <th>gage_ht</th>\n",
       "      <th>gage_ht_cd</th>\n",
       "      <th>year_last_pk</th>\n",
       "      <th>ag_dt</th>\n",
       "      <th>ag_tm</th>\n",
       "      <th>ag_gage_ht</th>\n",
       "      <th>ag_gage_ht_cd</th>\n",
       "    </tr>\n",
       "    <tr>\n",
       "      <th>datetime</th>\n",
       "      <th></th>\n",
       "      <th></th>\n",
       "      <th></th>\n",
       "      <th></th>\n",
       "      <th></th>\n",
       "      <th></th>\n",
       "      <th></th>\n",
       "      <th></th>\n",
       "      <th></th>\n",
       "      <th></th>\n",
       "      <th></th>\n",
       "      <th></th>\n",
       "    </tr>\n",
       "  </thead>\n",
       "  <tbody>\n",
       "    <tr>\n",
       "      <th>2016-01-31 00:00:00+00:00</th>\n",
       "      <td>USGS</td>\n",
       "      <td>11114495</td>\n",
       "      <td>NaN</td>\n",
       "      <td>3.5</td>\n",
       "      <td>NaN</td>\n",
       "      <td>3.17</td>\n",
       "      <td>NaN</td>\n",
       "      <td>NaN</td>\n",
       "      <td>NaN</td>\n",
       "      <td>NaN</td>\n",
       "      <td>NaN</td>\n",
       "      <td>NaN</td>\n",
       "    </tr>\n",
       "    <tr>\n",
       "      <th>2017-02-17 00:00:00+00:00</th>\n",
       "      <td>USGS</td>\n",
       "      <td>11114495</td>\n",
       "      <td>NaN</td>\n",
       "      <td>7590.0</td>\n",
       "      <td>NaN</td>\n",
       "      <td>11.05</td>\n",
       "      <td>NaN</td>\n",
       "      <td>NaN</td>\n",
       "      <td>NaN</td>\n",
       "      <td>NaN</td>\n",
       "      <td>NaN</td>\n",
       "      <td>NaN</td>\n",
       "    </tr>\n",
       "    <tr>\n",
       "      <th>2018-01-09 00:00:00+00:00</th>\n",
       "      <td>USGS</td>\n",
       "      <td>11114495</td>\n",
       "      <td>16:00</td>\n",
       "      <td>NaN</td>\n",
       "      <td>NaN</td>\n",
       "      <td>17.31</td>\n",
       "      <td>7.0</td>\n",
       "      <td>NaN</td>\n",
       "      <td>NaN</td>\n",
       "      <td>NaN</td>\n",
       "      <td>NaN</td>\n",
       "      <td>NaN</td>\n",
       "    </tr>\n",
       "    <tr>\n",
       "      <th>2019-02-02 00:00:00+00:00</th>\n",
       "      <td>USGS</td>\n",
       "      <td>11114495</td>\n",
       "      <td>10:15</td>\n",
       "      <td>6600.0</td>\n",
       "      <td>2.0</td>\n",
       "      <td>11.64</td>\n",
       "      <td>NaN</td>\n",
       "      <td>NaN</td>\n",
       "      <td>NaN</td>\n",
       "      <td>NaN</td>\n",
       "      <td>NaN</td>\n",
       "      <td>NaN</td>\n",
       "    </tr>\n",
       "  </tbody>\n",
       "</table>\n",
       "</div>"
      ],
      "text/plain": [
       "                          agency_cd   site_no peak_tm  peak_va  peak_cd  \\\n",
       "datetime                                                                  \n",
       "2016-01-31 00:00:00+00:00      USGS  11114495     NaN      3.5      NaN   \n",
       "2017-02-17 00:00:00+00:00      USGS  11114495     NaN   7590.0      NaN   \n",
       "2018-01-09 00:00:00+00:00      USGS  11114495   16:00      NaN      NaN   \n",
       "2019-02-02 00:00:00+00:00      USGS  11114495   10:15   6600.0      2.0   \n",
       "\n",
       "                           gage_ht  gage_ht_cd  year_last_pk  ag_dt  ag_tm  \\\n",
       "datetime                                                                     \n",
       "2016-01-31 00:00:00+00:00     3.17         NaN           NaN    NaN    NaN   \n",
       "2017-02-17 00:00:00+00:00    11.05         NaN           NaN    NaN    NaN   \n",
       "2018-01-09 00:00:00+00:00    17.31         7.0           NaN    NaN    NaN   \n",
       "2019-02-02 00:00:00+00:00    11.64         NaN           NaN    NaN    NaN   \n",
       "\n",
       "                           ag_gage_ht  ag_gage_ht_cd  \n",
       "datetime                                              \n",
       "2016-01-31 00:00:00+00:00         NaN            NaN  \n",
       "2017-02-17 00:00:00+00:00         NaN            NaN  \n",
       "2018-01-09 00:00:00+00:00         NaN            NaN  \n",
       "2019-02-02 00:00:00+00:00         NaN            NaN  "
      ]
     },
     "execution_count": 32,
     "metadata": {},
     "output_type": "execute_result"
    }
   ],
   "source": [
    "peak_discharge"
   ]
  },
  {
   "cell_type": "markdown",
   "id": "83947cb5",
   "metadata": {},
   "source": [
    "Plotring daily discharge vs flow amount (values>500 cfs)"
   ]
  },
  {
   "cell_type": "code",
   "execution_count": 36,
   "id": "805d24d0",
   "metadata": {},
   "outputs": [
    {
     "name": "stdout",
     "output_type": "stream",
     "text": [
      "                           00060_Mean 00060_Mean_cd   site_no\n",
      "datetime                                                     \n",
      "2017-01-22 00:00:00+00:00       322.0             A  11114495\n",
      "2017-01-23 00:00:00+00:00       236.0             A  11114495\n",
      "2017-02-06 00:00:00+00:00       120.0             A  11114495\n",
      "2017-02-17 00:00:00+00:00      2180.0             A  11114495\n",
      "2017-02-18 00:00:00+00:00      1490.0             A  11114495\n",
      "2017-02-19 00:00:00+00:00       393.0             A  11114495\n",
      "2017-02-20 00:00:00+00:00       279.0             A  11114495\n",
      "2017-02-21 00:00:00+00:00       216.0             A  11114495\n",
      "2017-02-22 00:00:00+00:00       175.0             A  11114495\n",
      "2017-02-23 00:00:00+00:00       143.0             A  11114495\n",
      "2017-02-24 00:00:00+00:00       120.0             A  11114495\n",
      "2017-02-25 00:00:00+00:00       104.0             A  11114495\n",
      "2018-01-09 00:00:00+00:00      1800.0          A, e  11114495\n",
      "2018-03-21 00:00:00+00:00       105.0          A, e  11114495\n",
      "2018-03-22 00:00:00+00:00       340.0             A  11114495\n",
      "2018-03-23 00:00:00+00:00       142.0             A  11114495\n",
      "2019-01-15 00:00:00+00:00       145.0             A  11114495\n",
      "2019-01-17 00:00:00+00:00       984.0          A, e  11114495\n",
      "2019-01-18 00:00:00+00:00       108.0          A, e  11114495\n",
      "2019-02-02 00:00:00+00:00      1010.0          A, e  11114495\n",
      "2019-02-03 00:00:00+00:00       497.0          A, e  11114495\n",
      "2019-02-04 00:00:00+00:00       619.0          A, e  11114495\n",
      "2019-02-05 00:00:00+00:00       313.0          A, e  11114495\n",
      "2019-02-06 00:00:00+00:00       248.0          A, e  11114495\n",
      "2019-02-07 00:00:00+00:00       197.0          A, e  11114495\n",
      "2019-02-08 00:00:00+00:00       160.0          A, e  11114495\n",
      "2019-02-09 00:00:00+00:00       137.0          A, e  11114495\n",
      "2019-02-10 00:00:00+00:00       122.0          A, e  11114495\n",
      "2019-02-11 00:00:00+00:00       115.0          A, e  11114495\n",
      "2019-02-12 00:00:00+00:00       107.0             A  11114495\n",
      "2019-02-13 00:00:00+00:00       111.0             A  11114495\n",
      "2019-02-14 00:00:00+00:00       615.0             A  11114495\n",
      "2019-02-15 00:00:00+00:00       298.0             A  11114495\n",
      "2019-02-16 00:00:00+00:00       245.0          A, e  11114495\n",
      "2019-02-17 00:00:00+00:00       206.0             A  11114495\n",
      "2019-02-18 00:00:00+00:00       175.0             A  11114495\n",
      "2019-02-19 00:00:00+00:00       154.0             A  11114495\n",
      "2019-02-20 00:00:00+00:00       137.0             A  11114495\n",
      "2019-02-21 00:00:00+00:00       120.0             A  11114495\n",
      "2019-02-22 00:00:00+00:00       109.0             A  11114495\n",
      "2019-02-23 00:00:00+00:00       101.0             A  11114495\n",
      "2019-03-02 00:00:00+00:00       181.0             A  11114495\n",
      "2019-03-03 00:00:00+00:00       144.0             A  11114495\n",
      "2019-03-04 00:00:00+00:00       122.0             A  11114495\n",
      "2019-03-05 00:00:00+00:00       115.0             A  11114495\n",
      "2019-03-06 00:00:00+00:00       362.0             A  11114495\n",
      "2019-03-07 00:00:00+00:00       268.0             A  11114495\n",
      "2019-03-08 00:00:00+00:00       232.0             A  11114495\n",
      "2019-03-09 00:00:00+00:00       206.0             A  11114495\n",
      "2019-03-10 00:00:00+00:00       189.0             A  11114495\n",
      "2019-03-11 00:00:00+00:00       174.0             A  11114495\n",
      "2019-03-12 00:00:00+00:00       160.0             A  11114495\n",
      "2019-03-13 00:00:00+00:00       144.0             A  11114495\n",
      "2019-03-14 00:00:00+00:00       132.0             A  11114495\n",
      "2019-03-15 00:00:00+00:00       124.0             A  11114495\n",
      "2019-03-16 00:00:00+00:00       118.0             A  11114495\n",
      "2019-03-17 00:00:00+00:00       113.0             A  11114495\n",
      "2019-03-18 00:00:00+00:00       108.0             A  11114495\n",
      "2019-03-19 00:00:00+00:00       105.0             A  11114495\n",
      "2019-03-20 00:00:00+00:00       105.0             A  11114495\n"
     ]
    },
    {
     "data": {
      "image/png": "[encoded data removed]",
      "text/plain": [
       "<Figure size 432x288 with 1 Axes>"
      ]
     },
     "metadata": {
      "needs_background": "light"
     },
     "output_type": "display_data"
    }
   ],
   "source": [
    "\n",
    "threshold_met = daily_discharge.loc[daily_discharge['00060_Mean'] >= 100]\n",
    "print(threshold_met)\n",
    "\n",
    "\n",
    "fig, ax = plt.subplots()\n",
    "ax.scatter(x= threshold_met.index, y=threshold_met['00060_Mean'])\n",
    "ax.set_title(\"Daily Mean Discharge Values Above 100 cfs\")\n",
    "ax.set_xlabel(\"Date\")\n",
    "ax.set_ylabel(\"Discharge\")\n",
    "plt.xticks(rotation = 45)\n",
    "plt.show()\n",
    "\n",
    "        "
   ]
  },
  {
   "cell_type": "markdown",
   "id": "b9ed8247",
   "metadata": {},
   "source": [
    "Dates of flow above 100 cfs:"
   ]
  },
  {
   "cell_type": "code",
   "execution_count": 34,
   "id": "eb69e014",
   "metadata": {},
   "outputs": [
    {
     "name": "stdout",
     "output_type": "stream",
     "text": [
      "['2017-01-22', '2017-01-23', '2017-02-06', '2017-02-17', '2017-02-18', '2017-02-19', '2017-02-20', '2017-02-21', '2017-02-22', '2017-02-23', '2017-02-24', '2017-02-25', '2018-01-09', '2018-03-21', '2018-03-22', '2018-03-23', '2019-01-15', '2019-01-17', '2019-01-18', '2019-02-02', '2019-02-03', '2019-02-04', '2019-02-05', '2019-02-06', '2019-02-07', '2019-02-08', '2019-02-09', '2019-02-10', '2019-02-11', '2019-02-12', '2019-02-13', '2019-02-14', '2019-02-15', '2019-02-16', '2019-02-17', '2019-02-18', '2019-02-19', '2019-02-20', '2019-02-21', '2019-02-22', '2019-02-23', '2019-03-02', '2019-03-03', '2019-03-04', '2019-03-05', '2019-03-06', '2019-03-07', '2019-03-08', '2019-03-09', '2019-03-10', '2019-03-11', '2019-03-12', '2019-03-13', '2019-03-14', '2019-03-15', '2019-03-16', '2019-03-17', '2019-03-18', '2019-03-19', '2019-03-20']\n"
     ]
    }
   ],
   "source": [
    "dates = [ time.strftime(\"%Y-%m-%d\") for time in threshold_met.index.tolist()]\n",
    "print(dates)"
   ]
  }
 ],
 "metadata": {
  "kernelspec": {
   "display_name": "Python 3 (ipykernel)",
   "language": "python",
   "name": "python3"
  },
  "language_info": {
   "codemirror_mode": {
    "name": "ipython",
    "version": 3
   },
   "file_extension": ".py",
   "mimetype": "text/x-python",
   "name": "python",
   "nbconvert_exporter": "python",
   "pygments_lexer": "ipython3",
   "version": "3.9.7"
  }
 },
 "nbformat": 4,
 "nbformat_minor": 5
}
