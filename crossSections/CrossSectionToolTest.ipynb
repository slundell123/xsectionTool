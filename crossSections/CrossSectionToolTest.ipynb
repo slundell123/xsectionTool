{
 "cells": [
  {
   "cell_type": "code",
   "execution_count": 1,
   "id": "64cbe7e5",
   "metadata": {},
   "outputs": [],
   "source": [
    "import nldi_xstool"
   ]
  },
  {
   "cell_type": "code",
   "execution_count": 58,
   "id": "e8dd1f40",
   "metadata": {},
   "outputs": [],
   "source": [
    "\n",
    "\n",
    "%matplotlib inline\n",
    "from nldi_xstool.XSGen import XSGen\n",
    "from nldi_xstool.ancillary import query_dems_bbox\n",
    "import py3dep\n",
    "from pynhd import NLDI, NHDPlusHR, WaterData\n",
    "import xarray as xr\n",
    "from matplotlib import pyplot as plt\n",
    "import numpy as np\n",
    "import pandas as pd\n",
    "import dataretrieval.nwis as nwis\n",
    "#try:\n",
    "#    from nldi_xstool.__openChannel import flowEst\n",
    "#except ImportError:\n",
    "#    from .__openChannel import flowEst\n",
    "\n"
   ]
  },
  {
   "cell_type": "code",
   "execution_count": 59,
   "id": "c2e53d1f",
   "metadata": {},
   "outputs": [],
   "source": [
    "# https://waterdata.usgs.gov/nwis/inventory?agency_code=USGS&site_no=11114495\n",
    "\n",
    "gagebasin = NLDI().get_basins(\"11114495\").to_crs('epsg:3857')"
   ]
  },
  {
   "cell_type": "code",
   "execution_count": 60,
   "id": "85acf605",
   "metadata": {},
   "outputs": [],
   "source": [
    "gageloc = NLDI().getfeature_byid(\"nwissite\", \"USGS-11114495\").to_crs('epsg:3857')\n"
   ]
  },
  {
   "cell_type": "code",
   "execution_count": 61,
   "id": "ab6bfe65",
   "metadata": {},
   "outputs": [
    {
     "data": {
      "text/plain": [
       "<AxesSubplot:>"
      ]
     },
     "execution_count": 61,
     "metadata": {},
     "output_type": "execute_result"
    },
    {
     "data": {
      "image/png": "[encoded data removed]",
      "text/plain": [
       "<Figure size 432x288 with 1 Axes>"
      ]
     },
     "metadata": {
      "needs_background": "light"
     },
     "output_type": "display_data"
    }
   ],
   "source": [
    "ax = plt.subplot(111)\n",
    "gagebasin.plot(ax=ax)\n",
    "gageloc.plot(ax=ax, color='black')"
   ]
  },
  {
   "cell_type": "code",
   "execution_count": 62,
   "id": "68f2489f",
   "metadata": {},
   "outputs": [
    {
     "name": "stdout",
     "output_type": "stream",
     "text": [
      "['948070372'] 948070372 948070372\n"
     ]
    }
   ],
   "source": [
    "gagebasin = NLDI().get_basins(\"11114495\").to_crs('epsg:3857')\n",
    "gageloc = NLDI().getfeature_byid(\"nwissite\", \"USGS-11114495\").to_crs('epsg:3857')\n",
    "cid = gageloc.comid.values.astype(str)\n",
    "print(cid,gageloc.comid.values.astype(int)[0], cid[0]) \n",
    "# strmseg_basin = NLDI().getfeature_byid(\"comid\", cid[0], basin=True).to_crs('epsg:3857')\n",
    "strmseg_loc = NLDI().getfeature_byid(\"comid\", cid[0]).to_crs('epsg:3857')"
   ]
  },
  {
   "cell_type": "code",
   "execution_count": 63,
   "id": "44cb09b9",
   "metadata": {},
   "outputs": [
    {
     "data": {
      "text/html": [
       "<div>\n",
       "<style scoped>\n",
       "    .dataframe tbody tr th:only-of-type {\n",
       "        vertical-align: middle;\n",
       "    }\n",
       "\n",
       "    .dataframe tbody tr th {\n",
       "        vertical-align: top;\n",
       "    }\n",
       "\n",
       "    .dataframe thead th {\n",
       "        text-align: right;\n",
       "    }\n",
       "</style>\n",
       "<table border=\"1\" class=\"dataframe\">\n",
       "  <thead>\n",
       "    <tr style=\"text-align: right;\">\n",
       "      <th></th>\n",
       "      <th></th>\n",
       "      <th>geometry</th>\n",
       "      <th>type</th>\n",
       "      <th>source</th>\n",
       "      <th>sourceName</th>\n",
       "      <th>identifier</th>\n",
       "      <th>name</th>\n",
       "      <th>uri</th>\n",
       "      <th>comid</th>\n",
       "      <th>reachcode</th>\n",
       "      <th>measure</th>\n",
       "      <th>navigation</th>\n",
       "    </tr>\n",
       "  </thead>\n",
       "  <tbody>\n",
       "    <tr>\n",
       "      <th>USGS-11118500</th>\n",
       "      <th>0</th>\n",
       "      <td>POINT (-13281355.523 4076195.242)</td>\n",
       "      <td>hydrolocation</td>\n",
       "      <td>nwissite</td>\n",
       "      <td>NWIS Surface Water Sites</td>\n",
       "      <td>USGS-11118500</td>\n",
       "      <td>VENTURA R NR VENTURA</td>\n",
       "      <td>https://waterdata.usgs.gov/monitoring-location...</td>\n",
       "      <td>948070372</td>\n",
       "      <td>18070101000021</td>\n",
       "      <td>87.5400930347</td>\n",
       "      <td>https://labs.waterdata.usgs.gov/api/nldi/linke...</td>\n",
       "    </tr>\n",
       "  </tbody>\n",
       "</table>\n",
       "</div>"
      ],
      "text/plain": [
       "                                          geometry           type    source  \\\n",
       "USGS-11118500 0  POINT (-13281355.523 4076195.242)  hydrolocation  nwissite   \n",
       "\n",
       "                               sourceName     identifier  \\\n",
       "USGS-11118500 0  NWIS Surface Water Sites  USGS-11118500   \n",
       "\n",
       "                                 name  \\\n",
       "USGS-11118500 0  VENTURA R NR VENTURA   \n",
       "\n",
       "                                                               uri      comid  \\\n",
       "USGS-11118500 0  https://waterdata.usgs.gov/monitoring-location...  948070372   \n",
       "\n",
       "                      reachcode        measure  \\\n",
       "USGS-11118500 0  18070101000021  87.5400930347   \n",
       "\n",
       "                                                        navigation  \n",
       "USGS-11118500 0  https://labs.waterdata.usgs.gov/api/nldi/linke...  "
      ]
     },
     "execution_count": 63,
     "metadata": {},
     "output_type": "execute_result"
    }
   ],
   "source": [
    "\n",
    "gageloc\n"
   ]
  },
  {
   "cell_type": "code",
   "execution_count": 64,
   "id": "b491046e",
   "metadata": {},
   "outputs": [
    {
     "data": {
      "text/html": [
       "<div>\n",
       "<style scoped>\n",
       "    .dataframe tbody tr th:only-of-type {\n",
       "        vertical-align: middle;\n",
       "    }\n",
       "\n",
       "    .dataframe tbody tr th {\n",
       "        vertical-align: top;\n",
       "    }\n",
       "\n",
       "    .dataframe thead th {\n",
       "        text-align: right;\n",
       "    }\n",
       "</style>\n",
       "<table border=\"1\" class=\"dataframe\">\n",
       "  <thead>\n",
       "    <tr style=\"text-align: right;\">\n",
       "      <th></th>\n",
       "      <th></th>\n",
       "      <th>geometry</th>\n",
       "      <th>type</th>\n",
       "      <th>source</th>\n",
       "      <th>sourceName</th>\n",
       "      <th>identifier</th>\n",
       "      <th>name</th>\n",
       "      <th>uri</th>\n",
       "      <th>comid</th>\n",
       "      <th>navigation</th>\n",
       "    </tr>\n",
       "  </thead>\n",
       "  <tbody>\n",
       "    <tr>\n",
       "      <th>948070372</th>\n",
       "      <th>0</th>\n",
       "      <td>LINESTRING (-13281552.826 4076513.599, -132814...</td>\n",
       "      <td></td>\n",
       "      <td>comid</td>\n",
       "      <td>NHDPlus comid</td>\n",
       "      <td>948070372</td>\n",
       "      <td></td>\n",
       "      <td></td>\n",
       "      <td>948070372</td>\n",
       "      <td>https://labs.waterdata.usgs.gov/api/nldi/linke...</td>\n",
       "    </tr>\n",
       "  </tbody>\n",
       "</table>\n",
       "</div>"
      ],
      "text/plain": [
       "                                                      geometry type source  \\\n",
       "948070372 0  LINESTRING (-13281552.826 4076513.599, -132814...       comid   \n",
       "\n",
       "                sourceName identifier name uri      comid  \\\n",
       "948070372 0  NHDPlus comid  948070372           948070372   \n",
       "\n",
       "                                                    navigation  \n",
       "948070372 0  https://labs.waterdata.usgs.gov/api/nldi/linke...  "
      ]
     },
     "execution_count": 64,
     "metadata": {},
     "output_type": "execute_result"
    }
   ],
   "source": [
    "strmseg_loc"
   ]
  },
  {
   "cell_type": "code",
   "execution_count": 65,
   "id": "db75e928",
   "metadata": {},
   "outputs": [
    {
     "data": {
      "text/plain": [
       "11"
      ]
     },
     "execution_count": 65,
     "metadata": {},
     "output_type": "execute_result"
    }
   ],
   "source": [
    "\n",
    "\n",
    "len(strmseg_loc.geometry[0].coords)\n",
    "\n"
   ]
  },
  {
   "cell_type": "code",
   "execution_count": 66,
   "id": "ba774975",
   "metadata": {},
   "outputs": [
    {
     "name": "stdout",
     "output_type": "stream",
     "text": [
      "11\n"
     ]
    },
    {
     "data": {
      "image/png": "[encoded data removed]",
      "text/plain": [
       "<Figure size 432x288 with 1 Axes>"
      ]
     },
     "metadata": {
      "needs_background": "light"
     },
     "output_type": "display_data"
    }
   ],
   "source": [
    "\n",
    "\n",
    "\n",
    "# print(geomfeat.head(), geom2afeat.head())\n",
    "xs = XSGen(point=gageloc, cl_geom=strmseg_loc, ny=101, width=1000, tension=0.5)\n",
    "xs_line = xs.get_xs()\n",
    "ax = plt.subplot(111)\n",
    "gageloc.plot(ax=ax)\n",
    "strmseg_loc.plot(ax=ax)\n",
    "xs_line.plot(ax=ax)\n",
    "xs.get_strm_seg_spline().plot(ax=ax, colors='r')\n",
    "xs_line.envelope.plot(ax=ax, facecolor=\"none\", edgecolor='black')\n",
    "plt.show()\n",
    "\n"
   ]
  },
  {
   "cell_type": "code",
   "execution_count": 67,
   "id": "b8a57226",
   "metadata": {},
   "outputs": [
    {
     "name": "stdout",
     "output_type": "stream",
     "text": [
      "<class 'pandas.core.frame.DataFrame'>\n",
      "           minx          miny          maxx          maxy\n",
      "0 -1.328167e+07  4.075844e+06 -1.328100e+07  4.076585e+06\n",
      "                                                      geometry type source  \\\n",
      "948070372 0  LINESTRING (-119.31022 34.35458, -119.30912 34...       comid   \n",
      "\n",
      "                sourceName identifier name uri      comid  \\\n",
      "948070372 0  NHDPlus comid  948070372           948070372   \n",
      "\n",
      "                                                    navigation  \n",
      "948070372 0  https://labs.waterdata.usgs.gov/api/nldi/linke...  \n"
     ]
    }
   ],
   "source": [
    "\n",
    "\n",
    "print(type(xs_line.envelope.bounds))\n",
    "print(xs_line.envelope.bounds)\n",
    "print(strmseg_loc.to_crs('epsg:4326'))\n",
    "\n"
   ]
  },
  {
   "cell_type": "code",
   "execution_count": 68,
   "id": "ff8c2159",
   "metadata": {},
   "outputs": [
    {
     "name": "stdout",
     "output_type": "stream",
     "text": [
      "            name                                           geometry\n",
      "0  cross-section  LINESTRING (-119.31131 34.34961, -119.31125 34...\n",
      "(-119.31131466589494, 34.349612807102275, -119.30528785551348, 34.35511236648751)\n",
      "{'res_1m': True, 'res_3m': False, 'res_5m': False, 'res_10m': True, 'res_30m': True, 'res_60m': False}\n"
     ]
    }
   ],
   "source": [
    "\n",
    "\n",
    "xs_line_geom = xs_line.to_crs('epsg:4326')\n",
    "print(xs_line_geom)\n",
    "bbox = xs_line_geom.geometry[0].envelope.bounds\n",
    "print(bbox)\n",
    "query = query_dems_bbox(bbox)\n",
    "print(query)\n",
    "\n"
   ]
  },
  {
   "cell_type": "code",
   "execution_count": 69,
   "id": "9b7fdf21",
   "metadata": {},
   "outputs": [],
   "source": [
    "\n",
    "\n",
    "bbox = xs_line.geometry[0].bounds\n",
    "\n"
   ]
  },
  {
   "cell_type": "code",
   "execution_count": 70,
   "id": "4698cc3e",
   "metadata": {},
   "outputs": [
    {
     "name": "stdout",
     "output_type": "stream",
     "text": [
      "670.9014627709985 741.5465105129406\n"
     ]
    }
   ],
   "source": [
    "\n",
    "\n",
    "width = abs(bbox[0]-bbox[2])\n",
    "height = abs(bbox[1]-bbox[3])\n",
    "print(width, height)\n",
    "\n"
   ]
  },
  {
   "cell_type": "code",
   "execution_count": 71,
   "id": "f1b7aa3e",
   "metadata": {},
   "outputs": [
    {
     "data": {
      "text/plain": [
       "(-13281774.678342119,\n",
       " 4075743.765710426,\n",
       " -13280904.009162027,\n",
       " 4076685.0799382576)"
      ]
     },
     "execution_count": 71,
     "metadata": {},
     "output_type": "execute_result"
    }
   ],
   "source": [
    "\n",
    "\n",
    "bb = xs_line.buffer(100)\n",
    "bb.geometry[0].bounds\n",
    "\n"
   ]
  },
  {
   "cell_type": "code",
   "execution_count": 72,
   "id": "23dae33c",
   "metadata": {},
   "outputs": [
    {
     "data": {
      "text/plain": [
       "(-13281774.794483459,\n",
       " 4075743.6495690853,\n",
       " -13280903.893020688,\n",
       " 4076685.1960795983)"
      ]
     },
     "execution_count": 72,
     "metadata": {},
     "output_type": "execute_result"
    }
   ],
   "source": [
    "\n",
    "\n",
    "bb1 = (xs_line.total_bounds) - ((100., 100., -100., -100.))\n",
    "tuple(bb1)\n",
    "\n"
   ]
  },
  {
   "cell_type": "code",
   "execution_count": 73,
   "id": "009aebef",
   "metadata": {},
   "outputs": [
    {
     "name": "stdout",
     "output_type": "stream",
     "text": [
      "            name                                           geometry\n",
      "0  cross-section  LINESTRING (-13281674.794 4075843.650, -132816...\n"
     ]
    },
    {
     "data": {
      "text/plain": [
       "(-13281774.794483457,\n",
       " -13280232.886198869,\n",
       " 4075035.039098223,\n",
       " 4076685.1960795983)"
      ]
     },
     "execution_count": 73,
     "metadata": {},
     "output_type": "execute_result"
    },
    {
     "data": {
      "image/png": "[encoded data removed]",
      "text/plain": [
       "<Figure size 432x288 with 2 Axes>"
      ]
     },
     "metadata": {
      "needs_background": "light"
     },
     "output_type": "display_data"
    }
   ],
   "source": [
    "\n",
    "\n",
    "#Buffer bounding box of cross-section otherwise interpolation with elevation below returns nans near end points\n",
    "xs_line_geom = xs_line.to_crs('epsg:3857')\n",
    "print(xs_line_geom)\n",
    "t1 = (xs_line_geom.total_bounds) + ((-100.,-100.,100., 100.))\n",
    "dem = py3dep.get_map(\"DEM\", tuple(t1), resolution=10, geo_crs=\"EPSG:3857\", crs=\"epsg:3857\")\n",
    "\n",
    "ax = plt.subplot(111)\n",
    "strmseg_loc.plot(ax=ax)\n",
    "xs_line_geom.plot(ax=ax, colors='black')\n",
    "xs.get_strm_seg_spline().plot(ax=ax, colors='r')\n",
    "xs_line.envelope.plot(ax=ax, facecolor=\"none\", edgecolor='black')\n",
    "dem.plot(ax=ax)\n",
    "gageloc.plot(ax=ax)\n",
    "ax.axis('equal')\n",
    "# plt.tight_layout()\n",
    "\n"
   ]
  },
  {
   "cell_type": "code",
   "execution_count": 74,
   "id": "346012e2",
   "metadata": {},
   "outputs": [
    {
     "name": "stdout",
     "output_type": "stream",
     "text": [
      "<class 'xarray.core.dataarray.DataArray'>\n"
     ]
    },
    {
     "name": "stderr",
     "output_type": "stream",
     "text": [
      "/home/sarah/anaconda3/envs/py39/lib/python3.9/site-packages/xarray/core/missing.py:566: FutureWarning: Passing method to Float64Index.get_loc is deprecated and will raise in a future version. Use index.get_indexer([item], method=...) instead.\n",
      "  imin = index.get_loc(minval, method=\"nearest\")\n",
      "/home/sarah/anaconda3/envs/py39/lib/python3.9/site-packages/xarray/core/missing.py:567: FutureWarning: Passing method to Float64Index.get_loc is deprecated and will raise in a future version. Use index.get_indexer([item], method=...) instead.\n",
      "  imax = index.get_loc(maxval, method=\"nearest\")\n",
      "/home/sarah/anaconda3/envs/py39/lib/python3.9/site-packages/xarray/core/missing.py:566: FutureWarning: Passing method to Float64Index.get_loc is deprecated and will raise in a future version. Use index.get_indexer([item], method=...) instead.\n",
      "  imin = index.get_loc(minval, method=\"nearest\")\n",
      "/home/sarah/anaconda3/envs/py39/lib/python3.9/site-packages/xarray/core/missing.py:567: FutureWarning: Passing method to Float64Index.get_loc is deprecated and will raise in a future version. Use index.get_indexer([item], method=...) instead.\n",
      "  imax = index.get_loc(maxval, method=\"nearest\")\n",
      "/home/sarah/anaconda3/envs/py39/lib/python3.9/site-packages/xarray/core/missing.py:566: FutureWarning: Passing method to Float64Index.get_loc is deprecated and will raise in a future version. Use index.get_indexer([item], method=...) instead.\n",
      "  imin = index.get_loc(minval, method=\"nearest\")\n",
      "/home/sarah/anaconda3/envs/py39/lib/python3.9/site-packages/xarray/core/missing.py:567: FutureWarning: Passing method to Float64Index.get_loc is deprecated and will raise in a future version. Use index.get_indexer([item], method=...) instead.\n",
      "  imax = index.get_loc(maxval, method=\"nearest\")\n",
      "/home/sarah/anaconda3/envs/py39/lib/python3.9/site-packages/xarray/core/missing.py:566: FutureWarning: Passing method to Float64Index.get_loc is deprecated and will raise in a future version. Use index.get_indexer([item], method=...) instead.\n",
      "  imin = index.get_loc(minval, method=\"nearest\")\n",
      "/home/sarah/anaconda3/envs/py39/lib/python3.9/site-packages/xarray/core/missing.py:567: FutureWarning: Passing method to Float64Index.get_loc is deprecated and will raise in a future version. Use index.get_indexer([item], method=...) instead.\n",
      "  imax = index.get_loc(maxval, method=\"nearest\")\n"
     ]
    },
    {
     "data": {
      "image/png": "[encoded data removed]",
      "text/plain": [
       "<Figure size 432x288 with 1 Axes>"
      ]
     },
     "metadata": {
      "needs_background": "light"
     },
     "output_type": "display_data"
    }
   ],
   "source": [
    "\n",
    "\n",
    "x,y = xs.get_xs_points()\n",
    "dsx = xr.DataArray(x, dims='z')\n",
    "dsy = xr.DataArray(y, dims='z')\n",
    "dsi = dem.interp(x=('z',x), y=('z',y))\n",
    "dsi.plot()\n",
    "print(type(dsi))\n",
    "\n"
   ]
  },
  {
   "cell_type": "code",
   "execution_count": 75,
   "id": "b0a95399",
   "metadata": {},
   "outputs": [
    {
     "name": "stdout",
     "output_type": "stream",
     "text": [
      "[   0.   10.   20.   30.   40.   50.   60.   70.   80.   90.  100.  110.\n",
      "  120.  130.  140.  150.  160.  170.  180.  190.  200.  210.  220.  230.\n",
      "  240.  250.  260.  270.  280.  290.  300.  310.  320.  330.  340.  350.\n",
      "  360.  370.  380.  390.  400.  410.  420.  430.  440.  450.  460.  470.\n",
      "  480.  490.  500.  510.  520.  530.  540.  550.  560.  570.  580.  590.\n",
      "  600.  610.  620.  630.  640.  650.  660.  670.  680.  690.  700.  710.\n",
      "  720.  730.  740.  750.  760.  770.  780.  790.  800.  810.  820.  830.\n",
      "  840.  850.  860.  870.  880.  890.  900.  910.  920.  930.  940.  950.\n",
      "  960.  970.  980.  990. 1000.]\n"
     ]
    },
    {
     "name": "stderr",
     "output_type": "stream",
     "text": [
      "/home/sarah/anaconda3/envs/py39/lib/python3.9/site-packages/xarray/core/missing.py:566: FutureWarning: Passing method to Float64Index.get_loc is deprecated and will raise in a future version. Use index.get_indexer([item], method=...) instead.\n",
      "  imin = index.get_loc(minval, method=\"nearest\")\n",
      "/home/sarah/anaconda3/envs/py39/lib/python3.9/site-packages/xarray/core/missing.py:567: FutureWarning: Passing method to Float64Index.get_loc is deprecated and will raise in a future version. Use index.get_indexer([item], method=...) instead.\n",
      "  imax = index.get_loc(maxval, method=\"nearest\")\n",
      "/home/sarah/anaconda3/envs/py39/lib/python3.9/site-packages/xarray/core/missing.py:566: FutureWarning: Passing method to Float64Index.get_loc is deprecated and will raise in a future version. Use index.get_indexer([item], method=...) instead.\n",
      "  imin = index.get_loc(minval, method=\"nearest\")\n",
      "/home/sarah/anaconda3/envs/py39/lib/python3.9/site-packages/xarray/core/missing.py:567: FutureWarning: Passing method to Float64Index.get_loc is deprecated and will raise in a future version. Use index.get_indexer([item], method=...) instead.\n",
      "  imax = index.get_loc(maxval, method=\"nearest\")\n"
     ]
    },
    {
     "data": {
      "text/html": [
       "<div>\n",
       "<style scoped>\n",
       "    .dataframe tbody tr th:only-of-type {\n",
       "        vertical-align: middle;\n",
       "    }\n",
       "\n",
       "    .dataframe tbody tr th {\n",
       "        vertical-align: top;\n",
       "    }\n",
       "\n",
       "    .dataframe thead th {\n",
       "        text-align: right;\n",
       "    }\n",
       "</style>\n",
       "<table border=\"1\" class=\"dataframe\">\n",
       "  <thead>\n",
       "    <tr style=\"text-align: right;\">\n",
       "      <th></th>\n",
       "      <th>spatial_ref</th>\n",
       "      <th>x</th>\n",
       "      <th>y</th>\n",
       "      <th>elevation</th>\n",
       "      <th>distance</th>\n",
       "    </tr>\n",
       "    <tr>\n",
       "      <th>z</th>\n",
       "      <th></th>\n",
       "      <th></th>\n",
       "      <th></th>\n",
       "      <th></th>\n",
       "      <th></th>\n",
       "    </tr>\n",
       "  </thead>\n",
       "  <tbody>\n",
       "    <tr>\n",
       "      <th>0</th>\n",
       "      <td>0</td>\n",
       "      <td>-1.328167e+07</td>\n",
       "      <td>4.075844e+06</td>\n",
       "      <td>295.673508</td>\n",
       "      <td>0.0</td>\n",
       "    </tr>\n",
       "    <tr>\n",
       "      <th>1</th>\n",
       "      <td>0</td>\n",
       "      <td>-1.328167e+07</td>\n",
       "      <td>4.075851e+06</td>\n",
       "      <td>292.855710</td>\n",
       "      <td>10.0</td>\n",
       "    </tr>\n",
       "    <tr>\n",
       "      <th>2</th>\n",
       "      <td>0</td>\n",
       "      <td>-1.328166e+07</td>\n",
       "      <td>4.075858e+06</td>\n",
       "      <td>290.090066</td>\n",
       "      <td>20.0</td>\n",
       "    </tr>\n",
       "    <tr>\n",
       "      <th>3</th>\n",
       "      <td>0</td>\n",
       "      <td>-1.328165e+07</td>\n",
       "      <td>4.075866e+06</td>\n",
       "      <td>286.323602</td>\n",
       "      <td>30.0</td>\n",
       "    </tr>\n",
       "    <tr>\n",
       "      <th>4</th>\n",
       "      <td>0</td>\n",
       "      <td>-1.328165e+07</td>\n",
       "      <td>4.075873e+06</td>\n",
       "      <td>282.412893</td>\n",
       "      <td>40.0</td>\n",
       "    </tr>\n",
       "    <tr>\n",
       "      <th>...</th>\n",
       "      <td>...</td>\n",
       "      <td>...</td>\n",
       "      <td>...</td>\n",
       "      <td>...</td>\n",
       "      <td>...</td>\n",
       "    </tr>\n",
       "    <tr>\n",
       "      <th>96</th>\n",
       "      <td>0</td>\n",
       "      <td>-1.328103e+07</td>\n",
       "      <td>4.076556e+06</td>\n",
       "      <td>152.431083</td>\n",
       "      <td>960.0</td>\n",
       "    </tr>\n",
       "    <tr>\n",
       "      <th>97</th>\n",
       "      <td>0</td>\n",
       "      <td>-1.328102e+07</td>\n",
       "      <td>4.076563e+06</td>\n",
       "      <td>157.651282</td>\n",
       "      <td>970.0</td>\n",
       "    </tr>\n",
       "    <tr>\n",
       "      <th>98</th>\n",
       "      <td>0</td>\n",
       "      <td>-1.328102e+07</td>\n",
       "      <td>4.076570e+06</td>\n",
       "      <td>162.253958</td>\n",
       "      <td>980.0</td>\n",
       "    </tr>\n",
       "    <tr>\n",
       "      <th>99</th>\n",
       "      <td>0</td>\n",
       "      <td>-1.328101e+07</td>\n",
       "      <td>4.076578e+06</td>\n",
       "      <td>165.757125</td>\n",
       "      <td>990.0</td>\n",
       "    </tr>\n",
       "    <tr>\n",
       "      <th>100</th>\n",
       "      <td>0</td>\n",
       "      <td>-1.328100e+07</td>\n",
       "      <td>4.076585e+06</td>\n",
       "      <td>168.221180</td>\n",
       "      <td>1000.0</td>\n",
       "    </tr>\n",
       "  </tbody>\n",
       "</table>\n",
       "<p>101 rows × 5 columns</p>\n",
       "</div>"
      ],
      "text/plain": [
       "     spatial_ref             x             y   elevation  distance\n",
       "z                                                                 \n",
       "0              0 -1.328167e+07  4.075844e+06  295.673508       0.0\n",
       "1              0 -1.328167e+07  4.075851e+06  292.855710      10.0\n",
       "2              0 -1.328166e+07  4.075858e+06  290.090066      20.0\n",
       "3              0 -1.328165e+07  4.075866e+06  286.323602      30.0\n",
       "4              0 -1.328165e+07  4.075873e+06  282.412893      40.0\n",
       "..           ...           ...           ...         ...       ...\n",
       "96             0 -1.328103e+07  4.076556e+06  152.431083     960.0\n",
       "97             0 -1.328102e+07  4.076563e+06  157.651282     970.0\n",
       "98             0 -1.328102e+07  4.076570e+06  162.253958     980.0\n",
       "99             0 -1.328101e+07  4.076578e+06  165.757125     990.0\n",
       "100            0 -1.328100e+07  4.076585e+06  168.221180    1000.0\n",
       "\n",
       "[101 rows x 5 columns]"
      ]
     },
     "execution_count": 75,
     "metadata": {},
     "output_type": "execute_result"
    }
   ],
   "source": [
    "\n",
    "\n",
    "pdsi = dsi.to_dataframe()\n",
    "x = dsi.coords['x'].values -dsi.coords['x'].values[0]\n",
    "y = dsi.coords['y'].values -dsi.coords['y'].values[0]\n",
    "dist = np.hypot(x,y)\n",
    "print(dist)\n",
    "pdsi['distance'] = dist\n",
    "pdsi\n",
    "\n"
   ]
  },
  {
   "cell_type": "code",
   "execution_count": 76,
   "id": "39b2534b",
   "metadata": {},
   "outputs": [
    {
     "name": "stdout",
     "output_type": "stream",
     "text": [
      "0 100 295.67350768846586 168.22117960000784\n"
     ]
    },
    {
     "name": "stderr",
     "output_type": "stream",
     "text": [
      "/home/sarah/anaconda3/envs/py39/lib/python3.9/site-packages/xarray/core/missing.py:566: FutureWarning: Passing method to Float64Index.get_loc is deprecated and will raise in a future version. Use index.get_indexer([item], method=...) instead.\n",
      "  imin = index.get_loc(minval, method=\"nearest\")\n",
      "/home/sarah/anaconda3/envs/py39/lib/python3.9/site-packages/xarray/core/missing.py:567: FutureWarning: Passing method to Float64Index.get_loc is deprecated and will raise in a future version. Use index.get_indexer([item], method=...) instead.\n",
      "  imax = index.get_loc(maxval, method=\"nearest\")\n",
      "/home/sarah/anaconda3/envs/py39/lib/python3.9/site-packages/xarray/core/missing.py:566: FutureWarning: Passing method to Float64Index.get_loc is deprecated and will raise in a future version. Use index.get_indexer([item], method=...) instead.\n",
      "  imin = index.get_loc(minval, method=\"nearest\")\n",
      "/home/sarah/anaconda3/envs/py39/lib/python3.9/site-packages/xarray/core/missing.py:567: FutureWarning: Passing method to Float64Index.get_loc is deprecated and will raise in a future version. Use index.get_indexer([item], method=...) instead.\n",
      "  imax = index.get_loc(maxval, method=\"nearest\")\n"
     ]
    }
   ],
   "source": [
    "values = dsi.values\n",
    "lmi = np.where(values == max(values[:49]))[0][0]\n",
    "rmi = np.where(values == max(values[50:]))[0][0]\n",
    "print(lmi,rmi, values[lmi], values[rmi])"
   ]
  },
  {
   "cell_type": "code",
   "execution_count": 77,
   "id": "b26f822e",
   "metadata": {},
   "outputs": [
    {
     "name": "stderr",
     "output_type": "stream",
     "text": [
      "/home/sarah/anaconda3/envs/py39/lib/python3.9/site-packages/xarray/core/missing.py:566: FutureWarning: Passing method to Float64Index.get_loc is deprecated and will raise in a future version. Use index.get_indexer([item], method=...) instead.\n",
      "  imin = index.get_loc(minval, method=\"nearest\")\n",
      "/home/sarah/anaconda3/envs/py39/lib/python3.9/site-packages/xarray/core/missing.py:567: FutureWarning: Passing method to Float64Index.get_loc is deprecated and will raise in a future version. Use index.get_indexer([item], method=...) instead.\n",
      "  imax = index.get_loc(maxval, method=\"nearest\")\n",
      "/home/sarah/anaconda3/envs/py39/lib/python3.9/site-packages/xarray/core/missing.py:566: FutureWarning: Passing method to Float64Index.get_loc is deprecated and will raise in a future version. Use index.get_indexer([item], method=...) instead.\n",
      "  imin = index.get_loc(minval, method=\"nearest\")\n",
      "/home/sarah/anaconda3/envs/py39/lib/python3.9/site-packages/xarray/core/missing.py:567: FutureWarning: Passing method to Float64Index.get_loc is deprecated and will raise in a future version. Use index.get_indexer([item], method=...) instead.\n",
      "  imax = index.get_loc(maxval, method=\"nearest\")\n"
     ]
    },
    {
     "data": {
      "text/plain": [
       "[<matplotlib.lines.Line2D at 0x7f417ba45a60>]"
      ]
     },
     "execution_count": 77,
     "metadata": {},
     "output_type": "execute_result"
    },
    {
     "data": {
      "image/png": "[encoded data removed]",
      "text/plain": [
       "<Figure size 432x288 with 1 Axes>"
      ]
     },
     "metadata": {
      "needs_background": "light"
     },
     "output_type": "display_data"
    }
   ],
   "source": [
    "dsi[lmi:rmi].plot()"
   ]
  },
  {
   "cell_type": "code",
   "execution_count": 78,
   "id": "79dd9ad3",
   "metadata": {},
   "outputs": [
    {
     "name": "stderr",
     "output_type": "stream",
     "text": [
      "/home/sarah/anaconda3/envs/py39/lib/python3.9/site-packages/xarray/core/missing.py:566: FutureWarning: Passing method to Float64Index.get_loc is deprecated and will raise in a future version. Use index.get_indexer([item], method=...) instead.\n",
      "  imin = index.get_loc(minval, method=\"nearest\")\n",
      "/home/sarah/anaconda3/envs/py39/lib/python3.9/site-packages/xarray/core/missing.py:567: FutureWarning: Passing method to Float64Index.get_loc is deprecated and will raise in a future version. Use index.get_indexer([item], method=...) instead.\n",
      "  imax = index.get_loc(maxval, method=\"nearest\")\n",
      "/home/sarah/anaconda3/envs/py39/lib/python3.9/site-packages/xarray/core/missing.py:566: FutureWarning: Passing method to Float64Index.get_loc is deprecated and will raise in a future version. Use index.get_indexer([item], method=...) instead.\n",
      "  imin = index.get_loc(minval, method=\"nearest\")\n",
      "/home/sarah/anaconda3/envs/py39/lib/python3.9/site-packages/xarray/core/missing.py:567: FutureWarning: Passing method to Float64Index.get_loc is deprecated and will raise in a future version. Use index.get_indexer([item], method=...) instead.\n",
      "  imax = index.get_loc(maxval, method=\"nearest\")\n"
     ]
    }
   ],
   "source": [
    "x = dsi.coords['x'].values[lmi:rmi] -dsi.coords['x'].values[lmi]\n",
    "y = dsi.coords['y'].values[lmi:rmi] -dsi.coords['y'].values[lmi]\n",
    "dist = np.hypot(x,y)\n",
    "elev = dsi.values[lmi:rmi]\n",
    "tlen = len(dist)\n",
    "# print(tlen)\n",
    "sta2 = np.zeros((tlen,2))\n",
    "t = []\n",
    "for index,(tx,ty) in enumerate(zip(dist,elev)):\n",
    "    if not np.isnan(ty):\n",
    "        a = np.array((tx,ty))\n",
    "        sta2[index] = a\n",
    "#         print(a)\n",
    "    else:\n",
    "        t.append(index)"
   ]
  },
  {
   "cell_type": "code",
   "execution_count": null,
   "id": "0e75d2c3",
   "metadata": {},
   "outputs": [],
   "source": []
  },
  {
   "cell_type": "code",
   "execution_count": null,
   "id": "b25e75e1",
   "metadata": {},
   "outputs": [],
   "source": []
  }
 ],
 "metadata": {
  "kernelspec": {
   "display_name": "Python 3 (ipykernel)",
   "language": "python",
   "name": "python3"
  },
  "language_info": {
   "codemirror_mode": {
    "name": "ipython",
    "version": 3
   },
   "file_extension": ".py",
   "mimetype": "text/x-python",
   "name": "python",
   "nbconvert_exporter": "python",
   "pygments_lexer": "ipython3",
   "version": "3.9.7"
  }
 },
 "nbformat": 4,
 "nbformat_minor": 5
}
