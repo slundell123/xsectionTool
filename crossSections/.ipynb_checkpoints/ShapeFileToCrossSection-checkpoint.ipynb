{
 "cells": [
  {
   "cell_type": "markdown",
   "id": "f3914c2f",
   "metadata": {},
   "source": [
    "Trying to make cross section from shapefile"
   ]
  },
  {
   "cell_type": "code",
   "execution_count": 1,
   "id": "e8dd1f40",
   "metadata": {},
   "outputs": [
    {
     "name": "stderr",
     "output_type": "stream",
     "text": [
      "/home/sarah/anaconda3/envs/py39/lib/python3.9/site-packages/geopandas/_compat.py:111: UserWarning: The Shapely GEOS version (3.9.1-CAPI-1.14.2) is incompatible with the GEOS version PyGEOS was compiled with (3.10.1-CAPI-1.16.0). Conversions between both will be slow.\n",
      "  warnings.warn(\n"
     ]
    }
   ],
   "source": [
    "import nldi_xstool\n",
    "import geopandas\n",
    "\n",
    "%matplotlib inline\n",
    "from nldi_xstool.XSGen import XSGen\n",
    "from nldi_xstool.ancillary import query_dems_bbox\n",
    "import py3dep\n",
    "from pynhd import NLDI, NHDPlusHR, WaterData\n",
    "import xarray as xr\n",
    "from matplotlib import pyplot as plt\n",
    "import numpy as np\n",
    "import pandas as pd\n",
    "import dataretrieval.nwis as nwis\n",
    "#try:\n",
    "#    from nldi_xstool.__openChannel import flowEst\n",
    "#except ImportError:\n",
    "#    from .__openChannel import flowEst\n",
    "\n"
   ]
  },
  {
   "cell_type": "markdown",
   "id": "2129e0de",
   "metadata": {},
   "source": [
    "Read in shape files"
   ]
  },
  {
   "cell_type": "code",
   "execution_count": 2,
   "id": "18dbaa86",
   "metadata": {},
   "outputs": [
    {
     "data": {
      "text/html": [
       "<div>\n",
       "<style scoped>\n",
       "    .dataframe tbody tr th:only-of-type {\n",
       "        vertical-align: middle;\n",
       "    }\n",
       "\n",
       "    .dataframe tbody tr th {\n",
       "        vertical-align: top;\n",
       "    }\n",
       "\n",
       "    .dataframe thead th {\n",
       "        text-align: right;\n",
       "    }\n",
       "</style>\n",
       "<table border=\"1\" class=\"dataframe\">\n",
       "  <thead>\n",
       "    <tr style=\"text-align: right;\">\n",
       "      <th></th>\n",
       "      <th>OBJECTID</th>\n",
       "      <th>Permanent_</th>\n",
       "      <th>FDate</th>\n",
       "      <th>Resolution</th>\n",
       "      <th>GNIS_ID</th>\n",
       "      <th>GNIS_Name</th>\n",
       "      <th>LengthKM</th>\n",
       "      <th>ReachCode</th>\n",
       "      <th>FlowDir</th>\n",
       "      <th>WBArea_Per</th>\n",
       "      <th>FType</th>\n",
       "      <th>FCode</th>\n",
       "      <th>MainPath</th>\n",
       "      <th>InNetwork</th>\n",
       "      <th>Visibility</th>\n",
       "      <th>Shape_Leng</th>\n",
       "      <th>geometry</th>\n",
       "    </tr>\n",
       "  </thead>\n",
       "  <tbody>\n",
       "    <tr>\n",
       "      <th>0</th>\n",
       "      <td>514746.0</td>\n",
       "      <td>26488429</td>\n",
       "      <td>2012/01/24 13:06:41.000</td>\n",
       "      <td>2</td>\n",
       "      <td>00272369</td>\n",
       "      <td>Matilija Creek</td>\n",
       "      <td>0.037000</td>\n",
       "      <td>18070101000077</td>\n",
       "      <td>1</td>\n",
       "      <td>None</td>\n",
       "      <td>460</td>\n",
       "      <td>46003</td>\n",
       "      <td>0</td>\n",
       "      <td>1</td>\n",
       "      <td>0</td>\n",
       "      <td>0.000348</td>\n",
       "      <td>LINESTRING Z (-119.39088 34.51163 0.00000, -11...</td>\n",
       "    </tr>\n",
       "    <tr>\n",
       "      <th>1</th>\n",
       "      <td>781465.0</td>\n",
       "      <td>26488461</td>\n",
       "      <td>2014/12/09 00:00:00.000</td>\n",
       "      <td>2</td>\n",
       "      <td>00272369</td>\n",
       "      <td>Matilija Creek</td>\n",
       "      <td>1.237279</td>\n",
       "      <td>18070101000075</td>\n",
       "      <td>1</td>\n",
       "      <td>None</td>\n",
       "      <td>460</td>\n",
       "      <td>46006</td>\n",
       "      <td>0</td>\n",
       "      <td>1</td>\n",
       "      <td>0</td>\n",
       "      <td>0.013019</td>\n",
       "      <td>LINESTRING Z (-119.38276 34.50633 0.00000, -11...</td>\n",
       "    </tr>\n",
       "    <tr>\n",
       "      <th>2</th>\n",
       "      <td>914543.0</td>\n",
       "      <td>26488423</td>\n",
       "      <td>2014/12/09 00:00:00.000</td>\n",
       "      <td>2</td>\n",
       "      <td>00272369</td>\n",
       "      <td>Matilija Creek</td>\n",
       "      <td>0.439258</td>\n",
       "      <td>18070101000077</td>\n",
       "      <td>1</td>\n",
       "      <td>None</td>\n",
       "      <td>460</td>\n",
       "      <td>46006</td>\n",
       "      <td>0</td>\n",
       "      <td>1</td>\n",
       "      <td>0</td>\n",
       "      <td>0.004764</td>\n",
       "      <td>LINESTRING Z (-119.39552 34.51226 0.00000, -11...</td>\n",
       "    </tr>\n",
       "    <tr>\n",
       "      <th>3</th>\n",
       "      <td>1447606.0</td>\n",
       "      <td>26488445</td>\n",
       "      <td>2012/01/24 13:06:41.000</td>\n",
       "      <td>2</td>\n",
       "      <td>00272369</td>\n",
       "      <td>Matilija Creek</td>\n",
       "      <td>0.102000</td>\n",
       "      <td>18070101000077</td>\n",
       "      <td>1</td>\n",
       "      <td>None</td>\n",
       "      <td>460</td>\n",
       "      <td>46006</td>\n",
       "      <td>0</td>\n",
       "      <td>1</td>\n",
       "      <td>0</td>\n",
       "      <td>0.001088</td>\n",
       "      <td>LINESTRING Z (-119.38787 34.51018 0.00000, -11...</td>\n",
       "    </tr>\n",
       "    <tr>\n",
       "      <th>4</th>\n",
       "      <td>1780845.0</td>\n",
       "      <td>26488451</td>\n",
       "      <td>2014/12/09 00:00:00.000</td>\n",
       "      <td>2</td>\n",
       "      <td>00272369</td>\n",
       "      <td>Matilija Creek</td>\n",
       "      <td>0.369113</td>\n",
       "      <td>18070101000076</td>\n",
       "      <td>1</td>\n",
       "      <td>None</td>\n",
       "      <td>460</td>\n",
       "      <td>46006</td>\n",
       "      <td>0</td>\n",
       "      <td>1</td>\n",
       "      <td>0</td>\n",
       "      <td>0.003524</td>\n",
       "      <td>LINESTRING Z (-119.38366 34.50906 0.00000, -11...</td>\n",
       "    </tr>\n",
       "    <tr>\n",
       "      <th>5</th>\n",
       "      <td>1981259.0</td>\n",
       "      <td>26488441</td>\n",
       "      <td>2012/01/24 13:06:41.000</td>\n",
       "      <td>2</td>\n",
       "      <td>00272369</td>\n",
       "      <td>Matilija Creek</td>\n",
       "      <td>0.370000</td>\n",
       "      <td>18070101000077</td>\n",
       "      <td>1</td>\n",
       "      <td>None</td>\n",
       "      <td>460</td>\n",
       "      <td>46006</td>\n",
       "      <td>0</td>\n",
       "      <td>1</td>\n",
       "      <td>0</td>\n",
       "      <td>0.003811</td>\n",
       "      <td>LINESTRING Z (-119.39071 34.51135 0.00000, -11...</td>\n",
       "    </tr>\n",
       "    <tr>\n",
       "      <th>6</th>\n",
       "      <td>1981260.0</td>\n",
       "      <td>26488449</td>\n",
       "      <td>2012/01/24 13:06:41.000</td>\n",
       "      <td>2</td>\n",
       "      <td>00272369</td>\n",
       "      <td>Matilija Creek</td>\n",
       "      <td>0.315000</td>\n",
       "      <td>18070101000077</td>\n",
       "      <td>1</td>\n",
       "      <td>None</td>\n",
       "      <td>460</td>\n",
       "      <td>46006</td>\n",
       "      <td>0</td>\n",
       "      <td>1</td>\n",
       "      <td>0</td>\n",
       "      <td>0.003369</td>\n",
       "      <td>LINESTRING Z (-119.38684 34.50997 0.00000, -11...</td>\n",
       "    </tr>\n",
       "  </tbody>\n",
       "</table>\n",
       "</div>"
      ],
      "text/plain": [
       "    OBJECTID Permanent_                    FDate  Resolution   GNIS_ID  \\\n",
       "0   514746.0   26488429  2012/01/24 13:06:41.000           2  00272369   \n",
       "1   781465.0   26488461  2014/12/09 00:00:00.000           2  00272369   \n",
       "2   914543.0   26488423  2014/12/09 00:00:00.000           2  00272369   \n",
       "3  1447606.0   26488445  2012/01/24 13:06:41.000           2  00272369   \n",
       "4  1780845.0   26488451  2014/12/09 00:00:00.000           2  00272369   \n",
       "5  1981259.0   26488441  2012/01/24 13:06:41.000           2  00272369   \n",
       "6  1981260.0   26488449  2012/01/24 13:06:41.000           2  00272369   \n",
       "\n",
       "        GNIS_Name  LengthKM       ReachCode  FlowDir WBArea_Per  FType  FCode  \\\n",
       "0  Matilija Creek  0.037000  18070101000077        1       None    460  46003   \n",
       "1  Matilija Creek  1.237279  18070101000075        1       None    460  46006   \n",
       "2  Matilija Creek  0.439258  18070101000077        1       None    460  46006   \n",
       "3  Matilija Creek  0.102000  18070101000077        1       None    460  46006   \n",
       "4  Matilija Creek  0.369113  18070101000076        1       None    460  46006   \n",
       "5  Matilija Creek  0.370000  18070101000077        1       None    460  46006   \n",
       "6  Matilija Creek  0.315000  18070101000077        1       None    460  46006   \n",
       "\n",
       "   MainPath  InNetwork  Visibility  Shape_Leng  \\\n",
       "0         0          1           0    0.000348   \n",
       "1         0          1           0    0.013019   \n",
       "2         0          1           0    0.004764   \n",
       "3         0          1           0    0.001088   \n",
       "4         0          1           0    0.003524   \n",
       "5         0          1           0    0.003811   \n",
       "6         0          1           0    0.003369   \n",
       "\n",
       "                                            geometry  \n",
       "0  LINESTRING Z (-119.39088 34.51163 0.00000, -11...  \n",
       "1  LINESTRING Z (-119.38276 34.50633 0.00000, -11...  \n",
       "2  LINESTRING Z (-119.39552 34.51226 0.00000, -11...  \n",
       "3  LINESTRING Z (-119.38787 34.51018 0.00000, -11...  \n",
       "4  LINESTRING Z (-119.38366 34.50906 0.00000, -11...  \n",
       "5  LINESTRING Z (-119.39071 34.51135 0.00000, -11...  \n",
       "6  LINESTRING Z (-119.38684 34.50997 0.00000, -11...  "
      ]
     },
     "execution_count": 2,
     "metadata": {},
     "output_type": "execute_result"
    }
   ],
   "source": [
    "mainstemFile = \"../Matilija_gis_files/MatilijaCreek_mainstem.shp\"\n",
    "mainstemShapefile = geopandas.read_file(mainstemFile)\n",
    "mainstemShapefile.geometry.name\n",
    "#mainstemShapefile['centroid_column'] = mainstemShapefile.centroid\n",
    "mainstemShapefile"
   ]
  },
  {
   "cell_type": "code",
   "execution_count": 3,
   "id": "4650f189",
   "metadata": {},
   "outputs": [
    {
     "data": {
      "text/html": [
       "<div>\n",
       "<style scoped>\n",
       "    .dataframe tbody tr th:only-of-type {\n",
       "        vertical-align: middle;\n",
       "    }\n",
       "\n",
       "    .dataframe tbody tr th {\n",
       "        vertical-align: top;\n",
       "    }\n",
       "\n",
       "    .dataframe thead th {\n",
       "        text-align: right;\n",
       "    }\n",
       "</style>\n",
       "<table border=\"1\" class=\"dataframe\">\n",
       "  <thead>\n",
       "    <tr style=\"text-align: right;\">\n",
       "      <th></th>\n",
       "      <th>OBJECTID</th>\n",
       "      <th>Permanent_</th>\n",
       "      <th>FDate</th>\n",
       "      <th>Resolution</th>\n",
       "      <th>GNIS_ID</th>\n",
       "      <th>GNIS_Name</th>\n",
       "      <th>LengthKM</th>\n",
       "      <th>ReachCode</th>\n",
       "      <th>FlowDir</th>\n",
       "      <th>WBArea_Per</th>\n",
       "      <th>FType</th>\n",
       "      <th>FCode</th>\n",
       "      <th>MainPath</th>\n",
       "      <th>InNetwork</th>\n",
       "      <th>Visibility</th>\n",
       "      <th>Shape_Leng</th>\n",
       "      <th>geometry</th>\n",
       "    </tr>\n",
       "  </thead>\n",
       "  <tbody>\n",
       "    <tr>\n",
       "      <th>0</th>\n",
       "      <td>514746.0</td>\n",
       "      <td>26488429</td>\n",
       "      <td>2012/01/24 13:06:41.000</td>\n",
       "      <td>2</td>\n",
       "      <td>00272369</td>\n",
       "      <td>Matilija Creek</td>\n",
       "      <td>0.037000</td>\n",
       "      <td>18070101000077</td>\n",
       "      <td>1</td>\n",
       "      <td>None</td>\n",
       "      <td>460</td>\n",
       "      <td>46003</td>\n",
       "      <td>0</td>\n",
       "      <td>1</td>\n",
       "      <td>0</td>\n",
       "      <td>0.000348</td>\n",
       "      <td>LINESTRING Z (-119.39088 34.51163 0.00000, -11...</td>\n",
       "    </tr>\n",
       "    <tr>\n",
       "      <th>1</th>\n",
       "      <td>781465.0</td>\n",
       "      <td>26488461</td>\n",
       "      <td>2014/12/09 00:00:00.000</td>\n",
       "      <td>2</td>\n",
       "      <td>00272369</td>\n",
       "      <td>Matilija Creek</td>\n",
       "      <td>1.237279</td>\n",
       "      <td>18070101000075</td>\n",
       "      <td>1</td>\n",
       "      <td>None</td>\n",
       "      <td>460</td>\n",
       "      <td>46006</td>\n",
       "      <td>0</td>\n",
       "      <td>1</td>\n",
       "      <td>0</td>\n",
       "      <td>0.013019</td>\n",
       "      <td>LINESTRING Z (-119.38276 34.50633 0.00000, -11...</td>\n",
       "    </tr>\n",
       "    <tr>\n",
       "      <th>2</th>\n",
       "      <td>914543.0</td>\n",
       "      <td>26488423</td>\n",
       "      <td>2014/12/09 00:00:00.000</td>\n",
       "      <td>2</td>\n",
       "      <td>00272369</td>\n",
       "      <td>Matilija Creek</td>\n",
       "      <td>0.439258</td>\n",
       "      <td>18070101000077</td>\n",
       "      <td>1</td>\n",
       "      <td>None</td>\n",
       "      <td>460</td>\n",
       "      <td>46006</td>\n",
       "      <td>0</td>\n",
       "      <td>1</td>\n",
       "      <td>0</td>\n",
       "      <td>0.004764</td>\n",
       "      <td>LINESTRING Z (-119.39552 34.51226 0.00000, -11...</td>\n",
       "    </tr>\n",
       "    <tr>\n",
       "      <th>3</th>\n",
       "      <td>1447606.0</td>\n",
       "      <td>26488445</td>\n",
       "      <td>2012/01/24 13:06:41.000</td>\n",
       "      <td>2</td>\n",
       "      <td>00272369</td>\n",
       "      <td>Matilija Creek</td>\n",
       "      <td>0.102000</td>\n",
       "      <td>18070101000077</td>\n",
       "      <td>1</td>\n",
       "      <td>None</td>\n",
       "      <td>460</td>\n",
       "      <td>46006</td>\n",
       "      <td>0</td>\n",
       "      <td>1</td>\n",
       "      <td>0</td>\n",
       "      <td>0.001088</td>\n",
       "      <td>LINESTRING Z (-119.38787 34.51018 0.00000, -11...</td>\n",
       "    </tr>\n",
       "    <tr>\n",
       "      <th>4</th>\n",
       "      <td>1780845.0</td>\n",
       "      <td>26488451</td>\n",
       "      <td>2014/12/09 00:00:00.000</td>\n",
       "      <td>2</td>\n",
       "      <td>00272369</td>\n",
       "      <td>Matilija Creek</td>\n",
       "      <td>0.369113</td>\n",
       "      <td>18070101000076</td>\n",
       "      <td>1</td>\n",
       "      <td>None</td>\n",
       "      <td>460</td>\n",
       "      <td>46006</td>\n",
       "      <td>0</td>\n",
       "      <td>1</td>\n",
       "      <td>0</td>\n",
       "      <td>0.003524</td>\n",
       "      <td>LINESTRING Z (-119.38366 34.50906 0.00000, -11...</td>\n",
       "    </tr>\n",
       "    <tr>\n",
       "      <th>5</th>\n",
       "      <td>1981259.0</td>\n",
       "      <td>26488441</td>\n",
       "      <td>2012/01/24 13:06:41.000</td>\n",
       "      <td>2</td>\n",
       "      <td>00272369</td>\n",
       "      <td>Matilija Creek</td>\n",
       "      <td>0.370000</td>\n",
       "      <td>18070101000077</td>\n",
       "      <td>1</td>\n",
       "      <td>None</td>\n",
       "      <td>460</td>\n",
       "      <td>46006</td>\n",
       "      <td>0</td>\n",
       "      <td>1</td>\n",
       "      <td>0</td>\n",
       "      <td>0.003811</td>\n",
       "      <td>LINESTRING Z (-119.39071 34.51135 0.00000, -11...</td>\n",
       "    </tr>\n",
       "    <tr>\n",
       "      <th>6</th>\n",
       "      <td>1981260.0</td>\n",
       "      <td>26488449</td>\n",
       "      <td>2012/01/24 13:06:41.000</td>\n",
       "      <td>2</td>\n",
       "      <td>00272369</td>\n",
       "      <td>Matilija Creek</td>\n",
       "      <td>0.315000</td>\n",
       "      <td>18070101000077</td>\n",
       "      <td>1</td>\n",
       "      <td>None</td>\n",
       "      <td>460</td>\n",
       "      <td>46006</td>\n",
       "      <td>0</td>\n",
       "      <td>1</td>\n",
       "      <td>0</td>\n",
       "      <td>0.003369</td>\n",
       "      <td>LINESTRING Z (-119.38684 34.50997 0.00000, -11...</td>\n",
       "    </tr>\n",
       "  </tbody>\n",
       "</table>\n",
       "</div>"
      ],
      "text/plain": [
       "    OBJECTID Permanent_                    FDate  Resolution   GNIS_ID  \\\n",
       "0   514746.0   26488429  2012/01/24 13:06:41.000           2  00272369   \n",
       "1   781465.0   26488461  2014/12/09 00:00:00.000           2  00272369   \n",
       "2   914543.0   26488423  2014/12/09 00:00:00.000           2  00272369   \n",
       "3  1447606.0   26488445  2012/01/24 13:06:41.000           2  00272369   \n",
       "4  1780845.0   26488451  2014/12/09 00:00:00.000           2  00272369   \n",
       "5  1981259.0   26488441  2012/01/24 13:06:41.000           2  00272369   \n",
       "6  1981260.0   26488449  2012/01/24 13:06:41.000           2  00272369   \n",
       "\n",
       "        GNIS_Name  LengthKM       ReachCode  FlowDir WBArea_Per  FType  FCode  \\\n",
       "0  Matilija Creek  0.037000  18070101000077        1       None    460  46003   \n",
       "1  Matilija Creek  1.237279  18070101000075        1       None    460  46006   \n",
       "2  Matilija Creek  0.439258  18070101000077        1       None    460  46006   \n",
       "3  Matilija Creek  0.102000  18070101000077        1       None    460  46006   \n",
       "4  Matilija Creek  0.369113  18070101000076        1       None    460  46006   \n",
       "5  Matilija Creek  0.370000  18070101000077        1       None    460  46006   \n",
       "6  Matilija Creek  0.315000  18070101000077        1       None    460  46006   \n",
       "\n",
       "   MainPath  InNetwork  Visibility  Shape_Leng  \\\n",
       "0         0          1           0    0.000348   \n",
       "1         0          1           0    0.013019   \n",
       "2         0          1           0    0.004764   \n",
       "3         0          1           0    0.001088   \n",
       "4         0          1           0    0.003524   \n",
       "5         0          1           0    0.003811   \n",
       "6         0          1           0    0.003369   \n",
       "\n",
       "                                            geometry  \n",
       "0  LINESTRING Z (-119.39088 34.51163 0.00000, -11...  \n",
       "1  LINESTRING Z (-119.38276 34.50633 0.00000, -11...  \n",
       "2  LINESTRING Z (-119.39552 34.51226 0.00000, -11...  \n",
       "3  LINESTRING Z (-119.38787 34.51018 0.00000, -11...  \n",
       "4  LINESTRING Z (-119.38366 34.50906 0.00000, -11...  \n",
       "5  LINESTRING Z (-119.39071 34.51135 0.00000, -11...  \n",
       "6  LINESTRING Z (-119.38684 34.50997 0.00000, -11...  "
      ]
     },
     "execution_count": 3,
     "metadata": {},
     "output_type": "execute_result"
    }
   ],
   "source": [
    "# https://waterdata.usgs.gov/nwis/inventory?agency_code=USGS&site_no=11114495\n",
    "\n",
    "gagebasin = mainstemShapefile\n",
    "gagebasin"
   ]
  },
  {
   "cell_type": "code",
   "execution_count": 4,
   "id": "a4481b8e",
   "metadata": {},
   "outputs": [
    {
     "data": {
      "text/html": [
       "<div>\n",
       "<style scoped>\n",
       "    .dataframe tbody tr th:only-of-type {\n",
       "        vertical-align: middle;\n",
       "    }\n",
       "\n",
       "    .dataframe tbody tr th {\n",
       "        vertical-align: top;\n",
       "    }\n",
       "\n",
       "    .dataframe thead th {\n",
       "        text-align: right;\n",
       "    }\n",
       "</style>\n",
       "<table border=\"1\" class=\"dataframe\">\n",
       "  <thead>\n",
       "    <tr style=\"text-align: right;\">\n",
       "      <th></th>\n",
       "      <th>OBJECTID</th>\n",
       "      <th>Permanent_</th>\n",
       "      <th>FDate</th>\n",
       "      <th>Resolution</th>\n",
       "      <th>GNIS_ID</th>\n",
       "      <th>GNIS_Name</th>\n",
       "      <th>LengthKM</th>\n",
       "      <th>ReachCode</th>\n",
       "      <th>FlowDir</th>\n",
       "      <th>WBArea_Per</th>\n",
       "      <th>FType</th>\n",
       "      <th>FCode</th>\n",
       "      <th>MainPath</th>\n",
       "      <th>InNetwork</th>\n",
       "      <th>Visibility</th>\n",
       "      <th>Shape_Leng</th>\n",
       "      <th>geometry</th>\n",
       "    </tr>\n",
       "  </thead>\n",
       "  <tbody>\n",
       "    <tr>\n",
       "      <th>0</th>\n",
       "      <td>514746.0</td>\n",
       "      <td>26488429</td>\n",
       "      <td>2012/01/24 13:06:41.000</td>\n",
       "      <td>2</td>\n",
       "      <td>00272369</td>\n",
       "      <td>Matilija Creek</td>\n",
       "      <td>0.037</td>\n",
       "      <td>18070101000077</td>\n",
       "      <td>1</td>\n",
       "      <td>None</td>\n",
       "      <td>460</td>\n",
       "      <td>46003</td>\n",
       "      <td>0</td>\n",
       "      <td>1</td>\n",
       "      <td>0</td>\n",
       "      <td>0.000348</td>\n",
       "      <td>LINESTRING Z (-119.39088 34.51163 0.00000, -11...</td>\n",
       "    </tr>\n",
       "  </tbody>\n",
       "</table>\n",
       "</div>"
      ],
      "text/plain": [
       "   OBJECTID Permanent_                    FDate  Resolution   GNIS_ID  \\\n",
       "0  514746.0   26488429  2012/01/24 13:06:41.000           2  00272369   \n",
       "\n",
       "        GNIS_Name  LengthKM       ReachCode  FlowDir WBArea_Per  FType  FCode  \\\n",
       "0  Matilija Creek     0.037  18070101000077        1       None    460  46003   \n",
       "\n",
       "   MainPath  InNetwork  Visibility  Shape_Leng  \\\n",
       "0         0          1           0    0.000348   \n",
       "\n",
       "                                            geometry  \n",
       "0  LINESTRING Z (-119.39088 34.51163 0.00000, -11...  "
      ]
     },
     "execution_count": 4,
     "metadata": {},
     "output_type": "execute_result"
    }
   ],
   "source": [
    "gageloc = mainstemShapefile.iloc[:1]\n",
    "gageloc"
   ]
  },
  {
   "cell_type": "code",
   "execution_count": 5,
   "id": "c521b9dd",
   "metadata": {},
   "outputs": [
    {
     "data": {
      "text/plain": [
       "<AxesSubplot:>"
      ]
     },
     "execution_count": 5,
     "metadata": {},
     "output_type": "execute_result"
    },
    {
     "data": {
      "image/png": "[encoded data removed]",
      "text/plain": [
       "<Figure size 432x288 with 1 Axes>"
      ]
     },
     "metadata": {
      "needs_background": "light"
     },
     "output_type": "display_data"
    }
   ],
   "source": [
    "ax = plt.subplot(111)\n",
    "gagebasin.plot(ax=ax)\n",
    "gageloc.plot(ax=ax, color='black')"
   ]
  },
  {
   "cell_type": "code",
   "execution_count": 6,
   "id": "68f2489f",
   "metadata": {},
   "outputs": [],
   "source": [
    "strmseg_loc = gageloc"
   ]
  },
  {
   "cell_type": "code",
   "execution_count": 7,
   "id": "44cb09b9",
   "metadata": {},
   "outputs": [
    {
     "data": {
      "text/html": [
       "<div>\n",
       "<style scoped>\n",
       "    .dataframe tbody tr th:only-of-type {\n",
       "        vertical-align: middle;\n",
       "    }\n",
       "\n",
       "    .dataframe tbody tr th {\n",
       "        vertical-align: top;\n",
       "    }\n",
       "\n",
       "    .dataframe thead th {\n",
       "        text-align: right;\n",
       "    }\n",
       "</style>\n",
       "<table border=\"1\" class=\"dataframe\">\n",
       "  <thead>\n",
       "    <tr style=\"text-align: right;\">\n",
       "      <th></th>\n",
       "      <th>OBJECTID</th>\n",
       "      <th>Permanent_</th>\n",
       "      <th>FDate</th>\n",
       "      <th>Resolution</th>\n",
       "      <th>GNIS_ID</th>\n",
       "      <th>GNIS_Name</th>\n",
       "      <th>LengthKM</th>\n",
       "      <th>ReachCode</th>\n",
       "      <th>FlowDir</th>\n",
       "      <th>WBArea_Per</th>\n",
       "      <th>FType</th>\n",
       "      <th>FCode</th>\n",
       "      <th>MainPath</th>\n",
       "      <th>InNetwork</th>\n",
       "      <th>Visibility</th>\n",
       "      <th>Shape_Leng</th>\n",
       "      <th>geometry</th>\n",
       "    </tr>\n",
       "  </thead>\n",
       "  <tbody>\n",
       "    <tr>\n",
       "      <th>0</th>\n",
       "      <td>514746.0</td>\n",
       "      <td>26488429</td>\n",
       "      <td>2012/01/24 13:06:41.000</td>\n",
       "      <td>2</td>\n",
       "      <td>00272369</td>\n",
       "      <td>Matilija Creek</td>\n",
       "      <td>0.037</td>\n",
       "      <td>18070101000077</td>\n",
       "      <td>1</td>\n",
       "      <td>None</td>\n",
       "      <td>460</td>\n",
       "      <td>46003</td>\n",
       "      <td>0</td>\n",
       "      <td>1</td>\n",
       "      <td>0</td>\n",
       "      <td>0.000348</td>\n",
       "      <td>LINESTRING Z (-119.39088 34.51163 0.00000, -11...</td>\n",
       "    </tr>\n",
       "  </tbody>\n",
       "</table>\n",
       "</div>"
      ],
      "text/plain": [
       "   OBJECTID Permanent_                    FDate  Resolution   GNIS_ID  \\\n",
       "0  514746.0   26488429  2012/01/24 13:06:41.000           2  00272369   \n",
       "\n",
       "        GNIS_Name  LengthKM       ReachCode  FlowDir WBArea_Per  FType  FCode  \\\n",
       "0  Matilija Creek     0.037  18070101000077        1       None    460  46003   \n",
       "\n",
       "   MainPath  InNetwork  Visibility  Shape_Leng  \\\n",
       "0         0          1           0    0.000348   \n",
       "\n",
       "                                            geometry  \n",
       "0  LINESTRING Z (-119.39088 34.51163 0.00000, -11...  "
      ]
     },
     "execution_count": 7,
     "metadata": {},
     "output_type": "execute_result"
    }
   ],
   "source": [
    "gageloc"
   ]
  },
  {
   "cell_type": "code",
   "execution_count": 8,
   "id": "b491046e",
   "metadata": {},
   "outputs": [
    {
     "data": {
      "text/html": [
       "<div>\n",
       "<style scoped>\n",
       "    .dataframe tbody tr th:only-of-type {\n",
       "        vertical-align: middle;\n",
       "    }\n",
       "\n",
       "    .dataframe tbody tr th {\n",
       "        vertical-align: top;\n",
       "    }\n",
       "\n",
       "    .dataframe thead th {\n",
       "        text-align: right;\n",
       "    }\n",
       "</style>\n",
       "<table border=\"1\" class=\"dataframe\">\n",
       "  <thead>\n",
       "    <tr style=\"text-align: right;\">\n",
       "      <th></th>\n",
       "      <th>OBJECTID</th>\n",
       "      <th>Permanent_</th>\n",
       "      <th>FDate</th>\n",
       "      <th>Resolution</th>\n",
       "      <th>GNIS_ID</th>\n",
       "      <th>GNIS_Name</th>\n",
       "      <th>LengthKM</th>\n",
       "      <th>ReachCode</th>\n",
       "      <th>FlowDir</th>\n",
       "      <th>WBArea_Per</th>\n",
       "      <th>FType</th>\n",
       "      <th>FCode</th>\n",
       "      <th>MainPath</th>\n",
       "      <th>InNetwork</th>\n",
       "      <th>Visibility</th>\n",
       "      <th>Shape_Leng</th>\n",
       "      <th>geometry</th>\n",
       "    </tr>\n",
       "  </thead>\n",
       "  <tbody>\n",
       "    <tr>\n",
       "      <th>0</th>\n",
       "      <td>514746.0</td>\n",
       "      <td>26488429</td>\n",
       "      <td>2012/01/24 13:06:41.000</td>\n",
       "      <td>2</td>\n",
       "      <td>00272369</td>\n",
       "      <td>Matilija Creek</td>\n",
       "      <td>0.037</td>\n",
       "      <td>18070101000077</td>\n",
       "      <td>1</td>\n",
       "      <td>None</td>\n",
       "      <td>460</td>\n",
       "      <td>46003</td>\n",
       "      <td>0</td>\n",
       "      <td>1</td>\n",
       "      <td>0</td>\n",
       "      <td>0.000348</td>\n",
       "      <td>LINESTRING Z (-119.39088 34.51163 0.00000, -11...</td>\n",
       "    </tr>\n",
       "  </tbody>\n",
       "</table>\n",
       "</div>"
      ],
      "text/plain": [
       "   OBJECTID Permanent_                    FDate  Resolution   GNIS_ID  \\\n",
       "0  514746.0   26488429  2012/01/24 13:06:41.000           2  00272369   \n",
       "\n",
       "        GNIS_Name  LengthKM       ReachCode  FlowDir WBArea_Per  FType  FCode  \\\n",
       "0  Matilija Creek     0.037  18070101000077        1       None    460  46003   \n",
       "\n",
       "   MainPath  InNetwork  Visibility  Shape_Leng  \\\n",
       "0         0          1           0    0.000348   \n",
       "\n",
       "                                            geometry  \n",
       "0  LINESTRING Z (-119.39088 34.51163 0.00000, -11...  "
      ]
     },
     "execution_count": 8,
     "metadata": {},
     "output_type": "execute_result"
    }
   ],
   "source": [
    "strmseg_loc"
   ]
  },
  {
   "cell_type": "code",
   "execution_count": 9,
   "id": "db75e928",
   "metadata": {},
   "outputs": [
    {
     "data": {
      "text/plain": [
       "4"
      ]
     },
     "execution_count": 9,
     "metadata": {},
     "output_type": "execute_result"
    }
   ],
   "source": [
    "len(strmseg_loc.geometry[0].coords)"
   ]
  },
  {
   "cell_type": "code",
   "execution_count": 10,
   "id": "71935c89",
   "metadata": {},
   "outputs": [
    {
     "data": {
      "text/plain": [
       "<shapely.coords.CoordinateSequence at 0x7f2508c84550>"
      ]
     },
     "execution_count": 10,
     "metadata": {},
     "output_type": "execute_result"
    }
   ],
   "source": [
    "strmseg_loc.geometry[0].coords"
   ]
  },
  {
   "cell_type": "code",
   "execution_count": 11,
   "id": "ba774975",
   "metadata": {},
   "outputs": [
    {
     "name": "stdout",
     "output_type": "stream",
     "text": [
      "4\n"
     ]
    },
    {
     "ename": "AttributeError",
     "evalue": "'LineString' object has no attribute 'x'",
     "output_type": "error",
     "traceback": [
      "\u001b[0;31m---------------------------------------------------------------------------\u001b[0m",
      "\u001b[0;31mAttributeError\u001b[0m                            Traceback (most recent call last)",
      "Input \u001b[0;32mIn [11]\u001b[0m, in \u001b[0;36m<module>\u001b[0;34m\u001b[0m\n\u001b[1;32m      1\u001b[0m \u001b[38;5;66;03m# print(geomfeat.head(), geom2afeat.head())\u001b[39;00m\n\u001b[0;32m----> 2\u001b[0m xs \u001b[38;5;241m=\u001b[39m \u001b[43mXSGen\u001b[49m\u001b[43m(\u001b[49m\u001b[43mpoint\u001b[49m\u001b[38;5;241;43m=\u001b[39;49m\u001b[43mgageloc\u001b[49m\u001b[43m,\u001b[49m\u001b[43m \u001b[49m\u001b[43mcl_geom\u001b[49m\u001b[38;5;241;43m=\u001b[39;49m\u001b[43mstrmseg_loc\u001b[49m\u001b[43m,\u001b[49m\u001b[43m \u001b[49m\u001b[43mny\u001b[49m\u001b[38;5;241;43m=\u001b[39;49m\u001b[38;5;241;43m101\u001b[39;49m\u001b[43m,\u001b[49m\u001b[43m \u001b[49m\u001b[43mwidth\u001b[49m\u001b[38;5;241;43m=\u001b[39;49m\u001b[38;5;241;43m1000\u001b[39;49m\u001b[43m,\u001b[49m\u001b[43m \u001b[49m\u001b[43mtension\u001b[49m\u001b[38;5;241;43m=\u001b[39;49m\u001b[38;5;241;43m0.5\u001b[39;49m\u001b[43m)\u001b[49m\n\u001b[1;32m      3\u001b[0m xs_line \u001b[38;5;241m=\u001b[39m xs\u001b[38;5;241m.\u001b[39mget_xs()\n\u001b[1;32m      4\u001b[0m ax \u001b[38;5;241m=\u001b[39m plt\u001b[38;5;241m.\u001b[39msubplot(\u001b[38;5;241m111\u001b[39m)\n",
      "File \u001b[0;32m~/anaconda3/envs/py39/lib/python3.9/site-packages/nldi_xstool/XSGen.py:74\u001b[0m, in \u001b[0;36mXSGen.__init__\u001b[0;34m(self, point, cl_geom, ny, width, tension)\u001b[0m\n\u001b[1;32m     72\u001b[0m \u001b[38;5;28mself\u001b[39m\u001b[38;5;241m.\u001b[39mx \u001b[38;5;241m=\u001b[39m np\u001b[38;5;241m.\u001b[39mzeros(\u001b[38;5;28mself\u001b[39m\u001b[38;5;241m.\u001b[39mny, dtype\u001b[38;5;241m=\u001b[39mnp\u001b[38;5;241m.\u001b[39mdouble)\n\u001b[1;32m     73\u001b[0m \u001b[38;5;28mself\u001b[39m\u001b[38;5;241m.\u001b[39my \u001b[38;5;241m=\u001b[39m np\u001b[38;5;241m.\u001b[39mzeros(\u001b[38;5;28mself\u001b[39m\u001b[38;5;241m.\u001b[39mny, dtype\u001b[38;5;241m=\u001b[39mnp\u001b[38;5;241m.\u001b[39mdouble)\n\u001b[0;32m---> 74\u001b[0m \u001b[38;5;28;43mself\u001b[39;49m\u001b[38;5;241;43m.\u001b[39;49m\u001b[43m_buildxs\u001b[49m\u001b[43m(\u001b[49m\u001b[43m)\u001b[49m\n",
      "File \u001b[0;32m~/anaconda3/envs/py39/lib/python3.9/site-packages/nldi_xstool/XSGen.py:96\u001b[0m, in \u001b[0;36mXSGen._buildxs\u001b[0;34m(self)\u001b[0m\n\u001b[1;32m     94\u001b[0m delt \u001b[38;5;241m=\u001b[39m np\u001b[38;5;241m.\u001b[39mdouble(\u001b[38;5;28mself\u001b[39m\u001b[38;5;241m.\u001b[39mwidth \u001b[38;5;241m/\u001b[39m (\u001b[38;5;28mself\u001b[39m\u001b[38;5;241m.\u001b[39mny \u001b[38;5;241m-\u001b[39m \u001b[38;5;241m1\u001b[39m))\n\u001b[1;32m     95\u001b[0m nm \u001b[38;5;241m=\u001b[39m \u001b[38;5;28mint\u001b[39m((\u001b[38;5;28mself\u001b[39m\u001b[38;5;241m.\u001b[39mny \u001b[38;5;241m+\u001b[39m \u001b[38;5;241m1\u001b[39m) \u001b[38;5;241m/\u001b[39m \u001b[38;5;241m2\u001b[39m)\n\u001b[0;32m---> 96\u001b[0m index \u001b[38;5;241m=\u001b[39m \u001b[38;5;28;43mself\u001b[39;49m\u001b[38;5;241;43m.\u001b[39;49m\u001b[43m_get_perp_index\u001b[49m\u001b[43m(\u001b[49m\u001b[43mclx\u001b[49m\u001b[43m,\u001b[49m\u001b[43m \u001b[49m\u001b[43mcly\u001b[49m\u001b[43m)\u001b[49m\n\u001b[1;32m     98\u001b[0m \u001b[38;5;28;01mfor\u001b[39;00m \u001b[38;5;28mid\u001b[39m, j \u001b[38;5;129;01min\u001b[39;00m \u001b[38;5;28menumerate\u001b[39m(\u001b[38;5;28mrange\u001b[39m(\u001b[38;5;241m0\u001b[39m, \u001b[38;5;28mself\u001b[39m\u001b[38;5;241m.\u001b[39mny)):\n\u001b[1;32m     99\u001b[0m     \u001b[38;5;28mself\u001b[39m\u001b[38;5;241m.\u001b[39mx[\u001b[38;5;28mid\u001b[39m] \u001b[38;5;241m=\u001b[39m clx[index] \u001b[38;5;241m+\u001b[39m delt \u001b[38;5;241m*\u001b[39m (nm \u001b[38;5;241m-\u001b[39m j \u001b[38;5;241m-\u001b[39m \u001b[38;5;241m1\u001b[39m) \u001b[38;5;241m*\u001b[39m np\u001b[38;5;241m.\u001b[39msin(\n\u001b[1;32m    100\u001b[0m         \u001b[38;5;28mself\u001b[39m\u001b[38;5;241m.\u001b[39mcl\u001b[38;5;241m.\u001b[39mgetphiinterp(index)\n\u001b[1;32m    101\u001b[0m     )\n",
      "File \u001b[0;32m~/anaconda3/envs/py39/lib/python3.9/site-packages/nldi_xstool/XSGen.py:83\u001b[0m, in \u001b[0;36mXSGen._get_perp_index\u001b[0;34m(self, clx, cly)\u001b[0m\n\u001b[1;32m     80\u001b[0m \u001b[38;5;28mid\u001b[39m \u001b[38;5;241m=\u001b[39m \u001b[38;5;241m-\u001b[39m\u001b[38;5;241m1\u001b[39m\n\u001b[1;32m     81\u001b[0m \u001b[38;5;28;01mfor\u001b[39;00m index, p \u001b[38;5;129;01min\u001b[39;00m \u001b[38;5;28menumerate\u001b[39m(\u001b[38;5;28mzip\u001b[39m(clx, cly)):\n\u001b[1;32m     82\u001b[0m     dist \u001b[38;5;241m=\u001b[39m np\u001b[38;5;241m.\u001b[39msqrt(\n\u001b[0;32m---> 83\u001b[0m         np\u001b[38;5;241m.\u001b[39mpower(\u001b[38;5;28;43mself\u001b[39;49m\u001b[38;5;241;43m.\u001b[39;49m\u001b[43mpoint\u001b[49m\u001b[38;5;241;43m.\u001b[39;49m\u001b[43mgeometry\u001b[49m\u001b[43m[\u001b[49m\u001b[38;5;241;43m0\u001b[39;49m\u001b[43m]\u001b[49m\u001b[38;5;241;43m.\u001b[39;49m\u001b[43mx\u001b[49m \u001b[38;5;241m-\u001b[39m p[\u001b[38;5;241m0\u001b[39m], \u001b[38;5;241m2\u001b[39m)\n\u001b[1;32m     84\u001b[0m         \u001b[38;5;241m+\u001b[39m np\u001b[38;5;241m.\u001b[39mpower(\u001b[38;5;28mself\u001b[39m\u001b[38;5;241m.\u001b[39mpoint\u001b[38;5;241m.\u001b[39mgeometry[\u001b[38;5;241m0\u001b[39m]\u001b[38;5;241m.\u001b[39my \u001b[38;5;241m-\u001b[39m p[\u001b[38;5;241m1\u001b[39m], \u001b[38;5;241m2\u001b[39m)\n\u001b[1;32m     85\u001b[0m     )\n\u001b[1;32m     86\u001b[0m     \u001b[38;5;28;01mif\u001b[39;00m dist \u001b[38;5;241m<\u001b[39m mind:\n\u001b[1;32m     87\u001b[0m         mind \u001b[38;5;241m=\u001b[39m dist\n",
      "\u001b[0;31mAttributeError\u001b[0m: 'LineString' object has no attribute 'x'"
     ]
    }
   ],
   "source": [
    "\n",
    "\n",
    "\n",
    "# print(geomfeat.head(), geom2afeat.head())\n",
    "xs = XSGen(point=gageloc, cl_geom=strmseg_loc, ny=101, width=1000, tension=0.5)\n",
    "xs_line = xs.get_xs()\n",
    "ax = plt.subplot(111)\n",
    "gageloc.plot(ax=ax)\n",
    "strmseg_loc.plot(ax=ax)\n",
    "xs_line.plot(ax=ax)\n",
    "xs.get_strm_seg_spline().plot(ax=ax, colors='r')\n",
    "xs_line.envelope.plot(ax=ax, facecolor=\"none\", edgecolor='black')\n",
    "plt.show()\n",
    "\n"
   ]
  },
  {
   "cell_type": "code",
   "execution_count": null,
   "id": "01c12edf",
   "metadata": {},
   "outputs": [],
   "source": []
  },
  {
   "cell_type": "code",
   "execution_count": null,
   "id": "70f4db6d",
   "metadata": {},
   "outputs": [],
   "source": []
  },
  {
   "cell_type": "code",
   "execution_count": null,
   "id": "e024c314",
   "metadata": {},
   "outputs": [],
   "source": []
  },
  {
   "cell_type": "code",
   "execution_count": null,
   "id": "b8a57226",
   "metadata": {},
   "outputs": [],
   "source": [
    "\n",
    "\n",
    "print(type(xs_line.envelope.bounds))\n",
    "print(xs_line.envelope.bounds)\n",
    "print(strmseg_loc.to_crs('epsg:4326'))\n",
    "\n"
   ]
  },
  {
   "cell_type": "code",
   "execution_count": null,
   "id": "ff8c2159",
   "metadata": {},
   "outputs": [],
   "source": [
    "\n",
    "\n",
    "xs_line_geom = xs_line.to_crs('epsg:4326')\n",
    "print(xs_line_geom)\n",
    "bbox = xs_line_geom.geometry[0].envelope.bounds\n",
    "print(bbox)\n",
    "query = query_dems_bbox(bbox)\n",
    "print(query)\n",
    "\n"
   ]
  },
  {
   "cell_type": "code",
   "execution_count": null,
   "id": "9b7fdf21",
   "metadata": {},
   "outputs": [],
   "source": [
    "\n",
    "\n",
    "bbox = xs_line.geometry[0].bounds\n",
    "\n"
   ]
  },
  {
   "cell_type": "code",
   "execution_count": null,
   "id": "4698cc3e",
   "metadata": {},
   "outputs": [],
   "source": [
    "\n",
    "\n",
    "width = abs(bbox[0]-bbox[2])\n",
    "height = abs(bbox[1]-bbox[3])\n",
    "print(width, height)\n",
    "\n"
   ]
  },
  {
   "cell_type": "code",
   "execution_count": null,
   "id": "f1b7aa3e",
   "metadata": {},
   "outputs": [],
   "source": [
    "\n",
    "\n",
    "bb = xs_line.buffer(100)\n",
    "bb.geometry[0].bounds\n",
    "\n"
   ]
  },
  {
   "cell_type": "code",
   "execution_count": null,
   "id": "23dae33c",
   "metadata": {},
   "outputs": [],
   "source": [
    "\n",
    "\n",
    "bb1 = (xs_line.total_bounds) - ((100., 100., -100., -100.))\n",
    "tuple(bb1)\n",
    "\n"
   ]
  },
  {
   "cell_type": "code",
   "execution_count": null,
   "id": "009aebef",
   "metadata": {},
   "outputs": [],
   "source": [
    "\n",
    "\n",
    "#Buffer bounding box of cross-section otherwise interpolation with elevation below returns nans near end points\n",
    "xs_line_geom = xs_line.to_crs('epsg:3857')\n",
    "print(xs_line_geom)\n",
    "t1 = (xs_line_geom.total_bounds) + ((-100.,-100.,100., 100.))\n",
    "dem = py3dep.get_map(\"DEM\", tuple(t1), resolution=10, geo_crs=\"EPSG:3857\", crs=\"epsg:3857\")\n",
    "\n",
    "ax = plt.subplot(111)\n",
    "strmseg_loc.plot(ax=ax)\n",
    "xs_line_geom.plot(ax=ax, colors='black')\n",
    "xs.get_strm_seg_spline().plot(ax=ax, colors='r')\n",
    "xs_line.envelope.plot(ax=ax, facecolor=\"none\", edgecolor='black')\n",
    "dem.plot(ax=ax)\n",
    "gageloc.plot(ax=ax)\n",
    "ax.axis('equal')\n",
    "# plt.tight_layout()\n",
    "\n"
   ]
  },
  {
   "cell_type": "code",
   "execution_count": null,
   "id": "346012e2",
   "metadata": {},
   "outputs": [],
   "source": [
    "\n",
    "\n",
    "x,y = xs.get_xs_points()\n",
    "dsx = xr.DataArray(x, dims='z')\n",
    "dsy = xr.DataArray(y, dims='z')\n",
    "dsi = dem.interp(x=('z',x), y=('z',y))\n",
    "dsi.plot()\n",
    "print(type(dsi))\n",
    "\n"
   ]
  },
  {
   "cell_type": "code",
   "execution_count": null,
   "id": "b0a95399",
   "metadata": {},
   "outputs": [],
   "source": [
    "\n",
    "\n",
    "pdsi = dsi.to_dataframe()\n",
    "x = dsi.coords['x'].values -dsi.coords['x'].values[0]\n",
    "y = dsi.coords['y'].values -dsi.coords['y'].values[0]\n",
    "dist = np.hypot(x,y)\n",
    "print(dist)\n",
    "pdsi['distance'] = dist\n",
    "pdsi\n",
    "\n"
   ]
  },
  {
   "cell_type": "code",
   "execution_count": null,
   "id": "39b2534b",
   "metadata": {},
   "outputs": [],
   "source": [
    "values = dsi.values\n",
    "lmi = np.where(values == max(values[:49]))[0][0]\n",
    "rmi = np.where(values == max(values[50:]))[0][0]\n",
    "print(lmi,rmi, values[lmi], values[rmi])"
   ]
  },
  {
   "cell_type": "code",
   "execution_count": null,
   "id": "b26f822e",
   "metadata": {},
   "outputs": [],
   "source": [
    "dsi[lmi:rmi].plot()"
   ]
  },
  {
   "cell_type": "code",
   "execution_count": null,
   "id": "79dd9ad3",
   "metadata": {},
   "outputs": [],
   "source": [
    "x = dsi.coords['x'].values[lmi:rmi] -dsi.coords['x'].values[lmi]\n",
    "y = dsi.coords['y'].values[lmi:rmi] -dsi.coords['y'].values[lmi]\n",
    "dist = np.hypot(x,y)\n",
    "elev = dsi.values[lmi:rmi]\n",
    "tlen = len(dist)\n",
    "# print(tlen)\n",
    "sta2 = np.zeros((tlen,2))\n",
    "t = []\n",
    "for index,(tx,ty) in enumerate(zip(dist,elev)):\n",
    "    if not np.isnan(ty):\n",
    "        a = np.array((tx,ty))\n",
    "        sta2[index] = a\n",
    "#         print(a)\n",
    "    else:\n",
    "        t.append(index)"
   ]
  },
  {
   "cell_type": "code",
   "execution_count": null,
   "id": "d50d5402",
   "metadata": {},
   "outputs": [],
   "source": [
    "site='11114495'\n",
    "meas = nwis.get_record(sites=site, service='measurements')\n",
    "si = nwis.get_record(sites=site, service='site')\n"
   ]
  },
  {
   "cell_type": "code",
   "execution_count": null,
   "id": "731b9bb3",
   "metadata": {},
   "outputs": [],
   "source": [
    "meas"
   ]
  },
  {
   "cell_type": "code",
   "execution_count": null,
   "id": "f88f5d6c",
   "metadata": {},
   "outputs": [],
   "source": [
    "si"
   ]
  },
  {
   "cell_type": "code",
   "execution_count": null,
   "id": "2725e30e",
   "metadata": {},
   "outputs": [],
   "source": [
    "\n",
    "\n",
    "meas1 = meas.loc[(meas['measured_rating_diff'].isin(['Good','Fair','Poor']))]\n",
    "meas1.head()\n",
    "meas1.reset_index(inplace = True)\n",
    "\n"
   ]
  },
  {
   "cell_type": "code",
   "execution_count": null,
   "id": "7710fb18",
   "metadata": {},
   "outputs": [],
   "source": [
    "\n",
    "\n",
    "meas1.loc[:,'stage_elev'] = meas1.loc[:,'gage_height_va'].values\n",
    "# add gage datum to gage measurements\n",
    "meas1.loc[:,'stage_elev'] += si.loc[:,'alt_va'].values\n",
    "meas1.loc[:,'stage_elev'] *= 0.3048\n",
    "meas1.loc[:,'discharge_va'] *= 0.02831\n",
    "# meas = pd.read_csv('usgs06759500.csv', header=None, names=['stage','discharge'])\n",
    "ax = plt.subplot(111)\n",
    "meas1.plot.scatter(x='discharge_va', y='stage_elev', ax = ax)\n",
    "#plt.scatter(q_values, stage_values, color='black')\n",
    "\n"
   ]
  },
  {
   "cell_type": "markdown",
   "id": "ba841a19",
   "metadata": {},
   "source": [
    "NWIS USGS data for ‘measurements’, ‘site info’, ‘annual maximum discharge’ (and return interval), ‘instantaneous’ discharge, and ‘daily’ discharge"
   ]
  },
  {
   "cell_type": "code",
   "execution_count": null,
   "id": "fe4e59a4",
   "metadata": {},
   "outputs": [],
   "source": [
    "site='11114495'\n",
    "measurements = nwis.get_record(sites=site, service='measurements')\n",
    "site_info = nwis.get_record(sites=site, service='site')\n",
    "#annual_maximum_discharge =  nwis.get_record(sites=site, service='site')\n",
    "instantaneous_discharge = nwis.get_record(sites=site, service='iv', start='2014-12-31', end='2020-01-01')\n",
    "daily_discharge = nwis.get_record(sites=site, service='dv', start='2014-12-31', end='2020-01-01')\n",
    "peak_discharge = nwis.get_record(sites=site, service='peaks', start='2014-12-31', end='2020-01-01')"
   ]
  },
  {
   "cell_type": "code",
   "execution_count": null,
   "id": "4bb5cc11",
   "metadata": {},
   "outputs": [],
   "source": [
    "daily_discharge"
   ]
  },
  {
   "cell_type": "code",
   "execution_count": null,
   "id": "a949388b",
   "metadata": {},
   "outputs": [],
   "source": [
    "instantaneous_discharge"
   ]
  },
  {
   "cell_type": "code",
   "execution_count": null,
   "id": "2568dc9f",
   "metadata": {},
   "outputs": [],
   "source": [
    "site_info"
   ]
  },
  {
   "cell_type": "markdown",
   "id": "b7e3496a",
   "metadata": {},
   "source": [
    "peak_discharge is the peak discharge value for a year"
   ]
  },
  {
   "cell_type": "code",
   "execution_count": null,
   "id": "a3819214",
   "metadata": {},
   "outputs": [],
   "source": [
    "peak_discharge"
   ]
  },
  {
   "cell_type": "markdown",
   "id": "83947cb5",
   "metadata": {},
   "source": [
    "Plotring daily discharge vs flow amount (values>500 cfs)"
   ]
  },
  {
   "cell_type": "code",
   "execution_count": null,
   "id": "805d24d0",
   "metadata": {},
   "outputs": [],
   "source": [
    "\n",
    "threshold_met = daily_discharge.loc[daily_discharge['00060_Mean'] >= 100]\n",
    "print(threshold_met)\n",
    "\n",
    "\n",
    "fig, ax = plt.subplots()\n",
    "ax.scatter(x= threshold_met.index, y=threshold_met['00060_Mean'])\n",
    "ax.set_title(\"Daily Mean Discharge Values Above 500 cfs\")\n",
    "ax.set_xlabel(\"Date\")\n",
    "ax.set_ylabel(\"Discharge\")\n",
    "plt.xticks(rotation = 45)\n",
    "plt.show()\n",
    "\n",
    "        "
   ]
  },
  {
   "cell_type": "markdown",
   "id": "b9ed8247",
   "metadata": {},
   "source": [
    "Dates of flow above 100 cfs:"
   ]
  },
  {
   "cell_type": "code",
   "execution_count": null,
   "id": "eb69e014",
   "metadata": {},
   "outputs": [],
   "source": [
    "dates = [ time.strftime(\"%Y-%m-%d\") for time in threshold_met.index.tolist()]\n",
    "print(dates)"
   ]
  },
  {
   "cell_type": "markdown",
   "id": "bb87c00d",
   "metadata": {},
   "source": [
    "Plotting the cross-sections for the Matilija NHD reaches"
   ]
  },
  {
   "cell_type": "code",
   "execution_count": null,
   "id": "c381eb4c",
   "metadata": {},
   "outputs": [],
   "source": [
    "mainstemFile = \"../Matilija_gis_files/MatilijaCreek_mainstem.shp\"\n",
    "mainstemShapefile = geopandas.read_file(mainstemFile)\n",
    "mainstemShapefile.geometry.name\n"
   ]
  },
  {
   "cell_type": "code",
   "execution_count": null,
   "id": "e33c830e",
   "metadata": {},
   "outputs": [],
   "source": [
    "mainstemShapefile['centroid_column'] = mainstemShapefile.centroid"
   ]
  },
  {
   "cell_type": "code",
   "execution_count": null,
   "id": "3f099b7f",
   "metadata": {},
   "outputs": [],
   "source": [
    "mainstemShapefile = mainstemShapefile.set_geometry('centroid_column')\n",
    "\n",
    "mainstemShapefile.plot();"
   ]
  },
  {
   "cell_type": "code",
   "execution_count": null,
   "id": "6fcb81cc",
   "metadata": {},
   "outputs": [],
   "source": [
    "mainstemShapefile['centroid_column'].head()"
   ]
  },
  {
   "cell_type": "code",
   "execution_count": null,
   "id": "b5663764",
   "metadata": {},
   "outputs": [],
   "source": [
    "mainstemShapefile.head()"
   ]
  },
  {
   "cell_type": "markdown",
   "id": "7cf08836",
   "metadata": {},
   "source": [
    "Now I need to pass the coordinate points into the xstool functions."
   ]
  },
  {
   "cell_type": "code",
   "execution_count": null,
   "id": "b13e40b0",
   "metadata": {},
   "outputs": [],
   "source": [
    "mainstemShapefile.geometry[0].coords"
   ]
  },
  {
   "cell_type": "code",
   "execution_count": null,
   "id": "a13dc738",
   "metadata": {},
   "outputs": [],
   "source": [
    "strmseg_loc = NLDI().getfeature_byid(\"comid\", cid[0]).to_crs('epsg:3857')\n",
    "xs = XSGen(point=mainstemShapefile, cl_geom=strmseg_loc, ny=101, width=1000, tension=0.5)\n",
    "xs_line = xs.get_xs()"
   ]
  },
  {
   "cell_type": "code",
   "execution_count": null,
   "id": "d0150749",
   "metadata": {},
   "outputs": [],
   "source": [
    "\n",
    "\n",
    "x,y = xs.get_xs_points()\n",
    "dsx = xr.DataArray(x, dims='z')\n",
    "dsy = xr.DataArray(y, dims='z')\n",
    "dsi = dem.interp(x=('z',x), y=('z',y))\n",
    "dsi.plot()\n",
    "print(type(dsi))\n",
    "\n"
   ]
  },
  {
   "cell_type": "code",
   "execution_count": null,
   "id": "680361f5",
   "metadata": {},
   "outputs": [],
   "source": []
  }
 ],
 "metadata": {
  "kernelspec": {
   "display_name": "Python 3 (ipykernel)",
   "language": "python",
   "name": "python3"
  },
  "language_info": {
   "codemirror_mode": {
    "name": "ipython",
    "version": 3
   },
   "file_extension": ".py",
   "mimetype": "text/x-python",
   "name": "python",
   "nbconvert_exporter": "python",
   "pygments_lexer": "ipython3",
   "version": "3.9.7"
  }
 },
 "nbformat": 4,
 "nbformat_minor": 5
}
