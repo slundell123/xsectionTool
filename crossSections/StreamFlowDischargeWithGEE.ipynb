{
 "cells": [
  {
   "cell_type": "code",
   "execution_count": 1,
   "id": "c4f22540",
   "metadata": {},
   "outputs": [
    {
     "name": "stderr",
     "output_type": "stream",
     "text": [
      "/home/sarah/anaconda3/envs/py39/lib/python3.9/site-packages/geopandas/_compat.py:111: UserWarning: The Shapely GEOS version (3.9.1-CAPI-1.14.2) is incompatible with the GEOS version PyGEOS was compiled with (3.10.1-CAPI-1.16.0). Conversions between both will be slow.\n",
      "  warnings.warn(\n"
     ]
    }
   ],
   "source": [
    "import nldi_xstool\n",
    "%matplotlib inline\n",
    "from nldi_xstool.XSGen import XSGen\n",
    "from nldi_xstool.ancillary import query_dems_bbox\n",
    "import py3dep\n",
    "from pynhd import NLDI, NHDPlusHR, WaterData\n",
    "import xarray as xr\n",
    "from matplotlib import pyplot as plt\n",
    "import numpy as np\n",
    "import pandas as pd\n",
    "import dataretrieval.nwis as nwis\n",
    "\n",
    "import ee # Google Earth Engine"
   ]
  },
  {
   "cell_type": "markdown",
   "id": "0efdad8a",
   "metadata": {},
   "source": [
    "## Use NWIS data to get days of high discharge from gage locations\n",
    "\n",
    "getSiteData uses NWIS to get data about a registered data collection location with a stream gage."
   ]
  },
  {
   "cell_type": "code",
   "execution_count": 2,
   "id": "0877e013",
   "metadata": {},
   "outputs": [],
   "source": [
    "def getSiteData(site_number, start_date, end_date):\n",
    "    measurements = nwis.get_record(sites=site_number, service='measurements')\n",
    "    site_info = nwis.get_record(sites=site_number, service='site')\n",
    "    instantaneous_discharge = nwis.get_record(sites=site_number, service='iv', start=start_date, end=end_date)\n",
    "    daily_discharge = nwis.get_record(sites=site_number, service='dv', start=start_date, end=end_date)\n",
    "    peak_discharge = nwis.get_record(sites=site_number, service='peaks', start=start_date, end=end_date)\n",
    "    return [measurements, site_info, instantaneous_discharge, daily_discharge, peak_discharge]"
   ]
  },
  {
   "cell_type": "markdown",
   "id": "3ebea977",
   "metadata": {},
   "source": [
    "getDailyDischargeFromSite gets just the daily discharge data based on the selected site."
   ]
  },
  {
   "cell_type": "code",
   "execution_count": 3,
   "id": "ce682a79",
   "metadata": {},
   "outputs": [],
   "source": [
    "def getDailyDischargeFromSite(site_number, start_date, end_date):\n",
    "    return nwis.get_record(sites=site_number, service='dv', start=start_date, end=end_date)"
   ]
  },
  {
   "cell_type": "markdown",
   "id": "b31c45c3",
   "metadata": {},
   "source": [
    "getDailyDischargeValuesAboveThreshold returns the dataframe rows form the NWIS daily discharge dataset that are above a given discharge threshold. This function optionally displays a graph of the results."
   ]
  },
  {
   "cell_type": "code",
   "execution_count": 4,
   "id": "df72786c",
   "metadata": {},
   "outputs": [],
   "source": [
    "def getDailyDischargeValuesAboveThreshold(daily_discharge, discharge_cfs_threshold, plot_dates = True): \n",
    "    threshold_met = daily_discharge.loc[daily_discharge['00060_Mean'] >= discharge_cfs_threshold]\n",
    "    \n",
    "    # optional plotting of dates\n",
    "    if(plot_dates):\n",
    "        fig, ax = plt.subplots()\n",
    "        ax.scatter(x= threshold_met.index, y=threshold_met['00060_Mean'])\n",
    "        title_text = \"Willamette River at Harrisburg, OR: Daily Mean Discharge Values Above \"+str(discharge_cfs_threshold)+\" cfs\"\n",
    "        ax.set_title(title_text)\n",
    "        ax.set_xlabel(\"Dates\")\n",
    "        ax.set_ylabel(\"Discharge\")\n",
    "        plt.xticks(rotation = 45)\n",
    "        plt.show()\n",
    "        \n",
    "    return threshold_met"
   ]
  },
  {
   "cell_type": "code",
   "execution_count": 5,
   "id": "f8837084",
   "metadata": {},
   "outputs": [],
   "source": [
    "def getDailyDischargeValuesBetweenThresholds(daily_discharge, discharge_cfs_threshold_lower, discharge_cfs_threshold_upper, plot_dates = True): \n",
    "    threshold_met = daily_discharge.loc[daily_discharge['00060_Mean'] >= discharge_cfs_threshold_lower].loc[daily_discharge['00060_Mean'] <= discharge_cfs_threshold_upper]\n",
    "    \n",
    "    # optional plotting of dates\n",
    "    if(plot_dates):\n",
    "        fig, ax = plt.subplots()\n",
    "        ax.scatter(x= threshold_met.index, y=threshold_met['00060_Mean'])\n",
    "        title_text = \"Willamette River at Harrisburg, OR: Daily Mean Discharge Values Between \" +str(discharge_cfs_threshold_lower)+ \" and \" +str(discharge_cfs_threshold_upper)+ \" cfs\"\n",
    "        ax.set_title(title_text)\n",
    "        ax.set_xlabel(\"Dates\")\n",
    "        ax.set_ylabel(\"Discharge\")\n",
    "        plt.xticks(rotation = 45)\n",
    "        plt.show()\n",
    "        \n",
    "    return threshold_met"
   ]
  },
  {
   "cell_type": "markdown",
   "id": "c78e99d3",
   "metadata": {},
   "source": [
    "reformatDatesForGoogleEarthEngine formats the dates from the NWIS datafram so that they can be used in Google Earth Engine"
   ]
  },
  {
   "cell_type": "code",
   "execution_count": 6,
   "id": "5f934958",
   "metadata": {},
   "outputs": [],
   "source": [
    "def reformatDatesForGoogleEarthEngine(discharge_threshold_met_dataframe):\n",
    "    date = [ time.strftime(\"%Y-%m-%d\") for time in discharge_threshold_met_dataframe.index.tolist()]\n",
    "    return date"
   ]
  },
  {
   "cell_type": "markdown",
   "id": "9a5ace5e",
   "metadata": {},
   "source": [
    "getDatesAboveDischargeThreshold combines the above functions into one call"
   ]
  },
  {
   "cell_type": "code",
   "execution_count": 49,
   "id": "ec9fdffa",
   "metadata": {},
   "outputs": [],
   "source": [
    "def getDatesAboveDischargeThreshold(site_number, start_date, end_date, discharge_cfs_threshold, plot_dates = True):\n",
    "    # get data for site by site number\n",
    "    daily_discharge = getDailyDischargeFromSite(site_number, start_date, end_date)\n",
    "    \n",
    "    # get dataframe values for given discharge threshold\n",
    "    discharge_threshold_met_dataframe = getDailyDischargeValuesAboveThreshold(daily_discharge, discharge_cfs_threshold, plot_dates)\n",
    "    \n",
    "    # return the dates in Google Earth Engine format\n",
    "    return reformatDatesForGoogleEarthEngine(discharge_threshold_met_dataframe), discharge_threshold_met_dataframe"
   ]
  },
  {
   "cell_type": "code",
   "execution_count": 50,
   "id": "24e8c784",
   "metadata": {},
   "outputs": [],
   "source": [
    "def getDatesBetweenDischargeThreshold(site_number, start_date, end_date, discharge_cfs_threshold_lower, discharge_cfs_threshold_upper, plot_dates = True):\n",
    "    # get data for site by site number\n",
    "    daily_discharge = getDailyDischargeFromSite(site_number, start_date, end_date)\n",
    "    \n",
    "    # get dataframe values for given discharge threshold\n",
    "    discharge_threshold_met_dataframe = getDailyDischargeValuesBetweenThresholds(daily_discharge, discharge_cfs_threshold_lower, discharge_cfs_threshold_upper, plot_dates)\n",
    "    \n",
    "    # return the dates in Google Earth Engine format\n",
    "    return reformatDatesForGoogleEarthEngine(discharge_threshold_met_dataframe), discharge_threshold_met_dataframe"
   ]
  },
  {
   "cell_type": "markdown",
   "id": "7093cc17",
   "metadata": {},
   "source": [
    "getDischargeFromDate takes a site number and a date and returns the mean discharge for that day. This will later be used for graphing area vs discharge."
   ]
  },
  {
   "cell_type": "code",
   "execution_count": 9,
   "id": "2d25384a",
   "metadata": {},
   "outputs": [],
   "source": [
    "def getDischargeFromDate(site_number, date):\n",
    "    dateRange = dateToString(date)\n",
    "    return getDailyDischargeFromSite(site_number, dateRange[0], dateRange[1]).iloc[0][\"00060_Mean\"]"
   ]
  },
  {
   "cell_type": "markdown",
   "id": "b76b6d98",
   "metadata": {},
   "source": [
    "Case 1: Matilija"
   ]
  },
  {
   "cell_type": "code",
   "execution_count": 51,
   "id": "5abc700a",
   "metadata": {},
   "outputs": [
    {
     "data": {
      "image/png": "[encoded data removed]",
      "text/plain": [
       "<Figure size 432x288 with 1 Axes>"
      ]
     },
     "metadata": {
      "needs_background": "light"
     },
     "output_type": "display_data"
    }
   ],
   "source": [
    "matilija_site_number='11114495'\n",
    "start_date = '2014-12-31'\n",
    "end_date = '2020-01-01'\n",
    "matilija_discharge_cfs_threshold = 100\n",
    "\n",
    "matilija_dates_above_threshold, matilija_dates_df = getDatesAboveDischargeThreshold(matilija_site_number, start_date, end_date, \n",
    "                                                                 matilija_discharge_cfs_threshold)"
   ]
  },
  {
   "cell_type": "code",
   "execution_count": 11,
   "id": "a8c43c95",
   "metadata": {},
   "outputs": [
    {
     "name": "stdout",
     "output_type": "stream",
     "text": [
      "['2017-01-22', '2017-01-23', '2017-02-06', '2017-02-17', '2017-02-18', '2017-02-19', '2017-02-20', '2017-02-21', '2017-02-22', '2017-02-23', '2017-02-24', '2017-02-25', '2018-01-09', '2018-03-21', '2018-03-22', '2018-03-23', '2019-01-15', '2019-01-17', '2019-01-18', '2019-02-02', '2019-02-03', '2019-02-04', '2019-02-05', '2019-02-06', '2019-02-07', '2019-02-08', '2019-02-09', '2019-02-10', '2019-02-11', '2019-02-12', '2019-02-13', '2019-02-14', '2019-02-15', '2019-02-16', '2019-02-17', '2019-02-18', '2019-02-19', '2019-02-20', '2019-02-21', '2019-02-22', '2019-02-23', '2019-03-02', '2019-03-03', '2019-03-04', '2019-03-05', '2019-03-06', '2019-03-07', '2019-03-08', '2019-03-09', '2019-03-10', '2019-03-11', '2019-03-12', '2019-03-13', '2019-03-14', '2019-03-15', '2019-03-16', '2019-03-17', '2019-03-18', '2019-03-19', '2019-03-20']\n"
     ]
    }
   ],
   "source": [
    "print(matilija_dates_above_threshold)"
   ]
  },
  {
   "cell_type": "code",
   "execution_count": 52,
   "id": "650e702d",
   "metadata": {},
   "outputs": [
    {
     "data": {
      "text/html": [
       "<div>\n",
       "<style scoped>\n",
       "    .dataframe tbody tr th:only-of-type {\n",
       "        vertical-align: middle;\n",
       "    }\n",
       "\n",
       "    .dataframe tbody tr th {\n",
       "        vertical-align: top;\n",
       "    }\n",
       "\n",
       "    .dataframe thead th {\n",
       "        text-align: right;\n",
       "    }\n",
       "</style>\n",
       "<table border=\"1\" class=\"dataframe\">\n",
       "  <thead>\n",
       "    <tr style=\"text-align: right;\">\n",
       "      <th></th>\n",
       "      <th>00060_Mean</th>\n",
       "      <th>00060_Mean_cd</th>\n",
       "      <th>site_no</th>\n",
       "    </tr>\n",
       "    <tr>\n",
       "      <th>datetime</th>\n",
       "      <th></th>\n",
       "      <th></th>\n",
       "      <th></th>\n",
       "    </tr>\n",
       "  </thead>\n",
       "  <tbody>\n",
       "    <tr>\n",
       "      <th>2017-01-22 00:00:00+00:00</th>\n",
       "      <td>322.0</td>\n",
       "      <td>A</td>\n",
       "      <td>11114495</td>\n",
       "    </tr>\n",
       "    <tr>\n",
       "      <th>2017-01-23 00:00:00+00:00</th>\n",
       "      <td>236.0</td>\n",
       "      <td>A</td>\n",
       "      <td>11114495</td>\n",
       "    </tr>\n",
       "    <tr>\n",
       "      <th>2017-02-06 00:00:00+00:00</th>\n",
       "      <td>120.0</td>\n",
       "      <td>A</td>\n",
       "      <td>11114495</td>\n",
       "    </tr>\n",
       "    <tr>\n",
       "      <th>2017-02-17 00:00:00+00:00</th>\n",
       "      <td>2180.0</td>\n",
       "      <td>A</td>\n",
       "      <td>11114495</td>\n",
       "    </tr>\n",
       "    <tr>\n",
       "      <th>2017-02-18 00:00:00+00:00</th>\n",
       "      <td>1490.0</td>\n",
       "      <td>A</td>\n",
       "      <td>11114495</td>\n",
       "    </tr>\n",
       "    <tr>\n",
       "      <th>2017-02-19 00:00:00+00:00</th>\n",
       "      <td>393.0</td>\n",
       "      <td>A</td>\n",
       "      <td>11114495</td>\n",
       "    </tr>\n",
       "    <tr>\n",
       "      <th>2017-02-20 00:00:00+00:00</th>\n",
       "      <td>279.0</td>\n",
       "      <td>A</td>\n",
       "      <td>11114495</td>\n",
       "    </tr>\n",
       "    <tr>\n",
       "      <th>2017-02-21 00:00:00+00:00</th>\n",
       "      <td>216.0</td>\n",
       "      <td>A</td>\n",
       "      <td>11114495</td>\n",
       "    </tr>\n",
       "    <tr>\n",
       "      <th>2017-02-22 00:00:00+00:00</th>\n",
       "      <td>175.0</td>\n",
       "      <td>A</td>\n",
       "      <td>11114495</td>\n",
       "    </tr>\n",
       "    <tr>\n",
       "      <th>2017-02-23 00:00:00+00:00</th>\n",
       "      <td>143.0</td>\n",
       "      <td>A</td>\n",
       "      <td>11114495</td>\n",
       "    </tr>\n",
       "    <tr>\n",
       "      <th>2017-02-24 00:00:00+00:00</th>\n",
       "      <td>120.0</td>\n",
       "      <td>A</td>\n",
       "      <td>11114495</td>\n",
       "    </tr>\n",
       "    <tr>\n",
       "      <th>2017-02-25 00:00:00+00:00</th>\n",
       "      <td>104.0</td>\n",
       "      <td>A</td>\n",
       "      <td>11114495</td>\n",
       "    </tr>\n",
       "    <tr>\n",
       "      <th>2018-01-09 00:00:00+00:00</th>\n",
       "      <td>1800.0</td>\n",
       "      <td>A, e</td>\n",
       "      <td>11114495</td>\n",
       "    </tr>\n",
       "    <tr>\n",
       "      <th>2018-03-21 00:00:00+00:00</th>\n",
       "      <td>105.0</td>\n",
       "      <td>A, e</td>\n",
       "      <td>11114495</td>\n",
       "    </tr>\n",
       "    <tr>\n",
       "      <th>2018-03-22 00:00:00+00:00</th>\n",
       "      <td>340.0</td>\n",
       "      <td>A</td>\n",
       "      <td>11114495</td>\n",
       "    </tr>\n",
       "    <tr>\n",
       "      <th>2018-03-23 00:00:00+00:00</th>\n",
       "      <td>142.0</td>\n",
       "      <td>A</td>\n",
       "      <td>11114495</td>\n",
       "    </tr>\n",
       "    <tr>\n",
       "      <th>2019-01-15 00:00:00+00:00</th>\n",
       "      <td>145.0</td>\n",
       "      <td>A</td>\n",
       "      <td>11114495</td>\n",
       "    </tr>\n",
       "    <tr>\n",
       "      <th>2019-01-17 00:00:00+00:00</th>\n",
       "      <td>984.0</td>\n",
       "      <td>A, e</td>\n",
       "      <td>11114495</td>\n",
       "    </tr>\n",
       "    <tr>\n",
       "      <th>2019-01-18 00:00:00+00:00</th>\n",
       "      <td>108.0</td>\n",
       "      <td>A, e</td>\n",
       "      <td>11114495</td>\n",
       "    </tr>\n",
       "    <tr>\n",
       "      <th>2019-02-02 00:00:00+00:00</th>\n",
       "      <td>1010.0</td>\n",
       "      <td>A, e</td>\n",
       "      <td>11114495</td>\n",
       "    </tr>\n",
       "    <tr>\n",
       "      <th>2019-02-03 00:00:00+00:00</th>\n",
       "      <td>497.0</td>\n",
       "      <td>A, e</td>\n",
       "      <td>11114495</td>\n",
       "    </tr>\n",
       "    <tr>\n",
       "      <th>2019-02-04 00:00:00+00:00</th>\n",
       "      <td>619.0</td>\n",
       "      <td>A, e</td>\n",
       "      <td>11114495</td>\n",
       "    </tr>\n",
       "    <tr>\n",
       "      <th>2019-02-05 00:00:00+00:00</th>\n",
       "      <td>313.0</td>\n",
       "      <td>A, e</td>\n",
       "      <td>11114495</td>\n",
       "    </tr>\n",
       "    <tr>\n",
       "      <th>2019-02-06 00:00:00+00:00</th>\n",
       "      <td>248.0</td>\n",
       "      <td>A, e</td>\n",
       "      <td>11114495</td>\n",
       "    </tr>\n",
       "    <tr>\n",
       "      <th>2019-02-07 00:00:00+00:00</th>\n",
       "      <td>197.0</td>\n",
       "      <td>A, e</td>\n",
       "      <td>11114495</td>\n",
       "    </tr>\n",
       "    <tr>\n",
       "      <th>2019-02-08 00:00:00+00:00</th>\n",
       "      <td>160.0</td>\n",
       "      <td>A, e</td>\n",
       "      <td>11114495</td>\n",
       "    </tr>\n",
       "    <tr>\n",
       "      <th>2019-02-09 00:00:00+00:00</th>\n",
       "      <td>137.0</td>\n",
       "      <td>A, e</td>\n",
       "      <td>11114495</td>\n",
       "    </tr>\n",
       "    <tr>\n",
       "      <th>2019-02-10 00:00:00+00:00</th>\n",
       "      <td>122.0</td>\n",
       "      <td>A, e</td>\n",
       "      <td>11114495</td>\n",
       "    </tr>\n",
       "    <tr>\n",
       "      <th>2019-02-11 00:00:00+00:00</th>\n",
       "      <td>115.0</td>\n",
       "      <td>A, e</td>\n",
       "      <td>11114495</td>\n",
       "    </tr>\n",
       "    <tr>\n",
       "      <th>2019-02-12 00:00:00+00:00</th>\n",
       "      <td>107.0</td>\n",
       "      <td>A</td>\n",
       "      <td>11114495</td>\n",
       "    </tr>\n",
       "    <tr>\n",
       "      <th>2019-02-13 00:00:00+00:00</th>\n",
       "      <td>111.0</td>\n",
       "      <td>A</td>\n",
       "      <td>11114495</td>\n",
       "    </tr>\n",
       "    <tr>\n",
       "      <th>2019-02-14 00:00:00+00:00</th>\n",
       "      <td>615.0</td>\n",
       "      <td>A</td>\n",
       "      <td>11114495</td>\n",
       "    </tr>\n",
       "    <tr>\n",
       "      <th>2019-02-15 00:00:00+00:00</th>\n",
       "      <td>298.0</td>\n",
       "      <td>A</td>\n",
       "      <td>11114495</td>\n",
       "    </tr>\n",
       "    <tr>\n",
       "      <th>2019-02-16 00:00:00+00:00</th>\n",
       "      <td>245.0</td>\n",
       "      <td>A, e</td>\n",
       "      <td>11114495</td>\n",
       "    </tr>\n",
       "    <tr>\n",
       "      <th>2019-02-17 00:00:00+00:00</th>\n",
       "      <td>206.0</td>\n",
       "      <td>A</td>\n",
       "      <td>11114495</td>\n",
       "    </tr>\n",
       "    <tr>\n",
       "      <th>2019-02-18 00:00:00+00:00</th>\n",
       "      <td>175.0</td>\n",
       "      <td>A</td>\n",
       "      <td>11114495</td>\n",
       "    </tr>\n",
       "    <tr>\n",
       "      <th>2019-02-19 00:00:00+00:00</th>\n",
       "      <td>154.0</td>\n",
       "      <td>A</td>\n",
       "      <td>11114495</td>\n",
       "    </tr>\n",
       "    <tr>\n",
       "      <th>2019-02-20 00:00:00+00:00</th>\n",
       "      <td>137.0</td>\n",
       "      <td>A</td>\n",
       "      <td>11114495</td>\n",
       "    </tr>\n",
       "    <tr>\n",
       "      <th>2019-02-21 00:00:00+00:00</th>\n",
       "      <td>120.0</td>\n",
       "      <td>A</td>\n",
       "      <td>11114495</td>\n",
       "    </tr>\n",
       "    <tr>\n",
       "      <th>2019-02-22 00:00:00+00:00</th>\n",
       "      <td>109.0</td>\n",
       "      <td>A</td>\n",
       "      <td>11114495</td>\n",
       "    </tr>\n",
       "    <tr>\n",
       "      <th>2019-02-23 00:00:00+00:00</th>\n",
       "      <td>101.0</td>\n",
       "      <td>A</td>\n",
       "      <td>11114495</td>\n",
       "    </tr>\n",
       "    <tr>\n",
       "      <th>2019-03-02 00:00:00+00:00</th>\n",
       "      <td>181.0</td>\n",
       "      <td>A</td>\n",
       "      <td>11114495</td>\n",
       "    </tr>\n",
       "    <tr>\n",
       "      <th>2019-03-03 00:00:00+00:00</th>\n",
       "      <td>144.0</td>\n",
       "      <td>A</td>\n",
       "      <td>11114495</td>\n",
       "    </tr>\n",
       "    <tr>\n",
       "      <th>2019-03-04 00:00:00+00:00</th>\n",
       "      <td>122.0</td>\n",
       "      <td>A</td>\n",
       "      <td>11114495</td>\n",
       "    </tr>\n",
       "    <tr>\n",
       "      <th>2019-03-05 00:00:00+00:00</th>\n",
       "      <td>115.0</td>\n",
       "      <td>A</td>\n",
       "      <td>11114495</td>\n",
       "    </tr>\n",
       "    <tr>\n",
       "      <th>2019-03-06 00:00:00+00:00</th>\n",
       "      <td>362.0</td>\n",
       "      <td>A</td>\n",
       "      <td>11114495</td>\n",
       "    </tr>\n",
       "    <tr>\n",
       "      <th>2019-03-07 00:00:00+00:00</th>\n",
       "      <td>268.0</td>\n",
       "      <td>A</td>\n",
       "      <td>11114495</td>\n",
       "    </tr>\n",
       "    <tr>\n",
       "      <th>2019-03-08 00:00:00+00:00</th>\n",
       "      <td>232.0</td>\n",
       "      <td>A</td>\n",
       "      <td>11114495</td>\n",
       "    </tr>\n",
       "    <tr>\n",
       "      <th>2019-03-09 00:00:00+00:00</th>\n",
       "      <td>206.0</td>\n",
       "      <td>A</td>\n",
       "      <td>11114495</td>\n",
       "    </tr>\n",
       "    <tr>\n",
       "      <th>2019-03-10 00:00:00+00:00</th>\n",
       "      <td>189.0</td>\n",
       "      <td>A</td>\n",
       "      <td>11114495</td>\n",
       "    </tr>\n",
       "    <tr>\n",
       "      <th>2019-03-11 00:00:00+00:00</th>\n",
       "      <td>174.0</td>\n",
       "      <td>A</td>\n",
       "      <td>11114495</td>\n",
       "    </tr>\n",
       "    <tr>\n",
       "      <th>2019-03-12 00:00:00+00:00</th>\n",
       "      <td>160.0</td>\n",
       "      <td>A</td>\n",
       "      <td>11114495</td>\n",
       "    </tr>\n",
       "    <tr>\n",
       "      <th>2019-03-13 00:00:00+00:00</th>\n",
       "      <td>144.0</td>\n",
       "      <td>A</td>\n",
       "      <td>11114495</td>\n",
       "    </tr>\n",
       "    <tr>\n",
       "      <th>2019-03-14 00:00:00+00:00</th>\n",
       "      <td>132.0</td>\n",
       "      <td>A</td>\n",
       "      <td>11114495</td>\n",
       "    </tr>\n",
       "    <tr>\n",
       "      <th>2019-03-15 00:00:00+00:00</th>\n",
       "      <td>124.0</td>\n",
       "      <td>A</td>\n",
       "      <td>11114495</td>\n",
       "    </tr>\n",
       "    <tr>\n",
       "      <th>2019-03-16 00:00:00+00:00</th>\n",
       "      <td>118.0</td>\n",
       "      <td>A</td>\n",
       "      <td>11114495</td>\n",
       "    </tr>\n",
       "    <tr>\n",
       "      <th>2019-03-17 00:00:00+00:00</th>\n",
       "      <td>113.0</td>\n",
       "      <td>A</td>\n",
       "      <td>11114495</td>\n",
       "    </tr>\n",
       "    <tr>\n",
       "      <th>2019-03-18 00:00:00+00:00</th>\n",
       "      <td>108.0</td>\n",
       "      <td>A</td>\n",
       "      <td>11114495</td>\n",
       "    </tr>\n",
       "    <tr>\n",
       "      <th>2019-03-19 00:00:00+00:00</th>\n",
       "      <td>105.0</td>\n",
       "      <td>A</td>\n",
       "      <td>11114495</td>\n",
       "    </tr>\n",
       "    <tr>\n",
       "      <th>2019-03-20 00:00:00+00:00</th>\n",
       "      <td>105.0</td>\n",
       "      <td>A</td>\n",
       "      <td>11114495</td>\n",
       "    </tr>\n",
       "  </tbody>\n",
       "</table>\n",
       "</div>"
      ],
      "text/plain": [
       "                           00060_Mean 00060_Mean_cd   site_no\n",
       "datetime                                                     \n",
       "2017-01-22 00:00:00+00:00       322.0             A  11114495\n",
       "2017-01-23 00:00:00+00:00       236.0             A  11114495\n",
       "2017-02-06 00:00:00+00:00       120.0             A  11114495\n",
       "2017-02-17 00:00:00+00:00      2180.0             A  11114495\n",
       "2017-02-18 00:00:00+00:00      1490.0             A  11114495\n",
       "2017-02-19 00:00:00+00:00       393.0             A  11114495\n",
       "2017-02-20 00:00:00+00:00       279.0             A  11114495\n",
       "2017-02-21 00:00:00+00:00       216.0             A  11114495\n",
       "2017-02-22 00:00:00+00:00       175.0             A  11114495\n",
       "2017-02-23 00:00:00+00:00       143.0             A  11114495\n",
       "2017-02-24 00:00:00+00:00       120.0             A  11114495\n",
       "2017-02-25 00:00:00+00:00       104.0             A  11114495\n",
       "2018-01-09 00:00:00+00:00      1800.0          A, e  11114495\n",
       "2018-03-21 00:00:00+00:00       105.0          A, e  11114495\n",
       "2018-03-22 00:00:00+00:00       340.0             A  11114495\n",
       "2018-03-23 00:00:00+00:00       142.0             A  11114495\n",
       "2019-01-15 00:00:00+00:00       145.0             A  11114495\n",
       "2019-01-17 00:00:00+00:00       984.0          A, e  11114495\n",
       "2019-01-18 00:00:00+00:00       108.0          A, e  11114495\n",
       "2019-02-02 00:00:00+00:00      1010.0          A, e  11114495\n",
       "2019-02-03 00:00:00+00:00       497.0          A, e  11114495\n",
       "2019-02-04 00:00:00+00:00       619.0          A, e  11114495\n",
       "2019-02-05 00:00:00+00:00       313.0          A, e  11114495\n",
       "2019-02-06 00:00:00+00:00       248.0          A, e  11114495\n",
       "2019-02-07 00:00:00+00:00       197.0          A, e  11114495\n",
       "2019-02-08 00:00:00+00:00       160.0          A, e  11114495\n",
       "2019-02-09 00:00:00+00:00       137.0          A, e  11114495\n",
       "2019-02-10 00:00:00+00:00       122.0          A, e  11114495\n",
       "2019-02-11 00:00:00+00:00       115.0          A, e  11114495\n",
       "2019-02-12 00:00:00+00:00       107.0             A  11114495\n",
       "2019-02-13 00:00:00+00:00       111.0             A  11114495\n",
       "2019-02-14 00:00:00+00:00       615.0             A  11114495\n",
       "2019-02-15 00:00:00+00:00       298.0             A  11114495\n",
       "2019-02-16 00:00:00+00:00       245.0          A, e  11114495\n",
       "2019-02-17 00:00:00+00:00       206.0             A  11114495\n",
       "2019-02-18 00:00:00+00:00       175.0             A  11114495\n",
       "2019-02-19 00:00:00+00:00       154.0             A  11114495\n",
       "2019-02-20 00:00:00+00:00       137.0             A  11114495\n",
       "2019-02-21 00:00:00+00:00       120.0             A  11114495\n",
       "2019-02-22 00:00:00+00:00       109.0             A  11114495\n",
       "2019-02-23 00:00:00+00:00       101.0             A  11114495\n",
       "2019-03-02 00:00:00+00:00       181.0             A  11114495\n",
       "2019-03-03 00:00:00+00:00       144.0             A  11114495\n",
       "2019-03-04 00:00:00+00:00       122.0             A  11114495\n",
       "2019-03-05 00:00:00+00:00       115.0             A  11114495\n",
       "2019-03-06 00:00:00+00:00       362.0             A  11114495\n",
       "2019-03-07 00:00:00+00:00       268.0             A  11114495\n",
       "2019-03-08 00:00:00+00:00       232.0             A  11114495\n",
       "2019-03-09 00:00:00+00:00       206.0             A  11114495\n",
       "2019-03-10 00:00:00+00:00       189.0             A  11114495\n",
       "2019-03-11 00:00:00+00:00       174.0             A  11114495\n",
       "2019-03-12 00:00:00+00:00       160.0             A  11114495\n",
       "2019-03-13 00:00:00+00:00       144.0             A  11114495\n",
       "2019-03-14 00:00:00+00:00       132.0             A  11114495\n",
       "2019-03-15 00:00:00+00:00       124.0             A  11114495\n",
       "2019-03-16 00:00:00+00:00       118.0             A  11114495\n",
       "2019-03-17 00:00:00+00:00       113.0             A  11114495\n",
       "2019-03-18 00:00:00+00:00       108.0             A  11114495\n",
       "2019-03-19 00:00:00+00:00       105.0             A  11114495\n",
       "2019-03-20 00:00:00+00:00       105.0             A  11114495"
      ]
     },
     "execution_count": 52,
     "metadata": {},
     "output_type": "execute_result"
    }
   ],
   "source": [
    "matilija_dates_df"
   ]
  },
  {
   "cell_type": "markdown",
   "id": "ccb33990",
   "metadata": {},
   "source": [
    "Case 2: Willamette River at Harrisburg, OR"
   ]
  },
  {
   "cell_type": "code",
   "execution_count": 12,
   "id": "f86f7b85",
   "metadata": {},
   "outputs": [
    {
     "data": {
      "image/png": "[encoded data removed]",
      "text/plain": [
       "<Figure size 432x288 with 1 Axes>"
      ]
     },
     "metadata": {
      "needs_background": "light"
     },
     "output_type": "display_data"
    }
   ],
   "source": [
    "willamette_site_number='14166000'\n",
    "start_date = '2001-10-01'\n",
    "end_date = '2021-09-30'\n",
    "willamette_discharge_cfs_threshold = 30000\n",
    "\n",
    "willamette_dates_above_threshold = getDatesAboveDischargeThreshold(willamette_site_number, start_date, end_date, \n",
    "                                                                 willamette_discharge_cfs_threshold)"
   ]
  },
  {
   "cell_type": "code",
   "execution_count": 13,
   "id": "e63b9aee",
   "metadata": {},
   "outputs": [
    {
     "name": "stdout",
     "output_type": "stream",
     "text": [
      "['2001-12-07', '2001-12-14', '2001-12-15', '2001-12-17', '2001-12-18', '2001-12-19', '2001-12-20', '2001-12-21', '2001-12-22', '2002-01-22', '2002-01-26', '2002-01-27', '2002-04-15', '2002-04-16', '2002-12-31', '2003-01-01', '2003-01-03', '2003-01-04', '2003-01-05', '2003-01-31', '2003-02-01', '2003-02-02', '2003-03-26', '2003-03-27', '2003-03-28', '2003-12-14', '2003-12-15', '2003-12-16', '2003-12-17', '2003-12-18', '2003-12-19', '2004-01-25', '2004-01-29', '2004-01-31', '2004-02-01', '2004-02-02', '2004-02-03', '2004-12-10', '2004-12-12', '2005-12-29', '2005-12-30', '2005-12-31', '2006-01-01', '2006-01-02', '2006-01-03', '2006-01-04', '2006-01-05', '2006-01-06', '2006-01-07', '2006-01-08', '2006-01-09', '2006-01-10', '2006-01-11', '2006-01-12', '2006-01-13', '2006-01-14', '2006-01-15', '2006-01-16', '2006-01-17', '2006-01-18', '2006-01-19', '2006-01-20', '2006-01-21', '2006-01-22', '2006-01-23', '2006-01-24', '2006-01-25', '2006-01-26', '2006-01-27', '2006-01-28', '2006-01-29', '2006-01-30', '2006-01-31', '2006-02-01', '2006-02-02', '2006-02-03', '2006-02-04', '2006-02-05', '2006-02-06', '2006-11-23', '2006-11-24', '2006-11-25', '2006-11-26', '2006-11-27', '2006-12-14', '2006-12-15', '2006-12-17', '2006-12-18', '2006-12-19', '2006-12-24', '2006-12-25', '2006-12-26', '2006-12-27', '2006-12-28', '2006-12-29', '2006-12-30', '2006-12-31', '2007-01-01', '2007-01-02', '2007-01-03', '2007-01-04', '2007-01-05', '2007-01-09', '2007-01-10', '2007-01-11', '2007-11-19', '2007-12-24', '2007-12-25', '2007-12-26', '2008-01-09', '2008-01-11', '2008-01-12', '2008-01-13', '2008-01-14', '2008-01-15', '2008-12-29', '2008-12-30', '2008-12-31', '2009-01-01', '2009-01-02', '2009-01-03', '2009-01-04', '2009-01-05', '2009-01-06', '2009-01-07', '2009-01-08', '2009-01-09', '2009-01-10', '2009-01-11', '2009-01-12', '2009-01-13', '2009-01-14', '2009-01-15', '2010-01-02', '2010-01-06', '2010-01-07', '2010-01-08', '2010-01-09', '2010-06-03', '2010-06-04', '2010-06-05', '2010-06-06', '2010-06-07', '2010-06-08', '2010-06-09', '2010-12-02', '2010-12-03', '2010-12-14', '2010-12-15', '2010-12-16', '2010-12-17', '2010-12-18', '2010-12-19', '2010-12-20', '2010-12-21', '2010-12-22', '2010-12-23', '2010-12-29', '2010-12-30', '2011-01-16', '2011-01-17', '2011-01-18', '2011-01-19', '2011-01-20', '2011-01-21', '2011-01-22', '2011-01-23', '2011-01-24', '2011-01-25', '2011-04-17', '2011-04-18', '2011-12-31', '2012-01-19', '2012-01-20', '2012-01-21', '2012-01-22', '2012-01-23', '2012-01-24', '2012-01-25', '2012-01-26', '2012-01-27', '2012-01-28', '2012-01-29', '2012-01-30', '2012-01-31', '2012-03-16', '2012-03-17', '2012-03-18', '2012-03-21', '2012-03-22', '2012-03-23', '2012-03-24', '2012-03-25', '2012-03-29', '2012-03-30', '2012-03-31', '2012-04-01', '2012-04-02', '2012-04-03', '2012-04-04', '2012-04-05', '2012-04-06', '2012-11-21', '2012-11-22', '2012-11-23', '2012-11-24', '2012-11-25', '2012-11-26', '2012-11-27', '2012-11-28', '2012-11-29', '2012-11-30', '2012-12-01', '2012-12-02', '2012-12-03', '2012-12-04', '2012-12-05', '2012-12-06', '2012-12-07', '2012-12-08', '2012-12-09', '2012-12-10', '2012-12-11', '2012-12-12', '2012-12-18', '2014-02-12', '2014-02-13', '2014-02-14', '2014-02-15', '2014-02-16', '2014-02-17', '2014-02-18', '2014-02-19', '2014-02-20', '2014-02-21', '2014-02-22', '2014-02-23', '2014-02-24', '2014-02-25', '2014-03-04', '2014-03-05', '2014-03-06', '2014-03-07', '2014-03-08', '2014-03-09', '2014-03-10', '2014-03-11', '2014-03-12', '2014-03-13', '2014-03-14', '2014-11-29', '2014-11-30', '2014-12-02', '2014-12-03', '2014-12-21', '2014-12-22', '2014-12-23', '2014-12-24', '2014-12-25', '2014-12-26', '2014-12-27', '2014-12-28', '2014-12-29', '2014-12-30', '2014-12-31', '2015-01-01', '2015-01-02', '2015-01-03', '2015-12-11', '2015-12-12', '2015-12-13', '2015-12-14', '2015-12-15', '2015-12-16', '2015-12-17', '2015-12-18', '2015-12-19', '2015-12-20', '2015-12-21', '2015-12-22', '2015-12-23', '2015-12-24', '2015-12-25', '2015-12-26', '2015-12-27', '2015-12-28', '2015-12-29', '2016-01-18', '2016-01-20', '2016-01-21', '2016-01-22', '2016-01-23', '2016-01-30', '2016-12-15', '2016-12-16', '2016-12-17', '2016-12-21', '2017-02-22', '2017-03-09', '2017-03-10', '2017-03-11', '2017-03-16', '2017-03-17', '2017-03-19', '2017-04-27', '2017-11-24', '2017-11-25', '2017-11-26', '2019-04-08', '2019-04-09', '2019-04-10', '2019-04-11', '2019-04-12', '2019-04-13', '2019-04-14', '2019-04-15', '2019-04-16', '2019-04-17', '2019-04-18', '2020-01-28', '2020-01-29', '2020-01-30', '2020-01-31', '2020-02-01', '2020-12-21', '2020-12-22', '2020-12-23']\n"
     ]
    }
   ],
   "source": [
    "print(willamette_dates_above_threshold)"
   ]
  },
  {
   "cell_type": "markdown",
   "id": "6b897a86",
   "metadata": {},
   "source": [
    "Case 3: Mississippi River at Vicksburg, MS"
   ]
  },
  {
   "cell_type": "code",
   "execution_count": 14,
   "id": "1278ecac",
   "metadata": {},
   "outputs": [
    {
     "data": {
      "image/png": "[encoded data removed]",
      "text/plain": [
       "<Figure size 432x288 with 1 Axes>"
      ]
     },
     "metadata": {
      "needs_background": "light"
     },
     "output_type": "display_data"
    }
   ],
   "source": [
    "mississippi_site_number='07289000'\n",
    "start_date = '2001-10-01'\n",
    "end_date = '2021-09-30'\n",
    "mississippi_discharge_cfs_threshold = 1200000\n",
    "\n",
    "mississippi_dates_above_threshold = getDatesAboveDischargeThreshold(mississippi_site_number, start_date, end_date, \n",
    "                                                                 mississippi_discharge_cfs_threshold)"
   ]
  },
  {
   "cell_type": "code",
   "execution_count": 15,
   "id": "7ff34796",
   "metadata": {},
   "outputs": [
    {
     "name": "stdout",
     "output_type": "stream",
     "text": [
      "['2008-03-16', '2008-03-17', '2008-03-18', '2008-03-19', '2008-03-20', '2008-03-21', '2008-03-22', '2008-03-23', '2008-03-24', '2008-03-25', '2008-03-26', '2008-03-27', '2008-03-28', '2008-03-29', '2008-03-30', '2008-03-31', '2008-04-01', '2008-04-02', '2008-04-03', '2008-04-04', '2008-04-05', '2008-04-06', '2008-04-07', '2008-04-08', '2008-04-09', '2008-04-10', '2008-04-11', '2008-04-12', '2008-04-13', '2008-04-14', '2008-04-15', '2008-04-16', '2008-04-17', '2008-04-18', '2008-04-19', '2008-04-20', '2008-04-21', '2008-04-22', '2008-04-23', '2008-04-24', '2008-04-25', '2008-04-26', '2008-04-27', '2008-04-28', '2008-04-29', '2008-04-30', '2008-05-01', '2008-05-02', '2008-05-03', '2008-05-04', '2008-05-05', '2008-05-06', '2008-05-07', '2008-05-08', '2008-05-09', '2008-05-10', '2008-05-11', '2009-05-09', '2009-05-10', '2009-05-11', '2009-05-12', '2009-05-13', '2009-05-14', '2009-05-15', '2009-05-16', '2009-05-17', '2009-05-18', '2009-05-19', '2009-05-20', '2009-05-21', '2009-05-22', '2009-05-23', '2009-05-24', '2009-05-25', '2009-05-26', '2009-05-27', '2009-05-28', '2009-05-29', '2009-05-30', '2009-05-31', '2009-06-01', '2009-06-02', '2009-06-03', '2009-06-04', '2009-06-05', '2009-11-11', '2010-02-05', '2010-02-06', '2010-02-07', '2010-02-08', '2010-02-09', '2010-02-10', '2010-02-11', '2010-02-12', '2010-02-13', '2010-02-14', '2010-02-15', '2010-02-16', '2010-02-17', '2010-02-18', '2010-02-19', '2010-05-14', '2010-05-15', '2010-05-16', '2010-05-17', '2010-05-18', '2010-05-19', '2010-05-20', '2010-05-21', '2010-05-22', '2010-05-23', '2010-05-24', '2010-05-25', '2010-05-26', '2010-05-27', '2010-05-28', '2010-05-29', '2010-05-30', '2010-05-31', '2010-06-01', '2011-03-13', '2011-03-14', '2011-03-15', '2011-03-16', '2011-03-17', '2011-03-18', '2011-03-19', '2011-03-20', '2011-03-21', '2011-03-22', '2011-03-23', '2011-03-24', '2011-03-25', '2011-03-26', '2011-03-27', '2011-03-28', '2011-03-29', '2011-03-30', '2011-03-31', '2011-04-01', '2011-04-02', '2011-04-03', '2011-04-04', '2011-04-05', '2011-04-06', '2011-04-07', '2011-04-25', '2011-04-26', '2011-04-27', '2011-04-28', '2011-04-29', '2011-04-30', '2011-05-01', '2011-05-02', '2011-05-03', '2011-05-04', '2011-05-05', '2011-05-06', '2011-05-07', '2011-05-08', '2011-05-09', '2011-05-10', '2011-05-11', '2011-05-12', '2011-05-13', '2011-05-14', '2011-05-15', '2011-05-16', '2011-05-17', '2011-05-18', '2011-05-19', '2011-05-20', '2011-05-21', '2011-05-22', '2011-05-23', '2011-05-24', '2011-05-25', '2011-05-26', '2011-05-27', '2011-05-28', '2011-05-29', '2011-05-30', '2011-05-31', '2011-06-01', '2011-06-02', '2011-06-03', '2011-06-04', '2011-06-05', '2011-06-06', '2011-06-07', '2011-06-08', '2011-06-09', '2011-06-10', '2011-06-11', '2011-06-12', '2011-06-13', '2011-06-14', '2013-05-02', '2013-05-03', '2013-05-04', '2013-05-05', '2013-05-06', '2013-05-07', '2013-05-08', '2013-05-09', '2013-05-10', '2013-05-11', '2013-05-12', '2013-05-13', '2013-05-14', '2013-05-15', '2013-05-16', '2013-05-17', '2013-05-18', '2013-05-19', '2013-05-20', '2013-05-21', '2013-05-22', '2013-05-23', '2013-05-24', '2013-05-25', '2013-05-26', '2013-05-27', '2015-03-22', '2015-03-23', '2015-03-24', '2015-03-25', '2015-03-26', '2015-03-27', '2015-03-28', '2015-03-29', '2015-03-30', '2015-03-31', '2015-04-01', '2015-04-02', '2015-04-03', '2015-04-04', '2015-04-05', '2015-04-06', '2015-04-26', '2015-04-27', '2015-04-28', '2015-04-29', '2015-04-30', '2015-05-01', '2015-05-02', '2015-07-04', '2015-07-05', '2015-07-06', '2015-07-07', '2015-07-08', '2015-07-09', '2015-07-10', '2015-07-11', '2015-07-12', '2015-07-13', '2015-07-14', '2015-07-15', '2015-07-16', '2015-07-17', '2015-07-18', '2015-07-19', '2015-07-20', '2015-07-21', '2015-07-22', '2015-07-23', '2015-07-24', '2015-07-25', '2015-07-26', '2015-07-27', '2015-07-28', '2015-07-29', '2015-07-30', '2015-07-31', '2015-08-01', '2015-08-02', '2015-08-03', '2015-08-04', '2015-08-05', '2015-12-31', '2016-01-01', '2016-01-02', '2016-01-03', '2016-01-04', '2016-01-05', '2016-01-06', '2016-01-07', '2016-01-08', '2016-01-09', '2016-01-10', '2016-01-11', '2016-01-12', '2016-01-13', '2016-01-14', '2016-01-15', '2016-01-16', '2016-01-17', '2016-01-18', '2016-01-19', '2016-01-20', '2016-01-21', '2016-01-22', '2016-01-23', '2016-01-24', '2016-01-25', '2016-01-26', '2016-01-27', '2016-01-28', '2016-03-14', '2016-03-15', '2016-03-16', '2016-03-17', '2016-03-18', '2016-03-19', '2016-03-20', '2016-03-21', '2017-05-06', '2017-05-07', '2017-05-08', '2017-05-09', '2017-05-10', '2017-05-11', '2017-05-12', '2017-05-13', '2017-05-14', '2017-05-15', '2017-05-16', '2017-05-17', '2017-05-18', '2017-05-19', '2017-05-20', '2017-05-21', '2017-05-22', '2017-05-23', '2017-05-24', '2017-05-25', '2017-05-26', '2017-05-27', '2017-05-28', '2017-05-29', '2017-05-30', '2017-05-31', '2017-06-01', '2017-06-02', '2017-06-03', '2017-06-04', '2017-06-05', '2017-06-06', '2017-06-07', '2017-06-08', '2017-06-09', '2017-06-10', '2017-06-11', '2017-06-12', '2018-02-26', '2018-02-27', '2018-02-28', '2018-03-01', '2018-03-02', '2018-03-03', '2018-03-04', '2018-03-05', '2018-03-06', '2018-03-07', '2018-03-08', '2018-03-09', '2018-03-10', '2018-03-11', '2018-03-12', '2018-03-13', '2018-03-14', '2018-03-15', '2018-03-16', '2018-03-17', '2018-03-18', '2018-03-19', '2018-03-20', '2018-03-21', '2018-03-22', '2018-03-23', '2018-03-24', '2018-03-25', '2018-03-26', '2018-03-27', '2018-03-28', '2018-03-29', '2018-03-30', '2018-04-04', '2018-04-05', '2018-04-06', '2018-04-07', '2018-04-08', '2018-04-09', '2018-04-10', '2018-04-11', '2018-04-12', '2018-04-13', '2018-04-14', '2018-04-15', '2018-04-16', '2018-04-17', '2018-04-18', '2018-04-19', '2018-04-20', '2018-04-21', '2018-04-22', '2018-04-23', '2018-04-24', '2018-04-25', '2018-04-26', '2019-01-07', '2019-01-08', '2019-01-09', '2019-01-10', '2019-01-11', '2019-01-12', '2019-01-13', '2019-01-14', '2019-01-15', '2019-01-16', '2019-01-17', '2019-01-18', '2019-01-19', '2019-01-20', '2019-01-21', '2019-01-22', '2019-01-23', '2019-01-24', '2019-01-25', '2019-01-26', '2019-01-27', '2019-01-28', '2019-01-29', '2019-01-30', '2019-01-31', '2019-02-01', '2019-02-02', '2019-02-03', '2019-02-04', '2019-02-05', '2019-02-06', '2019-02-07', '2019-02-08', '2019-02-09', '2019-02-10', '2019-02-11', '2019-02-12', '2019-02-13', '2019-02-14', '2019-02-15', '2019-02-16', '2019-02-17', '2019-02-18', '2019-02-19', '2019-02-20', '2019-02-21', '2019-02-22', '2019-02-23', '2019-02-24', '2019-02-25', '2019-02-26', '2019-02-27', '2019-02-28', '2019-03-01', '2019-03-02', '2019-03-03', '2019-03-04', '2019-03-05', '2019-03-06', '2019-03-07', '2019-03-08', '2019-03-09', '2019-03-10', '2019-03-11', '2019-03-12', '2019-03-13', '2019-03-14', '2019-03-15', '2019-03-16', '2019-03-17', '2019-03-18', '2019-03-19', '2019-03-20', '2019-03-21', '2019-03-22', '2019-03-23', '2019-03-24', '2019-03-25', '2019-03-26', '2019-03-27', '2019-03-28', '2019-03-29', '2019-03-30', '2019-03-31', '2019-04-01', '2019-04-02', '2019-04-03', '2019-04-04', '2019-04-05', '2019-04-06', '2019-04-07', '2019-04-08', '2019-04-09', '2019-04-10', '2019-04-11', '2019-04-12', '2019-04-13', '2019-04-14', '2019-04-15', '2019-04-16', '2019-04-17', '2019-04-18', '2019-04-19', '2019-04-20', '2019-04-21', '2019-04-22', '2019-04-23', '2019-04-24', '2019-04-25', '2019-04-26', '2019-04-27', '2019-04-28', '2019-04-29', '2019-04-30', '2019-05-01', '2019-05-02', '2019-05-03', '2019-05-04', '2019-05-05', '2019-05-06', '2019-05-07', '2019-05-08', '2019-05-09', '2019-05-10', '2019-05-11', '2019-05-12', '2019-05-13', '2019-05-14', '2019-05-15', '2019-05-16', '2019-05-17', '2019-05-18', '2019-05-19', '2019-05-20', '2019-05-21', '2019-05-22', '2019-05-23', '2019-05-24', '2019-05-25', '2019-05-26', '2019-05-27', '2019-05-28', '2019-05-29', '2019-05-30', '2019-05-31', '2019-06-01', '2019-06-02', '2019-06-03', '2019-06-04', '2019-06-05', '2019-06-06', '2019-06-07', '2019-06-08', '2019-06-09', '2019-06-10', '2019-06-11', '2019-06-12', '2019-06-13', '2019-06-14', '2019-06-15', '2019-06-16', '2019-06-17', '2019-06-18', '2019-06-19', '2019-06-20', '2019-06-21', '2019-06-22', '2019-06-23', '2019-06-24', '2019-06-25', '2019-06-26', '2019-06-27', '2019-06-28', '2019-06-29', '2019-06-30', '2019-07-01', '2019-07-02', '2019-07-03', '2019-07-04', '2019-07-05', '2019-07-06', '2019-07-07', '2019-07-08', '2019-07-09', '2019-07-10', '2019-07-11', '2019-07-12', '2019-07-13', '2019-07-14', '2019-07-15', '2019-07-16', '2019-07-17', '2019-07-18', '2019-07-19', '2019-07-20', '2019-07-21', '2019-07-22', '2019-07-23', '2019-07-24', '2019-07-25', '2019-07-26', '2019-07-27', '2020-01-15', '2020-01-16', '2020-01-17', '2020-01-18', '2020-01-19', '2020-01-20', '2020-01-21', '2020-01-22', '2020-01-23', '2020-01-24', '2020-01-25', '2020-01-26', '2020-01-27', '2020-01-28', '2020-01-29', '2020-01-30', '2020-01-31', '2020-02-01', '2020-02-02', '2020-02-03', '2020-02-04', '2020-02-05', '2020-02-06', '2020-02-07', '2020-02-08', '2020-02-09', '2020-02-10', '2020-02-11', '2020-02-12', '2020-02-13', '2020-02-14', '2020-02-15', '2020-02-16', '2020-02-17', '2020-02-18', '2020-02-19', '2020-02-20', '2020-02-21', '2020-02-22', '2020-02-23', '2020-02-24', '2020-02-25', '2020-02-26', '2020-02-27', '2020-02-28', '2020-02-29', '2020-03-01', '2020-03-02', '2020-03-03', '2020-03-04', '2020-03-05', '2020-03-06', '2020-03-07', '2020-03-08', '2020-03-09', '2020-03-10', '2020-03-11', '2020-03-12', '2020-03-13', '2020-03-14', '2020-03-15', '2020-03-16', '2020-03-17', '2020-03-18', '2020-03-19', '2020-03-20', '2020-03-21', '2020-03-22', '2020-03-23', '2020-03-24', '2020-03-25', '2020-03-26', '2020-03-27', '2020-03-28', '2020-03-29', '2020-03-30', '2020-03-31', '2020-04-01', '2020-04-02', '2020-04-03', '2020-04-04', '2020-04-05', '2020-04-06', '2020-04-07', '2020-04-08', '2020-04-09', '2020-04-10', '2020-04-11', '2020-04-12', '2020-04-13', '2020-04-14', '2020-04-15', '2020-04-16', '2020-04-17', '2020-04-18', '2020-04-19', '2020-04-20', '2020-04-21', '2020-04-22', '2020-04-23', '2020-04-24', '2020-04-25', '2020-04-26', '2020-04-27', '2020-04-28', '2020-04-29', '2020-04-30', '2020-05-01', '2020-05-02', '2020-05-03', '2020-05-04', '2020-05-05', '2020-05-06', '2020-05-07', '2020-05-08', '2020-05-09', '2020-05-10', '2020-05-11', '2020-05-12', '2020-05-13', '2020-05-14', '2020-05-15', '2020-05-16', '2020-05-17', '2020-05-18', '2020-05-19', '2020-05-20', '2020-05-21', '2020-05-29', '2020-05-30', '2020-05-31', '2020-06-01', '2020-06-02', '2020-06-03', '2020-06-04', '2020-06-05', '2020-06-06', '2020-06-07', '2020-06-08', '2020-06-09', '2020-06-10', '2020-06-11', '2020-06-12', '2020-06-13', '2020-06-14', '2020-06-15', '2020-06-16', '2021-03-14', '2021-03-15', '2021-03-16', '2021-03-17', '2021-03-18', '2021-03-19', '2021-03-20', '2021-03-21', '2021-03-22', '2021-03-23', '2021-03-24', '2021-03-25', '2021-03-26', '2021-03-27', '2021-03-28', '2021-03-29', '2021-03-30', '2021-03-31', '2021-04-01', '2021-04-02', '2021-04-03', '2021-04-04', '2021-04-05', '2021-04-06', '2021-04-07', '2021-04-08', '2021-04-09', '2021-04-10', '2021-04-11', '2021-04-12', '2021-04-13', '2021-04-14', '2021-04-15', '2021-04-16', '2021-04-17', '2021-04-18', '2021-04-19']\n"
     ]
    }
   ],
   "source": [
    "print(mississippi_dates_above_threshold)"
   ]
  },
  {
   "cell_type": "markdown",
   "id": "a7138c92",
   "metadata": {},
   "source": [
    "Now, we want to take to above dates and run them in Google Earth Engine. The below code gets a verification token to authenticate the user."
   ]
  },
  {
   "cell_type": "markdown",
   "id": "2a0e9725",
   "metadata": {},
   "source": [
    "## Mapping dates with Google Earth Engine"
   ]
  },
  {
   "cell_type": "code",
   "execution_count": 16,
   "id": "f6cf426a",
   "metadata": {},
   "outputs": [
    {
     "data": {
      "text/html": [
       "<p>To authorize access needed by Earth Engine, open the following\n",
       "        URL in a web browser and follow the instructions:</p>\n",
       "        <p><a href=https://code.earthengine.google.com/client-auth?scopes=https%3A//www.googleapis.com/auth/earthengine%20https%3A//www.googleapis.com/auth/devstorage.full_control&request_id=4G6oe263SoQ60H_96kzWJPeQjs31C3o6ncwG4f3qSD0&tc=QKjzi4eI7l1zUCEpIw0TbU_G6C7rpOgClVbGFHb11uw&cc=N3ykTShAMaxb8x9xa8ujzZXcYmUjaYO-BnRmpqRmb2c>https://code.earthengine.google.com/client-auth?scopes=https%3A//www.googleapis.com/auth/earthengine%20https%3A//www.googleapis.com/auth/devstorage.full_control&request_id=4G6oe263SoQ60H_96kzWJPeQjs31C3o6ncwG4f3qSD0&tc=QKjzi4eI7l1zUCEpIw0TbU_G6C7rpOgClVbGFHb11uw&cc=N3ykTShAMaxb8x9xa8ujzZXcYmUjaYO-BnRmpqRmb2c</a></p>\n",
       "        <p>The authorization workflow will generate a code, which you\n",
       "        should paste in the box below</p>\n",
       "        "
      ],
      "text/plain": [
       "<IPython.core.display.HTML object>"
      ]
     },
     "metadata": {},
     "output_type": "display_data"
    },
    {
     "name": "stdout",
     "output_type": "stream",
     "text": [
      "Enter verification code: 4/1AX4XfWhPeHhIXXeIoShpYLIakc4moXams_HCPemuAekeBMfctGparTE4hlo\n",
      "\n",
      "Successfully saved authorization token.\n"
     ]
    }
   ],
   "source": [
    "ee.Authenticate()"
   ]
  },
  {
   "cell_type": "code",
   "execution_count": 17,
   "id": "b418acba",
   "metadata": {},
   "outputs": [],
   "source": [
    "ee.Initialize()"
   ]
  },
  {
   "cell_type": "markdown",
   "id": "b2752f9d",
   "metadata": {},
   "source": [
    "Getting satellite data for imaging."
   ]
  },
  {
   "cell_type": "code",
   "execution_count": 18,
   "id": "c0926435",
   "metadata": {},
   "outputs": [],
   "source": [
    "\n",
    "sentinel2 = ee.ImageCollection(\"COPERNICUS/S2_SR_HARMONIZED\");\n",
    "landsat8 = ee.ImageCollection(\"LANDSAT/LC08/C02/T1_TOA\")\n"
   ]
  },
  {
   "cell_type": "markdown",
   "id": "d10d677c",
   "metadata": {},
   "source": [
    "Helper functions to use ee"
   ]
  },
  {
   "cell_type": "code",
   "execution_count": 19,
   "id": "57ce739f",
   "metadata": {},
   "outputs": [],
   "source": [
    "# interactive map for images\n",
    "import geemap\n",
    "\n",
    "mapColor = ['45a248', '1c3da2']"
   ]
  },
  {
   "cell_type": "code",
   "execution_count": 20,
   "id": "a8a9533a",
   "metadata": {},
   "outputs": [],
   "source": [
    "from datetime import datetime\n",
    "from datetime import timedelta\n",
    "\n",
    "def dateToString(date):\n",
    "    start_date = datetime.strptime(date, \"%Y-%m-%d\")\n",
    "    end_date = start_date + timedelta(days=1)\n",
    "    return [start_date.strftime(\"%Y-%m-%d\"), end_date.strftime(\"%Y-%m-%d\")]"
   ]
  },
  {
   "cell_type": "code",
   "execution_count": 21,
   "id": "5a588d54",
   "metadata": {},
   "outputs": [],
   "source": [
    "# get the image collection of all images from the dates passes\n",
    "def getListOfImages(datesList, location, satellite, cloud_percentage = 10):\n",
    "    images = []\n",
    "  \n",
    "    for date in datesList:\n",
    "        # get the day number in the year of the date so we can look\n",
    "        # it up \n",
    "        searchDates = dateToString(date)\n",
    "    \n",
    "        # get image form given date with least cloud cover\n",
    "        \n",
    "        satelliteImageForDate = ee.ImageCollection(satellite) \\\n",
    "        .filterBounds(location) \\\n",
    "        .filterDate(searchDates[0], searchDates[1]) \\\n",
    "        .sort('CLOUD_COVER') \\\n",
    "        .first()\n",
    "\n",
    "        # when the image is not null we want to add it to our list of \n",
    "        # images\n",
    "        if (satelliteImageForDate):\n",
    "            images.append(satelliteImageForDate)\n",
    "\n",
    "\n",
    "    # turn images found into a collection so we can map them\n",
    "    collectionFromImages = ee.ImageCollection.fromImages(images)\n",
    "\n",
    "    \n",
    "    # filter image on clouds on pick geometry location\n",
    "    filtered = collectionFromImages.filter(ee.Filter.lt('CLOUDY_PIXEL_PERCENTAGE', cloud_percentage)) \\\n",
    "        .filter(ee.Filter.bounds(location))\n",
    "    return filtered\n",
    "    \n"
   ]
  },
  {
   "cell_type": "code",
   "execution_count": 22,
   "id": "6dad5c57",
   "metadata": {},
   "outputs": [],
   "source": [
    "# map the image collection \n",
    "def mapImageCollection(imageCollection):\n",
    "    Map = geemap.Map()\n",
    "    image = imageCollection.first()\n",
    "\n",
    "    vis_param = {'min': 0, \n",
    "                 'max': 2000, \n",
    "                 'bands': ['B5', 'B4', 'B3'], \n",
    "                 'gamma': 1.5}\n",
    "    Map.addLayer(image, vis_param, \"First mage\")\n",
    "    Map.centerObject(image, 8)    \n",
    "   \n",
    "    mosaic = imageCollection.mosaic()\n",
    "\n",
    "    medianComposite = imageCollection.median()\n",
    "    \n",
    "    rgbVis = {\n",
    "        'min': 0.0,\n",
    "        'max': 3000,\n",
    "        'bands': ['B4', 'B3', 'B2'],\n",
    "    }\n",
    "\n",
    "    Map.addLayer(imageCollection, rgbVis, 'Filtered Collection');\n",
    "    Map.addLayer(mosaic, rgbVis, 'Mosaic');\n",
    "    Map.addLayer(medianComposite, rgbVis, 'Median Composite')\n",
    "\n",
    "    normDiffOnMedComp = medianComposite.normalizedDifference(['B3', 'B5'])\n",
    "    water = normDiffOnMedComp.gt(0)\n",
    "    #print(water)\n",
    "    Map.addLayer(water, {'min': 0, 'max':1, 'palette': mapColor}, \"ndwiMosaic\")\n",
    "    return Map"
   ]
  },
  {
   "cell_type": "markdown",
   "id": "e5ee5cc1",
   "metadata": {},
   "source": [
    "Make a map from an image collection"
   ]
  },
  {
   "cell_type": "code",
   "execution_count": 23,
   "id": "7ff6678f",
   "metadata": {},
   "outputs": [],
   "source": [
    "# map a single ndwi image from a given date\n",
    "def mapImageFromDate(date, location, satellite):\n",
    "    Map = geemap.Map()\n",
    "    dateRange = dateToString(date)\n",
    "    image = satellite \\\n",
    "      .filterBounds(location) \\\n",
    "      .filterDate(dateRange[0], dateRange[1]) \\\n",
    "      .sort('CLOUD_COVER') \\\n",
    "      .first()\n",
    "    \n",
    "    #Map.addLayer(image, {'bands': ['B4', 'B3', 'B2'], 'min':0, 'max': 0.3})\n",
    "\n",
    "    ndwi = image.normalizedDifference(['B3', 'B5'])\n",
    "    #Map.addLayer(ndwi, {'min':-1, 'max':1, 'palette': mapColor})\n",
    "\n",
    "    water = ndwi.gt(0)\n",
    "\n",
    "    Map.addLayer(water, {'min': 0, 'max':1, 'palette': mapColor})    \n",
    "    \n",
    "    return Map"
   ]
  },
  {
   "cell_type": "markdown",
   "id": "1a20dd6a",
   "metadata": {},
   "source": [
    "Map an image from a date when we already have the image collection"
   ]
  },
  {
   "cell_type": "code",
   "execution_count": 24,
   "id": "a0fabc64",
   "metadata": {},
   "outputs": [],
   "source": [
    "# map a single ndwi image from a given date\n",
    "def mapImageFromDateAndImageCollection(date, location, satellite, imageCollection):\n",
    "    # get the image for the date\n",
    "    image = getImageFromDate(date, imageCollection)\n",
    "    Map = geemap.Map()\n",
    "    \n",
    "    # make ndwi for looking at water vs non-water\n",
    "    ndwi = image.normalizedDifference(['B3', 'B5'])\n",
    "    water = ndwi.gt(0)\n",
    "    Map.addLayer(water, {'min': 0, 'max':1, 'palette': mapColor})    \n",
    "    \n",
    "    return Map"
   ]
  },
  {
   "cell_type": "markdown",
   "id": "295f7648",
   "metadata": {},
   "source": [
    "Get the image from the image collection for a given date"
   ]
  },
  {
   "cell_type": "code",
   "execution_count": 46,
   "id": "ccec8449",
   "metadata": {},
   "outputs": [],
   "source": [
    "def getImageFromDate(date, imageCollection):\n",
    "    searchDates = dateToString(date)\n",
    "    return imageCollection.filterDate(searchDates[0], searchDates[1]).first()"
   ]
  },
  {
   "cell_type": "markdown",
   "id": "f93cd801",
   "metadata": {},
   "source": [
    "getAreaFromDate takes a date and gets the area within the geometry (location) that is water"
   ]
  },
  {
   "cell_type": "code",
   "execution_count": 27,
   "id": "fe59e881",
   "metadata": {},
   "outputs": [],
   "source": [
    "def getAreaFromDate(date, location, satellite):\n",
    "    Map = geemap.Map()\n",
    "    dateRange = dateToString(date)\n",
    "    image = satellite \\\n",
    "      .filterBounds(location) \\\n",
    "      .filterDate(dateRange[0], dateRange[1]) \\\n",
    "      .sort('CLOUD_COVER') \\\n",
    "      .first()\n",
    "    \n",
    "    #Map.addLayer(image, {'bands': ['B4', 'B3', 'B2'], 'min':0, 'max': 0.3})\n",
    "\n",
    "    ndwi = image.normalizedDifference(['B3', 'B5'])\n",
    "    #Map.addLayer(ndwi, {'min':-1, 'max':1, 'palette': mapColor})\n",
    "\n",
    "    water = ndwi.gt(0)\n",
    "\n",
    "    Map.addLayer(water, {'min': 0, 'max':1, 'palette': mapColor})\n",
    "    areaImage = water.multiply(ee.Image.pixelArea())\n",
    "    area = areaImage.reduceRegion(reducer = ee.Reducer.sum(), \n",
    "      geometry = location, \n",
    "      scale = 20, \n",
    "      maxPixels= 1e10 \n",
    "      )\n",
    "    urbanAreaSqKm = ee.Number(\n",
    "      area.get('nd')).divide(1e6)\n",
    "    return urbanAreaSqKm.getInfo()"
   ]
  },
  {
   "cell_type": "code",
   "execution_count": 28,
   "id": "214ef04a",
   "metadata": {},
   "outputs": [],
   "source": [
    "def getAreaFromImage(image, location, satellite):\n",
    "    Map = geemap.Map()\n",
    "    ndwi = image.normalizedDifference(['B3', 'B5'])\n",
    "    water = ndwi.gt(0)\n",
    "    Map.addLayer(water, {'min': 0, 'max':1, 'palette': mapColor})\n",
    "    areaImage = water.multiply(ee.Image.pixelArea())\n",
    "    area = areaImage.reduceRegion(reducer = ee.Reducer.sum(), \n",
    "      geometry = location, \n",
    "      scale = 20, \n",
    "      maxPixels= 1e10 \n",
    "      )\n",
    "    urbanAreaSqKm = ee.Number(\n",
    "      area.get('nd')).divide(1e6)\n",
    "    return urbanAreaSqKm.getInfo()"
   ]
  },
  {
   "cell_type": "code",
   "execution_count": 29,
   "id": "d588782b",
   "metadata": {},
   "outputs": [],
   "source": [
    "# get all dates that returned an image in the image collection\n",
    "def getDatesFromImageCollection(imageCollection, time = False):\n",
    "    dates = []\n",
    "    for feature in imageCollection.getInfo()['features']:\n",
    "        ms = feature['properties']['system:time_start']\n",
    "        if time:\n",
    "            dateOfImage = datetime.fromtimestamp(ms/1000.0).strftime(\"%Y-%m-%d, %H:%M:%S\")\n",
    "        else: \n",
    "            dateOfImage = datetime.fromtimestamp(ms/1000.0).strftime(\"%Y-%m-%d\")\n",
    "        dates.append(dateOfImage)\n",
    "    return dates"
   ]
  },
  {
   "cell_type": "code",
   "execution_count": 32,
   "id": "372aeb98",
   "metadata": {},
   "outputs": [
    {
     "data": {
      "application/vnd.jupyter.widget-view+json": {
       "model_id": "342da9f18e1d4f6cbe39b5dba004021d",
       "version_major": 2,
       "version_minor": 0
      },
      "text/plain": [
       "Map(center=[34.48573359710931, -119.30795921344384], controls=(WidgetControl(options=['position', 'transparent…"
      ]
     },
     "metadata": {},
     "output_type": "display_data"
    }
   ],
   "source": [
    "matilijaGageLocation = ee.Geometry.Point(-119.30795921344384, 34.48573359710931)\n",
    "\n",
    "matilijaGeometry = ee.Geometry.Polygon(\n",
    "        [[[-119.31594286538936, 34.49174896054574],\n",
    "          [-119.31594286538936, 34.48219820073181],\n",
    "          [-119.30285368539668, 34.48219820073181],\n",
    "          [-119.30285368539668, 34.49174896054574]]], None, False);\n",
    "matilija_collection = getListOfImages(matilija_dates_above_threshold, matilijaGeometry, sentinel2)\n",
    "Map = mapImageCollection(matilija_collection)\n",
    "lat = 34.48573359710931\n",
    "lon = -119.30795921344384\n",
    "zoom = 15\n",
    "Map.setCenter(lon, lat, zoom)\n",
    "Map"
   ]
  },
  {
   "cell_type": "code",
   "execution_count": 33,
   "id": "7891c975",
   "metadata": {},
   "outputs": [],
   "source": [
    "matilija_date_list = getDatesFromImageCollection(matilijs_collection)"
   ]
  },
  {
   "cell_type": "code",
   "execution_count": 34,
   "id": "a6129a9a",
   "metadata": {},
   "outputs": [
    {
     "name": "stdout",
     "output_type": "stream",
     "text": [
      "['2019-02-06', '2019-02-08', '2019-02-23', '2019-03-13', '2019-03-15', '2019-03-18']\n"
     ]
    }
   ],
   "source": [
    "print(matilija_date_list)"
   ]
  },
  {
   "cell_type": "markdown",
   "id": "cbc016fa",
   "metadata": {},
   "source": [
    "## Getting area of water shown on map"
   ]
  },
  {
   "cell_type": "code",
   "execution_count": 47,
   "id": "72245865",
   "metadata": {},
   "outputs": [
    {
     "data": {
      "application/vnd.jupyter.widget-view+json": {
       "model_id": "3e262fa166a94224963fb39bbd5c32a1",
       "version_major": 2,
       "version_minor": 0
      },
      "text/plain": [
       "Map(center=[34.48573359710931, -119.30795921344384], controls=(WidgetControl(options=['position', 'transparent…"
      ]
     },
     "metadata": {},
     "output_type": "display_data"
    }
   ],
   "source": [
    "Map = mapImageFromDateAndImageCollection('2019-02-08', matilijaGeometry, sentinel2, matilija_collection)\n",
    "lat = 34.48573359710931\n",
    "lon = -119.30795921344384\n",
    "zoom = 15\n",
    "Map.setCenter(lon, lat, zoom)\n",
    "Map"
   ]
  },
  {
   "cell_type": "markdown",
   "id": "95020ebf",
   "metadata": {},
   "source": [
    "## Plotting dischange vs water area "
   ]
  },
  {
   "cell_type": "code",
   "execution_count": 31,
   "id": "1f7a379c",
   "metadata": {},
   "outputs": [],
   "source": [
    "area = []\n",
    "discharge = []\n",
    "for date in matilija_date_list:\n",
    "    area.append(getAreaFromDate(date, matilijaGeometry, sentinel2))\n",
    "    discharge.append(getDischargeFromDate(matilija_site_number, date))"
   ]
  },
  {
   "cell_type": "code",
   "execution_count": 32,
   "id": "cc2fb535",
   "metadata": {},
   "outputs": [
    {
     "name": "stdout",
     "output_type": "stream",
     "text": [
      "[0.00399876821899414, 0.07090672427224551, 0.1047676664428711, 0.10516753021240234, 0.10596728747558594, 0.10556740411376953]\n",
      "[248.0, 160.0, 101.0, 144.0, 124.0, 108.0]\n"
     ]
    }
   ],
   "source": [
    "print(area)\n",
    "print(discharge)"
   ]
  },
  {
   "cell_type": "code",
   "execution_count": 33,
   "id": "f10f957f",
   "metadata": {},
   "outputs": [
    {
     "data": {
      "image/png": "[encoded data removed]",
      "text/plain": [
       "<Figure size 432x288 with 1 Axes>"
      ]
     },
     "metadata": {
      "needs_background": "light"
     },
     "output_type": "display_data"
    }
   ],
   "source": [
    "fig, ax = plt.subplots()\n",
    "ax.scatter(discharge, area)\n",
    "ax.set_title(\"Area of matilija vs discharge\")\n",
    "ax.set_xlabel(\"discharge\")\n",
    "ax.set_ylabel(\"area\")\n",
    "plt.show()"
   ]
  },
  {
   "cell_type": "markdown",
   "id": "8513a05b",
   "metadata": {},
   "source": [
    "###  Mississippi River"
   ]
  },
  {
   "cell_type": "code",
   "execution_count": 34,
   "id": "c163ab4f",
   "metadata": {},
   "outputs": [
    {
     "data": {
      "image/png": "[encoded data removed]",
      "text/plain": [
       "<Figure size 432x288 with 1 Axes>"
      ]
     },
     "metadata": {
      "needs_background": "light"
     },
     "output_type": "display_data"
    }
   ],
   "source": [
    "mississippi_site_number='07289000'\n",
    "start_date = '2014-10-01'\n",
    "end_date = '2021-09-30'\n",
    "mississippi_discharge_cfs_threshold = 1000000\n",
    "mississippi_geometry = ee.Geometry.Polygon(\n",
    "        [[[-90.9177845688234, 32.335557854068995],\n",
    "          [-90.91349303439956, 32.33432498989724],\n",
    "          [-90.90920149997574, 32.33185921117534],\n",
    "          [-90.90705573276382, 32.32808789026796],\n",
    "          [-90.90619742587906, 32.325984585367834],\n",
    "          [-90.90636908725601, 32.3243164122555],\n",
    "          [-90.90774237827164, 32.32134263613644],\n",
    "          [-90.90997397617203, 32.318441297029096],\n",
    "          [-90.91143309787613, 32.315539864975015],\n",
    "          [-90.9140938492189, 32.313146113562084],\n",
    "          [-90.91615378574234, 32.31075229889282],\n",
    "          [-90.90705573276382, 32.306544834979036],\n",
    "          [-90.90387999729019, 32.30843096365433],\n",
    "          [-90.90049373616061, 32.31354165282473],\n",
    "          [-90.8994637678989, 32.31782132695719],\n",
    "          [-90.89809047688327, 32.32072268592575],\n",
    "          [-90.89731800068698, 32.322826113055285],\n",
    "          [-90.89680301655612, 32.324784432324336],\n",
    "          [-90.89457141865573, 32.32841083764998],\n",
    "          [-90.89551555622897, 32.330151460612875],\n",
    "          [-90.8954297255405, 32.33312494741842],\n",
    "          [-90.89594470967135, 32.33602581602416],\n",
    "          [-90.90263950337253, 32.34066701240601],\n",
    "          [-90.91087924946628, 32.345452996869604]]]);\n",
    "\n",
    "mississippi_dates_above_threshold = getDatesAboveDischargeThreshold(mississippi_site_number, start_date, end_date, \n",
    "                                                                 mississippi_discharge_cfs_threshold)"
   ]
  },
  {
   "cell_type": "code",
   "execution_count": 35,
   "id": "9bbd8c81",
   "metadata": {},
   "outputs": [
    {
     "name": "stderr",
     "output_type": "stream",
     "text": [
      "\n",
      "KeyboardInterrupt\n",
      "\n"
     ]
    }
   ],
   "source": [
    "mississippi_image_collection = getListOfImages(mississippi_dates_above_threshold, mississippi_geometry, sentinel2, 2)\n",
    "mississippi_map = mapImageCollection(mississippi_image_collection)\n",
    "\n",
    "# lat and lon for centering the map\n",
    "mississippi_lat = 32.33\n",
    "mississippi_lon = -90.91\n",
    "zoom = 15\n",
    "mississippi_map.setCenter(mississippi_lon, mississippi_lat, zoom)\n",
    "mississippi_map"
   ]
  },
  {
   "cell_type": "code",
   "execution_count": null,
   "id": "46c18c3b",
   "metadata": {},
   "outputs": [],
   "source": [
    "mississippi_date_list = getDatesFromImageCollection(mississippi_image_collection)"
   ]
  },
  {
   "cell_type": "code",
   "execution_count": null,
   "id": "01e0a07f",
   "metadata": {},
   "outputs": [],
   "source": [
    "print(mississippi_date_list)"
   ]
  },
  {
   "cell_type": "code",
   "execution_count": null,
   "id": "3ae9b367",
   "metadata": {},
   "outputs": [],
   "source": [
    "area = []\n",
    "discharge = []\n",
    "for date in mississippi_date_list:\n",
    "    area.append(getAreaFromDate(date, mississippi_geometry, sentinel2))\n",
    "    discharge.append(getDischargeFromDate(mississippi_site_number, date))"
   ]
  },
  {
   "cell_type": "code",
   "execution_count": null,
   "id": "c22d6c72",
   "metadata": {},
   "outputs": [],
   "source": [
    "fig, ax = plt.subplots()\n",
    "ax.scatter(discharge, area)\n",
    "ax.set_title(\"Area of mississippi river vs discharge\")\n",
    "ax.set_xlabel(\"discharge\")\n",
    "ax.set_ylabel(\"area\")\n",
    "plt.show()"
   ]
  },
  {
   "cell_type": "code",
   "execution_count": null,
   "id": "2aead50d",
   "metadata": {},
   "outputs": [],
   "source": []
  },
  {
   "cell_type": "markdown",
   "id": "c2d6a334",
   "metadata": {},
   "source": [
    "## Willamette"
   ]
  },
  {
   "cell_type": "code",
   "execution_count": 36,
   "id": "714f867f",
   "metadata": {},
   "outputs": [
    {
     "data": {
      "image/png": "[encoded data removed]",
      "text/plain": [
       "<Figure size 432x288 with 1 Axes>"
      ]
     },
     "metadata": {
      "needs_background": "light"
     },
     "output_type": "display_data"
    }
   ],
   "source": [
    "willamette_site_number='14166000'\n",
    "start_date = '2015-10-01'\n",
    "end_date = '2021-09-30'\n",
    "willamette_discharge_cfs_threshold = 30000\n",
    "willamette_geometry = ee.Geometry.Polygon(\n",
    "        [[[-123.17735227170873, 44.27870641979654],\n",
    "          [-123.17670854154515, 44.27683214434244],\n",
    "          [-123.17606481138158, 44.27418962165109],\n",
    "          [-123.17559274259496, 44.27004123588735],\n",
    "          [-123.17585023466039, 44.26739840782829],\n",
    "          [-123.17353280607152, 44.26638426783975],\n",
    "          [-123.17353280607152, 44.2703178040482],\n",
    "          [-123.17404779020238, 44.2746812627772],\n",
    "          [-123.17400487485814, 44.27566453269001],\n",
    "          [-123.17516358915258, 44.27855279291034],\n",
    "          [-123.175421081218, 44.279136572940985]]]);\n",
    "\n",
    "willamette_dates_above_threshold = getDatesAboveDischargeThreshold(willamette_site_number, start_date, end_date, \n",
    "                                                                 willamette_discharge_cfs_threshold)"
   ]
  },
  {
   "cell_type": "code",
   "execution_count": 37,
   "id": "a77cb1e6",
   "metadata": {},
   "outputs": [
    {
     "data": {
      "application/vnd.jupyter.widget-view+json": {
       "model_id": "34ff5729ece144b2bd6ea811d430f405",
       "version_major": 2,
       "version_minor": 0
      },
      "text/plain": [
       "Map(center=[44.2787, -123.177], controls=(WidgetControl(options=['position', 'transparent_bg'], widget=HBox(ch…"
      ]
     },
     "metadata": {},
     "output_type": "display_data"
    }
   ],
   "source": [
    "willamette_image_collection = getListOfImages(willamette_dates_above_threshold, willamette_geometry, sentinel2, 50)\n",
    "willamette_date_list = getDatesFromImageCollection(willamette_image_collection)\n",
    "willamette_map = mapImageCollection(willamette_image_collection)\n",
    "# lat and lon for centering the map\n",
    "willamette_lat = 44.2787\n",
    "willamette_lon = -123.177\n",
    "zoom = 15\n",
    "willamette_map.setCenter(willamette_lon, willamette_lat, zoom)\n",
    "willamette_map"
   ]
  },
  {
   "cell_type": "code",
   "execution_count": 38,
   "id": "5075b740",
   "metadata": {},
   "outputs": [
    {
     "name": "stdout",
     "output_type": "stream",
     "text": [
      "['2019-04-18', '2020-01-28', '2020-12-23']\n"
     ]
    }
   ],
   "source": [
    "willamette_date_list = getDatesFromImageCollection(willamette_image_collection)\n",
    "print(willamette_date_list)"
   ]
  },
  {
   "cell_type": "code",
   "execution_count": 39,
   "id": "e763bcf5",
   "metadata": {},
   "outputs": [
    {
     "ename": "NameError",
     "evalue": "name 'willamette_date_list' is not defined",
     "output_type": "error",
     "traceback": [
      "\u001b[0;31m---------------------------------------------------------------------------\u001b[0m",
      "\u001b[0;31mNameError\u001b[0m                                 Traceback (most recent call last)",
      "Input \u001b[0;32mIn [39]\u001b[0m, in \u001b[0;36m<module>\u001b[0;34m\u001b[0m\n\u001b[1;32m      1\u001b[0m areas \u001b[38;5;241m=\u001b[39m []\n\u001b[1;32m      2\u001b[0m discharges \u001b[38;5;241m=\u001b[39m []\n\u001b[0;32m----> 3\u001b[0m \u001b[38;5;28;01mfor\u001b[39;00m date \u001b[38;5;129;01min\u001b[39;00m \u001b[43mwillamette_date_list\u001b[49m:\n\u001b[1;32m      4\u001b[0m     area \u001b[38;5;241m=\u001b[39m getAreaFromDate(date, willamette_geometry, sentinel2)\n\u001b[1;32m      5\u001b[0m     discharge \u001b[38;5;241m=\u001b[39m getDischargeFromDate(willamette_site_number, date)\n",
      "\u001b[0;31mNameError\u001b[0m: name 'willamette_date_list' is not defined"
     ]
    }
   ],
   "source": [
    "areas = []\n",
    "discharges = []\n",
    "for date in willamette_date_list:\n",
    "    area = getAreaFromDate(date, willamette_geometry, sentinel2)\n",
    "    discharge = getDischargeFromDate(willamette_site_number, date)\n",
    "    areas.append(area)\n",
    "    discharges.append(discharge)\n",
    "    print(date)\n",
    "    print(\"area: \", area)\n",
    "    print(\"discharge: \", discharge)\n"
   ]
  },
  {
   "cell_type": "code",
   "execution_count": null,
   "id": "ac4e1e6a",
   "metadata": {},
   "outputs": [],
   "source": [
    "fig, ax = plt.subplots()\n",
    "ax.scatter(discharges, areas)\n",
    "ax.set_title(\"Area of mississippi river vs discharge\")\n",
    "ax.set_xlabel(\"discharge\")\n",
    "ax.set_ylabel(\"area\")\n",
    "plt.show()"
   ]
  },
  {
   "cell_type": "code",
   "execution_count": null,
   "id": "130e0e2c",
   "metadata": {},
   "outputs": [],
   "source": [
    "Map = mapImageFromDate('2019-04-18', willamette_geometry, sentinel2)\n",
    "zoom = 15\n",
    "Map.setCenter(willamette_lon, willamette_lat, zoom)\n",
    "Map"
   ]
  },
  {
   "cell_type": "code",
   "execution_count": null,
   "id": "4573a95d",
   "metadata": {},
   "outputs": [],
   "source": [
    "Map = mapImageFromDate('2020-01-28', willamette_geometry, sentinel2)\n",
    "zoom = 15\n",
    "Map.setCenter(willamette_lon, willamette_lat, zoom)\n",
    "Map"
   ]
  },
  {
   "cell_type": "code",
   "execution_count": null,
   "id": "c6eea0ab",
   "metadata": {},
   "outputs": [],
   "source": [
    "Map = mapImageFromDate('2020-12-23', willamette_geometry, sentinel2)\n",
    "zoom = 15\n",
    "Map.setCenter(willamette_lon, willamette_lat, zoom)\n",
    "Map"
   ]
  },
  {
   "cell_type": "code",
   "execution_count": 59,
   "id": "00f45bf7",
   "metadata": {},
   "outputs": [
    {
     "data": {
      "image/png": "[encoded data removed]",
      "text/plain": [
       "<Figure size 432x288 with 1 Axes>"
      ]
     },
     "metadata": {
      "needs_background": "light"
     },
     "output_type": "display_data"
    }
   ],
   "source": [
    "willamette_site_number='14166000'\n",
    "start_date = '2015-10-01'\n",
    "end_date = '2021-09-30'\n",
    "willamette_discharge_cfs_threshold_lower = 10000\n",
    "willamette_discharge_cfs_threshold_upper = 30000\n",
    "\n",
    "willamette_geometry = ee.Geometry.Polygon(\n",
    "        [[[-123.17735227170873, 44.27870641979654],\n",
    "          [-123.17670854154515, 44.27683214434244],\n",
    "          [-123.17606481138158, 44.27418962165109],\n",
    "          [-123.17559274259496, 44.27004123588735],\n",
    "          [-123.17585023466039, 44.26739840782829],\n",
    "          [-123.17353280607152, 44.26638426783975],\n",
    "          [-123.17353280607152, 44.2703178040482],\n",
    "          [-123.17404779020238, 44.2746812627772],\n",
    "          [-123.17400487485814, 44.27566453269001],\n",
    "          [-123.17516358915258, 44.27855279291034],\n",
    "          [-123.175421081218, 44.279136572940985]]]);\n",
    "\n",
    "willamette_dates_above_threshold = getDatesBetweenDischargeThreshold(willamette_site_number, start_date, end_date, \n",
    "                                                                 willamette_discharge_cfs_threshold_lower, willamette_discharge_cfs_threshold_upper)"
   ]
  },
  {
   "cell_type": "code",
   "execution_count": 46,
   "id": "108d03b5",
   "metadata": {},
   "outputs": [
    {
     "data": {
      "application/vnd.jupyter.widget-view+json": {
       "model_id": "b6507b0f14a54a989978c5ce0e78e722",
       "version_major": 2,
       "version_minor": 0
      },
      "text/plain": [
       "Map(center=[44.2787, -123.177], controls=(WidgetControl(options=['position', 'transparent_bg'], widget=HBox(ch…"
      ]
     },
     "metadata": {},
     "output_type": "display_data"
    }
   ],
   "source": [
    "willamette_image_collection = getListOfImages(willamette_dates_above_threshold, willamette_geometry, sentinel2, 10)\n",
    "willamette_date_list = getDatesFromImageCollection(willamette_image_collection)\n",
    "willamette_map = mapImageCollection(willamette_image_collection)\n",
    "# lat and lon for centering the map\n",
    "willamette_lat = 44.2787\n",
    "willamette_lon = -123.177\n",
    "zoom = 15\n",
    "willamette_map.setCenter(willamette_lon, willamette_lat, zoom)\n",
    "willamette_map"
   ]
  },
  {
   "cell_type": "code",
   "execution_count": 47,
   "id": "dd753574",
   "metadata": {},
   "outputs": [
    {
     "name": "stdout",
     "output_type": "stream",
     "text": [
      "['2019-03-02', '2019-03-04', '2019-03-17', '2019-03-24', '2019-04-26', '2019-04-28', '2019-05-01', '2020-12-28']\n"
     ]
    }
   ],
   "source": [
    "willamette_date_list = getDatesFromImageCollection(willamette_image_collection)\n",
    "print(willamette_date_list)\n",
    "#print(getDatesFromImageCollection(willamette_image_collection, True))\n"
   ]
  },
  {
   "cell_type": "code",
   "execution_count": 48,
   "id": "1f79cf06",
   "metadata": {},
   "outputs": [
    {
     "name": "stdout",
     "output_type": "stream",
     "text": [
      "['2019-03-02', '2019-03-04', '2019-03-17', '2019-03-24', '2019-04-26', '2019-04-28', '2019-05-01', '2020-12-28']\n"
     ]
    }
   ],
   "source": [
    "from pytz import timezone\n",
    "\n",
    "gmt = timezone('GMT')\n",
    "pst = timezone('US/Pacific')\n",
    "willamette_date_time_list = [\n",
    "    gmt.localize(datetime.strptime(time, '%Y-%m-%d, %H:%M:%S')).astimezone(pst).strftime(\"%Y-%m-%d\")\n",
    "    for time \n",
    "    in getDatesFromImageCollection(willamette_image_collection, True)]\n",
    "print(willamette_date_time_list)"
   ]
  },
  {
   "cell_type": "code",
   "execution_count": 49,
   "id": "6b992e88",
   "metadata": {},
   "outputs": [],
   "source": [
    "areas = []\n",
    "discharges = []\n",
    "for date in willamette_date_list:\n",
    "    area = getAreaFromDate(date, willamette_geometry, sentinel2)\n",
    "    areas.append(area)\n",
    "for date in willamette_date_time_list:\n",
    "    discharge = getDischargeFromDate(willamette_site_number, date)\n",
    "    discharges.append(discharge)\n"
   ]
  },
  {
   "cell_type": "code",
   "execution_count": 50,
   "id": "26db6458",
   "metadata": {},
   "outputs": [
    {
     "data": {
      "image/png": "[encoded data removed]",
      "text/plain": [
       "<Figure size 432x288 with 1 Axes>"
      ]
     },
     "metadata": {
      "needs_background": "light"
     },
     "output_type": "display_data"
    }
   ],
   "source": [
    "fig, ax = plt.subplots()\n",
    "ax.scatter(discharges, areas)\n",
    "ax.set_title(\"Area of willamette river vs discharge\")\n",
    "ax.set_xlabel(\"discharge\")\n",
    "ax.set_ylabel(\"area\")\n",
    "for i, txt in enumerate(willamette_date_list):\n",
    "    ax.annotate(txt, (discharges[i], areas[i]))\n",
    "plt.show()\n"
   ]
  },
  {
   "cell_type": "code",
   "execution_count": 51,
   "id": "ba303de7",
   "metadata": {},
   "outputs": [
    {
     "data": {
      "application/vnd.jupyter.widget-view+json": {
       "model_id": "e5fb8c3dc2004098b6ae82b61a3ef069",
       "version_major": 2,
       "version_minor": 0
      },
      "text/plain": [
       "Map(center=[44.2787, -123.177], controls=(WidgetControl(options=['position', 'transparent_bg'], widget=HBox(ch…"
      ]
     },
     "metadata": {},
     "output_type": "display_data"
    }
   ],
   "source": [
    "Map = mapImageFromDate('2019-03-02', willamette_geometry, sentinel2)\n",
    "zoom = 15\n",
    "Map.setCenter(willamette_lon, willamette_lat, zoom)\n",
    "Map"
   ]
  },
  {
   "cell_type": "code",
   "execution_count": 52,
   "id": "ffd31fef",
   "metadata": {},
   "outputs": [
    {
     "name": "stdout",
     "output_type": "stream",
     "text": [
      "11200.0\n"
     ]
    }
   ],
   "source": [
    "discharge = getDischargeFromDate(willamette_site_number, '2019-03-02')\n",
    "print(discharge)"
   ]
  },
  {
   "cell_type": "code",
   "execution_count": 53,
   "id": "64f92ed3",
   "metadata": {},
   "outputs": [
    {
     "data": {
      "application/vnd.jupyter.widget-view+json": {
       "model_id": "7d03f5bd04fa422b9017dc06f13c18b7",
       "version_major": 2,
       "version_minor": 0
      },
      "text/plain": [
       "Map(center=[44.2787, -123.177], controls=(WidgetControl(options=['position', 'transparent_bg'], widget=HBox(ch…"
      ]
     },
     "metadata": {},
     "output_type": "display_data"
    }
   ],
   "source": [
    "Map = mapImageFromDate('2019-03-04', willamette_geometry, sentinel2)\n",
    "zoom = 15\n",
    "Map.setCenter(willamette_lon, willamette_lat, zoom)\n",
    "Map"
   ]
  },
  {
   "cell_type": "code",
   "execution_count": null,
   "id": "9637d11c",
   "metadata": {},
   "outputs": [],
   "source": [
    "Map = mapImageFromDate('2019-03-04', willamette_geometry, sentinel2)\n",
    "zoom = 15\n",
    "Map.setCenter(willamette_lon, willamette_lat, zoom)\n",
    "Map"
   ]
  },
  {
   "cell_type": "code",
   "execution_count": null,
   "id": "9f65f810",
   "metadata": {},
   "outputs": [],
   "source": [
    "discharge = getDischargeFromDate(willamette_site_number, '2019-03-04')\n",
    "print(discharge)"
   ]
  },
  {
   "cell_type": "code",
   "execution_count": null,
   "id": "c14315f8",
   "metadata": {},
   "outputs": [],
   "source": [
    "Map = mapImageFromDate('2019-03-17', willamette_geometry, sentinel2)\n",
    "zoom = 15\n",
    "Map.setCenter(willamette_lon, willamette_lat, zoom)\n",
    "Map"
   ]
  },
  {
   "cell_type": "code",
   "execution_count": null,
   "id": "de45f3e1",
   "metadata": {},
   "outputs": [],
   "source": [
    "discharge = getDischargeFromDate(willamette_site_number, '2019-03-17')\n",
    "print(discharge)"
   ]
  },
  {
   "cell_type": "code",
   "execution_count": null,
   "id": "4aac603c",
   "metadata": {},
   "outputs": [],
   "source": []
  }
 ],
 "metadata": {
  "kernelspec": {
   "display_name": "Python 3 (ipykernel)",
   "language": "python",
   "name": "python3"
  },
  "language_info": {
   "codemirror_mode": {
    "name": "ipython",
    "version": 3
   },
   "file_extension": ".py",
   "mimetype": "text/x-python",
   "name": "python",
   "nbconvert_exporter": "python",
   "pygments_lexer": "ipython3",
   "version": "3.9.7"
  }
 },
 "nbformat": 4,
 "nbformat_minor": 5
}
