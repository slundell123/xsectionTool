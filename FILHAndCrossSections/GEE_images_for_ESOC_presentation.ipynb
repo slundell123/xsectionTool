{
 "cells": [
  {
   "cell_type": "code",
   "execution_count": 1,
   "id": "6e0b5648",
   "metadata": {},
   "outputs": [
    {
     "data": {
      "text/html": [
       "<p>To authorize access needed by Earth Engine, open the following\n",
       "        URL in a web browser and follow the instructions:</p>\n",
       "        <p><a href=https://code.earthengine.google.com/client-auth?scopes=https%3A//www.googleapis.com/auth/earthengine%20https%3A//www.googleapis.com/auth/devstorage.full_control&request_id=NYb6JHRFRM5h3xIYZBrayLxHWySBBi9ONThsvDdjykc&tc=1TkUFgdEcOaojKQI761AYMHD9WzjFn7otJdNQR9Vm30&cc=3vk2zhpGArs1DfovYvOrwCuCoOW9FvtbhgMm9OR6x9o>https://code.earthengine.google.com/client-auth?scopes=https%3A//www.googleapis.com/auth/earthengine%20https%3A//www.googleapis.com/auth/devstorage.full_control&request_id=NYb6JHRFRM5h3xIYZBrayLxHWySBBi9ONThsvDdjykc&tc=1TkUFgdEcOaojKQI761AYMHD9WzjFn7otJdNQR9Vm30&cc=3vk2zhpGArs1DfovYvOrwCuCoOW9FvtbhgMm9OR6x9o</a></p>\n",
       "        <p>The authorization workflow will generate a code, which you\n",
       "        should paste in the box below</p>\n",
       "        "
      ],
      "text/plain": [
       "<IPython.core.display.HTML object>"
      ]
     },
     "metadata": {},
     "output_type": "display_data"
    },
    {
     "name": "stdout",
     "output_type": "stream",
     "text": [
      "Enter verification code: 4/1AX4XfWjD-XtAk7v1vjgnG0SXAg4SBJ-qeVNr4c9VeLb6N6-xKODR4Vz64dA\n",
      "\n",
      "Successfully saved authorization token.\n"
     ]
    }
   ],
   "source": [
    "import ee # Google Earth Engine\n",
    "ee.Authenticate()\n",
    "ee.Initialize()\n",
    "sentinel2 = ee.ImageCollection(\"COPERNICUS/S2_SR_HARMONIZED\");\n",
    "landsat8 = ee.ImageCollection(\"LANDSAT/LC08/C02/T1_TOA\")\n",
    "import geemap\n",
    "\n",
    "mapColor = ['45a248', '1c3da2']\n",
    "colorcontrast = ['d303fc', '000000']"
   ]
  },
  {
   "cell_type": "code",
   "execution_count": 2,
   "id": "f39ee1d1",
   "metadata": {},
   "outputs": [],
   "source": [
    "willamette_geometry = ee.Geometry.Polygon(\n",
    "        [[[-123.17735227170873, 44.27870641979654],\n",
    "          [-123.17670854154515, 44.27683214434244],\n",
    "          [-123.17606481138158, 44.27418962165109],\n",
    "          [-123.17559274259496, 44.27004123588735],\n",
    "          [-123.17585023466039, 44.26739840782829],\n",
    "          [-123.17353280607152, 44.26638426783975],\n",
    "          [-123.17353280607152, 44.2703178040482],\n",
    "          [-123.17404779020238, 44.2746812627772],\n",
    "          [-123.17400487485814, 44.27566453269001],\n",
    "          [-123.17516358915258, 44.27855279291034],\n",
    "          [-123.175421081218, 44.279136572940985]]]);\n",
    "willamette_lat = 44.2787\n",
    "willamette_lon = -123.177\n",
    "zoom = 15"
   ]
  },
  {
   "cell_type": "code",
   "execution_count": 3,
   "id": "b47ec6cf",
   "metadata": {},
   "outputs": [],
   "source": [
    "mississippi_site_number='07289000'\n",
    "start_date = '2014-10-01'\n",
    "end_date = '2021-09-30'\n",
    "mississippi_discharge_cfs_threshold = 1000000\n",
    "mississippi_geometry = ee.Geometry.Polygon(\n",
    "        [[[-90.9177845688234, 32.335557854068995],\n",
    "          [-90.91349303439956, 32.33432498989724],\n",
    "          [-90.90920149997574, 32.33185921117534],\n",
    "          [-90.90705573276382, 32.32808789026796],\n",
    "          [-90.90619742587906, 32.325984585367834],\n",
    "          [-90.90636908725601, 32.3243164122555],\n",
    "          [-90.90774237827164, 32.32134263613644],\n",
    "          [-90.90997397617203, 32.318441297029096],\n",
    "          [-90.91143309787613, 32.315539864975015],\n",
    "          [-90.9140938492189, 32.313146113562084],\n",
    "          [-90.91615378574234, 32.31075229889282],\n",
    "          [-90.90705573276382, 32.306544834979036],\n",
    "          [-90.90387999729019, 32.30843096365433],\n",
    "          [-90.90049373616061, 32.31354165282473],\n",
    "          [-90.8994637678989, 32.31782132695719],\n",
    "          [-90.89809047688327, 32.32072268592575],\n",
    "          [-90.89731800068698, 32.322826113055285],\n",
    "          [-90.89680301655612, 32.324784432324336],\n",
    "          [-90.89457141865573, 32.32841083764998],\n",
    "          [-90.89551555622897, 32.330151460612875],\n",
    "          [-90.8954297255405, 32.33312494741842],\n",
    "          [-90.89594470967135, 32.33602581602416],\n",
    "          [-90.90263950337253, 32.34066701240601],\n",
    "          [-90.91087924946628, 32.345452996869604]]]);\n",
    "mississippi_lat = 32.33\n",
    "mississippi_lon = -90.91"
   ]
  },
  {
   "cell_type": "markdown",
   "id": "5ab2cf6c",
   "metadata": {},
   "source": [
    "## B3 - Green - reflects more green light, helps find oil on the surface of water, and vegetation"
   ]
  },
  {
   "cell_type": "code",
   "execution_count": 4,
   "id": "fec8e3da",
   "metadata": {},
   "outputs": [
    {
     "data": {
      "application/vnd.jupyter.widget-view+json": {
       "model_id": "8ec1f7a954ed48a3a35630955ed6de4b",
       "version_major": 2,
       "version_minor": 0
      },
      "text/plain": [
       "Map(center=[44.2787, -123.177], controls=(WidgetControl(options=['position', 'transparent_bg'], widget=HBox(ch…"
      ]
     },
     "metadata": {},
     "output_type": "display_data"
    }
   ],
   "source": [
    "Map = geemap.Map()\n",
    "image = sentinel2 \\\n",
    "    .filterBounds(willamette_geometry) \\\n",
    "    .filterDate(\"2015-10-01\", \"2021-09-30\") \\\n",
    "    .sort('CLOUD_COVER') \\\n",
    "    .first()\n",
    "\n",
    "colors = ['35a155', '000000']\n",
    "\n",
    "visualization = {\n",
    "    'bands': ['B3'],\n",
    "    'min': 0,\n",
    "    'max': 2000,\n",
    "    #'palette': colors\n",
    "\n",
    "};\n",
    "\n",
    "    \n",
    "Map.addLayer(image, visualization, 'B3');\n",
    "\n",
    "Map.setCenter(willamette_lon, willamette_lat, zoom)\n",
    "\n",
    "\n",
    "Map"
   ]
  },
  {
   "cell_type": "markdown",
   "id": "c8cf3965",
   "metadata": {},
   "source": [
    "## B5 - Visible and Near Infrared (VNIR)  - measures the near infrared, measure plant health more precisely than if we only looked at visible greenness."
   ]
  },
  {
   "cell_type": "code",
   "execution_count": 5,
   "id": "3166c66c",
   "metadata": {},
   "outputs": [
    {
     "data": {
      "application/vnd.jupyter.widget-view+json": {
       "model_id": "eada9ce2bc774c48912978ff4fded70a",
       "version_major": 2,
       "version_minor": 0
      },
      "text/plain": [
       "Map(center=[44.2787, -123.177], controls=(WidgetControl(options=['position', 'transparent_bg'], widget=HBox(ch…"
      ]
     },
     "metadata": {},
     "output_type": "display_data"
    }
   ],
   "source": [
    "Map = geemap.Map()\n",
    "image = sentinel2 \\\n",
    "    .filterBounds(willamette_geometry) \\\n",
    "    .filterDate(\"2015-10-01\", \"2021-09-30\") \\\n",
    "    .sort('CLOUD_COVER') \\\n",
    "    .first()\n",
    "\n",
    "colors = ['ba3d4e', '000000']\n",
    "\n",
    "visualization = {\n",
    "    'bands': ['B5'],\n",
    "    'min': 0,\n",
    "    'max': 2000,\n",
    "    #'palette': colors\n",
    "\n",
    "};\n",
    "\n",
    "    \n",
    "Map.addLayer(image, visualization, 'B5');\n",
    "\n",
    "Map.setCenter(willamette_lon, willamette_lat, zoom)\n",
    "\n",
    "\n",
    "Map"
   ]
  },
  {
   "cell_type": "markdown",
   "id": "de7ab900",
   "metadata": {},
   "source": [
    "##  B11 - Short Wave Infrared (SWIR)"
   ]
  },
  {
   "cell_type": "code",
   "execution_count": 6,
   "id": "71600736",
   "metadata": {},
   "outputs": [
    {
     "data": {
      "application/vnd.jupyter.widget-view+json": {
       "model_id": "07e26b2bfc0a4b89bdbc4be779c9e0bd",
       "version_major": 2,
       "version_minor": 0
      },
      "text/plain": [
       "Map(center=[44.2787, -123.177], controls=(WidgetControl(options=['position', 'transparent_bg'], widget=HBox(ch…"
      ]
     },
     "metadata": {},
     "output_type": "display_data"
    }
   ],
   "source": [
    "Map = geemap.Map()\n",
    "image = sentinel2 \\\n",
    "    .filterBounds(willamette_geometry) \\\n",
    "    .filterDate(\"2015-10-01\", \"2021-09-30\") \\\n",
    "    .sort('CLOUD_COVER') \\\n",
    "    .first()\n",
    "\n",
    "colors = ['c2fff6', '000000']\n",
    "\n",
    "visualization = {\n",
    "    'bands': ['B11'],\n",
    "    'min': 0,\n",
    "    'max': 2000,\n",
    "\n",
    "};\n",
    "\n",
    "    \n",
    "Map.addLayer(image, visualization, 'B11');\n",
    "\n",
    "Map.setCenter(willamette_lon, willamette_lat, zoom)\n",
    "\n",
    "\n",
    "Map"
   ]
  },
  {
   "cell_type": "code",
   "execution_count": 7,
   "id": "7dc1af45",
   "metadata": {},
   "outputs": [
    {
     "data": {
      "application/vnd.jupyter.widget-view+json": {
       "model_id": "ff431fcb064747acb710ab8862c40bc2",
       "version_major": 2,
       "version_minor": 0
      },
      "text/plain": [
       "Map(center=[44.2787, -123.177], controls=(WidgetControl(options=['position', 'transparent_bg'], widget=HBox(ch…"
      ]
     },
     "metadata": {},
     "output_type": "display_data"
    }
   ],
   "source": [
    "Map = geemap.Map()\n",
    "image = sentinel2 \\\n",
    "    .filterBounds(willamette_geometry) \\\n",
    "    .filterDate(\"2015-10-01\", \"2021-09-30\") \\\n",
    "    .sort('CLOUD_COVER') \\\n",
    "    .first()\n",
    "\n",
    "\n",
    "visualization = {\n",
    "    'bands': ['B4', 'B3', 'B2'],\n",
    "    'min': 0,\n",
    "    'max': 2000,\n",
    "    'gamma': [0.95, 1.1, 1]\n",
    "\n",
    "};\n",
    "\n",
    "    \n",
    "Map.addLayer(image, visualization, 'natural');\n",
    "\n",
    "Map.setCenter(willamette_lon, willamette_lat, zoom)\n",
    "\n",
    "\n",
    "Map"
   ]
  },
  {
   "cell_type": "markdown",
   "id": "0e7ee5d0",
   "metadata": {},
   "source": [
    "## MNDWI"
   ]
  },
  {
   "cell_type": "code",
   "execution_count": 8,
   "id": "ab2fa9a0",
   "metadata": {},
   "outputs": [
    {
     "data": {
      "application/vnd.jupyter.widget-view+json": {
       "model_id": "346eca563cb0469ea021de9fe461e60c",
       "version_major": 2,
       "version_minor": 0
      },
      "text/plain": [
       "Map(center=[44.2787, -123.177], controls=(WidgetControl(options=['position', 'transparent_bg'], widget=HBox(ch…"
      ]
     },
     "metadata": {},
     "output_type": "display_data"
    }
   ],
   "source": [
    "Map = geemap.Map()\n",
    "image = sentinel2 \\\n",
    "    .filterBounds(willamette_geometry) \\\n",
    "    .filterDate(\"2015-10-01\", \"2021-09-30\") \\\n",
    "    .sort('CLOUD_COVER') \\\n",
    "    .first()\n",
    "    \n",
    "water = image.normalizedDifference(['B3', 'B11']).gt(0)\n",
    "\n",
    "Map.addLayer(water, {'min': 0.5, 'max':1, 'palette': mapColor}) \n",
    "\n",
    "\n",
    "Map.setCenter(willamette_lon, willamette_lat, zoom)\n",
    "\n",
    "\n",
    "Map"
   ]
  },
  {
   "cell_type": "markdown",
   "id": "e02fc56b",
   "metadata": {},
   "source": [
    "## NDWI"
   ]
  },
  {
   "cell_type": "code",
   "execution_count": 9,
   "id": "93b02928",
   "metadata": {},
   "outputs": [
    {
     "data": {
      "application/vnd.jupyter.widget-view+json": {
       "model_id": "765fbbb923cc402b9b68da357b1356dd",
       "version_major": 2,
       "version_minor": 0
      },
      "text/plain": [
       "Map(center=[44.2787, -123.177], controls=(WidgetControl(options=['position', 'transparent_bg'], widget=HBox(ch…"
      ]
     },
     "metadata": {},
     "output_type": "display_data"
    }
   ],
   "source": [
    "Map = geemap.Map()\n",
    "image = sentinel2 \\\n",
    "    .filterBounds(willamette_geometry) \\\n",
    "    .filterDate(\"2015-10-01\", \"2021-09-30\") \\\n",
    "    .sort('CLOUD_COVER') \\\n",
    "    .first()\n",
    "    \n",
    "water = image.normalizedDifference(['B3', 'B5']).gt(0)\n",
    "\n",
    "Map.addLayer(water, {'min': 0.5, 'max':1, 'palette': mapColor}) \n",
    "\n",
    "\n",
    "Map.setCenter(willamette_lon, willamette_lat, zoom)\n",
    "\n",
    "\n",
    "Map"
   ]
  },
  {
   "cell_type": "markdown",
   "id": "eef1cd88",
   "metadata": {},
   "source": [
    "## Images from individual dates "
   ]
  },
  {
   "cell_type": "code",
   "execution_count": 10,
   "id": "f87a1e5c",
   "metadata": {},
   "outputs": [],
   "source": [
    "def visualImageFromDate(Map, date1, date2):\n",
    "    image = sentinel2 \\\n",
    "    .filterBounds(willamette_geometry) \\\n",
    "    .filterDate(date1, date2) \\\n",
    "    .sort('CLOUD_COVER') \\\n",
    "    .first()\n",
    "\n",
    "\n",
    "    visualization = {\n",
    "        'bands': ['B4', 'B3', 'B2'],\n",
    "        'min': 0,\n",
    "        'max': 2000,\n",
    "        'gamma': [0.95, 1.1, 1]\n",
    "\n",
    "    };\n",
    "\n",
    "\n",
    "    Map.addLayer(image, visualization, 'natural');\n",
    "\n",
    "    Map.setCenter(willamette_lon, willamette_lat, zoom)\n",
    "    "
   ]
  },
  {
   "cell_type": "code",
   "execution_count": 11,
   "id": "f72884eb",
   "metadata": {},
   "outputs": [
    {
     "data": {
      "application/vnd.jupyter.widget-view+json": {
       "model_id": "85d97c8e35b94a51ae317a364e6b2293",
       "version_major": 2,
       "version_minor": 0
      },
      "text/plain": [
       "Map(center=[44.2787, -123.177], controls=(WidgetControl(options=['position', 'transparent_bg'], widget=HBox(ch…"
      ]
     },
     "metadata": {},
     "output_type": "display_data"
    }
   ],
   "source": [
    "Map = geemap.Map()\n",
    "\n",
    "visualImageFromDate(Map, '2020-12-28', '2020-12-29')\n",
    "\n",
    "Map"
   ]
  },
  {
   "cell_type": "code",
   "execution_count": 12,
   "id": "a0fd6dee",
   "metadata": {},
   "outputs": [
    {
     "data": {
      "application/vnd.jupyter.widget-view+json": {
       "model_id": "056da90f4d4d4d549a11d6e72b2cac24",
       "version_major": 2,
       "version_minor": 0
      },
      "text/plain": [
       "Map(center=[44.2787, -123.177], controls=(WidgetControl(options=['position', 'transparent_bg'], widget=HBox(ch…"
      ]
     },
     "metadata": {},
     "output_type": "display_data"
    }
   ],
   "source": [
    "Map = geemap.Map()\n",
    "\n",
    "visualImageFromDate(Map, '2019-05-01', '2019-05-02')\n",
    "\n",
    "Map"
   ]
  },
  {
   "cell_type": "code",
   "execution_count": 13,
   "id": "664c8753",
   "metadata": {},
   "outputs": [
    {
     "data": {
      "application/vnd.jupyter.widget-view+json": {
       "model_id": "b5b1e7e3fe4c42198f83ed2d51e5b616",
       "version_major": 2,
       "version_minor": 0
      },
      "text/plain": [
       "Map(center=[44.2787, -123.177], controls=(WidgetControl(options=['position', 'transparent_bg'], widget=HBox(ch…"
      ]
     },
     "metadata": {},
     "output_type": "display_data"
    }
   ],
   "source": [
    "Map = geemap.Map()\n",
    "\n",
    "visualImageFromDate(Map, '2019-04-28', '2019-04-29')\n",
    "\n",
    "Map"
   ]
  },
  {
   "cell_type": "code",
   "execution_count": 14,
   "id": "b0d0d98c",
   "metadata": {},
   "outputs": [
    {
     "data": {
      "application/vnd.jupyter.widget-view+json": {
       "model_id": "0648d7cd5f55418c988392bad9bec21e",
       "version_major": 2,
       "version_minor": 0
      },
      "text/plain": [
       "Map(center=[44.2787, -123.177], controls=(WidgetControl(options=['position', 'transparent_bg'], widget=HBox(ch…"
      ]
     },
     "metadata": {},
     "output_type": "display_data"
    }
   ],
   "source": [
    "Map = geemap.Map()\n",
    "\n",
    "visualImageFromDate(Map, '2019-03-02', '2019-03-03')\n",
    "\n",
    "Map"
   ]
  },
  {
   "cell_type": "markdown",
   "id": "95ca4825",
   "metadata": {},
   "source": [
    "## Cross Section of Willamette"
   ]
  },
  {
   "cell_type": "code",
   "execution_count": 15,
   "id": "93c26599",
   "metadata": {},
   "outputs": [
    {
     "name": "stderr",
     "output_type": "stream",
     "text": [
      "/home/sarah/anaconda3/envs/py39/lib/python3.9/site-packages/geopandas/_compat.py:111: UserWarning: The Shapely GEOS version (3.9.1-CAPI-1.14.2) is incompatible with the GEOS version PyGEOS was compiled with (3.10.1-CAPI-1.16.0). Conversions between both will be slow.\n",
      "  warnings.warn(\n"
     ]
    }
   ],
   "source": [
    "import nldi_xstool\n",
    "import geopandas\n",
    "\n",
    "%matplotlib inline\n",
    "from nldi_xstool.XSGen import XSGen\n",
    "from nldi_xstool.ancillary import query_dems_bbox\n",
    "import py3dep\n",
    "from pynhd import NLDI, NHDPlusHR, WaterData\n",
    "import xarray as xr\n",
    "from matplotlib import pyplot as plt\n",
    "import numpy as np\n",
    "import pandas as pd\n",
    "import dataretrieval.nwis as nwis"
   ]
  },
  {
   "cell_type": "code",
   "execution_count": 16,
   "id": "d16ec585",
   "metadata": {},
   "outputs": [],
   "source": [
    "# https://waterdata.usgs.gov/nwis/inventory?agency_code=USGS&site_no=11114495\n",
    "\n",
    "gagebasin = NLDI().get_basins(\"14166000\").to_crs('epsg:3857')\n",
    "gageloc = NLDI().getfeature_byid(\"nwissite\", \"USGS-14166000\").to_crs('epsg:3857')\n"
   ]
  },
  {
   "cell_type": "code",
   "execution_count": 17,
   "id": "61d4ec7a",
   "metadata": {},
   "outputs": [
    {
     "data": {
      "text/plain": [
       "<AxesSubplot:>"
      ]
     },
     "execution_count": 17,
     "metadata": {},
     "output_type": "execute_result"
    },
    {
     "data": {
      "image/png": "[encoded data removed]",
      "text/plain": [
       "<Figure size 432x288 with 1 Axes>"
      ]
     },
     "metadata": {
      "needs_background": "light"
     },
     "output_type": "display_data"
    }
   ],
   "source": [
    "ax = plt.subplot(111)\n",
    "gagebasin.plot(ax=ax)\n",
    "gageloc.plot(ax=ax, color='black')"
   ]
  },
  {
   "cell_type": "code",
   "execution_count": 18,
   "id": "929296be",
   "metadata": {},
   "outputs": [
    {
     "name": "stdout",
     "output_type": "stream",
     "text": [
      "['23763337'] 23763337 23763337\n"
     ]
    }
   ],
   "source": [
    "gagebasin = NLDI().get_basins(\"14166000\").to_crs('epsg:3857')\n",
    "gageloc = NLDI().getfeature_byid(\"nwissite\", \"USGS-14166000\").to_crs('epsg:3857')\n",
    "cid = gageloc.comid.values.astype(str)\n",
    "print(cid,gageloc.comid.values.astype(int)[0], cid[0]) \n",
    "# strmseg_basin = NLDI().getfeature_byid(\"comid\", cid[0], basin=True).to_crs('epsg:3857')\n",
    "strmseg_loc = NLDI().getfeature_byid(\"comid\", cid[0]).to_crs('epsg:3857')"
   ]
  },
  {
   "cell_type": "code",
   "execution_count": 19,
   "id": "64160a9d",
   "metadata": {},
   "outputs": [
    {
     "name": "stdout",
     "output_type": "stream",
     "text": [
      "10\n"
     ]
    },
    {
     "data": {
      "image/png": "[encoded data removed]",
      "text/plain": [
       "<Figure size 432x288 with 1 Axes>"
      ]
     },
     "metadata": {
      "needs_background": "light"
     },
     "output_type": "display_data"
    }
   ],
   "source": [
    "# print(geomfeat.head(), geom2afeat.head())\n",
    "xs = XSGen(point=gageloc, cl_geom=strmseg_loc, ny=101, width=1000, tension=0.5)\n",
    "xs_line = xs.get_xs()\n",
    "ax = plt.subplot(111)\n",
    "gageloc.plot(ax=ax)\n",
    "strmseg_loc.plot(ax=ax)\n",
    "xs_line.plot(ax=ax)\n",
    "xs.get_strm_seg_spline().plot(ax=ax, colors='r')\n",
    "xs_line.envelope.plot(ax=ax, facecolor=\"none\", edgecolor='black')\n",
    "plt.show()"
   ]
  },
  {
   "cell_type": "code",
   "execution_count": 20,
   "id": "a02d66c3",
   "metadata": {},
   "outputs": [
    {
     "name": "stdout",
     "output_type": "stream",
     "text": [
      "            name                                           geometry\n",
      "0  cross-section  LINESTRING (-123.17025 44.27064, -123.17034 44...\n",
      "(-123.1791936043453, 44.27000744830729, -123.17025388014292, 44.27063918773215)\n",
      "{'res_1m': False, 'res_3m': True, 'res_5m': False, 'res_10m': True, 'res_30m': True, 'res_60m': False}\n",
      "995.165546040982 98.21168960258365\n"
     ]
    },
    {
     "data": {
      "text/plain": [
       "(-13712345.108361779,\n",
       " 5507221.979270949,\n",
       " -13711149.942815738,\n",
       " 5507520.190960552)"
      ]
     },
     "execution_count": 20,
     "metadata": {},
     "output_type": "execute_result"
    }
   ],
   "source": [
    "xs_line_geom = xs_line.to_crs('epsg:4326')\n",
    "print(xs_line_geom)\n",
    "bbox = xs_line_geom.geometry[0].envelope.bounds\n",
    "print(bbox)\n",
    "query = query_dems_bbox(bbox)\n",
    "print(query)\n",
    "bbox = xs_line.geometry[0].bounds\n",
    "width = abs(bbox[0]-bbox[2])\n",
    "height = abs(bbox[1]-bbox[3])\n",
    "print(width, height)\n",
    "bb = xs_line.buffer(100)\n",
    "bb.geometry[0].bounds\n",
    "bb1 = (xs_line.total_bounds) - ((100., 100., -100., -100.))\n",
    "tuple(bb1)"
   ]
  },
  {
   "cell_type": "code",
   "execution_count": 21,
   "id": "026df5ed",
   "metadata": {},
   "outputs": [
    {
     "name": "stdout",
     "output_type": "stream",
     "text": [
      "            name                                           geometry\n",
      "0  cross-section  LINESTRING (-13711249.943 5507420.191, -137112...\n"
     ]
    },
    {
     "data": {
      "text/plain": [
       "(-13713842.391115215,\n",
       " -13711149.942815738,\n",
       " 5506640.111621479,\n",
       " 5512401.002302254)"
      ]
     },
     "execution_count": 21,
     "metadata": {},
     "output_type": "execute_result"
    },
    {
     "data": {
      "image/png": "[encoded data removed]",
      "text/plain": [
       "<Figure size 432x288 with 2 Axes>"
      ]
     },
     "metadata": {
      "needs_background": "light"
     },
     "output_type": "display_data"
    }
   ],
   "source": [
    "#Buffer bounding box of cross-section otherwise interpolation with elevation below returns nans near end points\n",
    "xs_line_geom = xs_line.to_crs('epsg:3857')\n",
    "print(xs_line_geom)\n",
    "t1 = (xs_line_geom.total_bounds) + ((-100.,-100.,100., 100.))\n",
    "dem = py3dep.get_map(\"DEM\", tuple(t1), resolution=10, geo_crs=\"EPSG:3857\", crs=\"epsg:3857\")\n",
    "\n",
    "ax = plt.subplot(111)\n",
    "strmseg_loc.plot(ax=ax)\n",
    "xs_line_geom.plot(ax=ax, colors='black')\n",
    "xs.get_strm_seg_spline().plot(ax=ax, colors='r')\n",
    "xs_line.envelope.plot(ax=ax, facecolor=\"none\", edgecolor='black')\n",
    "dem.plot(ax=ax)\n",
    "gageloc.plot(ax=ax)\n",
    "ax.axis('equal')\n",
    "# plt.tight_layout()"
   ]
  },
  {
   "cell_type": "code",
   "execution_count": 22,
   "id": "17dee854",
   "metadata": {},
   "outputs": [
    {
     "name": "stdout",
     "output_type": "stream",
     "text": [
      "<class 'xarray.core.dataarray.DataArray'>\n"
     ]
    },
    {
     "name": "stderr",
     "output_type": "stream",
     "text": [
      "/home/sarah/anaconda3/envs/py39/lib/python3.9/site-packages/xarray/core/missing.py:566: FutureWarning: Passing method to Float64Index.get_loc is deprecated and will raise in a future version. Use index.get_indexer([item], method=...) instead.\n",
      "  imin = index.get_loc(minval, method=\"nearest\")\n",
      "/home/sarah/anaconda3/envs/py39/lib/python3.9/site-packages/xarray/core/missing.py:567: FutureWarning: Passing method to Float64Index.get_loc is deprecated and will raise in a future version. Use index.get_indexer([item], method=...) instead.\n",
      "  imax = index.get_loc(maxval, method=\"nearest\")\n",
      "/home/sarah/anaconda3/envs/py39/lib/python3.9/site-packages/xarray/core/missing.py:566: FutureWarning: Passing method to Float64Index.get_loc is deprecated and will raise in a future version. Use index.get_indexer([item], method=...) instead.\n",
      "  imin = index.get_loc(minval, method=\"nearest\")\n",
      "/home/sarah/anaconda3/envs/py39/lib/python3.9/site-packages/xarray/core/missing.py:567: FutureWarning: Passing method to Float64Index.get_loc is deprecated and will raise in a future version. Use index.get_indexer([item], method=...) instead.\n",
      "  imax = index.get_loc(maxval, method=\"nearest\")\n",
      "/home/sarah/anaconda3/envs/py39/lib/python3.9/site-packages/xarray/core/missing.py:566: FutureWarning: Passing method to Float64Index.get_loc is deprecated and will raise in a future version. Use index.get_indexer([item], method=...) instead.\n",
      "  imin = index.get_loc(minval, method=\"nearest\")\n",
      "/home/sarah/anaconda3/envs/py39/lib/python3.9/site-packages/xarray/core/missing.py:567: FutureWarning: Passing method to Float64Index.get_loc is deprecated and will raise in a future version. Use index.get_indexer([item], method=...) instead.\n",
      "  imax = index.get_loc(maxval, method=\"nearest\")\n",
      "/home/sarah/anaconda3/envs/py39/lib/python3.9/site-packages/xarray/core/missing.py:566: FutureWarning: Passing method to Float64Index.get_loc is deprecated and will raise in a future version. Use index.get_indexer([item], method=...) instead.\n",
      "  imin = index.get_loc(minval, method=\"nearest\")\n",
      "/home/sarah/anaconda3/envs/py39/lib/python3.9/site-packages/xarray/core/missing.py:567: FutureWarning: Passing method to Float64Index.get_loc is deprecated and will raise in a future version. Use index.get_indexer([item], method=...) instead.\n",
      "  imax = index.get_loc(maxval, method=\"nearest\")\n"
     ]
    },
    {
     "data": {
      "image/png": "[encoded data removed]",
      "text/plain": [
       "<Figure size 432x288 with 1 Axes>"
      ]
     },
     "metadata": {
      "needs_background": "light"
     },
     "output_type": "display_data"
    }
   ],
   "source": [
    "x,y = xs.get_xs_points()\n",
    "dsx = xr.DataArray(x, dims='z')\n",
    "dsy = xr.DataArray(y, dims='z')\n",
    "dsi = dem.interp(x=('z',x), y=('z',y))\n",
    "dsi.plot()\n",
    "print(type(dsi))"
   ]
  },
  {
   "cell_type": "code",
   "execution_count": null,
   "id": "9c73496f",
   "metadata": {},
   "outputs": [],
   "source": []
  },
  {
   "cell_type": "code",
   "execution_count": null,
   "id": "1f844d30",
   "metadata": {},
   "outputs": [],
   "source": []
  }
 ],
 "metadata": {
  "kernelspec": {
   "display_name": "Python 3 (ipykernel)",
   "language": "python",
   "name": "python3"
  },
  "language_info": {
   "codemirror_mode": {
    "name": "ipython",
    "version": 3
   },
   "file_extension": ".py",
   "mimetype": "text/x-python",
   "name": "python",
   "nbconvert_exporter": "python",
   "pygments_lexer": "ipython3",
   "version": "3.9.7"
  }
 },
 "nbformat": 4,
 "nbformat_minor": 5
}
