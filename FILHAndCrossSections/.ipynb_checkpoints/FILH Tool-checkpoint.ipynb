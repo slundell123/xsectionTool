{
 "cells": [
  {
   "cell_type": "code",
   "execution_count": 1,
   "id": "c4f22540",
   "metadata": {},
   "outputs": [
    {
     "name": "stderr",
     "output_type": "stream",
     "text": [
      "/home/sarah/anaconda3/envs/py39/lib/python3.9/site-packages/geopandas/_compat.py:111: UserWarning: The Shapely GEOS version (3.9.1-CAPI-1.14.2) is incompatible with the GEOS version PyGEOS was compiled with (3.10.1-CAPI-1.16.0). Conversions between both will be slow.\n",
      "  warnings.warn(\n"
     ]
    }
   ],
   "source": [
    "import nldi_xstool\n",
    "%matplotlib inline\n",
    "from nldi_xstool.XSGen import XSGen\n",
    "from nldi_xstool.ancillary import query_dems_bbox\n",
    "import py3dep\n",
    "from pynhd import NLDI, NHDPlusHR, WaterData\n",
    "import xarray as xr\n",
    "from matplotlib import pyplot as plt\n",
    "import numpy as np\n",
    "import pandas as pd\n",
    "import dataretrieval.nwis as nwis\n",
    "\n",
    "import ee # Google Earth Engine"
   ]
  },
  {
   "cell_type": "markdown",
   "id": "0efdad8a",
   "metadata": {},
   "source": [
    "## Use NWIS data to get days of high discharge from gage locations\n",
    "\n",
    "getSiteData uses NWIS to get data about a registered data collection location with a stream gage."
   ]
  },
  {
   "cell_type": "code",
   "execution_count": 2,
   "id": "0877e013",
   "metadata": {},
   "outputs": [],
   "source": [
    "def getSiteData(site_number, start_date, end_date):\n",
    "    measurements = nwis.get_record(sites=site_number, service='measurements')\n",
    "    site_info = nwis.get_record(sites=site_number, service='site')\n",
    "    instantaneous_discharge = nwis.get_record(sites=site_number, service='iv', start=start_date, end=end_date)\n",
    "    daily_discharge = nwis.get_record(sites=site_number, service='dv', start=start_date, end=end_date)\n",
    "    peak_discharge = nwis.get_record(sites=site_number, service='peaks', start=start_date, end=end_date)\n",
    "    return [measurements, site_info, instantaneous_discharge, daily_discharge, peak_discharge]"
   ]
  },
  {
   "cell_type": "markdown",
   "id": "3ebea977",
   "metadata": {},
   "source": [
    "getDailyDischargeFromSite gets just the daily discharge data based on the selected site."
   ]
  },
  {
   "cell_type": "code",
   "execution_count": 3,
   "id": "ce682a79",
   "metadata": {},
   "outputs": [],
   "source": [
    "def getDailyDischargeFromSite(site_number, start_date, end_date):\n",
    "    return nwis.get_record(sites=site_number, service='dv', start=start_date, end=end_date)"
   ]
  },
  {
   "cell_type": "markdown",
   "id": "b31c45c3",
   "metadata": {},
   "source": [
    "getDailyDischargeValuesAboveThreshold returns the dataframe rows form the NWIS daily discharge dataset that are above a given discharge threshold. This function optionally displays a graph of the results."
   ]
  },
  {
   "cell_type": "code",
   "execution_count": 28,
   "id": "df72786c",
   "metadata": {},
   "outputs": [],
   "source": [
    "def getDailyDischargeValuesAboveThreshold(daily_discharge, discharge_cfs_threshold, title, plot_dates): \n",
    "    threshold_met = daily_discharge.loc[daily_discharge['00060_Mean'] >= discharge_cfs_threshold]\n",
    "    # optional plotting of dates\n",
    "    if(plot_dates):\n",
    "        fig, ax = plt.subplots()\n",
    "        ax.scatter(x= threshold_met.index, y=threshold_met['00060_Mean'])\n",
    "        title_text =  title + \"Daily Mean Discharge Values Above \"+str(discharge_cfs_threshold)+\" cfs\"\n",
    "        ax.set_title(title_text)\n",
    "        ax.set_xlabel(\"Dates\")\n",
    "        ax.set_ylabel(\"Discharge (cfs)\")\n",
    "        plt.xticks(rotation = 45)\n",
    "        plt.show()\n",
    "        \n",
    "    return threshold_met"
   ]
  },
  {
   "cell_type": "code",
   "execution_count": 5,
   "id": "f8837084",
   "metadata": {},
   "outputs": [],
   "source": [
    "def getDailyDischargeValuesBetweenThresholds(daily_discharge, discharge_cfs_threshold_lower, discharge_cfs_threshold_upper, title, plot_dates): \n",
    "    threshold_met = daily_discharge.loc[daily_discharge['00060_Mean'] >= discharge_cfs_threshold_lower].loc[daily_discharge['00060_Mean'] <= discharge_cfs_threshold_upper]\n",
    "    \n",
    "    # optional plotting of dates\n",
    "    if(plot_dates):\n",
    "        fig, ax = plt.subplots()\n",
    "        ax.scatter(x= threshold_met.index, y=threshold_met['00060_Mean'])\n",
    "        title_text = title + \"Daily Mean Discharge Values Above \" +str(discharge_cfs_threshold_lower)+ \" and \" +str(discharge_cfs_threshold_upper)+ \" cfs\"\n",
    "        ax.set_title(title_text)\n",
    "        ax.set_xlabel(\"Dates\")\n",
    "        ax.set_ylabel(\"Discharge (cfs)\")\n",
    "        plt.xticks(rotation = 45)\n",
    "        plt.show()\n",
    "        \n",
    "    return threshold_met"
   ]
  },
  {
   "cell_type": "markdown",
   "id": "c78e99d3",
   "metadata": {},
   "source": [
    "reformatDatesForGoogleEarthEngine formats the dates from the NWIS datafram so that they can be used in Google Earth Engine"
   ]
  },
  {
   "cell_type": "code",
   "execution_count": 6,
   "id": "5f934958",
   "metadata": {},
   "outputs": [],
   "source": [
    "def reformatDatesForGoogleEarthEngine(discharge_threshold_met_dataframe):\n",
    "    date = [ time.strftime(\"%Y-%m-%d\") for time in discharge_threshold_met_dataframe.index.tolist()]\n",
    "    return date"
   ]
  },
  {
   "cell_type": "markdown",
   "id": "9a5ace5e",
   "metadata": {},
   "source": [
    "getDatesAboveDischargeThreshold combines the above functions into one call"
   ]
  },
  {
   "cell_type": "code",
   "execution_count": 7,
   "id": "ec9fdffa",
   "metadata": {},
   "outputs": [],
   "source": [
    "def getDatesAboveDischargeThreshold(site_number, start_date, end_date, discharge_cfs_threshold, title = \"\", plot_dates = True):\n",
    "    # get data for site by site number\n",
    "    daily_discharge = getDailyDischargeFromSite(site_number, start_date, end_date)\n",
    "    \n",
    "    # get dataframe values for given discharge threshold\n",
    "    discharge_threshold_met_dataframe = getDailyDischargeValuesAboveThreshold(daily_discharge, discharge_cfs_threshold, title, plot_dates)\n",
    "    \n",
    "    # return the dates in Google Earth Engine format\n",
    "    return reformatDatesForGoogleEarthEngine(discharge_threshold_met_dataframe), discharge_threshold_met_dataframe"
   ]
  },
  {
   "cell_type": "code",
   "execution_count": 8,
   "id": "24e8c784",
   "metadata": {},
   "outputs": [],
   "source": [
    "def getDatesBetweenDischargeThreshold(site_number, start_date, end_date, discharge_cfs_threshold_lower, discharge_cfs_threshold_upper, title = \"\", plot_dates = True):\n",
    "    # get data for site by site number\n",
    "    daily_discharge = getDailyDischargeFromSite(site_number, start_date, end_date)\n",
    "    \n",
    "    # get dataframe values for given discharge threshold\n",
    "    discharge_threshold_met_dataframe = getDailyDischargeValuesBetweenThresholds(daily_discharge, discharge_cfs_threshold_lower, discharge_cfs_threshold_upper, title, plot_dates)\n",
    "    \n",
    "    # return the dates in Google Earth Engine format\n",
    "    return reformatDatesForGoogleEarthEngine(discharge_threshold_met_dataframe), discharge_threshold_met_dataframe"
   ]
  },
  {
   "cell_type": "markdown",
   "id": "7093cc17",
   "metadata": {},
   "source": [
    "getDischargeFromDate takes a site number and a date and returns the mean discharge for that day. This will later be used for graphing area vs discharge."
   ]
  },
  {
   "cell_type": "code",
   "execution_count": 9,
   "id": "2d25384a",
   "metadata": {},
   "outputs": [],
   "source": [
    "def getDischargeFromDate(site_number, date):\n",
    "    dateRange = dateToString(date)\n",
    "    return getDailyDischargeFromSite(site_number, dateRange[0], dateRange[1]).iloc[0][\"00060_Mean\"]"
   ]
  },
  {
   "cell_type": "markdown",
   "id": "b76b6d98",
   "metadata": {},
   "source": [
    "Case 1: Matilija"
   ]
  },
  {
   "cell_type": "code",
   "execution_count": null,
   "id": "5abc700a",
   "metadata": {},
   "outputs": [],
   "source": [
    "matilija_site_number='11114495'\n",
    "start_date = '2014-12-31'\n",
    "end_date = '2020-01-01'\n",
    "matilija_discharge_cfs_threshold = 100\n",
    "\n",
    "matilija_dates_above_threshold, matilija_dates_df = getDatesAboveDischargeThreshold(matilija_site_number, start_date, end_date, \n",
    "                                                                 matilija_discharge_cfs_threshold)"
   ]
  },
  {
   "cell_type": "code",
   "execution_count": null,
   "id": "a8c43c95",
   "metadata": {},
   "outputs": [],
   "source": [
    "print(matilija_dates_above_threshold)"
   ]
  },
  {
   "cell_type": "code",
   "execution_count": null,
   "id": "650e702d",
   "metadata": {},
   "outputs": [],
   "source": [
    "matilija_dates_df"
   ]
  },
  {
   "cell_type": "markdown",
   "id": "ccb33990",
   "metadata": {},
   "source": [
    "Case 2: Willamette River at Harrisburg, OR"
   ]
  },
  {
   "cell_type": "code",
   "execution_count": null,
   "id": "f86f7b85",
   "metadata": {},
   "outputs": [],
   "source": [
    "willamette_site_number='14166000'\n",
    "start_date = '2001-10-01'\n",
    "end_date = '2021-09-30'\n",
    "willamette_discharge_cfs_threshold = 30000\n",
    "\n",
    "willamette_dates_above_threshold, willamette_dates_df = getDatesAboveDischargeThreshold(willamette_site_number, start_date, end_date, \n",
    "                                                                 willamette_discharge_cfs_threshold)"
   ]
  },
  {
   "cell_type": "code",
   "execution_count": null,
   "id": "e63b9aee",
   "metadata": {},
   "outputs": [],
   "source": [
    "print(willamette_dates_above_threshold)"
   ]
  },
  {
   "cell_type": "markdown",
   "id": "6b897a86",
   "metadata": {},
   "source": [
    "Case 3: Mississippi River at Vicksburg, MS"
   ]
  },
  {
   "cell_type": "code",
   "execution_count": null,
   "id": "1278ecac",
   "metadata": {},
   "outputs": [],
   "source": [
    "mississippi_site_number='07289000'\n",
    "start_date = '2001-10-01'\n",
    "end_date = '2021-09-30'\n",
    "mississippi_discharge_cfs_threshold = 1200000\n",
    "\n",
    "mississippi_dates_above_threshold, mississippi_dates_df = getDatesAboveDischargeThreshold(mississippi_site_number, start_date, end_date, \n",
    "                                                                 mississippi_discharge_cfs_threshold)"
   ]
  },
  {
   "cell_type": "code",
   "execution_count": null,
   "id": "7ff34796",
   "metadata": {},
   "outputs": [],
   "source": [
    "print(mississippi_dates_above_threshold)"
   ]
  },
  {
   "cell_type": "markdown",
   "id": "a7138c92",
   "metadata": {},
   "source": [
    "Now, we want to take to above dates and run them in Google Earth Engine. The below code gets a verification token to authenticate the user."
   ]
  },
  {
   "cell_type": "markdown",
   "id": "2a0e9725",
   "metadata": {},
   "source": [
    "## Mapping dates with Google Earth Engine"
   ]
  },
  {
   "cell_type": "code",
   "execution_count": 10,
   "id": "f6cf426a",
   "metadata": {},
   "outputs": [
    {
     "data": {
      "text/html": [
       "<p>To authorize access needed by Earth Engine, open the following\n",
       "        URL in a web browser and follow the instructions:</p>\n",
       "        <p><a href=https://code.earthengine.google.com/client-auth?scopes=https%3A//www.googleapis.com/auth/earthengine%20https%3A//www.googleapis.com/auth/devstorage.full_control&request_id=pu2s6PYQb2MZKI-6urD0fhHiBn0vZfOmAnYGJ2EuNRw&tc=D1dGCMkhtGDpaFfvajFzcNhrHQWRarQ02nHF5JaTzqA&cc=KBc5MJYznTax3xt_guZGAn59ZP_pBN2mjGha3_lU3rA>https://code.earthengine.google.com/client-auth?scopes=https%3A//www.googleapis.com/auth/earthengine%20https%3A//www.googleapis.com/auth/devstorage.full_control&request_id=pu2s6PYQb2MZKI-6urD0fhHiBn0vZfOmAnYGJ2EuNRw&tc=D1dGCMkhtGDpaFfvajFzcNhrHQWRarQ02nHF5JaTzqA&cc=KBc5MJYznTax3xt_guZGAn59ZP_pBN2mjGha3_lU3rA</a></p>\n",
       "        <p>The authorization workflow will generate a code, which you\n",
       "        should paste in the box below</p>\n",
       "        "
      ],
      "text/plain": [
       "<IPython.core.display.HTML object>"
      ]
     },
     "metadata": {},
     "output_type": "display_data"
    },
    {
     "name": "stdout",
     "output_type": "stream",
     "text": [
      "Enter verification code: 4/1AX4XfWiSbjKDSYudI0SCRavRxO8OyWjZL6dlnjN9mvy5CkHrTprsKTsrT_4\n",
      "\n",
      "Successfully saved authorization token.\n"
     ]
    }
   ],
   "source": [
    "ee.Authenticate()"
   ]
  },
  {
   "cell_type": "code",
   "execution_count": 11,
   "id": "b418acba",
   "metadata": {},
   "outputs": [],
   "source": [
    "ee.Initialize()"
   ]
  },
  {
   "cell_type": "markdown",
   "id": "b2752f9d",
   "metadata": {},
   "source": [
    "Getting satellite data for imaging."
   ]
  },
  {
   "cell_type": "code",
   "execution_count": 12,
   "id": "c0926435",
   "metadata": {},
   "outputs": [],
   "source": [
    "\n",
    "sentinel2 = ee.ImageCollection(\"COPERNICUS/S2_SR_HARMONIZED\");\n",
    "landsat8 = ee.ImageCollection(\"LANDSAT/LC08/C02/T1_TOA\")\n"
   ]
  },
  {
   "cell_type": "markdown",
   "id": "d10d677c",
   "metadata": {},
   "source": [
    "Helper functions to use ee"
   ]
  },
  {
   "cell_type": "code",
   "execution_count": 13,
   "id": "57ce739f",
   "metadata": {},
   "outputs": [],
   "source": [
    "# interactive map for images\n",
    "import geemap\n",
    "\n",
    "mapColor = ['45a248', '1c3da2']"
   ]
  },
  {
   "cell_type": "code",
   "execution_count": 14,
   "id": "a8a9533a",
   "metadata": {},
   "outputs": [],
   "source": [
    "from datetime import datetime\n",
    "from datetime import timedelta\n",
    "\n",
    "def dateToString(date):\n",
    "    start_date = datetime.strptime(date, \"%Y-%m-%d\")\n",
    "    end_date = start_date + timedelta(days=1)\n",
    "    return [start_date.strftime(\"%Y-%m-%d\"), end_date.strftime(\"%Y-%m-%d\")]"
   ]
  },
  {
   "cell_type": "code",
   "execution_count": 31,
   "id": "5a588d54",
   "metadata": {},
   "outputs": [],
   "source": [
    "# get the image collection of all images from the dates passes\n",
    "def getListOfImages(datesList, location, satellite, cloud_percentage = 10):\n",
    "    images = []\n",
    "  \n",
    "    for date in datesList:\n",
    "        # get the day number in the year of the date so we can look\n",
    "        # it up \n",
    "        searchDates = dateToString(date)\n",
    "    \n",
    "        # get image form given date with least cloud cover\n",
    "        \n",
    "        satelliteImageForDate = ee.ImageCollection(satellite) \\\n",
    "        .filterBounds(location) \\\n",
    "        .filterDate(searchDates[0], searchDates[1]) \\\n",
    "        .sort('CLOUD_COVER') \\\n",
    "        .first()\n",
    "\n",
    "        # when the image is not null we want to add it to our list of \n",
    "        # images\n",
    "        if (satelliteImageForDate):\n",
    "            images.append(satelliteImageForDate)\n",
    "\n",
    "\n",
    "    # turn images found into a collection so we can map them\n",
    "    collectionFromImages = ee.ImageCollection.fromImages(images)\n",
    "\n",
    "    #filteredCollection = withCloudiness.filter(ee.Filter.lt('cloud', cloud_percentage));\n",
    "    #print(filteredCollection);\n",
    "\n",
    "    \n",
    "    # filter image on clouds on pick geometry location\n",
    "    filtered = collectionFromImages.filter(ee.Filter.lt('CLOUDY_PIXEL_PERCENTAGE', cloud_percentage)) \\\n",
    "        .filter(ee.Filter.bounds(location))\n",
    "    return filtered\n",
    "    \n"
   ]
  },
  {
   "cell_type": "code",
   "execution_count": 55,
   "id": "523b3b15",
   "metadata": {},
   "outputs": [],
   "source": [
    "def getNDWIFromImage(image):\n",
    "    mndwi = image.normalizedDifference(['B3', 'B5'])\n",
    "    return mndwi.gt(0)"
   ]
  },
  {
   "cell_type": "code",
   "execution_count": 56,
   "id": "37f9fdea",
   "metadata": {},
   "outputs": [],
   "source": [
    "def getMNDWIFromImage(image):\n",
    "    mndwi = image.normalizedDifference(['B3', 'B11'])\n",
    "    return mndwi.gt(0)"
   ]
  },
  {
   "cell_type": "code",
   "execution_count": 69,
   "id": "6dad5c57",
   "metadata": {},
   "outputs": [],
   "source": [
    "# map the image collection \n",
    "def mapImageCollection(imageCollection, ndwiType = \"NDWI\"):\n",
    "    Map = geemap.Map()\n",
    "    image = imageCollection.first()\n",
    "\n",
    "    vis_param = {'min': 0, \n",
    "                 'max': 2000, \n",
    "                 'bands': ['B5', 'B4', 'B3'], \n",
    "                 'gamma': 1.5}\n",
    "    Map.addLayer(image, vis_param, \"First mage\")\n",
    "    Map.centerObject(image, 8)    \n",
    "   \n",
    "    mosaic = imageCollection.mosaic()\n",
    "\n",
    "    medianComposite = imageCollection.median()\n",
    "    \n",
    "    rgbVis = {\n",
    "        'min': 0.0,\n",
    "        'max': 3000,\n",
    "        'bands': ['B4', 'B3', 'B2'],\n",
    "    }\n",
    "\n",
    "    Map.addLayer(imageCollection, rgbVis, 'Filtered Collection');\n",
    "    Map.addLayer(mosaic, rgbVis, 'Mosaic');\n",
    "    Map.addLayer(medianComposite, rgbVis, 'Median Composite')\n",
    "\n",
    "    if ndwiType == \"NDWI\":\n",
    "        water = getNDWIFromImage(image)\n",
    "    elif ndwiType == \"MNDWI\":\n",
    "        water = getMNDWIFromImage(image)\n",
    "    Map.addLayer(water, {'min': 0.5, 'max':1, 'palette': mapColor}, \"ndwiMosaic\")\n",
    "    return Map"
   ]
  },
  {
   "cell_type": "markdown",
   "id": "e5ee5cc1",
   "metadata": {},
   "source": [
    "Make a map from an image collection"
   ]
  },
  {
   "cell_type": "code",
   "execution_count": 70,
   "id": "7ff6678f",
   "metadata": {},
   "outputs": [],
   "source": [
    "# map a single ndwi image from a given date\n",
    "def mapImageFromDate(date, location, satellite, ndwiType = \"NDWI\"):\n",
    "    Map = geemap.Map()\n",
    "    dateRange = dateToString(date)\n",
    "    image = satellite \\\n",
    "      .filterBounds(location) \\\n",
    "      .filterDate(dateRange[0], dateRange[1]) \\\n",
    "      .sort('CLOUD_COVER') \\\n",
    "      .first()\n",
    "    if ndwiType == \"NDWI\":\n",
    "        water = getNDWIFromImage(image)\n",
    "    elif ndwiType == \"MNDWI\":\n",
    "        water = getMNDWIFromImage(image)\n",
    "\n",
    "    Map.addLayer(water, {'min': 0.5, 'max':1, 'palette': mapColor})    \n",
    "    \n",
    "    return Map"
   ]
  },
  {
   "cell_type": "markdown",
   "id": "1a20dd6a",
   "metadata": {},
   "source": [
    "Map an image from a date when we already have the image collection"
   ]
  },
  {
   "cell_type": "code",
   "execution_count": 71,
   "id": "a0fabc64",
   "metadata": {},
   "outputs": [],
   "source": [
    "# map a single ndwi image from a given date\n",
    "def mapImageFromDateAndImageCollection(date, location, satellite, imageCollection, ndwiType = \"NDWI\"):\n",
    "    # get the image for the date\n",
    "    image = getImageFromDate(date, imageCollection)\n",
    "    Map = geemap.Map()\n",
    "    \n",
    "    # make mndwi for looking at water vs non-water\n",
    "    if ndwiType == \"NDWI\":\n",
    "        water = getNDWIFromImage(image)\n",
    "    elif ndwiType == \"MNDWI\":\n",
    "        water = getMNDWIFromImage(image)\n",
    "    \n",
    "    # plot water as blue and land as green\n",
    "    Map.addLayer(water, {'min': 0.5, 'max':1, 'palette': mapColor})    \n",
    "    \n",
    "    return Map"
   ]
  },
  {
   "cell_type": "markdown",
   "id": "295f7648",
   "metadata": {},
   "source": [
    "Get the image from the image collection for a given date"
   ]
  },
  {
   "cell_type": "code",
   "execution_count": 23,
   "id": "ccec8449",
   "metadata": {},
   "outputs": [],
   "source": [
    "def getImageFromDate(date, imageCollection):\n",
    "    searchDates = dateToString(date)\n",
    "    return imageCollection.filterDate(searchDates[0], searchDates[1]).first()"
   ]
  },
  {
   "cell_type": "markdown",
   "id": "f93cd801",
   "metadata": {},
   "source": [
    "getAreaFromDate takes a date and gets the area within the geometry (location) that is water"
   ]
  },
  {
   "cell_type": "code",
   "execution_count": 73,
   "id": "fe59e881",
   "metadata": {},
   "outputs": [],
   "source": [
    "def getAreaFromDate(date, location, satellite, ndwiType = \"NDWI\"):\n",
    "    Map = geemap.Map()\n",
    "    dateRange = dateToString(date)\n",
    "    image = satellite \\\n",
    "      .filterBounds(location) \\\n",
    "      .filterDate(dateRange[0], dateRange[1]) \\\n",
    "      .sort('CLOUD_COVER') \\\n",
    "      .first()\n",
    "    \n",
    "    if ndwiType == \"NDWI\":\n",
    "        water = getNDWIFromImage(image)\n",
    "    elif ndwiType == \"MNDWI\":\n",
    "        water = getMNDWIFromImage(image)\n",
    "\n",
    "    Map.addLayer(water, {'min': 0.5, 'max':1, 'palette': mapColor})\n",
    "    areaImage = water.multiply(ee.Image.pixelArea())\n",
    "    area = areaImage.reduceRegion(reducer = ee.Reducer.sum(), \n",
    "      geometry = location, \n",
    "      scale = 20, \n",
    "      maxPixels= 1e10 \n",
    "      )\n",
    "    urbanAreaSqKm = ee.Number(\n",
    "      area.get('nd')).divide(1e6)\n",
    "    return urbanAreaSqKm.getInfo()"
   ]
  },
  {
   "cell_type": "code",
   "execution_count": 72,
   "id": "214ef04a",
   "metadata": {},
   "outputs": [],
   "source": [
    "def getAreaFromImage(image, location, satellite, ndwiType = \"NDWI\"):\n",
    "    Map = geemap.Map()\n",
    "    if ndwiType == \"NDWI\":\n",
    "        water = getNDWIFromImage(image)\n",
    "    elif ndwiType == \"MNDWI\":\n",
    "        water = getMNDWIFromImage(image)\n",
    "    Map.addLayer(water, {'min': 0.5, 'max':1, 'palette': mapColor})\n",
    "    areaImage = water.multiply(ee.Image.pixelArea())\n",
    "    area = areaImage.reduceRegion(reducer = ee.Reducer.sum(), \n",
    "      geometry = location, \n",
    "      scale = 20, \n",
    "      maxPixels= 1e10 \n",
    "      )\n",
    "    urbanAreaSqKm = ee.Number(\n",
    "      area.get('nd')).divide(1e6)\n",
    "    return urbanAreaSqKm.getInfo()"
   ]
  },
  {
   "cell_type": "code",
   "execution_count": 26,
   "id": "d588782b",
   "metadata": {},
   "outputs": [],
   "source": [
    "# get all dates that returned an image in the image collection\n",
    "def getDatesFromImageCollection(imageCollection, time = False):\n",
    "    dates = []\n",
    "    for feature in imageCollection.getInfo()['features']:\n",
    "        ms = feature['properties']['system:time_start']\n",
    "        if time:\n",
    "            dateOfImage = datetime.fromtimestamp(ms/1000.0).strftime(\"%Y-%m-%d, %H:%M:%S\")\n",
    "        else: \n",
    "            dateOfImage = datetime.fromtimestamp(ms/1000.0).strftime(\"%Y-%m-%d\")\n",
    "        dates.append(dateOfImage)\n",
    "    return dates"
   ]
  },
  {
   "cell_type": "code",
   "execution_count": null,
   "id": "372aeb98",
   "metadata": {},
   "outputs": [],
   "source": [
    "matilijaGageLocation = ee.Geometry.Point(-119.30795921344384, 34.48573359710931)\n",
    "\n",
    "matilijaGeometry = ee.Geometry.Polygon(\n",
    "        [[[-119.31594286538936, 34.49174896054574],\n",
    "          [-119.31594286538936, 34.48219820073181],\n",
    "          [-119.30285368539668, 34.48219820073181],\n",
    "          [-119.30285368539668, 34.49174896054574]]], None, False);\n",
    "matilija_collection = getListOfImages(matilija_dates_above_threshold, matilijaGeometry, sentinel2)\n",
    "Map = mapImageCollection(matilija_collection)\n",
    "lat = 34.48573359710931\n",
    "lon = -119.30795921344384\n",
    "zoom = 15\n",
    "Map.setCenter(lon, lat, zoom)\n",
    "Map"
   ]
  },
  {
   "cell_type": "code",
   "execution_count": null,
   "id": "7891c975",
   "metadata": {},
   "outputs": [],
   "source": [
    "matilija_date_list = getDatesFromImageCollection(matilija_collection)"
   ]
  },
  {
   "cell_type": "code",
   "execution_count": null,
   "id": "a6129a9a",
   "metadata": {},
   "outputs": [],
   "source": [
    "print(matilija_date_list)"
   ]
  },
  {
   "cell_type": "markdown",
   "id": "cbc016fa",
   "metadata": {},
   "source": [
    "## Getting area of water shown on map"
   ]
  },
  {
   "cell_type": "code",
   "execution_count": null,
   "id": "72245865",
   "metadata": {},
   "outputs": [],
   "source": [
    "Map = mapImageFromDateAndImageCollection('2019-02-08', matilijaGeometry, sentinel2, matilija_collection)\n",
    "lat = 34.48573359710931\n",
    "lon = -119.30795921344384\n",
    "zoom = 15\n",
    "Map.setCenter(lon, lat, zoom)\n",
    "Map"
   ]
  },
  {
   "cell_type": "markdown",
   "id": "95020ebf",
   "metadata": {},
   "source": [
    "## Plotting dischange vs water area "
   ]
  },
  {
   "cell_type": "code",
   "execution_count": null,
   "id": "1f7a379c",
   "metadata": {},
   "outputs": [],
   "source": [
    "area = []\n",
    "discharge = []\n",
    "for date in matilija_date_list:\n",
    "    area.append(getAreaFromDate(date, matilijaGeometry, sentinel2))\n",
    "    discharge.append(getDischargeFromDate(matilija_site_number, date))"
   ]
  },
  {
   "cell_type": "code",
   "execution_count": null,
   "id": "cc2fb535",
   "metadata": {},
   "outputs": [],
   "source": [
    "print(area)\n",
    "print(discharge)"
   ]
  },
  {
   "cell_type": "code",
   "execution_count": null,
   "id": "f10f957f",
   "metadata": {},
   "outputs": [],
   "source": [
    "fig, ax = plt.subplots()\n",
    "ax.scatter(discharge, area)\n",
    "ax.set_title(\"Area of matilija vs discharge\")\n",
    "ax.set_xlabel(\"discharge\")\n",
    "ax.set_ylabel(\"area (km^2)\")\n",
    "plt.show()"
   ]
  },
  {
   "cell_type": "markdown",
   "id": "8513a05b",
   "metadata": {},
   "source": [
    "###  Mississippi River"
   ]
  },
  {
   "cell_type": "code",
   "execution_count": 76,
   "id": "c163ab4f",
   "metadata": {},
   "outputs": [
    {
     "data": {
      "image/png": "[encoded data removed]",
      "text/plain": [
       "<Figure size 432x288 with 1 Axes>"
      ]
     },
     "metadata": {
      "needs_background": "light"
     },
     "output_type": "display_data"
    }
   ],
   "source": [
    "mississippi_site_number='07289000'\n",
    "start_date = '2014-10-01'\n",
    "end_date = '2021-09-30'\n",
    "mississippi_discharge_cfs_threshold = 1000000\n",
    "mississippi_geometry = ee.Geometry.Polygon(\n",
    "        [[[-90.9177845688234, 32.335557854068995],\n",
    "          [-90.91349303439956, 32.33432498989724],\n",
    "          [-90.90920149997574, 32.33185921117534],\n",
    "          [-90.90705573276382, 32.32808789026796],\n",
    "          [-90.90619742587906, 32.325984585367834],\n",
    "          [-90.90636908725601, 32.3243164122555],\n",
    "          [-90.90774237827164, 32.32134263613644],\n",
    "          [-90.90997397617203, 32.318441297029096],\n",
    "          [-90.91143309787613, 32.315539864975015],\n",
    "          [-90.9140938492189, 32.313146113562084],\n",
    "          [-90.91615378574234, 32.31075229889282],\n",
    "          [-90.90705573276382, 32.306544834979036],\n",
    "          [-90.90387999729019, 32.30843096365433],\n",
    "          [-90.90049373616061, 32.31354165282473],\n",
    "          [-90.8994637678989, 32.31782132695719],\n",
    "          [-90.89809047688327, 32.32072268592575],\n",
    "          [-90.89731800068698, 32.322826113055285],\n",
    "          [-90.89680301655612, 32.324784432324336],\n",
    "          [-90.89457141865573, 32.32841083764998],\n",
    "          [-90.89551555622897, 32.330151460612875],\n",
    "          [-90.8954297255405, 32.33312494741842],\n",
    "          [-90.89594470967135, 32.33602581602416],\n",
    "          [-90.90263950337253, 32.34066701240601],\n",
    "          [-90.91087924946628, 32.345452996869604]]]);\n",
    "\n",
    "mississippi_dates_above_threshold, mississippi_dates_df = getDatesAboveDischargeThreshold(mississippi_site_number, start_date, end_date, \n",
    "                                                                 mississippi_discharge_cfs_threshold)"
   ]
  },
  {
   "cell_type": "code",
   "execution_count": 77,
   "id": "9bbd8c81",
   "metadata": {},
   "outputs": [
    {
     "data": {
      "application/vnd.jupyter.widget-view+json": {
       "model_id": "ba7eeedab4f045099ca8652ddd737b5c",
       "version_major": 2,
       "version_minor": 0
      },
      "text/plain": [
       "Map(center=[32.33, -90.91], controls=(WidgetControl(options=['position', 'transparent_bg'], widget=HBox(childr…"
      ]
     },
     "metadata": {},
     "output_type": "display_data"
    }
   ],
   "source": [
    "mississippi_image_collection = getListOfImages(mississippi_dates_above_threshold, mississippi_geometry, sentinel2, 2)\n",
    "mississippi_map = mapImageCollection(mississippi_image_collection, \"MNDWI\")\n",
    "\n",
    "# lat and lon for centering the map\n",
    "mississippi_lat = 32.33\n",
    "mississippi_lon = -90.91\n",
    "zoom = 15\n",
    "mississippi_map.setCenter(mississippi_lon, mississippi_lat, zoom)\n",
    "mississippi_map"
   ]
  },
  {
   "cell_type": "code",
   "execution_count": 78,
   "id": "46c18c3b",
   "metadata": {},
   "outputs": [],
   "source": [
    "mississippi_date_list = getDatesFromImageCollection(mississippi_image_collection)"
   ]
  },
  {
   "cell_type": "code",
   "execution_count": 79,
   "id": "01e0a07f",
   "metadata": {},
   "outputs": [
    {
     "name": "stdout",
     "output_type": "stream",
     "text": [
      "['2019-01-06', '2019-01-21', '2019-03-22', '2019-04-21', '2019-04-26', '2019-05-16', '2019-05-26', '2019-07-25', '2020-03-26', '2020-04-30', '2020-05-10', '2021-03-21', '2021-03-26', '2021-04-20']\n"
     ]
    }
   ],
   "source": [
    "print(mississippi_date_list)"
   ]
  },
  {
   "cell_type": "code",
   "execution_count": 81,
   "id": "3ae9b367",
   "metadata": {},
   "outputs": [],
   "source": [
    "area = []\n",
    "discharge = []\n",
    "for date in mississippi_date_list:\n",
    "    area.append(getAreaFromDate(date, mississippi_geometry, sentinel2, \"MNDWI\"))\n",
    "    discharge.append(getDischargeFromDate(mississippi_site_number, date))"
   ]
  },
  {
   "cell_type": "code",
   "execution_count": 82,
   "id": "c22d6c72",
   "metadata": {},
   "outputs": [
    {
     "data": {
      "image/png": "[encoded data removed]",
      "text/plain": [
       "<Figure size 432x288 with 1 Axes>"
      ]
     },
     "metadata": {
      "needs_background": "light"
     },
     "output_type": "display_data"
    }
   ],
   "source": [
    "fig, ax = plt.subplots()\n",
    "ax.scatter(discharge, area)\n",
    "ax.set_title(\"Area of Mississippi River vs Discharge (MNDWI)\")\n",
    "ax.set_xlabel(\"Discharge (cfs)\")\n",
    "ax.set_ylabel(\"Area (km^2)\")\n",
    "plt.show()"
   ]
  },
  {
   "cell_type": "code",
   "execution_count": null,
   "id": "2aead50d",
   "metadata": {},
   "outputs": [],
   "source": []
  },
  {
   "cell_type": "markdown",
   "id": "c2d6a334",
   "metadata": {},
   "source": [
    "## Willamette"
   ]
  },
  {
   "cell_type": "code",
   "execution_count": 29,
   "id": "714f867f",
   "metadata": {},
   "outputs": [
    {
     "data": {
      "image/png": "[encoded data removed]",
      "text/plain": [
       "<Figure size 432x288 with 1 Axes>"
      ]
     },
     "metadata": {
      "needs_background": "light"
     },
     "output_type": "display_data"
    }
   ],
   "source": [
    "willamette_site_number='14166000'\n",
    "start_date = '2015-10-01'\n",
    "end_date = '2021-09-30'\n",
    "willamette_discharge_cfs_threshold = 30000\n",
    "willamette_geometry = ee.Geometry.Polygon(\n",
    "        [[[-123.17735227170873, 44.27870641979654],\n",
    "          [-123.17670854154515, 44.27683214434244],\n",
    "          [-123.17606481138158, 44.27418962165109],\n",
    "          [-123.17559274259496, 44.27004123588735],\n",
    "          [-123.17585023466039, 44.26739840782829],\n",
    "          [-123.17353280607152, 44.26638426783975],\n",
    "          [-123.17353280607152, 44.2703178040482],\n",
    "          [-123.17404779020238, 44.2746812627772],\n",
    "          [-123.17400487485814, 44.27566453269001],\n",
    "          [-123.17516358915258, 44.27855279291034],\n",
    "          [-123.175421081218, 44.279136572940985]]]);\n",
    "\n",
    "title = \"Willamette River at Harrisburg, OR: \"\n",
    "\n",
    "willamette_dates_above_threshold, willamette_dates_df = getDatesAboveDischargeThreshold(willamette_site_number, start_date, end_date, \n",
    "                                                                 willamette_discharge_cfs_threshold, title)"
   ]
  },
  {
   "cell_type": "code",
   "execution_count": 32,
   "id": "a77cb1e6",
   "metadata": {},
   "outputs": [
    {
     "data": {
      "application/vnd.jupyter.widget-view+json": {
       "model_id": "50191132d803471bbd728c402e83279c",
       "version_major": 2,
       "version_minor": 0
      },
      "text/plain": [
       "Map(center=[44.2787, -123.177], controls=(WidgetControl(options=['position', 'transparent_bg'], widget=HBox(ch…"
      ]
     },
     "metadata": {},
     "output_type": "display_data"
    }
   ],
   "source": [
    "willamette_image_collection = getListOfImages(willamette_dates_above_threshold, willamette_geometry, sentinel2, 50)\n",
    "willamette_date_list = getDatesFromImageCollection(willamette_image_collection)\n",
    "willamette_map = mapImageCollection(willamette_image_collection)\n",
    "# lat and lon for centering the map\n",
    "willamette_lat = 44.2787\n",
    "willamette_lon = -123.177\n",
    "zoom = 15\n",
    "willamette_map.setCenter(willamette_lon, willamette_lat, zoom)\n",
    "willamette_map"
   ]
  },
  {
   "cell_type": "code",
   "execution_count": 35,
   "id": "5075b740",
   "metadata": {},
   "outputs": [
    {
     "name": "stdout",
     "output_type": "stream",
     "text": [
      "['2019-04-18', '2020-01-28', '2020-12-23']\n"
     ]
    }
   ],
   "source": [
    "willamette_date_list = getDatesFromImageCollection(willamette_image_collection)\n",
    "print(willamette_date_list)"
   ]
  },
  {
   "cell_type": "code",
   "execution_count": null,
   "id": "e763bcf5",
   "metadata": {},
   "outputs": [],
   "source": [
    "areas = []\n",
    "discharges = []\n",
    "for date in willamette_date_list:\n",
    "    area = getAreaFromDate(date, willamette_geometry, sentinel2)\n",
    "    discharge = getDischargeFromDate(willamette_site_number, date)\n",
    "    areas.append(area)\n",
    "    discharges.append(discharge)\n"
   ]
  },
  {
   "cell_type": "code",
   "execution_count": null,
   "id": "ac4e1e6a",
   "metadata": {},
   "outputs": [],
   "source": [
    "fig, ax = plt.subplots()\n",
    "ax.scatter(discharges, areas)\n",
    "ax.set_title(\"Area of Willamette river vs discharge\")\n",
    "ax.set_xlabel(\"discharge (cfs)\")\n",
    "ax.set_ylabel(\"area (km^2)\")\n",
    "plt.show()"
   ]
  },
  {
   "cell_type": "code",
   "execution_count": 36,
   "id": "130e0e2c",
   "metadata": {},
   "outputs": [
    {
     "data": {
      "application/vnd.jupyter.widget-view+json": {
       "model_id": "741f755b62f94620bb6d52ac39cdb74a",
       "version_major": 2,
       "version_minor": 0
      },
      "text/plain": [
       "Map(center=[44.2787, -123.177], controls=(WidgetControl(options=['position', 'transparent_bg'], widget=HBox(ch…"
      ]
     },
     "metadata": {},
     "output_type": "display_data"
    }
   ],
   "source": [
    "Map = mapImageFromDate('2019-04-18', willamette_geometry, sentinel2)\n",
    "zoom = 15\n",
    "Map.setCenter(willamette_lon, willamette_lat, zoom)\n",
    "Map"
   ]
  },
  {
   "cell_type": "code",
   "execution_count": 37,
   "id": "4573a95d",
   "metadata": {},
   "outputs": [
    {
     "data": {
      "application/vnd.jupyter.widget-view+json": {
       "model_id": "b33026a0973842769ffa36d72168507a",
       "version_major": 2,
       "version_minor": 0
      },
      "text/plain": [
       "Map(center=[44.2787, -123.177], controls=(WidgetControl(options=['position', 'transparent_bg'], widget=HBox(ch…"
      ]
     },
     "metadata": {},
     "output_type": "display_data"
    }
   ],
   "source": [
    "Map = mapImageFromDate('2020-01-28', willamette_geometry, sentinel2)\n",
    "zoom = 15\n",
    "Map.setCenter(willamette_lon, willamette_lat, zoom)\n",
    "Map"
   ]
  },
  {
   "cell_type": "code",
   "execution_count": 38,
   "id": "c6eea0ab",
   "metadata": {},
   "outputs": [
    {
     "data": {
      "application/vnd.jupyter.widget-view+json": {
       "model_id": "7f310bbfa237476cab1d6b5c796abb07",
       "version_major": 2,
       "version_minor": 0
      },
      "text/plain": [
       "Map(center=[44.2787, -123.177], controls=(WidgetControl(options=['position', 'transparent_bg'], widget=HBox(ch…"
      ]
     },
     "metadata": {},
     "output_type": "display_data"
    }
   ],
   "source": [
    "Map = mapImageFromDate('2020-12-23', willamette_geometry, sentinel2)\n",
    "zoom = 15\n",
    "Map.setCenter(willamette_lon, willamette_lat, zoom)\n",
    "Map"
   ]
  },
  {
   "cell_type": "code",
   "execution_count": 34,
   "id": "00f45bf7",
   "metadata": {},
   "outputs": [
    {
     "data": {
      "image/png": "[encoded data removed]",
      "text/plain": [
       "<Figure size 432x288 with 1 Axes>"
      ]
     },
     "metadata": {
      "needs_background": "light"
     },
     "output_type": "display_data"
    }
   ],
   "source": [
    "willamette_site_number='14166000'\n",
    "start_date = '2015-10-01'\n",
    "end_date = '2021-09-30'\n",
    "willamette_discharge_cfs_threshold_lower = 10000\n",
    "willamette_discharge_cfs_threshold_upper = 30000\n",
    "title = \"Willamette River at Harrisburg, OR: \"\n",
    "\n",
    "willamette_geometry = ee.Geometry.Polygon(\n",
    "        [[[-123.17735227170873, 44.27870641979654],\n",
    "          [-123.17670854154515, 44.27683214434244],\n",
    "          [-123.17606481138158, 44.27418962165109],\n",
    "          [-123.17559274259496, 44.27004123588735],\n",
    "          [-123.17585023466039, 44.26739840782829],\n",
    "          [-123.17353280607152, 44.26638426783975],\n",
    "          [-123.17353280607152, 44.2703178040482],\n",
    "          [-123.17404779020238, 44.2746812627772],\n",
    "          [-123.17400487485814, 44.27566453269001],\n",
    "          [-123.17516358915258, 44.27855279291034],\n",
    "          [-123.175421081218, 44.279136572940985]]]);\n",
    "\n",
    "willamette_dates_above_threshold, willamette_dates_df = getDatesBetweenDischargeThreshold(willamette_site_number, start_date, end_date, \n",
    "                                                                 willamette_discharge_cfs_threshold_lower, willamette_discharge_cfs_threshold_upper,title)"
   ]
  },
  {
   "cell_type": "code",
   "execution_count": 74,
   "id": "108d03b5",
   "metadata": {},
   "outputs": [
    {
     "data": {
      "application/vnd.jupyter.widget-view+json": {
       "model_id": "2a6c08e09450442891378080c27f2f13",
       "version_major": 2,
       "version_minor": 0
      },
      "text/plain": [
       "Map(center=[44.2787, -123.177], controls=(WidgetControl(options=['position', 'transparent_bg'], widget=HBox(ch…"
      ]
     },
     "metadata": {},
     "output_type": "display_data"
    }
   ],
   "source": [
    "willamette_image_collection = getListOfImages(willamette_dates_above_threshold, willamette_geometry, sentinel2, 10)\n",
    "willamette_date_list = getDatesFromImageCollection(willamette_image_collection)\n",
    "willamette_map = mapImageCollection(willamette_image_collection, \"MNDWI\")\n",
    "# lat and lon for centering the map\n",
    "willamette_lat = 44.2787\n",
    "willamette_lon = -123.177\n",
    "zoom = 15\n",
    "willamette_map.setCenter(willamette_lon, willamette_lat, zoom)\n",
    "willamette_map"
   ]
  },
  {
   "cell_type": "code",
   "execution_count": 75,
   "id": "ed2bc1f6",
   "metadata": {},
   "outputs": [
    {
     "data": {
      "application/vnd.jupyter.widget-view+json": {
       "model_id": "07d40ea12da74fcd8db1351e85d0098c",
       "version_major": 2,
       "version_minor": 0
      },
      "text/plain": [
       "Map(center=[44.2787, -123.177], controls=(WidgetControl(options=['position', 'transparent_bg'], widget=HBox(ch…"
      ]
     },
     "metadata": {},
     "output_type": "display_data"
    }
   ],
   "source": [
    "willamette_map = mapImageCollection(willamette_image_collection, \"NDWI\")\n",
    "# lat and lon for centering the map\n",
    "willamette_lat = 44.2787\n",
    "willamette_lon = -123.177\n",
    "zoom = 15\n",
    "willamette_map.setCenter(willamette_lon, willamette_lat, zoom)\n",
    "willamette_map"
   ]
  },
  {
   "cell_type": "code",
   "execution_count": 41,
   "id": "dd753574",
   "metadata": {},
   "outputs": [
    {
     "name": "stdout",
     "output_type": "stream",
     "text": [
      "['2019-03-02', '2019-03-04', '2019-03-17', '2019-03-24', '2019-04-26', '2019-04-28', '2019-05-01', '2020-12-28']\n"
     ]
    }
   ],
   "source": [
    "willamette_date_list = getDatesFromImageCollection(willamette_image_collection)\n",
    "print(willamette_date_list)\n",
    "#print(getDatesFromImageCollection(willamette_image_collection, True))\n"
   ]
  },
  {
   "cell_type": "markdown",
   "id": "cd20e9c8",
   "metadata": {},
   "source": [
    "Fixing timezone issue with sentinal and NLDI"
   ]
  },
  {
   "cell_type": "code",
   "execution_count": 42,
   "id": "1f79cf06",
   "metadata": {},
   "outputs": [
    {
     "name": "stdout",
     "output_type": "stream",
     "text": [
      "['2019-03-02', '2019-03-04', '2019-03-17', '2019-03-24', '2019-04-26', '2019-04-28', '2019-05-01', '2020-12-28']\n"
     ]
    }
   ],
   "source": [
    "from pytz import timezone\n",
    "\n",
    "gmt = timezone('GMT')\n",
    "pst = timezone('US/Pacific')\n",
    "willamette_date_time_list = [\n",
    "    gmt.localize(datetime.strptime(time, '%Y-%m-%d, %H:%M:%S')).astimezone(pst).strftime(\"%Y-%m-%d\")\n",
    "    for time \n",
    "    in getDatesFromImageCollection(willamette_image_collection, True)]\n",
    "print(willamette_date_time_list)"
   ]
  },
  {
   "cell_type": "markdown",
   "id": "ba566048",
   "metadata": {},
   "source": [
    "## Getting area using NDWI"
   ]
  },
  {
   "cell_type": "code",
   "execution_count": 64,
   "id": "6b992e88",
   "metadata": {},
   "outputs": [],
   "source": [
    "areas = []\n",
    "discharges = []\n",
    "for date in willamette_date_list:\n",
    "    area = getAreaFromDate(date, willamette_geometry, sentinel2, \"NDWI\")\n",
    "    areas.append(area)\n",
    "for date in willamette_date_time_list:\n",
    "    discharge = getDischargeFromDate(willamette_site_number, date)\n",
    "    discharges.append(discharge)\n"
   ]
  },
  {
   "cell_type": "code",
   "execution_count": 65,
   "id": "26db6458",
   "metadata": {},
   "outputs": [
    {
     "data": {
      "image/png": "[encoded data removed]",
      "text/plain": [
       "<Figure size 432x288 with 1 Axes>"
      ]
     },
     "metadata": {
      "needs_background": "light"
     },
     "output_type": "display_data"
    }
   ],
   "source": [
    "fig, ax = plt.subplots()\n",
    "ax.scatter(discharges, areas)\n",
    "ax.set_title(\"Area of willamette river vs discharge (NDWI)\")\n",
    "ax.set_xlabel(\"discharge (cfs)\")\n",
    "ax.set_ylabel(\"area (km^2)\")\n",
    "for i, txt in enumerate(willamette_date_list):\n",
    "    ax.annotate(txt, (discharges[i], areas[i]))\n",
    "plt.show()\n"
   ]
  },
  {
   "cell_type": "markdown",
   "id": "5d958cf4",
   "metadata": {},
   "source": [
    "## Getting area using MNDWI"
   ]
  },
  {
   "cell_type": "code",
   "execution_count": 67,
   "id": "41a82edb",
   "metadata": {},
   "outputs": [],
   "source": [
    "areas = []\n",
    "discharges = []\n",
    "for date in willamette_date_list:\n",
    "    area = getAreaFromDate(date, willamette_geometry, sentinel2, \"MNDWI\")\n",
    "    areas.append(area)\n",
    "for date in willamette_date_time_list:\n",
    "    discharge = getDischargeFromDate(willamette_site_number, date)\n",
    "    discharges.append(discharge)"
   ]
  },
  {
   "cell_type": "code",
   "execution_count": 68,
   "id": "ec196de0",
   "metadata": {},
   "outputs": [
    {
     "data": {
      "image/png": "[encoded data removed]",
      "text/plain": [
       "<Figure size 432x288 with 1 Axes>"
      ]
     },
     "metadata": {
      "needs_background": "light"
     },
     "output_type": "display_data"
    }
   ],
   "source": [
    "fig, ax = plt.subplots()\n",
    "ax.scatter(discharges, areas)\n",
    "ax.set_title(\"Area of willamette river vs discharge (MNDWI)\")\n",
    "ax.set_xlabel(\"discharge (cfs)\")\n",
    "ax.set_ylabel(\"area (km^2)\")\n",
    "for i, txt in enumerate(willamette_date_list):\n",
    "    ax.annotate(txt, (discharges[i], areas[i]))\n",
    "plt.show()\n"
   ]
  },
  {
   "cell_type": "markdown",
   "id": "76cd7915",
   "metadata": {},
   "source": [
    "## Mapping images from specific dates"
   ]
  },
  {
   "cell_type": "code",
   "execution_count": 45,
   "id": "ba303de7",
   "metadata": {},
   "outputs": [
    {
     "data": {
      "application/vnd.jupyter.widget-view+json": {
       "model_id": "376c2b61a8654645aea6fe6f318d6a3e",
       "version_major": 2,
       "version_minor": 0
      },
      "text/plain": [
       "Map(center=[44.2787, -123.177], controls=(WidgetControl(options=['position', 'transparent_bg'], widget=HBox(ch…"
      ]
     },
     "metadata": {},
     "output_type": "display_data"
    }
   ],
   "source": [
    "Map = mapImageFromDate('2019-03-02', willamette_geometry, sentinel2)\n",
    "zoom = 15\n",
    "Map.setCenter(willamette_lon, willamette_lat, zoom)\n",
    "Map"
   ]
  },
  {
   "cell_type": "code",
   "execution_count": 46,
   "id": "ffd31fef",
   "metadata": {},
   "outputs": [
    {
     "name": "stdout",
     "output_type": "stream",
     "text": [
      "11200.0\n"
     ]
    }
   ],
   "source": [
    "discharge = getDischargeFromDate(willamette_site_number, '2019-03-02')\n",
    "print(discharge)"
   ]
  },
  {
   "cell_type": "code",
   "execution_count": 47,
   "id": "64f92ed3",
   "metadata": {},
   "outputs": [
    {
     "data": {
      "application/vnd.jupyter.widget-view+json": {
       "model_id": "5923d4ad598249febe179ad544bb6abe",
       "version_major": 2,
       "version_minor": 0
      },
      "text/plain": [
       "Map(center=[44.2787, -123.177], controls=(WidgetControl(options=['position', 'transparent_bg'], widget=HBox(ch…"
      ]
     },
     "metadata": {},
     "output_type": "display_data"
    }
   ],
   "source": [
    "Map = mapImageFromDate('2019-03-04', willamette_geometry, sentinel2)\n",
    "zoom = 15\n",
    "Map.setCenter(willamette_lon, willamette_lat, zoom)\n",
    "Map"
   ]
  },
  {
   "cell_type": "code",
   "execution_count": 48,
   "id": "9637d11c",
   "metadata": {},
   "outputs": [
    {
     "data": {
      "application/vnd.jupyter.widget-view+json": {
       "model_id": "0cc8f9bf9c264b2a98c2baa9194c3b5e",
       "version_major": 2,
       "version_minor": 0
      },
      "text/plain": [
       "Map(center=[44.2787, -123.177], controls=(WidgetControl(options=['position', 'transparent_bg'], widget=HBox(ch…"
      ]
     },
     "metadata": {},
     "output_type": "display_data"
    }
   ],
   "source": [
    "Map = mapImageFromDate('2019-03-04', willamette_geometry, sentinel2)\n",
    "zoom = 15\n",
    "Map.setCenter(willamette_lon, willamette_lat, zoom)\n",
    "Map"
   ]
  },
  {
   "cell_type": "code",
   "execution_count": 49,
   "id": "9f65f810",
   "metadata": {},
   "outputs": [
    {
     "name": "stdout",
     "output_type": "stream",
     "text": [
      "10600.0\n"
     ]
    }
   ],
   "source": [
    "discharge = getDischargeFromDate(willamette_site_number, '2019-03-04')\n",
    "print(discharge)"
   ]
  },
  {
   "cell_type": "code",
   "execution_count": 50,
   "id": "c14315f8",
   "metadata": {},
   "outputs": [
    {
     "data": {
      "application/vnd.jupyter.widget-view+json": {
       "model_id": "58faea8bd6a74b8d88b734cb4bc42917",
       "version_major": 2,
       "version_minor": 0
      },
      "text/plain": [
       "Map(center=[44.2787, -123.177], controls=(WidgetControl(options=['position', 'transparent_bg'], widget=HBox(ch…"
      ]
     },
     "metadata": {},
     "output_type": "display_data"
    }
   ],
   "source": [
    "Map = mapImageFromDate('2019-03-17', willamette_geometry, sentinel2)\n",
    "zoom = 15\n",
    "Map.setCenter(willamette_lon, willamette_lat, zoom)\n",
    "Map"
   ]
  },
  {
   "cell_type": "code",
   "execution_count": 51,
   "id": "de45f3e1",
   "metadata": {},
   "outputs": [
    {
     "name": "stdout",
     "output_type": "stream",
     "text": [
      "10900.0\n"
     ]
    }
   ],
   "source": [
    "discharge = getDischargeFromDate(willamette_site_number, '2019-03-17')\n",
    "print(discharge)"
   ]
  },
  {
   "cell_type": "code",
   "execution_count": null,
   "id": "4aac603c",
   "metadata": {},
   "outputs": [],
   "source": []
  }
 ],
 "metadata": {
  "kernelspec": {
   "display_name": "Python 3 (ipykernel)",
   "language": "python",
   "name": "python3"
  },
  "language_info": {
   "codemirror_mode": {
    "name": "ipython",
    "version": 3
   },
   "file_extension": ".py",
   "mimetype": "text/x-python",
   "name": "python",
   "nbconvert_exporter": "python",
   "pygments_lexer": "ipython3",
   "version": "3.9.7"
  }
 },
 "nbformat": 4,
 "nbformat_minor": 5
}
