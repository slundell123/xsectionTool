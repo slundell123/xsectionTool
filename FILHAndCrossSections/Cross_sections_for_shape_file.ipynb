{
 "cells": [
  {
   "cell_type": "markdown",
   "id": "f3914c2f",
   "metadata": {},
   "source": [
    "Trying to make cross section from shapefile FILH (Finding Images from Linked Hydrology) tool. The purpose of this tool is to allow users "
   ]
  },
  {
   "cell_type": "code",
   "execution_count": 21,
   "id": "e8dd1f40",
   "metadata": {},
   "outputs": [],
   "source": [
    "import nldi_xstool\n",
    "import geopandas\n",
    "\n",
    "%matplotlib inline\n",
    "from nldi_xstool.XSGen import XSGen\n",
    "from nldi_xstool.ancillary import query_dems_bbox\n",
    "import py3dep\n",
    "from pynhd import NLDI, NHDPlusHR, WaterData\n",
    "import xarray as xr\n",
    "from matplotlib import pyplot as plt\n",
    "import numpy as np\n",
    "import pandas as pd\n",
    "import dataretrieval.nwis as nwis\n",
    "import urllib.request, json \n",
    "\n"
   ]
  },
  {
   "cell_type": "code",
   "execution_count": 22,
   "id": "f4f116f0",
   "metadata": {},
   "outputs": [],
   "source": [
    "nldi = NLDI()"
   ]
  },
  {
   "cell_type": "markdown",
   "id": "2129e0de",
   "metadata": {},
   "source": [
    "Read in shape files"
   ]
  },
  {
   "cell_type": "code",
   "execution_count": 23,
   "id": "18dbaa86",
   "metadata": {},
   "outputs": [
    {
     "data": {
      "text/html": [
       "<div>\n",
       "<style scoped>\n",
       "    .dataframe tbody tr th:only-of-type {\n",
       "        vertical-align: middle;\n",
       "    }\n",
       "\n",
       "    .dataframe tbody tr th {\n",
       "        vertical-align: top;\n",
       "    }\n",
       "\n",
       "    .dataframe thead th {\n",
       "        text-align: right;\n",
       "    }\n",
       "</style>\n",
       "<table border=\"1\" class=\"dataframe\">\n",
       "  <thead>\n",
       "    <tr style=\"text-align: right;\">\n",
       "      <th></th>\n",
       "      <th>OBJECTID</th>\n",
       "      <th>Permanent_</th>\n",
       "      <th>FDate</th>\n",
       "      <th>Resolution</th>\n",
       "      <th>GNIS_ID</th>\n",
       "      <th>GNIS_Name</th>\n",
       "      <th>LengthKM</th>\n",
       "      <th>ReachCode</th>\n",
       "      <th>FlowDir</th>\n",
       "      <th>WBArea_Per</th>\n",
       "      <th>FType</th>\n",
       "      <th>FCode</th>\n",
       "      <th>MainPath</th>\n",
       "      <th>InNetwork</th>\n",
       "      <th>Visibility</th>\n",
       "      <th>Shape_Leng</th>\n",
       "      <th>geometry</th>\n",
       "    </tr>\n",
       "  </thead>\n",
       "  <tbody>\n",
       "    <tr>\n",
       "      <th>0</th>\n",
       "      <td>514746.0</td>\n",
       "      <td>26488429</td>\n",
       "      <td>2012/01/24 13:06:41.000</td>\n",
       "      <td>2</td>\n",
       "      <td>00272369</td>\n",
       "      <td>Matilija Creek</td>\n",
       "      <td>0.037000</td>\n",
       "      <td>18070101000077</td>\n",
       "      <td>1</td>\n",
       "      <td>None</td>\n",
       "      <td>460</td>\n",
       "      <td>46003</td>\n",
       "      <td>0</td>\n",
       "      <td>1</td>\n",
       "      <td>0</td>\n",
       "      <td>0.000348</td>\n",
       "      <td>LINESTRING Z (-119.39088 34.51163 0.00000, -11...</td>\n",
       "    </tr>\n",
       "    <tr>\n",
       "      <th>1</th>\n",
       "      <td>781465.0</td>\n",
       "      <td>26488461</td>\n",
       "      <td>2014/12/09 00:00:00.000</td>\n",
       "      <td>2</td>\n",
       "      <td>00272369</td>\n",
       "      <td>Matilija Creek</td>\n",
       "      <td>1.237279</td>\n",
       "      <td>18070101000075</td>\n",
       "      <td>1</td>\n",
       "      <td>None</td>\n",
       "      <td>460</td>\n",
       "      <td>46006</td>\n",
       "      <td>0</td>\n",
       "      <td>1</td>\n",
       "      <td>0</td>\n",
       "      <td>0.013019</td>\n",
       "      <td>LINESTRING Z (-119.38276 34.50633 0.00000, -11...</td>\n",
       "    </tr>\n",
       "    <tr>\n",
       "      <th>2</th>\n",
       "      <td>914543.0</td>\n",
       "      <td>26488423</td>\n",
       "      <td>2014/12/09 00:00:00.000</td>\n",
       "      <td>2</td>\n",
       "      <td>00272369</td>\n",
       "      <td>Matilija Creek</td>\n",
       "      <td>0.439258</td>\n",
       "      <td>18070101000077</td>\n",
       "      <td>1</td>\n",
       "      <td>None</td>\n",
       "      <td>460</td>\n",
       "      <td>46006</td>\n",
       "      <td>0</td>\n",
       "      <td>1</td>\n",
       "      <td>0</td>\n",
       "      <td>0.004764</td>\n",
       "      <td>LINESTRING Z (-119.39552 34.51226 0.00000, -11...</td>\n",
       "    </tr>\n",
       "    <tr>\n",
       "      <th>3</th>\n",
       "      <td>1447606.0</td>\n",
       "      <td>26488445</td>\n",
       "      <td>2012/01/24 13:06:41.000</td>\n",
       "      <td>2</td>\n",
       "      <td>00272369</td>\n",
       "      <td>Matilija Creek</td>\n",
       "      <td>0.102000</td>\n",
       "      <td>18070101000077</td>\n",
       "      <td>1</td>\n",
       "      <td>None</td>\n",
       "      <td>460</td>\n",
       "      <td>46006</td>\n",
       "      <td>0</td>\n",
       "      <td>1</td>\n",
       "      <td>0</td>\n",
       "      <td>0.001088</td>\n",
       "      <td>LINESTRING Z (-119.38787 34.51018 0.00000, -11...</td>\n",
       "    </tr>\n",
       "    <tr>\n",
       "      <th>4</th>\n",
       "      <td>1780845.0</td>\n",
       "      <td>26488451</td>\n",
       "      <td>2014/12/09 00:00:00.000</td>\n",
       "      <td>2</td>\n",
       "      <td>00272369</td>\n",
       "      <td>Matilija Creek</td>\n",
       "      <td>0.369113</td>\n",
       "      <td>18070101000076</td>\n",
       "      <td>1</td>\n",
       "      <td>None</td>\n",
       "      <td>460</td>\n",
       "      <td>46006</td>\n",
       "      <td>0</td>\n",
       "      <td>1</td>\n",
       "      <td>0</td>\n",
       "      <td>0.003524</td>\n",
       "      <td>LINESTRING Z (-119.38366 34.50906 0.00000, -11...</td>\n",
       "    </tr>\n",
       "    <tr>\n",
       "      <th>5</th>\n",
       "      <td>1981259.0</td>\n",
       "      <td>26488441</td>\n",
       "      <td>2012/01/24 13:06:41.000</td>\n",
       "      <td>2</td>\n",
       "      <td>00272369</td>\n",
       "      <td>Matilija Creek</td>\n",
       "      <td>0.370000</td>\n",
       "      <td>18070101000077</td>\n",
       "      <td>1</td>\n",
       "      <td>None</td>\n",
       "      <td>460</td>\n",
       "      <td>46006</td>\n",
       "      <td>0</td>\n",
       "      <td>1</td>\n",
       "      <td>0</td>\n",
       "      <td>0.003811</td>\n",
       "      <td>LINESTRING Z (-119.39071 34.51135 0.00000, -11...</td>\n",
       "    </tr>\n",
       "    <tr>\n",
       "      <th>6</th>\n",
       "      <td>1981260.0</td>\n",
       "      <td>26488449</td>\n",
       "      <td>2012/01/24 13:06:41.000</td>\n",
       "      <td>2</td>\n",
       "      <td>00272369</td>\n",
       "      <td>Matilija Creek</td>\n",
       "      <td>0.315000</td>\n",
       "      <td>18070101000077</td>\n",
       "      <td>1</td>\n",
       "      <td>None</td>\n",
       "      <td>460</td>\n",
       "      <td>46006</td>\n",
       "      <td>0</td>\n",
       "      <td>1</td>\n",
       "      <td>0</td>\n",
       "      <td>0.003369</td>\n",
       "      <td>LINESTRING Z (-119.38684 34.50997 0.00000, -11...</td>\n",
       "    </tr>\n",
       "  </tbody>\n",
       "</table>\n",
       "</div>"
      ],
      "text/plain": [
       "    OBJECTID Permanent_                    FDate  Resolution   GNIS_ID  \\\n",
       "0   514746.0   26488429  2012/01/24 13:06:41.000           2  00272369   \n",
       "1   781465.0   26488461  2014/12/09 00:00:00.000           2  00272369   \n",
       "2   914543.0   26488423  2014/12/09 00:00:00.000           2  00272369   \n",
       "3  1447606.0   26488445  2012/01/24 13:06:41.000           2  00272369   \n",
       "4  1780845.0   26488451  2014/12/09 00:00:00.000           2  00272369   \n",
       "5  1981259.0   26488441  2012/01/24 13:06:41.000           2  00272369   \n",
       "6  1981260.0   26488449  2012/01/24 13:06:41.000           2  00272369   \n",
       "\n",
       "        GNIS_Name  LengthKM       ReachCode  FlowDir WBArea_Per  FType  FCode  \\\n",
       "0  Matilija Creek  0.037000  18070101000077        1       None    460  46003   \n",
       "1  Matilija Creek  1.237279  18070101000075        1       None    460  46006   \n",
       "2  Matilija Creek  0.439258  18070101000077        1       None    460  46006   \n",
       "3  Matilija Creek  0.102000  18070101000077        1       None    460  46006   \n",
       "4  Matilija Creek  0.369113  18070101000076        1       None    460  46006   \n",
       "5  Matilija Creek  0.370000  18070101000077        1       None    460  46006   \n",
       "6  Matilija Creek  0.315000  18070101000077        1       None    460  46006   \n",
       "\n",
       "   MainPath  InNetwork  Visibility  Shape_Leng  \\\n",
       "0         0          1           0    0.000348   \n",
       "1         0          1           0    0.013019   \n",
       "2         0          1           0    0.004764   \n",
       "3         0          1           0    0.001088   \n",
       "4         0          1           0    0.003524   \n",
       "5         0          1           0    0.003811   \n",
       "6         0          1           0    0.003369   \n",
       "\n",
       "                                            geometry  \n",
       "0  LINESTRING Z (-119.39088 34.51163 0.00000, -11...  \n",
       "1  LINESTRING Z (-119.38276 34.50633 0.00000, -11...  \n",
       "2  LINESTRING Z (-119.39552 34.51226 0.00000, -11...  \n",
       "3  LINESTRING Z (-119.38787 34.51018 0.00000, -11...  \n",
       "4  LINESTRING Z (-119.38366 34.50906 0.00000, -11...  \n",
       "5  LINESTRING Z (-119.39071 34.51135 0.00000, -11...  \n",
       "6  LINESTRING Z (-119.38684 34.50997 0.00000, -11...  "
      ]
     },
     "execution_count": 23,
     "metadata": {},
     "output_type": "execute_result"
    }
   ],
   "source": [
    "mainstemFile = \"../Matilija_gis_files/MatilijaCreek_mainstem.shp\"\n",
    "mainstemShapefile = geopandas.read_file(mainstemFile)\n",
    "mainstemShapefile.geometry.name\n",
    "#mainstemShapefile['centroid_column'] = mainstemShapefile.centroid\n",
    "mainstemShapefile"
   ]
  },
  {
   "cell_type": "code",
   "execution_count": 24,
   "id": "4650f189",
   "metadata": {},
   "outputs": [
    {
     "data": {
      "text/html": [
       "<div>\n",
       "<style scoped>\n",
       "    .dataframe tbody tr th:only-of-type {\n",
       "        vertical-align: middle;\n",
       "    }\n",
       "\n",
       "    .dataframe tbody tr th {\n",
       "        vertical-align: top;\n",
       "    }\n",
       "\n",
       "    .dataframe thead th {\n",
       "        text-align: right;\n",
       "    }\n",
       "</style>\n",
       "<table border=\"1\" class=\"dataframe\">\n",
       "  <thead>\n",
       "    <tr style=\"text-align: right;\">\n",
       "      <th></th>\n",
       "      <th>OBJECTID</th>\n",
       "      <th>Permanent_</th>\n",
       "      <th>FDate</th>\n",
       "      <th>Resolution</th>\n",
       "      <th>GNIS_ID</th>\n",
       "      <th>GNIS_Name</th>\n",
       "      <th>LengthKM</th>\n",
       "      <th>ReachCode</th>\n",
       "      <th>FlowDir</th>\n",
       "      <th>WBArea_Per</th>\n",
       "      <th>FType</th>\n",
       "      <th>FCode</th>\n",
       "      <th>MainPath</th>\n",
       "      <th>InNetwork</th>\n",
       "      <th>Visibility</th>\n",
       "      <th>Shape_Leng</th>\n",
       "      <th>geometry</th>\n",
       "    </tr>\n",
       "  </thead>\n",
       "  <tbody>\n",
       "    <tr>\n",
       "      <th>0</th>\n",
       "      <td>514746.0</td>\n",
       "      <td>26488429</td>\n",
       "      <td>2012/01/24 13:06:41.000</td>\n",
       "      <td>2</td>\n",
       "      <td>00272369</td>\n",
       "      <td>Matilija Creek</td>\n",
       "      <td>0.037000</td>\n",
       "      <td>18070101000077</td>\n",
       "      <td>1</td>\n",
       "      <td>None</td>\n",
       "      <td>460</td>\n",
       "      <td>46003</td>\n",
       "      <td>0</td>\n",
       "      <td>1</td>\n",
       "      <td>0</td>\n",
       "      <td>0.000348</td>\n",
       "      <td>LINESTRING Z (-119.39088 34.51163 0.00000, -11...</td>\n",
       "    </tr>\n",
       "    <tr>\n",
       "      <th>1</th>\n",
       "      <td>781465.0</td>\n",
       "      <td>26488461</td>\n",
       "      <td>2014/12/09 00:00:00.000</td>\n",
       "      <td>2</td>\n",
       "      <td>00272369</td>\n",
       "      <td>Matilija Creek</td>\n",
       "      <td>1.237279</td>\n",
       "      <td>18070101000075</td>\n",
       "      <td>1</td>\n",
       "      <td>None</td>\n",
       "      <td>460</td>\n",
       "      <td>46006</td>\n",
       "      <td>0</td>\n",
       "      <td>1</td>\n",
       "      <td>0</td>\n",
       "      <td>0.013019</td>\n",
       "      <td>LINESTRING Z (-119.38276 34.50633 0.00000, -11...</td>\n",
       "    </tr>\n",
       "    <tr>\n",
       "      <th>2</th>\n",
       "      <td>914543.0</td>\n",
       "      <td>26488423</td>\n",
       "      <td>2014/12/09 00:00:00.000</td>\n",
       "      <td>2</td>\n",
       "      <td>00272369</td>\n",
       "      <td>Matilija Creek</td>\n",
       "      <td>0.439258</td>\n",
       "      <td>18070101000077</td>\n",
       "      <td>1</td>\n",
       "      <td>None</td>\n",
       "      <td>460</td>\n",
       "      <td>46006</td>\n",
       "      <td>0</td>\n",
       "      <td>1</td>\n",
       "      <td>0</td>\n",
       "      <td>0.004764</td>\n",
       "      <td>LINESTRING Z (-119.39552 34.51226 0.00000, -11...</td>\n",
       "    </tr>\n",
       "    <tr>\n",
       "      <th>3</th>\n",
       "      <td>1447606.0</td>\n",
       "      <td>26488445</td>\n",
       "      <td>2012/01/24 13:06:41.000</td>\n",
       "      <td>2</td>\n",
       "      <td>00272369</td>\n",
       "      <td>Matilija Creek</td>\n",
       "      <td>0.102000</td>\n",
       "      <td>18070101000077</td>\n",
       "      <td>1</td>\n",
       "      <td>None</td>\n",
       "      <td>460</td>\n",
       "      <td>46006</td>\n",
       "      <td>0</td>\n",
       "      <td>1</td>\n",
       "      <td>0</td>\n",
       "      <td>0.001088</td>\n",
       "      <td>LINESTRING Z (-119.38787 34.51018 0.00000, -11...</td>\n",
       "    </tr>\n",
       "    <tr>\n",
       "      <th>4</th>\n",
       "      <td>1780845.0</td>\n",
       "      <td>26488451</td>\n",
       "      <td>2014/12/09 00:00:00.000</td>\n",
       "      <td>2</td>\n",
       "      <td>00272369</td>\n",
       "      <td>Matilija Creek</td>\n",
       "      <td>0.369113</td>\n",
       "      <td>18070101000076</td>\n",
       "      <td>1</td>\n",
       "      <td>None</td>\n",
       "      <td>460</td>\n",
       "      <td>46006</td>\n",
       "      <td>0</td>\n",
       "      <td>1</td>\n",
       "      <td>0</td>\n",
       "      <td>0.003524</td>\n",
       "      <td>LINESTRING Z (-119.38366 34.50906 0.00000, -11...</td>\n",
       "    </tr>\n",
       "    <tr>\n",
       "      <th>5</th>\n",
       "      <td>1981259.0</td>\n",
       "      <td>26488441</td>\n",
       "      <td>2012/01/24 13:06:41.000</td>\n",
       "      <td>2</td>\n",
       "      <td>00272369</td>\n",
       "      <td>Matilija Creek</td>\n",
       "      <td>0.370000</td>\n",
       "      <td>18070101000077</td>\n",
       "      <td>1</td>\n",
       "      <td>None</td>\n",
       "      <td>460</td>\n",
       "      <td>46006</td>\n",
       "      <td>0</td>\n",
       "      <td>1</td>\n",
       "      <td>0</td>\n",
       "      <td>0.003811</td>\n",
       "      <td>LINESTRING Z (-119.39071 34.51135 0.00000, -11...</td>\n",
       "    </tr>\n",
       "    <tr>\n",
       "      <th>6</th>\n",
       "      <td>1981260.0</td>\n",
       "      <td>26488449</td>\n",
       "      <td>2012/01/24 13:06:41.000</td>\n",
       "      <td>2</td>\n",
       "      <td>00272369</td>\n",
       "      <td>Matilija Creek</td>\n",
       "      <td>0.315000</td>\n",
       "      <td>18070101000077</td>\n",
       "      <td>1</td>\n",
       "      <td>None</td>\n",
       "      <td>460</td>\n",
       "      <td>46006</td>\n",
       "      <td>0</td>\n",
       "      <td>1</td>\n",
       "      <td>0</td>\n",
       "      <td>0.003369</td>\n",
       "      <td>LINESTRING Z (-119.38684 34.50997 0.00000, -11...</td>\n",
       "    </tr>\n",
       "  </tbody>\n",
       "</table>\n",
       "</div>"
      ],
      "text/plain": [
       "    OBJECTID Permanent_                    FDate  Resolution   GNIS_ID  \\\n",
       "0   514746.0   26488429  2012/01/24 13:06:41.000           2  00272369   \n",
       "1   781465.0   26488461  2014/12/09 00:00:00.000           2  00272369   \n",
       "2   914543.0   26488423  2014/12/09 00:00:00.000           2  00272369   \n",
       "3  1447606.0   26488445  2012/01/24 13:06:41.000           2  00272369   \n",
       "4  1780845.0   26488451  2014/12/09 00:00:00.000           2  00272369   \n",
       "5  1981259.0   26488441  2012/01/24 13:06:41.000           2  00272369   \n",
       "6  1981260.0   26488449  2012/01/24 13:06:41.000           2  00272369   \n",
       "\n",
       "        GNIS_Name  LengthKM       ReachCode  FlowDir WBArea_Per  FType  FCode  \\\n",
       "0  Matilija Creek  0.037000  18070101000077        1       None    460  46003   \n",
       "1  Matilija Creek  1.237279  18070101000075        1       None    460  46006   \n",
       "2  Matilija Creek  0.439258  18070101000077        1       None    460  46006   \n",
       "3  Matilija Creek  0.102000  18070101000077        1       None    460  46006   \n",
       "4  Matilija Creek  0.369113  18070101000076        1       None    460  46006   \n",
       "5  Matilija Creek  0.370000  18070101000077        1       None    460  46006   \n",
       "6  Matilija Creek  0.315000  18070101000077        1       None    460  46006   \n",
       "\n",
       "   MainPath  InNetwork  Visibility  Shape_Leng  \\\n",
       "0         0          1           0    0.000348   \n",
       "1         0          1           0    0.013019   \n",
       "2         0          1           0    0.004764   \n",
       "3         0          1           0    0.001088   \n",
       "4         0          1           0    0.003524   \n",
       "5         0          1           0    0.003811   \n",
       "6         0          1           0    0.003369   \n",
       "\n",
       "                                            geometry  \n",
       "0  LINESTRING Z (-119.39088 34.51163 0.00000, -11...  \n",
       "1  LINESTRING Z (-119.38276 34.50633 0.00000, -11...  \n",
       "2  LINESTRING Z (-119.39552 34.51226 0.00000, -11...  \n",
       "3  LINESTRING Z (-119.38787 34.51018 0.00000, -11...  \n",
       "4  LINESTRING Z (-119.38366 34.50906 0.00000, -11...  \n",
       "5  LINESTRING Z (-119.39071 34.51135 0.00000, -11...  \n",
       "6  LINESTRING Z (-119.38684 34.50997 0.00000, -11...  "
      ]
     },
     "execution_count": 24,
     "metadata": {},
     "output_type": "execute_result"
    }
   ],
   "source": [
    "# https://waterdata.usgs.gov/nwis/inventory?agency_code=USGS&site_no=11114495\n",
    "\n",
    "streamSegmentsFromShapeFile = mainstemShapefile\n",
    "streamSegmentsFromShapeFile"
   ]
  },
  {
   "cell_type": "code",
   "execution_count": 25,
   "id": "a4481b8e",
   "metadata": {},
   "outputs": [
    {
     "data": {
      "text/html": [
       "<div>\n",
       "<style scoped>\n",
       "    .dataframe tbody tr th:only-of-type {\n",
       "        vertical-align: middle;\n",
       "    }\n",
       "\n",
       "    .dataframe tbody tr th {\n",
       "        vertical-align: top;\n",
       "    }\n",
       "\n",
       "    .dataframe thead th {\n",
       "        text-align: right;\n",
       "    }\n",
       "</style>\n",
       "<table border=\"1\" class=\"dataframe\">\n",
       "  <thead>\n",
       "    <tr style=\"text-align: right;\">\n",
       "      <th></th>\n",
       "      <th>OBJECTID</th>\n",
       "      <th>Permanent_</th>\n",
       "      <th>FDate</th>\n",
       "      <th>Resolution</th>\n",
       "      <th>GNIS_ID</th>\n",
       "      <th>GNIS_Name</th>\n",
       "      <th>LengthKM</th>\n",
       "      <th>ReachCode</th>\n",
       "      <th>FlowDir</th>\n",
       "      <th>WBArea_Per</th>\n",
       "      <th>FType</th>\n",
       "      <th>FCode</th>\n",
       "      <th>MainPath</th>\n",
       "      <th>InNetwork</th>\n",
       "      <th>Visibility</th>\n",
       "      <th>Shape_Leng</th>\n",
       "      <th>geometry</th>\n",
       "    </tr>\n",
       "  </thead>\n",
       "  <tbody>\n",
       "    <tr>\n",
       "      <th>0</th>\n",
       "      <td>514746.0</td>\n",
       "      <td>26488429</td>\n",
       "      <td>2012/01/24 13:06:41.000</td>\n",
       "      <td>2</td>\n",
       "      <td>00272369</td>\n",
       "      <td>Matilija Creek</td>\n",
       "      <td>0.037</td>\n",
       "      <td>18070101000077</td>\n",
       "      <td>1</td>\n",
       "      <td>None</td>\n",
       "      <td>460</td>\n",
       "      <td>46003</td>\n",
       "      <td>0</td>\n",
       "      <td>1</td>\n",
       "      <td>0</td>\n",
       "      <td>0.000348</td>\n",
       "      <td>LINESTRING Z (-119.39088 34.51163 0.00000, -11...</td>\n",
       "    </tr>\n",
       "  </tbody>\n",
       "</table>\n",
       "</div>"
      ],
      "text/plain": [
       "   OBJECTID Permanent_                    FDate  Resolution   GNIS_ID  \\\n",
       "0  514746.0   26488429  2012/01/24 13:06:41.000           2  00272369   \n",
       "\n",
       "        GNIS_Name  LengthKM       ReachCode  FlowDir WBArea_Per  FType  FCode  \\\n",
       "0  Matilija Creek     0.037  18070101000077        1       None    460  46003   \n",
       "\n",
       "   MainPath  InNetwork  Visibility  Shape_Leng  \\\n",
       "0         0          1           0    0.000348   \n",
       "\n",
       "                                            geometry  \n",
       "0  LINESTRING Z (-119.39088 34.51163 0.00000, -11...  "
      ]
     },
     "execution_count": 25,
     "metadata": {},
     "output_type": "execute_result"
    }
   ],
   "source": [
    "crossSectionloc = mainstemShapefile.iloc[:1]\n",
    "crossSectionloc"
   ]
  },
  {
   "cell_type": "markdown",
   "id": "7ecf62aa",
   "metadata": {},
   "source": [
    "Replacing geometry value with a point to follow example code"
   ]
  },
  {
   "cell_type": "code",
   "execution_count": 26,
   "id": "4d3cad8b",
   "metadata": {},
   "outputs": [
    {
     "name": "stderr",
     "output_type": "stream",
     "text": [
      "/home/sarah/anaconda3/envs/py39/lib/python3.9/site-packages/geopandas/geodataframe.py:1351: SettingWithCopyWarning: \n",
      "A value is trying to be set on a copy of a slice from a DataFrame.\n",
      "Try using .loc[row_indexer,col_indexer] = value instead\n",
      "\n",
      "See the caveats in the documentation: https://pandas.pydata.org/pandas-docs/stable/user_guide/indexing.html#returning-a-view-versus-a-copy\n",
      "  super().__setitem__(key, value)\n"
     ]
    }
   ],
   "source": [
    "crossSectionloc['geometry']= crossSectionloc.representative_point()"
   ]
  },
  {
   "cell_type": "code",
   "execution_count": 27,
   "id": "895739b4",
   "metadata": {},
   "outputs": [
    {
     "data": {
      "text/html": [
       "<div>\n",
       "<style scoped>\n",
       "    .dataframe tbody tr th:only-of-type {\n",
       "        vertical-align: middle;\n",
       "    }\n",
       "\n",
       "    .dataframe tbody tr th {\n",
       "        vertical-align: top;\n",
       "    }\n",
       "\n",
       "    .dataframe thead th {\n",
       "        text-align: right;\n",
       "    }\n",
       "</style>\n",
       "<table border=\"1\" class=\"dataframe\">\n",
       "  <thead>\n",
       "    <tr style=\"text-align: right;\">\n",
       "      <th></th>\n",
       "      <th>OBJECTID</th>\n",
       "      <th>Permanent_</th>\n",
       "      <th>FDate</th>\n",
       "      <th>Resolution</th>\n",
       "      <th>GNIS_ID</th>\n",
       "      <th>GNIS_Name</th>\n",
       "      <th>LengthKM</th>\n",
       "      <th>ReachCode</th>\n",
       "      <th>FlowDir</th>\n",
       "      <th>WBArea_Per</th>\n",
       "      <th>FType</th>\n",
       "      <th>FCode</th>\n",
       "      <th>MainPath</th>\n",
       "      <th>InNetwork</th>\n",
       "      <th>Visibility</th>\n",
       "      <th>Shape_Leng</th>\n",
       "      <th>geometry</th>\n",
       "    </tr>\n",
       "  </thead>\n",
       "  <tbody>\n",
       "    <tr>\n",
       "      <th>0</th>\n",
       "      <td>514746.0</td>\n",
       "      <td>26488429</td>\n",
       "      <td>2012/01/24 13:06:41.000</td>\n",
       "      <td>2</td>\n",
       "      <td>00272369</td>\n",
       "      <td>Matilija Creek</td>\n",
       "      <td>0.037</td>\n",
       "      <td>18070101000077</td>\n",
       "      <td>1</td>\n",
       "      <td>None</td>\n",
       "      <td>460</td>\n",
       "      <td>46003</td>\n",
       "      <td>0</td>\n",
       "      <td>1</td>\n",
       "      <td>0</td>\n",
       "      <td>0.000348</td>\n",
       "      <td>POINT Z (-119.39073 34.51150 0.00000)</td>\n",
       "    </tr>\n",
       "  </tbody>\n",
       "</table>\n",
       "</div>"
      ],
      "text/plain": [
       "   OBJECTID Permanent_                    FDate  Resolution   GNIS_ID  \\\n",
       "0  514746.0   26488429  2012/01/24 13:06:41.000           2  00272369   \n",
       "\n",
       "        GNIS_Name  LengthKM       ReachCode  FlowDir WBArea_Per  FType  FCode  \\\n",
       "0  Matilija Creek     0.037  18070101000077        1       None    460  46003   \n",
       "\n",
       "   MainPath  InNetwork  Visibility  Shape_Leng  \\\n",
       "0         0          1           0    0.000348   \n",
       "\n",
       "                                geometry  \n",
       "0  POINT Z (-119.39073 34.51150 0.00000)  "
      ]
     },
     "execution_count": 27,
     "metadata": {},
     "output_type": "execute_result"
    }
   ],
   "source": [
    "crossSectionloc"
   ]
  },
  {
   "cell_type": "code",
   "execution_count": 28,
   "id": "c521b9dd",
   "metadata": {},
   "outputs": [
    {
     "data": {
      "text/plain": [
       "<AxesSubplot:>"
      ]
     },
     "execution_count": 28,
     "metadata": {},
     "output_type": "execute_result"
    },
    {
     "data": {
      "image/png": "[encoded data removed]",
      "text/plain": [
       "<Figure size 432x288 with 1 Axes>"
      ]
     },
     "metadata": {
      "needs_background": "light"
     },
     "output_type": "display_data"
    }
   ],
   "source": [
    "ax = plt.subplot(111)\n",
    "#gagebasin.plot(ax=ax)\n",
    "streamSegmentsFromShapeFile.plot(ax=ax)\n",
    "crossSectionloc.plot(ax=ax, color='black')"
   ]
  },
  {
   "cell_type": "code",
   "execution_count": 57,
   "id": "c30b001f",
   "metadata": {},
   "outputs": [],
   "source": [
    "def closestComid(x, y):\n",
    "    return nldi.comid_byloc((x, y)).iloc[0]\n",
    "    #urlStringPrefix = 'https://labs.waterdata.usgs.gov/api/nldi/linked-data/comid/position?f=json&coords=POINT('\n",
    "    #return urlStringPrefix + str(x) + \" \" + str(y) +\")\""
   ]
  },
  {
   "cell_type": "code",
   "execution_count": 58,
   "id": "68f2489f",
   "metadata": {},
   "outputs": [],
   "source": [
    "#locationCoords = crossSectionloc.geometry[0].coords\n",
    "#print(crossSectionloc.geometry)\n",
    "#url = makeUrlForComID(locationCoords)\n",
    "#print(locationCoords)\n",
    "#print(url)\n",
    "#strmseg_loc = nldi.getfeature_byid(\"coords\", locationCoords).to_crs('epsg:3857') \n",
    "\n",
    "# TODO - dynamically update url for given coords\n",
    "\n",
    "clostest_comid_to_coords = closestComid(-119.39088, 34.51163)\n"
   ]
  },
  {
   "cell_type": "code",
   "execution_count": 64,
   "id": "4a0a9050",
   "metadata": {},
   "outputs": [
    {
     "data": {
      "text/plain": [
       "geometry      LINESTRING (-119.404570103 34.517660595, -119....\n",
       "type                                                           \n",
       "source                                                    comid\n",
       "sourceName                                        NHDPlus comid\n",
       "identifier                                             17585758\n",
       "name                                                           \n",
       "uri                                                            \n",
       "comid                                                  17585758\n",
       "navigation    https://labs.waterdata.usgs.gov/api/nldi/linke...\n",
       "Name: (-119.39088, 34.51163), dtype: object"
      ]
     },
     "execution_count": 64,
     "metadata": {},
     "output_type": "execute_result"
    }
   ],
   "source": [
    "clostest_comid_to_coords"
   ]
  },
  {
   "cell_type": "code",
   "execution_count": 61,
   "id": "079706b7",
   "metadata": {},
   "outputs": [],
   "source": [
    "comid = clostest_comid_to_coords[\"comid\"]"
   ]
  },
  {
   "cell_type": "code",
   "execution_count": 65,
   "id": "8ba0aabb",
   "metadata": {},
   "outputs": [],
   "source": [
    "strmseg_loc = nldi.getfeature_byid(\"comid\", comid).to_crs('epsg:3857')\n",
    "# may be redendent to above step"
   ]
  },
  {
   "cell_type": "code",
   "execution_count": 63,
   "id": "b491046e",
   "metadata": {},
   "outputs": [
    {
     "data": {
      "text/html": [
       "<div>\n",
       "<style scoped>\n",
       "    .dataframe tbody tr th:only-of-type {\n",
       "        vertical-align: middle;\n",
       "    }\n",
       "\n",
       "    .dataframe tbody tr th {\n",
       "        vertical-align: top;\n",
       "    }\n",
       "\n",
       "    .dataframe thead th {\n",
       "        text-align: right;\n",
       "    }\n",
       "</style>\n",
       "<table border=\"1\" class=\"dataframe\">\n",
       "  <thead>\n",
       "    <tr style=\"text-align: right;\">\n",
       "      <th></th>\n",
       "      <th></th>\n",
       "      <th>geometry</th>\n",
       "      <th>type</th>\n",
       "      <th>source</th>\n",
       "      <th>sourceName</th>\n",
       "      <th>identifier</th>\n",
       "      <th>name</th>\n",
       "      <th>uri</th>\n",
       "      <th>comid</th>\n",
       "      <th>navigation</th>\n",
       "    </tr>\n",
       "  </thead>\n",
       "  <tbody>\n",
       "    <tr>\n",
       "      <th>17585758</th>\n",
       "      <th>0</th>\n",
       "      <td>LINESTRING (-13292055.942 4098524.812, -132919...</td>\n",
       "      <td></td>\n",
       "      <td>comid</td>\n",
       "      <td>NHDPlus comid</td>\n",
       "      <td>17585758</td>\n",
       "      <td></td>\n",
       "      <td></td>\n",
       "      <td>17585758</td>\n",
       "      <td>https://labs.waterdata.usgs.gov/api/nldi/linke...</td>\n",
       "    </tr>\n",
       "  </tbody>\n",
       "</table>\n",
       "</div>"
      ],
      "text/plain": [
       "                                                     geometry type source  \\\n",
       "17585758 0  LINESTRING (-13292055.942 4098524.812, -132919...       comid   \n",
       "\n",
       "               sourceName identifier name uri     comid  \\\n",
       "17585758 0  NHDPlus comid   17585758           17585758   \n",
       "\n",
       "                                                   navigation  \n",
       "17585758 0  https://labs.waterdata.usgs.gov/api/nldi/linke...  "
      ]
     },
     "execution_count": 63,
     "metadata": {},
     "output_type": "execute_result"
    }
   ],
   "source": [
    "strmseg_loc"
   ]
  },
  {
   "cell_type": "code",
   "execution_count": 13,
   "id": "db75e928",
   "metadata": {},
   "outputs": [
    {
     "data": {
      "text/plain": [
       "19"
      ]
     },
     "execution_count": 13,
     "metadata": {},
     "output_type": "execute_result"
    }
   ],
   "source": [
    "len(strmseg_loc.geometry[0].coords)"
   ]
  },
  {
   "cell_type": "code",
   "execution_count": 14,
   "id": "71935c89",
   "metadata": {},
   "outputs": [
    {
     "data": {
      "text/plain": [
       "<shapely.coords.CoordinateSequence at 0x7fc19dca7190>"
      ]
     },
     "execution_count": 14,
     "metadata": {},
     "output_type": "execute_result"
    }
   ],
   "source": [
    "strmseg_loc.geometry[0].coords"
   ]
  },
  {
   "cell_type": "code",
   "execution_count": 17,
   "id": "ba774975",
   "metadata": {},
   "outputs": [
    {
     "name": "stdout",
     "output_type": "stream",
     "text": [
      "19\n"
     ]
    },
    {
     "data": {
      "image/png": "[encoded data removed]",
      "text/plain": [
       "<Figure size 432x288 with 1 Axes>"
      ]
     },
     "metadata": {
      "needs_background": "light"
     },
     "output_type": "display_data"
    }
   ],
   "source": [
    "# print(geomfeat.head(), geom2afeat.head())\n",
    "xs = XSGen(point=crossSectionloc, cl_geom=strmseg_loc, ny=101, width=1000, tension=0.5)\n",
    "xs_line = xs.get_xs()\n",
    "ax = plt.subplot(111)\n",
    "crossSectionloc.plot(ax=ax)\n",
    "strmseg_loc.plot(ax=ax)\n",
    "#xs_line.plot(ax=ax)\n",
    "xs.get_strm_seg_spline().plot(ax=ax, colors='r')\n",
    "#xs_line.envelope.plot(ax=ax, facecolor=\"none\", edgecolor='black')\n",
    "plt.show()\n"
   ]
  },
  {
   "cell_type": "code",
   "execution_count": null,
   "id": "01c12edf",
   "metadata": {},
   "outputs": [],
   "source": [
    "xs_line"
   ]
  },
  {
   "cell_type": "code",
   "execution_count": null,
   "id": "70f4db6d",
   "metadata": {},
   "outputs": [],
   "source": []
  },
  {
   "cell_type": "code",
   "execution_count": null,
   "id": "e024c314",
   "metadata": {},
   "outputs": [],
   "source": [
    "xs.get_strm_seg_spline()"
   ]
  },
  {
   "cell_type": "code",
   "execution_count": null,
   "id": "b8a57226",
   "metadata": {},
   "outputs": [],
   "source": [
    "\n",
    "\n",
    "print(type(xs_line.envelope.bounds))\n",
    "print(xs_line.envelope.bounds)\n",
    "print(strmseg_loc.to_crs('epsg:4326'))\n",
    "\n"
   ]
  },
  {
   "cell_type": "code",
   "execution_count": null,
   "id": "ff8c2159",
   "metadata": {},
   "outputs": [],
   "source": [
    "\n",
    "\n",
    "xs_line_geom = xs_line.to_crs('epsg:4326')\n",
    "print(xs_line_geom)\n",
    "bbox = xs_line_geom.geometry[0].envelope.bounds\n",
    "print(bbox)\n",
    "query = query_dems_bbox(bbox)\n",
    "print(query)\n",
    "\n"
   ]
  },
  {
   "cell_type": "code",
   "execution_count": null,
   "id": "9b7fdf21",
   "metadata": {},
   "outputs": [],
   "source": [
    "\n",
    "\n",
    "bbox = xs_line.geometry[0].bounds\n",
    "\n"
   ]
  },
  {
   "cell_type": "code",
   "execution_count": null,
   "id": "4698cc3e",
   "metadata": {},
   "outputs": [],
   "source": [
    "\n",
    "\n",
    "width = abs(bbox[0]-bbox[2])\n",
    "height = abs(bbox[1]-bbox[3])\n",
    "print(width, height)\n",
    "\n"
   ]
  },
  {
   "cell_type": "code",
   "execution_count": null,
   "id": "f1b7aa3e",
   "metadata": {},
   "outputs": [],
   "source": [
    "\n",
    "\n",
    "bb = xs_line.buffer(100)\n",
    "bb.geometry[0].bounds\n",
    "\n"
   ]
  },
  {
   "cell_type": "code",
   "execution_count": null,
   "id": "23dae33c",
   "metadata": {},
   "outputs": [],
   "source": [
    "\n",
    "\n",
    "bb1 = (xs_line.total_bounds) - ((100., 100., -100., -100.))\n",
    "tuple(bb1)\n",
    "\n"
   ]
  },
  {
   "cell_type": "code",
   "execution_count": null,
   "id": "009aebef",
   "metadata": {},
   "outputs": [],
   "source": [
    "\n",
    "\n",
    "#Buffer bounding box of cross-section otherwise interpolation with elevation below returns nans near end points\n",
    "xs_line_geom = xs_line.to_crs('epsg:3857')\n",
    "print(xs_line_geom)\n",
    "t1 = (xs_line_geom.total_bounds) + ((-100.,-100.,100., 100.))\n",
    "dem = py3dep.get_map(\"DEM\", tuple(t1), resolution=10, geo_crs=\"EPSG:3857\", crs=\"epsg:3857\")\n",
    "\n",
    "ax = plt.subplot(111)\n",
    "strmseg_loc.plot(ax=ax)\n",
    "xs_line_geom.plot(ax=ax, colors='black')\n",
    "xs.get_strm_seg_spline().plot(ax=ax, colors='r')\n",
    "xs_line.envelope.plot(ax=ax, facecolor=\"none\", edgecolor='black')\n",
    "dem.plot(ax=ax)\n",
    "crossSectionloc.plot(ax=ax)\n",
    "ax.axis('equal')\n",
    "# plt.tight_layout()\n",
    "\n"
   ]
  },
  {
   "cell_type": "code",
   "execution_count": null,
   "id": "346012e2",
   "metadata": {},
   "outputs": [],
   "source": [
    "\n",
    "\n",
    "x,y = xs.get_xs_points()\n",
    "dsx = xr.DataArray(x, dims='z')\n",
    "dsy = xr.DataArray(y, dims='z')\n",
    "dsi = dem.interp(x=('z',x), y=('z',y))\n",
    "dsi.plot()\n",
    "print(type(dsi))\n",
    "\n"
   ]
  },
  {
   "cell_type": "code",
   "execution_count": null,
   "id": "b0a95399",
   "metadata": {},
   "outputs": [],
   "source": [
    "\n",
    "\n",
    "pdsi = dsi.to_dataframe()\n",
    "x = dsi.coords['x'].values -dsi.coords['x'].values[0]\n",
    "y = dsi.coords['y'].values -dsi.coords['y'].values[0]\n",
    "dist = np.hypot(x,y)\n",
    "print(dist)\n",
    "pdsi['distance'] = dist\n",
    "pdsi\n",
    "\n"
   ]
  },
  {
   "cell_type": "code",
   "execution_count": null,
   "id": "39b2534b",
   "metadata": {},
   "outputs": [],
   "source": [
    "values = dsi.values\n",
    "lmi = np.where(values == max(values[:49]))[0][0]\n",
    "rmi = np.where(values == max(values[50:]))[0][0]\n",
    "print(lmi,rmi, values[lmi], values[rmi])"
   ]
  },
  {
   "cell_type": "code",
   "execution_count": null,
   "id": "b26f822e",
   "metadata": {},
   "outputs": [],
   "source": [
    "dsi[lmi:rmi].plot()"
   ]
  },
  {
   "cell_type": "code",
   "execution_count": null,
   "id": "79dd9ad3",
   "metadata": {},
   "outputs": [],
   "source": [
    "x = dsi.coords['x'].values[lmi:rmi] -dsi.coords['x'].values[lmi]\n",
    "y = dsi.coords['y'].values[lmi:rmi] -dsi.coords['y'].values[lmi]\n",
    "dist = np.hypot(x,y)\n",
    "elev = dsi.values[lmi:rmi]\n",
    "tlen = len(dist)\n",
    "# print(tlen)\n",
    "sta2 = np.zeros((tlen,2))\n",
    "t = []\n",
    "for index,(tx,ty) in enumerate(zip(dist,elev)):\n",
    "    if not np.isnan(ty):\n",
    "        a = np.array((tx,ty))\n",
    "        sta2[index] = a\n",
    "#         print(a)\n",
    "    else:\n",
    "        t.append(index)"
   ]
  }
 ],
 "metadata": {
  "kernelspec": {
   "display_name": "Python 3 (ipykernel)",
   "language": "python",
   "name": "python3"
  },
  "language_info": {
   "codemirror_mode": {
    "name": "ipython",
    "version": 3
   },
   "file_extension": ".py",
   "mimetype": "text/x-python",
   "name": "python",
   "nbconvert_exporter": "python",
   "pygments_lexer": "ipython3",
   "version": "3.9.7"
  }
 },
 "nbformat": 4,
 "nbformat_minor": 5
}
